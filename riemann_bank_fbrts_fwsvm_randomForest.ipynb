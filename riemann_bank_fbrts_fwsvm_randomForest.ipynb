{
 "cells": [
  {
   "cell_type": "code",
   "execution_count": 2,
   "id": "63f517e7",
   "metadata": {},
   "outputs": [
    {
     "name": "stderr",
     "output_type": "stream",
     "text": [
      "/home/zeyadcode/.pyenv/versions/icmtc_venv/lib/python3.12/site-packages/tqdm/auto.py:21: TqdmWarning: IProgress not found. Please update jupyter and ipywidgets. See https://ipywidgets.readthedocs.io/en/stable/user_install.html\n",
      "  from .autonotebook import tqdm as notebook_tqdm\n"
     ]
    }
   ],
   "source": [
    "%load_ext autoreload\n",
    "%autoreload 2\n",
    "import torch\n",
    "import random\n",
    "import numpy as np\n",
    "import optuna\n",
    "from optuna.pruners import MedianPruner\n",
    "from scipy.signal import butter, sosfiltfilt\n",
    "from sklearn.ensemble import RandomForestClassifier\n",
    "from sklearn.preprocessing import StandardScaler\n",
    "from sklearn.pipeline import make_pipeline\n",
    "from sklearn.model_selection import StratifiedKFold, cross_validate\n",
    "from sklearn.feature_selection import mutual_info_classif\n",
    "from sklearn.base import BaseEstimator, ClassifierMixin\n",
    "from sklearn.pipeline import Pipeline\n",
    "from pyriemann.estimation import Covariances\n",
    "from pyriemann.tangentspace import TangentSpace\n",
    "from modules.competition_dataset import EEGDataset\n",
    "\n",
    "from sklearn.pipeline import Pipeline\n",
    "from sklearn.metrics import accuracy_score, classification_report"
   ]
  },
  {
   "cell_type": "code",
   "execution_count": 3,
   "id": "f6c412b9",
   "metadata": {},
   "outputs": [],
   "source": [
    "data_path = './data/mtcaic3'\n",
    "lda_model_path = './checkpoints/mi/models/lda_mi.pkl'\n",
    "\n",
    "# Add this at the beginning of your notebook, after imports\n",
    "def set_random_seeds(seed=42):\n",
    "    \"\"\"Set random seeds for reproducibility\"\"\"\n",
    "\n",
    "    random.seed(seed)\n",
    "    np.random.seed(seed)\n",
    "    torch.manual_seed(seed)\n",
    "    if torch.cuda.is_available():\n",
    "        torch.cuda.manual_seed(seed)\n",
    "        torch.cuda.manual_seed_all(seed)\n",
    "        torch.backends.cudnn.deterministic = True\n",
    "        torch.backends.cudnn.benchmark = False\n",
    "\n",
    "set_random_seeds(42)"
   ]
  },
  {
   "cell_type": "code",
   "execution_count": null,
   "id": "a69b96ed",
   "metadata": {},
   "outputs": [
    {
     "name": "stderr",
     "output_type": "stream",
     "text": [
      "[I 2025-06-28 15:20:04,481] A new study created in memory with name: no-name-8784ce04-813b-4319-8f56-3c07b76a9223\n"
     ]
    },
    {
     "name": "stdout",
     "output_type": "stream",
     "text": [
      "\n",
      "→ Trying: wl=1000, st=750, tmin=500, chans=['FZ', 'C3', 'CZ', 'C4', 'OZ']\n",
      "   Bands: [(11.0, 14.25), (14.25, 17.5), (17.5, 20.75), (20.75, 24.0), (24.0, 27.25), (27.25, 30.5), (30.5, 33.75), (33.75, 37.0)], RF: n_est=500, depth=10\n",
      "task: mi, split: train, domain: time, data_fraction: 0.4\n",
      "Using 40.0% of data: 960/960 samples\n",
      "skipped: 37/960\n"
     ]
    },
    {
     "name": "stderr",
     "output_type": "stream",
     "text": [
      "[I 2025-06-28 15:20:41,853] Trial 0 finished with value: 0.5232948376270852 and parameters: {'window_length': 1000, 'stride': 750, 'tmin': 500, 'ch_FZ': 1, 'ch_C3': 1, 'ch_CZ': 1, 'ch_C4': 1, 'ch_PZ': 0, 'ch_PO7': 0, 'ch_OZ': 1, 'ch_PO8': 0, 'n_bands': 8, 'min_freq': 11, 'max_freq': 37, 'filter_order': 5, 'fs': 500, 'n_estimators': 500, 'max_depth': 10, 'min_samples_split': 5, 'min_samples_leaf': 1, 'max_features': 'sqrt'}. Best is trial 0 with value: 0.5232948376270852.\n"
     ]
    },
    {
     "name": "stdout",
     "output_type": "stream",
     "text": [
      "   → Train acc: 0.998 | Val acc: 0.523\n",
      "\n",
      "→ Trying: wl=1500, st=250, tmin=0, chans=['CZ', 'C4', 'PZ', 'OZ']\n",
      "   Bands: [(9.0, 12.166666666666666), (12.166666666666666, 15.333333333333332), (15.333333333333332, 18.5), (18.5, 21.666666666666664), (21.666666666666664, 24.833333333333332), (24.833333333333332, 28.0)], RF: n_est=100, depth=10\n",
      "task: mi, split: train, domain: time, data_fraction: 0.4\n",
      "Using 40.0% of data: 960/960 samples\n",
      "skipped: 37/960\n"
     ]
    },
    {
     "name": "stderr",
     "output_type": "stream",
     "text": [
      "[I 2025-06-28 15:21:20,151] Trial 1 finished with value: 0.5511640419375009 and parameters: {'window_length': 1500, 'stride': 250, 'tmin': 0, 'ch_FZ': 0, 'ch_C3': 0, 'ch_CZ': 1, 'ch_C4': 1, 'ch_PZ': 1, 'ch_PO7': 0, 'ch_OZ': 1, 'ch_PO8': 0, 'n_bands': 6, 'min_freq': 9, 'max_freq': 28, 'filter_order': 5, 'fs': 125, 'n_estimators': 100, 'max_depth': 10, 'min_samples_split': 7, 'min_samples_leaf': 2, 'max_features': 'log2'}. Best is trial 1 with value: 0.5511640419375009.\n"
     ]
    },
    {
     "name": "stdout",
     "output_type": "stream",
     "text": [
      "   → Train acc: 0.978 | Val acc: 0.551\n",
      "\n",
      "→ Trying: wl=1000, st=250, tmin=250, chans=['FZ', 'C3', 'CZ', 'C4', 'PZ', 'PO7', 'PO8']\n",
      "   Bands: [(4.0, 15.0), (15.0, 26.0), (26.0, 37.0)], RF: n_est=50, depth=None\n",
      "task: mi, split: train, domain: time, data_fraction: 0.4\n",
      "Using 40.0% of data: 960/960 samples\n",
      "skipped: 16/960\n"
     ]
    },
    {
     "name": "stderr",
     "output_type": "stream",
     "text": [
      "[I 2025-06-28 15:21:48,670] Trial 2 finished with value: 0.5635431117837474 and parameters: {'window_length': 1000, 'stride': 250, 'tmin': 250, 'ch_FZ': 1, 'ch_C3': 1, 'ch_CZ': 1, 'ch_C4': 1, 'ch_PZ': 1, 'ch_PO7': 1, 'ch_OZ': 0, 'ch_PO8': 1, 'n_bands': 3, 'min_freq': 4, 'max_freq': 37, 'filter_order': 3, 'fs': 250, 'n_estimators': 50, 'max_depth': None, 'min_samples_split': 5, 'min_samples_leaf': 4, 'max_features': None}. Best is trial 2 with value: 0.5635431117837474.\n"
     ]
    },
    {
     "name": "stdout",
     "output_type": "stream",
     "text": [
      "   → Train acc: 0.993 | Val acc: 0.564\n",
      "\n",
      "→ Trying: wl=250, st=250, tmin=250, chans=['C3', 'CZ', 'OZ', 'PO8']\n",
      "   Bands: [(7.0, 10.857142857142858), (10.857142857142858, 14.714285714285715), (14.714285714285715, 18.57142857142857), (18.57142857142857, 22.42857142857143), (22.42857142857143, 26.285714285714285), (26.285714285714285, 30.142857142857142), (30.142857142857142, 34.0)], RF: n_est=300, depth=15\n",
      "task: mi, split: train, domain: time, data_fraction: 0.4\n",
      "Using 40.0% of data: 960/960 samples\n",
      "skipped: 3/960\n"
     ]
    },
    {
     "name": "stderr",
     "output_type": "stream",
     "text": [
      "[I 2025-06-28 15:22:58,498] Trial 3 finished with value: 0.5856801143403885 and parameters: {'window_length': 250, 'stride': 250, 'tmin': 250, 'ch_FZ': 0, 'ch_C3': 1, 'ch_CZ': 1, 'ch_C4': 0, 'ch_PZ': 0, 'ch_PO7': 0, 'ch_OZ': 1, 'ch_PO8': 1, 'n_bands': 7, 'min_freq': 7, 'max_freq': 34, 'filter_order': 6, 'fs': 125, 'n_estimators': 300, 'max_depth': 15, 'min_samples_split': 5, 'min_samples_leaf': 3, 'max_features': 'sqrt'}. Best is trial 3 with value: 0.5856801143403885.\n"
     ]
    },
    {
     "name": "stdout",
     "output_type": "stream",
     "text": [
      "   → Train acc: 0.991 | Val acc: 0.586\n",
      "\n",
      "→ Trying: wl=1000, st=500, tmin=250, chans=['C3', 'C4', 'PO7', 'OZ', 'PO8']\n",
      "   Bands: [(11.0, 17.666666666666668), (17.666666666666668, 24.333333333333336), (24.333333333333336, 31.0)], RF: n_est=100, depth=10\n",
      "task: mi, split: train, domain: time, data_fraction: 0.4\n",
      "Using 40.0% of data: 960/960 samples\n",
      "skipped: 16/960\n"
     ]
    },
    {
     "name": "stderr",
     "output_type": "stream",
     "text": [
      "[I 2025-06-28 15:23:17,696] Trial 4 finished with value: 0.5502621854939567 and parameters: {'window_length': 1000, 'stride': 500, 'tmin': 250, 'ch_FZ': 0, 'ch_C3': 1, 'ch_CZ': 0, 'ch_C4': 1, 'ch_PZ': 0, 'ch_PO7': 1, 'ch_OZ': 1, 'ch_PO8': 1, 'n_bands': 3, 'min_freq': 11, 'max_freq': 31, 'filter_order': 5, 'fs': 125, 'n_estimators': 100, 'max_depth': 10, 'min_samples_split': 2, 'min_samples_leaf': 2, 'max_features': None}. Best is trial 3 with value: 0.5856801143403885.\n"
     ]
    },
    {
     "name": "stdout",
     "output_type": "stream",
     "text": [
      "   → Train acc: 0.990 | Val acc: 0.550\n",
      "\n",
      "→ Trying: wl=1000, st=250, tmin=250, chans=['CZ', 'PO7', 'OZ', 'PO8']\n",
      "   Bands: [(11.0, 15.5), (15.5, 20.0), (20.0, 24.5), (24.5, 29.0)], RF: n_est=400, depth=5\n",
      "task: mi, split: train, domain: time, data_fraction: 0.4\n",
      "Using 40.0% of data: 960/960 samples\n",
      "skipped: 16/960\n"
     ]
    },
    {
     "name": "stderr",
     "output_type": "stream",
     "text": [
      "[I 2025-06-28 15:23:47,174] Trial 5 finished with value: 0.5261045520490956 and parameters: {'window_length': 1000, 'stride': 250, 'tmin': 250, 'ch_FZ': 0, 'ch_C3': 0, 'ch_CZ': 1, 'ch_C4': 0, 'ch_PZ': 0, 'ch_PO7': 1, 'ch_OZ': 1, 'ch_PO8': 1, 'n_bands': 4, 'min_freq': 11, 'max_freq': 29, 'filter_order': 5, 'fs': 500, 'n_estimators': 400, 'max_depth': 5, 'min_samples_split': 3, 'min_samples_leaf': 4, 'max_features': 'sqrt'}. Best is trial 3 with value: 0.5856801143403885.\n"
     ]
    },
    {
     "name": "stdout",
     "output_type": "stream",
     "text": [
      "   → Train acc: 0.777 | Val acc: 0.526\n",
      "\n",
      "→ Trying: wl=1000, st=750, tmin=500, chans=['C3', 'C4', 'PZ', 'PO7', 'OZ']\n",
      "   Bands: [(7.0, 12.8), (12.8, 18.6), (18.6, 24.4), (24.4, 30.2), (30.2, 36.0)], RF: n_est=450, depth=10\n",
      "task: mi, split: train, domain: time, data_fraction: 0.4\n",
      "Using 40.0% of data: 960/960 samples\n",
      "skipped: 37/960\n"
     ]
    },
    {
     "name": "stderr",
     "output_type": "stream",
     "text": [
      "[I 2025-06-28 15:24:05,740] Trial 6 finished with value: 0.5222196370404839 and parameters: {'window_length': 1000, 'stride': 750, 'tmin': 500, 'ch_FZ': 0, 'ch_C3': 1, 'ch_CZ': 0, 'ch_C4': 1, 'ch_PZ': 1, 'ch_PO7': 1, 'ch_OZ': 1, 'ch_PO8': 0, 'n_bands': 5, 'min_freq': 7, 'max_freq': 36, 'filter_order': 5, 'fs': 500, 'n_estimators': 450, 'max_depth': 10, 'min_samples_split': 9, 'min_samples_leaf': 1, 'max_features': 'sqrt'}. Best is trial 3 with value: 0.5856801143403885.\n"
     ]
    },
    {
     "name": "stdout",
     "output_type": "stream",
     "text": [
      "   → Train acc: 0.991 | Val acc: 0.522\n",
      "\n",
      "→ Trying: wl=1000, st=750, tmin=500, chans=['CZ', 'C4', 'PO8']\n",
      "   Bands: [(4.0, 15.0), (15.0, 26.0), (26.0, 37.0)], RF: n_est=100, depth=15\n",
      "task: mi, split: train, domain: time, data_fraction: 0.4\n",
      "Using 40.0% of data: 960/960 samples\n",
      "skipped: 37/960\n"
     ]
    },
    {
     "name": "stderr",
     "output_type": "stream",
     "text": [
      "[I 2025-06-28 15:24:17,481] Trial 7 finished with value: 0.5048754177418673 and parameters: {'window_length': 1000, 'stride': 750, 'tmin': 500, 'ch_FZ': 0, 'ch_C3': 0, 'ch_CZ': 1, 'ch_C4': 1, 'ch_PZ': 0, 'ch_PO7': 0, 'ch_OZ': 0, 'ch_PO8': 1, 'n_bands': 3, 'min_freq': 4, 'max_freq': 37, 'filter_order': 5, 'fs': 250, 'n_estimators': 100, 'max_depth': 15, 'min_samples_split': 6, 'min_samples_leaf': 2, 'max_features': None}. Best is trial 3 with value: 0.5856801143403885.\n"
     ]
    },
    {
     "name": "stdout",
     "output_type": "stream",
     "text": [
      "   → Train acc: 0.999 | Val acc: 0.505\n",
      "\n",
      "→ Trying: wl=250, st=500, tmin=500, chans=['CZ', 'C4', 'PZ', 'OZ', 'PO8']\n",
      "   Bands: [(7.0, 13.2), (13.2, 19.4), (19.4, 25.6), (25.6, 31.8), (31.8, 38.0)], RF: n_est=200, depth=5\n",
      "task: mi, split: train, domain: time, data_fraction: 0.4\n",
      "Using 40.0% of data: 960/960 samples\n",
      "skipped: 7/960\n"
     ]
    },
    {
     "name": "stderr",
     "output_type": "stream",
     "text": [
      "[I 2025-06-28 15:24:46,669] Trial 8 finished with value: 0.5437584615462044 and parameters: {'window_length': 250, 'stride': 500, 'tmin': 500, 'ch_FZ': 0, 'ch_C3': 0, 'ch_CZ': 1, 'ch_C4': 1, 'ch_PZ': 1, 'ch_PO7': 0, 'ch_OZ': 1, 'ch_PO8': 1, 'n_bands': 5, 'min_freq': 7, 'max_freq': 38, 'filter_order': 3, 'fs': 250, 'n_estimators': 200, 'max_depth': 5, 'min_samples_split': 6, 'min_samples_leaf': 2, 'max_features': 'sqrt'}. Best is trial 3 with value: 0.5856801143403885.\n"
     ]
    },
    {
     "name": "stdout",
     "output_type": "stream",
     "text": [
      "   → Train acc: 0.790 | Val acc: 0.544\n",
      "\n",
      "→ Trying: wl=250, st=250, tmin=500, chans=['C3', 'CZ', 'C4', 'PZ', 'PO7', 'OZ']\n",
      "   Bands: [(5.0, 13.75), (13.75, 22.5), (22.5, 31.25), (31.25, 40.0)], RF: n_est=500, depth=20\n",
      "task: mi, split: train, domain: time, data_fraction: 0.4\n",
      "Using 40.0% of data: 960/960 samples\n",
      "skipped: 7/960\n"
     ]
    },
    {
     "name": "stderr",
     "output_type": "stream",
     "text": [
      "[I 2025-06-28 15:25:31,633] Trial 9 finished with value: 0.5743530685522379 and parameters: {'window_length': 250, 'stride': 250, 'tmin': 500, 'ch_FZ': 0, 'ch_C3': 1, 'ch_CZ': 1, 'ch_C4': 1, 'ch_PZ': 1, 'ch_PO7': 1, 'ch_OZ': 1, 'ch_PO8': 0, 'n_bands': 4, 'min_freq': 5, 'max_freq': 40, 'filter_order': 3, 'fs': 250, 'n_estimators': 500, 'max_depth': 20, 'min_samples_split': 4, 'min_samples_leaf': 2, 'max_features': 'sqrt'}. Best is trial 3 with value: 0.5856801143403885.\n"
     ]
    },
    {
     "name": "stdout",
     "output_type": "stream",
     "text": [
      "   → Train acc: 1.000 | Val acc: 0.574\n",
      "\n",
      "→ Trying: wl=500, st=250, tmin=0, chans=['FZ', 'C3', 'PO8']\n",
      "   Bands: [(9.0, 12.0), (12.0, 15.0), (15.0, 18.0), (18.0, 21.0), (21.0, 24.0), (24.0, 27.0), (27.0, 30.0), (30.0, 33.0)], RF: n_est=300, depth=15\n",
      "task: mi, split: train, domain: time, data_fraction: 0.4\n",
      "Using 40.0% of data: 960/960 samples\n",
      "skipped: 3/960\n"
     ]
    },
    {
     "name": "stderr",
     "output_type": "stream",
     "text": [
      "[I 2025-06-28 15:26:50,441] Trial 10 finished with value: 0.575142752152549 and parameters: {'window_length': 500, 'stride': 250, 'tmin': 0, 'ch_FZ': 1, 'ch_C3': 1, 'ch_CZ': 0, 'ch_C4': 0, 'ch_PZ': 0, 'ch_PO7': 0, 'ch_OZ': 0, 'ch_PO8': 1, 'n_bands': 8, 'min_freq': 9, 'max_freq': 33, 'filter_order': 6, 'fs': 125, 'n_estimators': 300, 'max_depth': 15, 'min_samples_split': 10, 'min_samples_leaf': 5, 'max_features': 'log2'}. Best is trial 3 with value: 0.5856801143403885.\n"
     ]
    },
    {
     "name": "stdout",
     "output_type": "stream",
     "text": [
      "   → Train acc: 0.979 | Val acc: 0.575\n",
      "\n",
      "→ Trying: wl=500, st=250, tmin=0, chans=['FZ', 'C3', 'PO8']\n",
      "   Bands: [(9.0, 12.0), (12.0, 15.0), (15.0, 18.0), (18.0, 21.0), (21.0, 24.0), (24.0, 27.0), (27.0, 30.0), (30.0, 33.0)], RF: n_est=300, depth=15\n",
      "task: mi, split: train, domain: time, data_fraction: 0.4\n",
      "Using 40.0% of data: 960/960 samples\n",
      "skipped: 3/960\n"
     ]
    },
    {
     "name": "stderr",
     "output_type": "stream",
     "text": [
      "[I 2025-06-28 15:28:07,770] Trial 11 finished with value: 0.5836835156301845 and parameters: {'window_length': 500, 'stride': 250, 'tmin': 0, 'ch_FZ': 1, 'ch_C3': 1, 'ch_CZ': 0, 'ch_C4': 0, 'ch_PZ': 0, 'ch_PO7': 0, 'ch_OZ': 0, 'ch_PO8': 1, 'n_bands': 8, 'min_freq': 9, 'max_freq': 33, 'filter_order': 6, 'fs': 125, 'n_estimators': 300, 'max_depth': 15, 'min_samples_split': 10, 'min_samples_leaf': 5, 'max_features': 'log2'}. Best is trial 3 with value: 0.5856801143403885.\n"
     ]
    },
    {
     "name": "stdout",
     "output_type": "stream",
     "text": [
      "   → Train acc: 0.973 | Val acc: 0.584\n",
      "\n",
      "→ Trying: wl=500, st=250, tmin=0, chans=['FZ', 'C3', 'PO8']\n",
      "   Bands: [(8.0, 10.428571428571429), (10.428571428571429, 12.857142857142858), (12.857142857142858, 15.285714285714285), (15.285714285714285, 17.714285714285715), (17.714285714285715, 20.142857142857142), (20.142857142857142, 22.57142857142857), (22.57142857142857, 25.0)], RF: n_est=300, depth=15\n",
      "task: mi, split: train, domain: time, data_fraction: 0.4\n",
      "Using 40.0% of data: 960/960 samples\n",
      "skipped: 3/960\n"
     ]
    },
    {
     "name": "stderr",
     "output_type": "stream",
     "text": [
      "[I 2025-06-28 15:29:17,035] Trial 12 finished with value: 0.5742321098000529 and parameters: {'window_length': 500, 'stride': 250, 'tmin': 0, 'ch_FZ': 1, 'ch_C3': 1, 'ch_CZ': 0, 'ch_C4': 0, 'ch_PZ': 0, 'ch_PO7': 0, 'ch_OZ': 0, 'ch_PO8': 1, 'n_bands': 7, 'min_freq': 8, 'max_freq': 25, 'filter_order': 6, 'fs': 125, 'n_estimators': 300, 'max_depth': 15, 'min_samples_split': 8, 'min_samples_leaf': 4, 'max_features': 'log2'}. Best is trial 3 with value: 0.5856801143403885.\n"
     ]
    },
    {
     "name": "stdout",
     "output_type": "stream",
     "text": [
      "   → Train acc: 0.980 | Val acc: 0.574\n",
      "\n",
      "→ Trying: wl=500, st=250, tmin=0, chans=['FZ', 'C3', 'PO8']\n",
      "   Bands: [(6.0, 10.0), (10.0, 14.0), (14.0, 18.0), (18.0, 22.0), (22.0, 26.0), (26.0, 30.0), (30.0, 34.0)], RF: n_est=250, depth=15\n",
      "task: mi, split: train, domain: time, data_fraction: 0.4\n",
      "Using 40.0% of data: 960/960 samples\n",
      "skipped: 3/960\n"
     ]
    },
    {
     "name": "stderr",
     "output_type": "stream",
     "text": [
      "[I 2025-06-28 15:30:28,907] Trial 13 finished with value: 0.5824107557618383 and parameters: {'window_length': 500, 'stride': 250, 'tmin': 0, 'ch_FZ': 1, 'ch_C3': 1, 'ch_CZ': 0, 'ch_C4': 0, 'ch_PZ': 0, 'ch_PO7': 0, 'ch_OZ': 0, 'ch_PO8': 1, 'n_bands': 7, 'min_freq': 6, 'max_freq': 34, 'filter_order': 6, 'fs': 125, 'n_estimators': 250, 'max_depth': 15, 'min_samples_split': 10, 'min_samples_leaf': 5, 'max_features': 'log2'}. Best is trial 3 with value: 0.5856801143403885.\n"
     ]
    },
    {
     "name": "stdout",
     "output_type": "stream",
     "text": [
      "   → Train acc: 0.973 | Val acc: 0.582\n",
      "\n",
      "→ Trying: wl=250, st=250, tmin=250, chans=['FZ', 'C3', 'PO8']\n",
      "   Bands: [(9.0, 12.571428571428571), (12.571428571428571, 16.142857142857142), (16.142857142857142, 19.714285714285715), (19.714285714285715, 23.285714285714285), (23.285714285714285, 26.857142857142858), (26.857142857142858, 30.42857142857143), (30.42857142857143, 34.0)], RF: n_est=350, depth=15\n",
      "task: mi, split: train, domain: time, data_fraction: 0.4\n",
      "Using 40.0% of data: 960/960 samples\n",
      "skipped: 3/960\n"
     ]
    },
    {
     "name": "stderr",
     "output_type": "stream",
     "text": [
      "[I 2025-06-28 15:31:35,843] Trial 14 finished with value: 0.5916778342678461 and parameters: {'window_length': 250, 'stride': 250, 'tmin': 250, 'ch_FZ': 1, 'ch_C3': 1, 'ch_CZ': 0, 'ch_C4': 0, 'ch_PZ': 0, 'ch_PO7': 0, 'ch_OZ': 0, 'ch_PO8': 1, 'n_bands': 7, 'min_freq': 9, 'max_freq': 34, 'filter_order': 4, 'fs': 125, 'n_estimators': 350, 'max_depth': 15, 'min_samples_split': 8, 'min_samples_leaf': 3, 'max_features': 'log2'}. Best is trial 14 with value: 0.5916778342678461.\n"
     ]
    },
    {
     "name": "stdout",
     "output_type": "stream",
     "text": [
      "   → Train acc: 0.983 | Val acc: 0.592\n",
      "\n",
      "→ Trying: wl=250, st=500, tmin=250, chans=['FZ', 'C3', 'PO8']\n",
      "   Bands: [(8.0, 11.857142857142858), (11.857142857142858, 15.714285714285715), (15.714285714285715, 19.57142857142857), (19.57142857142857, 23.42857142857143), (23.42857142857143, 27.285714285714285), (27.285714285714285, 31.142857142857142), (31.142857142857142, 35.0)], RF: n_est=400, depth=20\n",
      "task: mi, split: train, domain: time, data_fraction: 0.4\n",
      "Using 40.0% of data: 960/960 samples\n",
      "skipped: 3/960\n"
     ]
    },
    {
     "name": "stderr",
     "output_type": "stream",
     "text": [
      "[I 2025-06-28 15:32:14,583] Trial 15 finished with value: 0.5577942735949099 and parameters: {'window_length': 250, 'stride': 500, 'tmin': 250, 'ch_FZ': 1, 'ch_C3': 1, 'ch_CZ': 0, 'ch_C4': 0, 'ch_PZ': 0, 'ch_PO7': 0, 'ch_OZ': 0, 'ch_PO8': 1, 'n_bands': 7, 'min_freq': 8, 'max_freq': 35, 'filter_order': 4, 'fs': 125, 'n_estimators': 400, 'max_depth': 20, 'min_samples_split': 8, 'min_samples_leaf': 3, 'max_features': 'sqrt'}. Best is trial 14 with value: 0.5916778342678461.\n"
     ]
    },
    {
     "name": "stdout",
     "output_type": "stream",
     "text": [
      "   → Train acc: 0.994 | Val acc: 0.558\n",
      "\n",
      "→ Trying: wl=250, st=250, tmin=250, chans=['C3', 'PO8']\n",
      "   Bands: [(10.0, 13.5), (13.5, 17.0), (17.0, 20.5), (20.5, 24.0), (24.0, 27.5), (27.5, 31.0)], RF: n_est=200, depth=None\n",
      "task: mi, split: train, domain: time, data_fraction: 0.4\n",
      "Using 40.0% of data: 960/960 samples\n",
      "skipped: 3/960\n"
     ]
    },
    {
     "name": "stderr",
     "output_type": "stream",
     "text": [
      "[I 2025-06-28 15:33:09,159] Trial 16 finished with value: 0.566420533727146 and parameters: {'window_length': 250, 'stride': 250, 'tmin': 250, 'ch_FZ': 0, 'ch_C3': 1, 'ch_CZ': 0, 'ch_C4': 0, 'ch_PZ': 0, 'ch_PO7': 0, 'ch_OZ': 0, 'ch_PO8': 1, 'n_bands': 6, 'min_freq': 10, 'max_freq': 31, 'filter_order': 4, 'fs': 125, 'n_estimators': 200, 'max_depth': None, 'min_samples_split': 7, 'min_samples_leaf': 3, 'max_features': 'log2'}. Best is trial 14 with value: 0.5916778342678461.\n"
     ]
    },
    {
     "name": "stdout",
     "output_type": "stream",
     "text": [
      "   → Train acc: 0.994 | Val acc: 0.566\n",
      "\n",
      "→ Trying: wl=250, st=250, tmin=250, chans=['FZ', 'CZ', 'OZ']\n",
      "   Bands: [(6.0, 9.571428571428571), (9.571428571428571, 13.142857142857142), (13.142857142857142, 16.714285714285715), (16.714285714285715, 20.285714285714285), (20.285714285714285, 23.857142857142858), (23.857142857142858, 27.42857142857143), (27.42857142857143, 31.0)], RF: n_est=350, depth=15\n",
      "task: mi, split: train, domain: time, data_fraction: 0.4\n",
      "Using 40.0% of data: 960/960 samples\n",
      "skipped: 3/960\n"
     ]
    },
    {
     "name": "stderr",
     "output_type": "stream",
     "text": [
      "[I 2025-06-28 15:34:16,475] Trial 17 finished with value: 0.5765983536331104 and parameters: {'window_length': 250, 'stride': 250, 'tmin': 250, 'ch_FZ': 1, 'ch_C3': 0, 'ch_CZ': 1, 'ch_C4': 0, 'ch_PZ': 0, 'ch_PO7': 0, 'ch_OZ': 1, 'ch_PO8': 0, 'n_bands': 7, 'min_freq': 6, 'max_freq': 31, 'filter_order': 4, 'fs': 125, 'n_estimators': 350, 'max_depth': 15, 'min_samples_split': 4, 'min_samples_leaf': 3, 'max_features': 'sqrt'}. Best is trial 14 with value: 0.5916778342678461.\n"
     ]
    },
    {
     "name": "stdout",
     "output_type": "stream",
     "text": [
      "   → Train acc: 0.989 | Val acc: 0.577\n",
      "\n",
      "→ Trying: wl=1500, st=500, tmin=250, chans=['C3', 'PO8']\n",
      "   Bands: [(12.0, 16.666666666666668), (16.666666666666668, 21.333333333333336), (21.333333333333336, 26.0), (26.0, 30.666666666666668), (30.666666666666668, 35.333333333333336), (35.333333333333336, 40.0)], RF: n_est=200, depth=15\n",
      "task: mi, split: train, domain: time, data_fraction: 0.4\n",
      "Using 40.0% of data: 960/960 samples\n",
      "skipped: 183/960\n"
     ]
    },
    {
     "name": "stderr",
     "output_type": "stream",
     "text": [
      "[I 2025-06-28 15:34:31,459] Trial 18 finished with value: 0.48906048906048905 and parameters: {'window_length': 1500, 'stride': 500, 'tmin': 250, 'ch_FZ': 0, 'ch_C3': 1, 'ch_CZ': 0, 'ch_C4': 0, 'ch_PZ': 0, 'ch_PO7': 0, 'ch_OZ': 0, 'ch_PO8': 1, 'n_bands': 6, 'min_freq': 12, 'max_freq': 40, 'filter_order': 4, 'fs': 125, 'n_estimators': 200, 'max_depth': 15, 'min_samples_split': 7, 'min_samples_leaf': 4, 'max_features': 'log2'}. Best is trial 14 with value: 0.5916778342678461.\n"
     ]
    },
    {
     "name": "stdout",
     "output_type": "stream",
     "text": [
      "   → Train acc: 0.974 | Val acc: 0.489\n",
      "\n",
      "→ Trying: wl=250, st=750, tmin=250, chans=['FZ', 'C3', 'CZ', 'OZ', 'PO8']\n",
      "   Bands: [(7.0, 10.142857142857142), (10.142857142857142, 13.285714285714285), (13.285714285714285, 16.42857142857143), (16.42857142857143, 19.57142857142857), (19.57142857142857, 22.714285714285715), (22.714285714285715, 25.857142857142858), (25.857142857142858, 29.0)], RF: n_est=400, depth=15\n",
      "task: mi, split: train, domain: time, data_fraction: 0.4\n",
      "Using 40.0% of data: 960/960 samples\n",
      "skipped: 3/960\n"
     ]
    },
    {
     "name": "stderr",
     "output_type": "stream",
     "text": [
      "[I 2025-06-28 15:35:18,461] Trial 19 finished with value: 0.5086779859231905 and parameters: {'window_length': 250, 'stride': 750, 'tmin': 250, 'ch_FZ': 1, 'ch_C3': 1, 'ch_CZ': 1, 'ch_C4': 0, 'ch_PZ': 0, 'ch_PO7': 0, 'ch_OZ': 1, 'ch_PO8': 1, 'n_bands': 7, 'min_freq': 7, 'max_freq': 29, 'filter_order': 4, 'fs': 500, 'n_estimators': 400, 'max_depth': 15, 'min_samples_split': 8, 'min_samples_leaf': 3, 'max_features': None}. Best is trial 14 with value: 0.5916778342678461.\n"
     ]
    },
    {
     "name": "stdout",
     "output_type": "stream",
     "text": [
      "   → Train acc: 0.998 | Val acc: 0.509\n",
      "\n",
      "→ Trying: wl=250, st=250, tmin=250, chans=['PZ', 'PO7']\n",
      "   Bands: [(6.0, 9.625), (9.625, 13.25), (13.25, 16.875), (16.875, 20.5), (20.5, 24.125), (24.125, 27.75), (27.75, 31.375), (31.375, 35.0)], RF: n_est=350, depth=5\n",
      "task: mi, split: train, domain: time, data_fraction: 0.4\n",
      "Using 40.0% of data: 960/960 samples\n",
      "skipped: 3/960\n"
     ]
    },
    {
     "name": "stderr",
     "output_type": "stream",
     "text": [
      "[I 2025-06-28 15:36:27,853] Trial 20 finished with value: 0.5273487867181318 and parameters: {'window_length': 250, 'stride': 250, 'tmin': 250, 'ch_FZ': 0, 'ch_C3': 0, 'ch_CZ': 0, 'ch_C4': 0, 'ch_PZ': 1, 'ch_PO7': 1, 'ch_OZ': 0, 'ch_PO8': 0, 'n_bands': 8, 'min_freq': 6, 'max_freq': 35, 'filter_order': 3, 'fs': 125, 'n_estimators': 350, 'max_depth': 5, 'min_samples_split': 5, 'min_samples_leaf': 3, 'max_features': 'log2'}. Best is trial 14 with value: 0.5916778342678461.\n"
     ]
    },
    {
     "name": "stdout",
     "output_type": "stream",
     "text": [
      "   → Train acc: 0.651 | Val acc: 0.527\n",
      "\n",
      "→ Trying: wl=500, st=250, tmin=0, chans=['FZ', 'C3', 'PO8']\n",
      "   Bands: [(9.0, 12.0), (12.0, 15.0), (15.0, 18.0), (18.0, 21.0), (21.0, 24.0), (24.0, 27.0), (27.0, 30.0), (30.0, 33.0)], RF: n_est=250, depth=15\n",
      "task: mi, split: train, domain: time, data_fraction: 0.4\n",
      "Using 40.0% of data: 960/960 samples\n",
      "skipped: 3/960\n"
     ]
    },
    {
     "name": "stderr",
     "output_type": "stream",
     "text": [
      "[I 2025-06-28 15:37:52,807] Trial 21 finished with value: 0.5725972324158567 and parameters: {'window_length': 500, 'stride': 250, 'tmin': 0, 'ch_FZ': 1, 'ch_C3': 1, 'ch_CZ': 0, 'ch_C4': 0, 'ch_PZ': 0, 'ch_PO7': 0, 'ch_OZ': 0, 'ch_PO8': 1, 'n_bands': 8, 'min_freq': 9, 'max_freq': 33, 'filter_order': 6, 'fs': 125, 'n_estimators': 250, 'max_depth': 15, 'min_samples_split': 9, 'min_samples_leaf': 5, 'max_features': 'log2'}. Best is trial 14 with value: 0.5916778342678461.\n"
     ]
    },
    {
     "name": "stdout",
     "output_type": "stream",
     "text": [
      "   → Train acc: 0.973 | Val acc: 0.573\n",
      "\n",
      "→ Trying: wl=500, st=250, tmin=0, chans=['FZ', 'C3', 'PO8']\n",
      "   Bands: [(10.0, 12.75), (12.75, 15.5), (15.5, 18.25), (18.25, 21.0), (21.0, 23.75), (23.75, 26.5), (26.5, 29.25), (29.25, 32.0)], RF: n_est=350, depth=15\n",
      "task: mi, split: train, domain: time, data_fraction: 0.4\n",
      "Using 40.0% of data: 960/960 samples\n",
      "skipped: 3/960\n"
     ]
    },
    {
     "name": "stderr",
     "output_type": "stream",
     "text": [
      "[I 2025-06-28 15:40:11,270] Trial 22 finished with value: 0.5716880757752693 and parameters: {'window_length': 500, 'stride': 250, 'tmin': 0, 'ch_FZ': 1, 'ch_C3': 1, 'ch_CZ': 0, 'ch_C4': 0, 'ch_PZ': 0, 'ch_PO7': 0, 'ch_OZ': 0, 'ch_PO8': 1, 'n_bands': 8, 'min_freq': 10, 'max_freq': 32, 'filter_order': 6, 'fs': 125, 'n_estimators': 350, 'max_depth': 15, 'min_samples_split': 9, 'min_samples_leaf': 4, 'max_features': 'log2'}. Best is trial 14 with value: 0.5916778342678461.\n"
     ]
    },
    {
     "name": "stdout",
     "output_type": "stream",
     "text": [
      "   → Train acc: 0.982 | Val acc: 0.572\n",
      "\n",
      "→ Trying: wl=250, st=250, tmin=250, chans=['FZ', 'C3', 'PO8']\n",
      "   Bands: [(8.0, 11.714285714285715), (11.714285714285715, 15.428571428571429), (15.428571428571429, 19.142857142857142), (19.142857142857142, 22.857142857142858), (22.857142857142858, 26.571428571428573), (26.571428571428573, 30.285714285714285), (30.285714285714285, 34.0)], RF: n_est=300, depth=15\n",
      "task: mi, split: train, domain: time, data_fraction: 0.4\n",
      "Using 40.0% of data: 960/960 samples\n",
      "skipped: 3/960\n"
     ]
    },
    {
     "name": "stderr",
     "output_type": "stream",
     "text": [
      "[I 2025-06-28 15:41:17,733] Trial 23 finished with value: 0.5924060311979691 and parameters: {'window_length': 250, 'stride': 250, 'tmin': 250, 'ch_FZ': 1, 'ch_C3': 1, 'ch_CZ': 0, 'ch_C4': 0, 'ch_PZ': 0, 'ch_PO7': 0, 'ch_OZ': 0, 'ch_PO8': 1, 'n_bands': 7, 'min_freq': 8, 'max_freq': 34, 'filter_order': 6, 'fs': 125, 'n_estimators': 300, 'max_depth': 15, 'min_samples_split': 10, 'min_samples_leaf': 4, 'max_features': 'log2'}. Best is trial 23 with value: 0.5924060311979691.\n"
     ]
    },
    {
     "name": "stdout",
     "output_type": "stream",
     "text": [
      "   → Train acc: 0.974 | Val acc: 0.592\n",
      "\n",
      "→ Trying: wl=250, st=250, tmin=250, chans=['FZ', 'C3', 'PO8']\n",
      "   Bands: [(8.0, 12.5), (12.5, 17.0), (17.0, 21.5), (21.5, 26.0), (26.0, 30.5), (30.5, 35.0)], RF: n_est=250, depth=15\n",
      "task: mi, split: train, domain: time, data_fraction: 0.4\n",
      "Using 40.0% of data: 960/960 samples\n",
      "skipped: 3/960\n"
     ]
    },
    {
     "name": "stderr",
     "output_type": "stream",
     "text": [
      "[I 2025-06-28 15:42:17,733] Trial 24 finished with value: 0.5900426597412681 and parameters: {'window_length': 250, 'stride': 250, 'tmin': 250, 'ch_FZ': 1, 'ch_C3': 1, 'ch_CZ': 0, 'ch_C4': 0, 'ch_PZ': 0, 'ch_PO7': 0, 'ch_OZ': 0, 'ch_PO8': 1, 'n_bands': 6, 'min_freq': 8, 'max_freq': 35, 'filter_order': 6, 'fs': 125, 'n_estimators': 250, 'max_depth': 15, 'min_samples_split': 6, 'min_samples_leaf': 4, 'max_features': 'log2'}. Best is trial 23 with value: 0.5924060311979691.\n"
     ]
    },
    {
     "name": "stdout",
     "output_type": "stream",
     "text": [
      "   → Train acc: 0.980 | Val acc: 0.590\n",
      "\n",
      "→ Trying: wl=250, st=250, tmin=250, chans=['FZ', 'C3', 'PO8']\n",
      "   Bands: [(8.0, 12.5), (12.5, 17.0), (17.0, 21.5), (21.5, 26.0), (26.0, 30.5), (30.5, 35.0)], RF: n_est=250, depth=20\n",
      "task: mi, split: train, domain: time, data_fraction: 0.4\n",
      "Using 40.0% of data: 960/960 samples\n",
      "skipped: 3/960\n"
     ]
    },
    {
     "name": "stderr",
     "output_type": "stream",
     "text": [
      "[I 2025-06-28 15:43:18,010] Trial 25 finished with value: 0.5947675207529192 and parameters: {'window_length': 250, 'stride': 250, 'tmin': 250, 'ch_FZ': 1, 'ch_C3': 1, 'ch_CZ': 0, 'ch_C4': 0, 'ch_PZ': 0, 'ch_PO7': 0, 'ch_OZ': 0, 'ch_PO8': 1, 'n_bands': 6, 'min_freq': 8, 'max_freq': 35, 'filter_order': 5, 'fs': 125, 'n_estimators': 250, 'max_depth': 20, 'min_samples_split': 9, 'min_samples_leaf': 4, 'max_features': 'log2'}. Best is trial 25 with value: 0.5947675207529192.\n"
     ]
    },
    {
     "name": "stdout",
     "output_type": "stream",
     "text": [
      "   → Train acc: 0.986 | Val acc: 0.595\n",
      "\n",
      "→ Trying: wl=250, st=250, tmin=250, chans=['FZ', 'C3', 'PO8']\n",
      "   Bands: [(10.0, 15.6), (15.6, 21.2), (21.2, 26.799999999999997), (26.799999999999997, 32.4), (32.4, 38.0)], RF: n_est=150, depth=20\n",
      "task: mi, split: train, domain: time, data_fraction: 0.4\n",
      "Using 40.0% of data: 960/960 samples\n",
      "skipped: 3/960\n"
     ]
    },
    {
     "name": "stderr",
     "output_type": "stream",
     "text": [
      "[I 2025-06-28 15:44:07,935] Trial 26 finished with value: 0.5936784939239336 and parameters: {'window_length': 250, 'stride': 250, 'tmin': 250, 'ch_FZ': 1, 'ch_C3': 1, 'ch_CZ': 0, 'ch_C4': 0, 'ch_PZ': 0, 'ch_PO7': 0, 'ch_OZ': 0, 'ch_PO8': 1, 'n_bands': 5, 'min_freq': 10, 'max_freq': 38, 'filter_order': 4, 'fs': 125, 'n_estimators': 150, 'max_depth': 20, 'min_samples_split': 9, 'min_samples_leaf': 4, 'max_features': 'log2'}. Best is trial 25 with value: 0.5947675207529192.\n"
     ]
    },
    {
     "name": "stdout",
     "output_type": "stream",
     "text": [
      "   → Train acc: 0.981 | Val acc: 0.594\n",
      "\n",
      "→ Trying: wl=1500, st=250, tmin=250, chans=['FZ', 'C3', 'PO8']\n",
      "   Bands: [(10.0, 15.8), (15.8, 21.6), (21.6, 27.4), (27.4, 33.2), (33.2, 39.0)], RF: n_est=150, depth=20\n",
      "task: mi, split: train, domain: time, data_fraction: 0.4\n",
      "Using 40.0% of data: 960/960 samples\n",
      "skipped: 183/960\n"
     ]
    },
    {
     "name": "stderr",
     "output_type": "stream",
     "text": [
      "[I 2025-06-28 15:44:23,071] Trial 27 finished with value: 0.5418275418275418 and parameters: {'window_length': 1500, 'stride': 250, 'tmin': 250, 'ch_FZ': 1, 'ch_C3': 1, 'ch_CZ': 0, 'ch_C4': 0, 'ch_PZ': 0, 'ch_PO7': 0, 'ch_OZ': 0, 'ch_PO8': 1, 'n_bands': 5, 'min_freq': 10, 'max_freq': 39, 'filter_order': 5, 'fs': 125, 'n_estimators': 150, 'max_depth': 20, 'min_samples_split': 9, 'min_samples_leaf': 4, 'max_features': 'log2'}. Best is trial 25 with value: 0.5947675207529192.\n"
     ]
    },
    {
     "name": "stdout",
     "output_type": "stream",
     "text": [
      "   → Train acc: 0.984 | Val acc: 0.542\n",
      "\n",
      "→ Trying: wl=250, st=750, tmin=250, chans=['FZ', 'C3', 'PO8']\n",
      "   Bands: [(12.0, 18.5), (18.5, 25.0), (25.0, 31.5), (31.5, 38.0)], RF: n_est=150, depth=20\n",
      "task: mi, split: train, domain: time, data_fraction: 0.4\n",
      "Using 40.0% of data: 960/960 samples\n",
      "skipped: 3/960\n"
     ]
    },
    {
     "name": "stderr",
     "output_type": "stream",
     "text": [
      "[I 2025-06-28 15:44:42,248] Trial 28 finished with value: 0.5344461554562172 and parameters: {'window_length': 250, 'stride': 750, 'tmin': 250, 'ch_FZ': 1, 'ch_C3': 1, 'ch_CZ': 0, 'ch_C4': 0, 'ch_PZ': 0, 'ch_PO7': 0, 'ch_OZ': 0, 'ch_PO8': 1, 'n_bands': 4, 'min_freq': 12, 'max_freq': 38, 'filter_order': 4, 'fs': 250, 'n_estimators': 150, 'max_depth': 20, 'min_samples_split': 10, 'min_samples_leaf': 5, 'max_features': 'log2'}. Best is trial 25 with value: 0.5947675207529192.\n"
     ]
    },
    {
     "name": "stdout",
     "output_type": "stream",
     "text": [
      "   → Train acc: 0.978 | Val acc: 0.534\n",
      "\n",
      "→ Trying: wl=250, st=500, tmin=250, chans=['FZ', 'C3']\n",
      "   Bands: [(8.0, 13.6), (13.6, 19.2), (19.2, 24.799999999999997), (24.799999999999997, 30.4), (30.4, 36.0)], RF: n_est=150, depth=20\n",
      "task: mi, split: train, domain: time, data_fraction: 0.4\n",
      "Using 40.0% of data: 960/960 samples\n",
      "skipped: 3/960\n"
     ]
    },
    {
     "name": "stderr",
     "output_type": "stream",
     "text": [
      "[I 2025-06-28 15:45:09,701] Trial 29 finished with value: 0.5203252032520326 and parameters: {'window_length': 250, 'stride': 500, 'tmin': 250, 'ch_FZ': 1, 'ch_C3': 1, 'ch_CZ': 0, 'ch_C4': 0, 'ch_PZ': 0, 'ch_PO7': 0, 'ch_OZ': 0, 'ch_PO8': 0, 'n_bands': 5, 'min_freq': 8, 'max_freq': 36, 'filter_order': 5, 'fs': 500, 'n_estimators': 150, 'max_depth': 20, 'min_samples_split': 9, 'min_samples_leaf': 4, 'max_features': 'log2'}. Best is trial 25 with value: 0.5947675207529192.\n"
     ]
    },
    {
     "name": "stdout",
     "output_type": "stream",
     "text": [
      "   → Train acc: 0.976 | Val acc: 0.520\n",
      "\n",
      "→ Trying: wl=250, st=750, tmin=250, chans=['FZ', 'C3', 'PO8']\n",
      "   Bands: [(11.0, 15.5), (15.5, 20.0), (20.0, 24.5), (24.5, 29.0), (29.0, 33.5), (33.5, 38.0)], RF: n_est=200, depth=20\n",
      "task: mi, split: train, domain: time, data_fraction: 0.4\n",
      "Using 40.0% of data: 960/960 samples\n",
      "skipped: 3/960\n"
     ]
    },
    {
     "name": "stderr",
     "output_type": "stream",
     "text": [
      "[I 2025-06-28 15:45:35,905] Trial 30 finished with value: 0.5234026542277772 and parameters: {'window_length': 250, 'stride': 750, 'tmin': 250, 'ch_FZ': 1, 'ch_C3': 1, 'ch_CZ': 0, 'ch_C4': 0, 'ch_PZ': 0, 'ch_PO7': 0, 'ch_OZ': 0, 'ch_PO8': 1, 'n_bands': 6, 'min_freq': 11, 'max_freq': 38, 'filter_order': 5, 'fs': 500, 'n_estimators': 200, 'max_depth': 20, 'min_samples_split': 10, 'min_samples_leaf': 4, 'max_features': 'log2'}. Best is trial 25 with value: 0.5947675207529192.\n"
     ]
    },
    {
     "name": "stdout",
     "output_type": "stream",
     "text": [
      "   → Train acc: 0.984 | Val acc: 0.523\n",
      "\n",
      "→ Trying: wl=250, st=250, tmin=250, chans=['FZ', 'C3', 'PO8']\n",
      "   Bands: [(10.0, 14.333333333333332), (14.333333333333332, 18.666666666666664), (18.666666666666664, 23.0), (23.0, 27.333333333333332), (27.333333333333332, 31.666666666666664), (31.666666666666664, 36.0)], RF: n_est=350, depth=20\n",
      "task: mi, split: train, domain: time, data_fraction: 0.4\n",
      "Using 40.0% of data: 960/960 samples\n",
      "skipped: 3/960\n"
     ]
    },
    {
     "name": "stderr",
     "output_type": "stream",
     "text": [
      "[I 2025-06-28 15:46:38,898] Trial 31 finished with value: 0.5976766437173701 and parameters: {'window_length': 250, 'stride': 250, 'tmin': 250, 'ch_FZ': 1, 'ch_C3': 1, 'ch_CZ': 0, 'ch_C4': 0, 'ch_PZ': 0, 'ch_PO7': 0, 'ch_OZ': 0, 'ch_PO8': 1, 'n_bands': 6, 'min_freq': 10, 'max_freq': 36, 'filter_order': 4, 'fs': 125, 'n_estimators': 350, 'max_depth': 20, 'min_samples_split': 8, 'min_samples_leaf': 3, 'max_features': 'log2'}. Best is trial 31 with value: 0.5976766437173701.\n"
     ]
    },
    {
     "name": "stdout",
     "output_type": "stream",
     "text": [
      "   → Train acc: 0.991 | Val acc: 0.598\n",
      "\n",
      "→ Trying: wl=250, st=250, tmin=250, chans=['FZ', 'C3', 'PO8']\n",
      "   Bands: [(10.0, 14.5), (14.5, 19.0), (19.0, 23.5), (23.5, 28.0), (28.0, 32.5), (32.5, 37.0)], RF: n_est=450, depth=20\n",
      "task: mi, split: train, domain: time, data_fraction: 0.4\n",
      "Using 40.0% of data: 960/960 samples\n",
      "skipped: 3/960\n"
     ]
    },
    {
     "name": "stderr",
     "output_type": "stream",
     "text": [
      "[I 2025-06-28 15:47:43,492] Trial 32 finished with value: 0.59277003061557 and parameters: {'window_length': 250, 'stride': 250, 'tmin': 250, 'ch_FZ': 1, 'ch_C3': 1, 'ch_CZ': 0, 'ch_C4': 0, 'ch_PZ': 0, 'ch_PO7': 0, 'ch_OZ': 0, 'ch_PO8': 1, 'n_bands': 6, 'min_freq': 10, 'max_freq': 37, 'filter_order': 4, 'fs': 125, 'n_estimators': 450, 'max_depth': 20, 'min_samples_split': 9, 'min_samples_leaf': 4, 'max_features': 'log2'}. Best is trial 31 with value: 0.5976766437173701.\n"
     ]
    },
    {
     "name": "stdout",
     "output_type": "stream",
     "text": [
      "   → Train acc: 0.989 | Val acc: 0.593\n",
      "\n",
      "→ Trying: wl=1500, st=250, tmin=250, chans=['FZ', 'C3', 'PO8']\n",
      "   Bands: [(10.0, 14.333333333333332), (14.333333333333332, 18.666666666666664), (18.666666666666664, 23.0), (23.0, 27.333333333333332), (27.333333333333332, 31.666666666666664), (31.666666666666664, 36.0)], RF: n_est=500, depth=20\n",
      "task: mi, split: train, domain: time, data_fraction: 0.4\n",
      "Using 40.0% of data: 960/960 samples\n",
      "skipped: 183/960\n"
     ]
    },
    {
     "name": "stderr",
     "output_type": "stream",
     "text": [
      "[I 2025-06-28 15:48:01,296] Trial 33 finished with value: 0.5135135135135135 and parameters: {'window_length': 1500, 'stride': 250, 'tmin': 250, 'ch_FZ': 1, 'ch_C3': 1, 'ch_CZ': 0, 'ch_C4': 0, 'ch_PZ': 0, 'ch_PO7': 0, 'ch_OZ': 0, 'ch_PO8': 1, 'n_bands': 6, 'min_freq': 10, 'max_freq': 36, 'filter_order': 4, 'fs': 125, 'n_estimators': 500, 'max_depth': 20, 'min_samples_split': 8, 'min_samples_leaf': 3, 'max_features': 'log2'}. Best is trial 31 with value: 0.5976766437173701.\n"
     ]
    },
    {
     "name": "stdout",
     "output_type": "stream",
     "text": [
      "   → Train acc: 0.993 | Val acc: 0.514\n",
      "\n",
      "→ Trying: wl=250, st=250, tmin=250, chans=['FZ', 'C3', 'PO8']\n",
      "   Bands: [(11.0, 16.6), (16.6, 22.2), (22.2, 27.799999999999997), (27.799999999999997, 33.4), (33.4, 39.0)], RF: n_est=450, depth=20\n",
      "task: mi, split: train, domain: time, data_fraction: 0.4\n",
      "Using 40.0% of data: 960/960 samples\n",
      "skipped: 3/960\n"
     ]
    },
    {
     "name": "stderr",
     "output_type": "stream",
     "text": [
      "[I 2025-06-28 15:48:54,043] Trial 34 finished with value: 0.6109393958303001 and parameters: {'window_length': 250, 'stride': 250, 'tmin': 250, 'ch_FZ': 1, 'ch_C3': 1, 'ch_CZ': 0, 'ch_C4': 0, 'ch_PZ': 0, 'ch_PO7': 0, 'ch_OZ': 0, 'ch_PO8': 1, 'n_bands': 5, 'min_freq': 11, 'max_freq': 39, 'filter_order': 4, 'fs': 125, 'n_estimators': 450, 'max_depth': 20, 'min_samples_split': 9, 'min_samples_leaf': 4, 'max_features': 'log2'}. Best is trial 34 with value: 0.6109393958303001.\n"
     ]
    },
    {
     "name": "stdout",
     "output_type": "stream",
     "text": [
      "   → Train acc: 0.985 | Val acc: 0.611\n",
      "\n",
      "→ Trying: wl=250, st=250, tmin=250, chans=['FZ', 'C3', 'PZ', 'PO8']\n",
      "   Bands: [(11.0, 16.6), (16.6, 22.2), (22.2, 27.799999999999997), (27.799999999999997, 33.4), (33.4, 39.0)], RF: n_est=50, depth=20\n",
      "task: mi, split: train, domain: time, data_fraction: 0.4\n",
      "Using 40.0% of data: 960/960 samples\n",
      "skipped: 3/960\n"
     ]
    },
    {
     "name": "stderr",
     "output_type": "stream",
     "text": [
      "[I 2025-06-28 15:49:50,000] Trial 35 finished with value: 0.5954918548320799 and parameters: {'window_length': 250, 'stride': 250, 'tmin': 250, 'ch_FZ': 1, 'ch_C3': 1, 'ch_CZ': 0, 'ch_C4': 0, 'ch_PZ': 1, 'ch_PO7': 0, 'ch_OZ': 0, 'ch_PO8': 1, 'n_bands': 5, 'min_freq': 11, 'max_freq': 39, 'filter_order': 3, 'fs': 125, 'n_estimators': 50, 'max_depth': 20, 'min_samples_split': 7, 'min_samples_leaf': 5, 'max_features': None}. Best is trial 34 with value: 0.6109393958303001.\n"
     ]
    },
    {
     "name": "stdout",
     "output_type": "stream",
     "text": [
      "   → Train acc: 0.983 | Val acc: 0.595\n",
      "\n",
      "→ Trying: wl=250, st=250, tmin=250, chans=['FZ', 'C3', 'PZ', 'PO8']\n",
      "   Bands: [(12.0, 17.4), (17.4, 22.8), (22.8, 28.200000000000003), (28.200000000000003, 33.6), (33.6, 39.0)], RF: n_est=50, depth=20\n",
      "task: mi, split: train, domain: time, data_fraction: 0.4\n",
      "Using 40.0% of data: 960/960 samples\n",
      "skipped: 3/960\n"
     ]
    },
    {
     "name": "stderr",
     "output_type": "stream",
     "text": [
      "[I 2025-06-28 15:50:45,105] Trial 36 finished with value: 0.6120315921780239 and parameters: {'window_length': 250, 'stride': 250, 'tmin': 250, 'ch_FZ': 1, 'ch_C3': 1, 'ch_CZ': 0, 'ch_C4': 0, 'ch_PZ': 1, 'ch_PO7': 0, 'ch_OZ': 0, 'ch_PO8': 1, 'n_bands': 5, 'min_freq': 12, 'max_freq': 39, 'filter_order': 3, 'fs': 125, 'n_estimators': 50, 'max_depth': 20, 'min_samples_split': 7, 'min_samples_leaf': 5, 'max_features': None}. Best is trial 36 with value: 0.6120315921780239.\n"
     ]
    },
    {
     "name": "stdout",
     "output_type": "stream",
     "text": [
      "   → Train acc: 0.981 | Val acc: 0.612\n",
      "\n",
      "→ Trying: wl=250, st=250, tmin=250, chans=['FZ', 'PZ', 'PO7', 'PO8']\n",
      "   Bands: [(12.0, 18.75), (18.75, 25.5), (25.5, 32.25), (32.25, 39.0)], RF: n_est=50, depth=None\n",
      "task: mi, split: train, domain: time, data_fraction: 0.4\n",
      "Using 40.0% of data: 960/960 samples\n",
      "skipped: 3/960\n"
     ]
    },
    {
     "name": "stderr",
     "output_type": "stream",
     "text": [
      "[I 2025-06-28 15:51:27,817] Trial 37 finished with value: 0.5951313220755989 and parameters: {'window_length': 250, 'stride': 250, 'tmin': 250, 'ch_FZ': 1, 'ch_C3': 0, 'ch_CZ': 0, 'ch_C4': 0, 'ch_PZ': 1, 'ch_PO7': 1, 'ch_OZ': 0, 'ch_PO8': 1, 'n_bands': 4, 'min_freq': 12, 'max_freq': 39, 'filter_order': 3, 'fs': 125, 'n_estimators': 50, 'max_depth': None, 'min_samples_split': 7, 'min_samples_leaf': 5, 'max_features': None}. Best is trial 36 with value: 0.6120315921780239.\n"
     ]
    },
    {
     "name": "stdout",
     "output_type": "stream",
     "text": [
      "   → Train acc: 0.981 | Val acc: 0.595\n",
      "\n",
      "→ Trying: wl=1000, st=250, tmin=500, chans=['FZ', 'C3', 'C4', 'PZ']\n",
      "   Bands: [(11.0, 16.6), (16.6, 22.2), (22.2, 27.799999999999997), (27.799999999999997, 33.4), (33.4, 39.0)], RF: n_est=50, depth=10\n",
      "task: mi, split: train, domain: time, data_fraction: 0.4\n",
      "Using 40.0% of data: 960/960 samples\n",
      "skipped: 37/960\n"
     ]
    },
    {
     "name": "stderr",
     "output_type": "stream",
     "text": [
      "[I 2025-06-28 15:51:51,762] Trial 38 finished with value: 0.512356065752218 and parameters: {'window_length': 1000, 'stride': 250, 'tmin': 500, 'ch_FZ': 1, 'ch_C3': 1, 'ch_CZ': 0, 'ch_C4': 1, 'ch_PZ': 1, 'ch_PO7': 0, 'ch_OZ': 0, 'ch_PO8': 0, 'n_bands': 5, 'min_freq': 11, 'max_freq': 39, 'filter_order': 3, 'fs': 250, 'n_estimators': 50, 'max_depth': 10, 'min_samples_split': 7, 'min_samples_leaf': 5, 'max_features': None}. Best is trial 36 with value: 0.6120315921780239.\n"
     ]
    },
    {
     "name": "stdout",
     "output_type": "stream",
     "text": [
      "   → Train acc: 0.972 | Val acc: 0.512\n",
      "\n",
      "→ Trying: wl=1500, st=500, tmin=250, chans=['FZ', 'C3', 'PZ', 'PO7', 'PO8']\n",
      "   Bands: [(11.0, 18.25), (18.25, 25.5), (25.5, 32.75), (32.75, 40.0)], RF: n_est=50, depth=20\n",
      "task: mi, split: train, domain: time, data_fraction: 0.4\n",
      "Using 40.0% of data: 960/960 samples\n",
      "skipped: 183/960\n"
     ]
    },
    {
     "name": "stderr",
     "output_type": "stream",
     "text": [
      "[I 2025-06-28 15:52:05,968] Trial 39 finished with value: 0.4993564993564994 and parameters: {'window_length': 1500, 'stride': 500, 'tmin': 250, 'ch_FZ': 1, 'ch_C3': 1, 'ch_CZ': 0, 'ch_C4': 0, 'ch_PZ': 1, 'ch_PO7': 1, 'ch_OZ': 0, 'ch_PO8': 1, 'n_bands': 4, 'min_freq': 11, 'max_freq': 40, 'filter_order': 3, 'fs': 500, 'n_estimators': 50, 'max_depth': 20, 'min_samples_split': 7, 'min_samples_leaf': 5, 'max_features': None}. Best is trial 36 with value: 0.6120315921780239.\n"
     ]
    },
    {
     "name": "stdout",
     "output_type": "stream",
     "text": [
      "   → Train acc: 0.984 | Val acc: 0.499\n",
      "\n",
      "→ Trying: wl=250, st=750, tmin=500, chans=['FZ', 'C4', 'PZ', 'PO8']\n",
      "   Bands: [(12.0, 17.4), (17.4, 22.8), (22.8, 28.200000000000003), (28.200000000000003, 33.6), (33.6, 39.0)], RF: n_est=450, depth=20\n",
      "task: mi, split: train, domain: time, data_fraction: 0.4\n",
      "Using 40.0% of data: 960/960 samples\n",
      "skipped: 7/960\n"
     ]
    },
    {
     "name": "stderr",
     "output_type": "stream",
     "text": [
      "[I 2025-06-28 15:52:39,099] Trial 40 finished with value: 0.5618283280085197 and parameters: {'window_length': 250, 'stride': 750, 'tmin': 500, 'ch_FZ': 1, 'ch_C3': 0, 'ch_CZ': 0, 'ch_C4': 1, 'ch_PZ': 1, 'ch_PO7': 0, 'ch_OZ': 0, 'ch_PO8': 1, 'n_bands': 5, 'min_freq': 12, 'max_freq': 39, 'filter_order': 3, 'fs': 125, 'n_estimators': 450, 'max_depth': 20, 'min_samples_split': 6, 'min_samples_leaf': 1, 'max_features': None}. Best is trial 36 with value: 0.6120315921780239.\n"
     ]
    },
    {
     "name": "stdout",
     "output_type": "stream",
     "text": [
      "   → Train acc: 0.999 | Val acc: 0.562\n",
      "\n",
      "→ Trying: wl=250, st=250, tmin=250, chans=['FZ', 'PZ', 'PO7', 'PO8']\n",
      "   Bands: [(12.0, 18.75), (18.75, 25.5), (25.5, 32.25), (32.25, 39.0)], RF: n_est=50, depth=None\n",
      "task: mi, split: train, domain: time, data_fraction: 0.4\n",
      "Using 40.0% of data: 960/960 samples\n",
      "skipped: 3/960\n"
     ]
    },
    {
     "name": "stderr",
     "output_type": "stream",
     "text": [
      "[I 2025-06-28 15:53:23,630] Trial 41 finished with value: 0.5985822346493769 and parameters: {'window_length': 250, 'stride': 250, 'tmin': 250, 'ch_FZ': 1, 'ch_C3': 0, 'ch_CZ': 0, 'ch_C4': 0, 'ch_PZ': 1, 'ch_PO7': 1, 'ch_OZ': 0, 'ch_PO8': 1, 'n_bands': 4, 'min_freq': 12, 'max_freq': 39, 'filter_order': 3, 'fs': 125, 'n_estimators': 50, 'max_depth': None, 'min_samples_split': 7, 'min_samples_leaf': 5, 'max_features': None}. Best is trial 36 with value: 0.6120315921780239.\n"
     ]
    },
    {
     "name": "stdout",
     "output_type": "stream",
     "text": [
      "   → Train acc: 0.981 | Val acc: 0.599\n",
      "\n",
      "→ Trying: wl=250, st=250, tmin=250, chans=['FZ', 'PZ', 'PO7', 'PO8']\n",
      "   Bands: [(11.0, 20.666666666666664), (20.666666666666664, 30.333333333333332), (30.333333333333332, 40.0)], RF: n_est=100, depth=None\n",
      "task: mi, split: train, domain: time, data_fraction: 0.4\n",
      "Using 40.0% of data: 960/960 samples\n",
      "skipped: 3/960\n"
     ]
    },
    {
     "name": "stderr",
     "output_type": "stream",
     "text": [
      "[I 2025-06-28 15:54:03,229] Trial 42 finished with value: 0.6149384370508817 and parameters: {'window_length': 250, 'stride': 250, 'tmin': 250, 'ch_FZ': 1, 'ch_C3': 0, 'ch_CZ': 0, 'ch_C4': 0, 'ch_PZ': 1, 'ch_PO7': 1, 'ch_OZ': 0, 'ch_PO8': 1, 'n_bands': 3, 'min_freq': 11, 'max_freq': 40, 'filter_order': 3, 'fs': 125, 'n_estimators': 100, 'max_depth': None, 'min_samples_split': 6, 'min_samples_leaf': 5, 'max_features': None}. Best is trial 42 with value: 0.6149384370508817.\n"
     ]
    },
    {
     "name": "stdout",
     "output_type": "stream",
     "text": [
      "   → Train acc: 0.983 | Val acc: 0.615\n",
      "\n",
      "→ Trying: wl=250, st=250, tmin=250, chans=['FZ', 'PZ', 'PO7', 'PO8']\n",
      "   Bands: [(12.0, 21.333333333333336), (21.333333333333336, 30.666666666666668), (30.666666666666668, 40.0)], RF: n_est=100, depth=None\n",
      "task: mi, split: train, domain: time, data_fraction: 0.4\n",
      "Using 40.0% of data: 960/960 samples\n",
      "skipped: 3/960\n"
     ]
    },
    {
     "name": "stderr",
     "output_type": "stream",
     "text": [
      "[I 2025-06-28 15:54:44,242] Trial 43 finished with value: 0.6169377100425211 and parameters: {'window_length': 250, 'stride': 250, 'tmin': 250, 'ch_FZ': 1, 'ch_C3': 0, 'ch_CZ': 0, 'ch_C4': 0, 'ch_PZ': 1, 'ch_PO7': 1, 'ch_OZ': 0, 'ch_PO8': 1, 'n_bands': 3, 'min_freq': 12, 'max_freq': 40, 'filter_order': 3, 'fs': 125, 'n_estimators': 100, 'max_depth': None, 'min_samples_split': 6, 'min_samples_leaf': 5, 'max_features': None}. Best is trial 43 with value: 0.6169377100425211.\n"
     ]
    },
    {
     "name": "stdout",
     "output_type": "stream",
     "text": [
      "   → Train acc: 0.981 | Val acc: 0.617\n",
      "\n",
      "→ Trying: wl=1000, st=250, tmin=250, chans=['FZ', 'PZ', 'PO7', 'PO8']\n",
      "   Bands: [(12.0, 21.333333333333336), (21.333333333333336, 30.666666666666668), (30.666666666666668, 40.0)], RF: n_est=100, depth=None\n",
      "task: mi, split: train, domain: time, data_fraction: 0.4\n",
      "Using 40.0% of data: 960/960 samples\n",
      "skipped: 16/960\n"
     ]
    },
    {
     "name": "stderr",
     "output_type": "stream",
     "text": [
      "[I 2025-06-28 15:55:09,918] Trial 44 finished with value: 0.5828299285409712 and parameters: {'window_length': 1000, 'stride': 250, 'tmin': 250, 'ch_FZ': 1, 'ch_C3': 0, 'ch_CZ': 0, 'ch_C4': 0, 'ch_PZ': 1, 'ch_PO7': 1, 'ch_OZ': 0, 'ch_PO8': 1, 'n_bands': 3, 'min_freq': 12, 'max_freq': 40, 'filter_order': 3, 'fs': 125, 'n_estimators': 100, 'max_depth': None, 'min_samples_split': 4, 'min_samples_leaf': 5, 'max_features': None}. Best is trial 43 with value: 0.6169377100425211.\n"
     ]
    },
    {
     "name": "stdout",
     "output_type": "stream",
     "text": [
      "   → Train acc: 0.986 | Val acc: 0.583\n",
      "\n",
      "→ Trying: wl=250, st=250, tmin=250, chans=['FZ', 'PZ', 'PO7', 'PO8']\n",
      "   Bands: [(12.0, 20.666666666666664), (20.666666666666664, 29.333333333333332), (29.333333333333332, 38.0)], RF: n_est=100, depth=None\n",
      "task: mi, split: train, domain: time, data_fraction: 0.4\n",
      "Using 40.0% of data: 960/960 samples\n",
      "skipped: 3/960\n"
     ]
    },
    {
     "name": "stderr",
     "output_type": "stream",
     "text": [
      "[I 2025-06-28 15:55:49,334] Trial 45 finished with value: 0.548429453941445 and parameters: {'window_length': 250, 'stride': 250, 'tmin': 250, 'ch_FZ': 1, 'ch_C3': 0, 'ch_CZ': 0, 'ch_C4': 0, 'ch_PZ': 1, 'ch_PO7': 1, 'ch_OZ': 0, 'ch_PO8': 1, 'n_bands': 3, 'min_freq': 12, 'max_freq': 38, 'filter_order': 3, 'fs': 250, 'n_estimators': 100, 'max_depth': None, 'min_samples_split': 5, 'min_samples_leaf': 5, 'max_features': None}. Best is trial 43 with value: 0.6169377100425211.\n"
     ]
    },
    {
     "name": "stdout",
     "output_type": "stream",
     "text": [
      "   → Train acc: 0.989 | Val acc: 0.548\n",
      "\n",
      "→ Trying: wl=250, st=250, tmin=500, chans=['FZ', 'PZ', 'PO7', 'PO8']\n",
      "   Bands: [(11.0, 20.666666666666664), (20.666666666666664, 30.333333333333332), (30.333333333333332, 40.0)], RF: n_est=100, depth=None\n",
      "task: mi, split: train, domain: time, data_fraction: 0.4\n",
      "Using 40.0% of data: 960/960 samples\n",
      "skipped: 7/960\n"
     ]
    },
    {
     "name": "stderr",
     "output_type": "stream",
     "text": [
      "[I 2025-06-28 15:56:22,055] Trial 46 finished with value: 0.6014101146262383 and parameters: {'window_length': 250, 'stride': 250, 'tmin': 500, 'ch_FZ': 1, 'ch_C3': 0, 'ch_CZ': 0, 'ch_C4': 0, 'ch_PZ': 1, 'ch_PO7': 1, 'ch_OZ': 0, 'ch_PO8': 1, 'n_bands': 3, 'min_freq': 11, 'max_freq': 40, 'filter_order': 3, 'fs': 125, 'n_estimators': 100, 'max_depth': None, 'min_samples_split': 6, 'min_samples_leaf': 5, 'max_features': None}. Best is trial 43 with value: 0.6169377100425211.\n"
     ]
    },
    {
     "name": "stdout",
     "output_type": "stream",
     "text": [
      "   → Train acc: 0.983 | Val acc: 0.601\n",
      "\n",
      "→ Trying: wl=250, st=250, tmin=500, chans=['FZ', 'CZ', 'PZ', 'PO7', 'OZ', 'PO8']\n",
      "   Bands: [(11.0, 20.666666666666664), (20.666666666666664, 30.333333333333332), (30.333333333333332, 40.0)], RF: n_est=100, depth=None\n",
      "task: mi, split: train, domain: time, data_fraction: 0.4\n",
      "Using 40.0% of data: 960/960 samples\n",
      "skipped: 7/960\n"
     ]
    },
    {
     "name": "stderr",
     "output_type": "stream",
     "text": [
      "[I 2025-06-28 15:57:01,495] Trial 47 finished with value: 0.6203273625515585 and parameters: {'window_length': 250, 'stride': 250, 'tmin': 500, 'ch_FZ': 1, 'ch_C3': 0, 'ch_CZ': 1, 'ch_C4': 0, 'ch_PZ': 1, 'ch_PO7': 1, 'ch_OZ': 1, 'ch_PO8': 1, 'n_bands': 3, 'min_freq': 11, 'max_freq': 40, 'filter_order': 3, 'fs': 125, 'n_estimators': 100, 'max_depth': None, 'min_samples_split': 6, 'min_samples_leaf': 5, 'max_features': None}. Best is trial 47 with value: 0.6203273625515585.\n"
     ]
    },
    {
     "name": "stdout",
     "output_type": "stream",
     "text": [
      "   → Train acc: 0.985 | Val acc: 0.620\n",
      "\n",
      "→ Trying: wl=1000, st=250, tmin=500, chans=['FZ', 'CZ', 'C4', 'PZ', 'PO7', 'OZ', 'PO8']\n",
      "   Bands: [(11.0, 19.666666666666664), (19.666666666666664, 28.333333333333332), (28.333333333333332, 37.0)], RF: n_est=100, depth=None\n",
      "task: mi, split: train, domain: time, data_fraction: 0.4\n",
      "Using 40.0% of data: 960/960 samples\n",
      "skipped: 37/960\n"
     ]
    },
    {
     "name": "stderr",
     "output_type": "stream",
     "text": [
      "[I 2025-06-28 15:57:24,788] Trial 48 finished with value: 0.5911758412739959 and parameters: {'window_length': 1000, 'stride': 250, 'tmin': 500, 'ch_FZ': 1, 'ch_C3': 0, 'ch_CZ': 1, 'ch_C4': 1, 'ch_PZ': 1, 'ch_PO7': 1, 'ch_OZ': 1, 'ch_PO8': 1, 'n_bands': 3, 'min_freq': 11, 'max_freq': 37, 'filter_order': 3, 'fs': 125, 'n_estimators': 100, 'max_depth': None, 'min_samples_split': 5, 'min_samples_leaf': 5, 'max_features': None}. Best is trial 47 with value: 0.6203273625515585.\n"
     ]
    },
    {
     "name": "stdout",
     "output_type": "stream",
     "text": [
      "   → Train acc: 0.989 | Val acc: 0.591\n",
      "\n",
      "→ Trying: wl=250, st=250, tmin=500, chans=['FZ', 'CZ', 'PZ', 'PO7', 'OZ', 'PO8']\n",
      "   Bands: [(11.0, 20.666666666666664), (20.666666666666664, 30.333333333333332), (30.333333333333332, 40.0)], RF: n_est=150, depth=None\n",
      "task: mi, split: train, domain: time, data_fraction: 0.4\n",
      "Using 40.0% of data: 960/960 samples\n",
      "skipped: 7/960\n"
     ]
    },
    {
     "name": "stderr",
     "output_type": "stream",
     "text": [
      "[I 2025-06-28 15:58:10,723] Trial 49 finished with value: 0.6022888964358177 and parameters: {'window_length': 250, 'stride': 250, 'tmin': 500, 'ch_FZ': 1, 'ch_C3': 0, 'ch_CZ': 1, 'ch_C4': 0, 'ch_PZ': 1, 'ch_PO7': 1, 'ch_OZ': 1, 'ch_PO8': 1, 'n_bands': 3, 'min_freq': 11, 'max_freq': 40, 'filter_order': 3, 'fs': 125, 'n_estimators': 150, 'max_depth': None, 'min_samples_split': 2, 'min_samples_leaf': 5, 'max_features': None}. Best is trial 47 with value: 0.6203273625515585.\n"
     ]
    },
    {
     "name": "stdout",
     "output_type": "stream",
     "text": [
      "   → Train acc: 0.986 | Val acc: 0.602\n",
      "\n",
      "→ Trying: wl=250, st=500, tmin=500, chans=['FZ', 'CZ', 'PZ', 'PO7', 'OZ', 'PO8']\n",
      "   Bands: [(12.0, 15.5), (15.5, 19.0), (19.0, 22.5), (22.5, 26.0)], RF: n_est=100, depth=None\n",
      "task: mi, split: train, domain: time, data_fraction: 0.4\n",
      "Using 40.0% of data: 960/960 samples\n",
      "skipped: 7/960\n"
     ]
    },
    {
     "name": "stderr",
     "output_type": "stream",
     "text": [
      "[I 2025-06-28 15:58:43,418] Trial 50 finished with value: 0.5190746528564167 and parameters: {'window_length': 250, 'stride': 500, 'tmin': 500, 'ch_FZ': 1, 'ch_C3': 0, 'ch_CZ': 1, 'ch_C4': 0, 'ch_PZ': 1, 'ch_PO7': 1, 'ch_OZ': 1, 'ch_PO8': 1, 'n_bands': 4, 'min_freq': 12, 'max_freq': 26, 'filter_order': 3, 'fs': 250, 'n_estimators': 100, 'max_depth': None, 'min_samples_split': 6, 'min_samples_leaf': 5, 'max_features': None}. Best is trial 47 with value: 0.6203273625515585.\n"
     ]
    },
    {
     "name": "stdout",
     "output_type": "stream",
     "text": [
      "   → Train acc: 0.991 | Val acc: 0.519\n",
      "\n",
      "→ Trying: wl=250, st=250, tmin=500, chans=['FZ', 'CZ', 'PZ', 'PO7', 'OZ', 'PO8']\n",
      "   Bands: [(11.0, 20.666666666666664), (20.666666666666664, 30.333333333333332), (30.333333333333332, 40.0)], RF: n_est=150, depth=None\n",
      "task: mi, split: train, domain: time, data_fraction: 0.4\n",
      "Using 40.0% of data: 960/960 samples\n",
      "skipped: 7/960\n"
     ]
    },
    {
     "name": "stderr",
     "output_type": "stream",
     "text": [
      "[I 2025-06-28 15:59:29,967] Trial 51 finished with value: 0.6003060860175727 and parameters: {'window_length': 250, 'stride': 250, 'tmin': 500, 'ch_FZ': 1, 'ch_C3': 0, 'ch_CZ': 1, 'ch_C4': 0, 'ch_PZ': 1, 'ch_PO7': 1, 'ch_OZ': 1, 'ch_PO8': 1, 'n_bands': 3, 'min_freq': 11, 'max_freq': 40, 'filter_order': 3, 'fs': 125, 'n_estimators': 150, 'max_depth': None, 'min_samples_split': 2, 'min_samples_leaf': 5, 'max_features': None}. Best is trial 47 with value: 0.6203273625515585.\n"
     ]
    },
    {
     "name": "stdout",
     "output_type": "stream",
     "text": [
      "   → Train acc: 0.987 | Val acc: 0.600\n",
      "\n",
      "→ Trying: wl=250, st=250, tmin=500, chans=['FZ', 'CZ', 'PZ', 'PO7', 'OZ', 'PO8']\n",
      "   Bands: [(11.0, 20.666666666666664), (20.666666666666664, 30.333333333333332), (30.333333333333332, 40.0)], RF: n_est=100, depth=None\n",
      "task: mi, split: train, domain: time, data_fraction: 0.4\n",
      "Using 40.0% of data: 960/960 samples\n",
      "skipped: 7/960\n"
     ]
    },
    {
     "name": "stderr",
     "output_type": "stream",
     "text": [
      "[I 2025-06-28 16:00:13,296] Trial 52 finished with value: 0.6040480565206917 and parameters: {'window_length': 250, 'stride': 250, 'tmin': 500, 'ch_FZ': 1, 'ch_C3': 0, 'ch_CZ': 1, 'ch_C4': 0, 'ch_PZ': 1, 'ch_PO7': 1, 'ch_OZ': 1, 'ch_PO8': 1, 'n_bands': 3, 'min_freq': 11, 'max_freq': 40, 'filter_order': 3, 'fs': 125, 'n_estimators': 100, 'max_depth': None, 'min_samples_split': 3, 'min_samples_leaf': 5, 'max_features': None}. Best is trial 47 with value: 0.6203273625515585.\n"
     ]
    },
    {
     "name": "stdout",
     "output_type": "stream",
     "text": [
      "   → Train acc: 0.986 | Val acc: 0.604\n",
      "\n",
      "→ Trying: wl=250, st=250, tmin=500, chans=['FZ', 'CZ', 'PZ', 'PO7', 'OZ', 'PO8']\n",
      "   Bands: [(12.0, 20.666666666666664), (20.666666666666664, 29.333333333333332), (29.333333333333332, 38.0)], RF: n_est=100, depth=None\n",
      "task: mi, split: train, domain: time, data_fraction: 0.4\n",
      "Using 40.0% of data: 960/960 samples\n",
      "skipped: 7/960\n"
     ]
    },
    {
     "name": "stderr",
     "output_type": "stream",
     "text": [
      "[I 2025-06-28 16:00:54,311] Trial 53 finished with value: 0.6148286992287619 and parameters: {'window_length': 250, 'stride': 250, 'tmin': 500, 'ch_FZ': 1, 'ch_C3': 0, 'ch_CZ': 1, 'ch_C4': 0, 'ch_PZ': 1, 'ch_PO7': 1, 'ch_OZ': 1, 'ch_PO8': 1, 'n_bands': 3, 'min_freq': 12, 'max_freq': 38, 'filter_order': 3, 'fs': 125, 'n_estimators': 100, 'max_depth': None, 'min_samples_split': 3, 'min_samples_leaf': 5, 'max_features': None}. Best is trial 47 with value: 0.6203273625515585.\n"
     ]
    },
    {
     "name": "stdout",
     "output_type": "stream",
     "text": [
      "   → Train acc: 0.988 | Val acc: 0.615\n",
      "\n",
      "→ Trying: wl=250, st=250, tmin=500, chans=['FZ', 'CZ', 'PZ', 'PO7', 'OZ', 'PO8']\n",
      "   Bands: [(12.0, 20.666666666666664), (20.666666666666664, 29.333333333333332), (29.333333333333332, 38.0)], RF: n_est=50, depth=5\n",
      "task: mi, split: train, domain: time, data_fraction: 0.4\n",
      "Using 40.0% of data: 960/960 samples\n",
      "skipped: 7/960\n"
     ]
    },
    {
     "name": "stderr",
     "output_type": "stream",
     "text": [
      "[I 2025-06-28 16:01:28,302] Trial 54 finished with value: 0.5750135699585789 and parameters: {'window_length': 250, 'stride': 250, 'tmin': 500, 'ch_FZ': 1, 'ch_C3': 0, 'ch_CZ': 1, 'ch_C4': 0, 'ch_PZ': 1, 'ch_PO7': 1, 'ch_OZ': 1, 'ch_PO8': 1, 'n_bands': 3, 'min_freq': 12, 'max_freq': 38, 'filter_order': 3, 'fs': 125, 'n_estimators': 50, 'max_depth': 5, 'min_samples_split': 4, 'min_samples_leaf': 5, 'max_features': None}. Best is trial 47 with value: 0.6203273625515585.\n"
     ]
    },
    {
     "name": "stdout",
     "output_type": "stream",
     "text": [
      "   → Train acc: 0.712 | Val acc: 0.575\n",
      "\n",
      "→ Trying: wl=250, st=250, tmin=500, chans=['FZ', 'CZ', 'PZ', 'PO7', 'OZ', 'PO8']\n",
      "   Bands: [(12.0, 18.75), (18.75, 25.5), (25.5, 32.25), (32.25, 39.0)], RF: n_est=50, depth=10\n",
      "task: mi, split: train, domain: time, data_fraction: 0.4\n",
      "Using 40.0% of data: 960/960 samples\n",
      "skipped: 7/960\n"
     ]
    },
    {
     "name": "stderr",
     "output_type": "stream",
     "text": [
      "[I 2025-06-28 16:03:23,716] Trial 55 finished with value: 0.588872198565503 and parameters: {'window_length': 250, 'stride': 250, 'tmin': 500, 'ch_FZ': 1, 'ch_C3': 0, 'ch_CZ': 1, 'ch_C4': 0, 'ch_PZ': 1, 'ch_PO7': 1, 'ch_OZ': 1, 'ch_PO8': 1, 'n_bands': 4, 'min_freq': 12, 'max_freq': 39, 'filter_order': 3, 'fs': 125, 'n_estimators': 50, 'max_depth': 10, 'min_samples_split': 3, 'min_samples_leaf': 5, 'max_features': None}. Best is trial 47 with value: 0.6203273625515585.\n"
     ]
    },
    {
     "name": "stdout",
     "output_type": "stream",
     "text": [
      "   → Train acc: 0.937 | Val acc: 0.589\n",
      "\n",
      "→ Trying: wl=250, st=250, tmin=0, chans=['FZ', 'CZ', 'PZ', 'PO7', 'OZ', 'PO8']\n",
      "   Bands: [(12.0, 20.666666666666664), (20.666666666666664, 29.333333333333332), (29.333333333333332, 38.0)], RF: n_est=100, depth=None\n",
      "task: mi, split: train, domain: time, data_fraction: 0.4\n",
      "Using 40.0% of data: 960/960 samples\n",
      "skipped: 0/960\n"
     ]
    },
    {
     "name": "stderr",
     "output_type": "stream",
     "text": [
      "[I 2025-06-28 16:04:29,735] Trial 56 finished with value: 0.6127170730761525 and parameters: {'window_length': 250, 'stride': 250, 'tmin': 0, 'ch_FZ': 1, 'ch_C3': 0, 'ch_CZ': 1, 'ch_C4': 0, 'ch_PZ': 1, 'ch_PO7': 1, 'ch_OZ': 1, 'ch_PO8': 1, 'n_bands': 3, 'min_freq': 12, 'max_freq': 38, 'filter_order': 3, 'fs': 125, 'n_estimators': 100, 'max_depth': None, 'min_samples_split': 5, 'min_samples_leaf': 5, 'max_features': 'sqrt'}. Best is trial 47 with value: 0.6203273625515585.\n"
     ]
    },
    {
     "name": "stdout",
     "output_type": "stream",
     "text": [
      "   → Train acc: 0.982 | Val acc: 0.613\n",
      "\n",
      "→ Trying: wl=500, st=750, tmin=0, chans=['CZ', 'PZ', 'PO7', 'OZ', 'PO8']\n",
      "   Bands: [(12.0, 20.333333333333336), (20.333333333333336, 28.666666666666668), (28.666666666666668, 37.0)], RF: n_est=100, depth=None\n",
      "task: mi, split: train, domain: time, data_fraction: 0.4\n",
      "Using 40.0% of data: 960/960 samples\n",
      "skipped: 3/960\n"
     ]
    },
    {
     "name": "stderr",
     "output_type": "stream",
     "text": [
      "[I 2025-06-28 16:04:56,295] Trial 57 finished with value: 0.5265738401250534 and parameters: {'window_length': 500, 'stride': 750, 'tmin': 0, 'ch_FZ': 0, 'ch_C3': 0, 'ch_CZ': 1, 'ch_C4': 0, 'ch_PZ': 1, 'ch_PO7': 1, 'ch_OZ': 1, 'ch_PO8': 1, 'n_bands': 3, 'min_freq': 12, 'max_freq': 37, 'filter_order': 3, 'fs': 500, 'n_estimators': 100, 'max_depth': None, 'min_samples_split': 5, 'min_samples_leaf': 5, 'max_features': 'sqrt'}. Best is trial 47 with value: 0.6203273625515585.\n"
     ]
    },
    {
     "name": "stdout",
     "output_type": "stream",
     "text": [
      "   → Train acc: 0.985 | Val acc: 0.527\n",
      "\n",
      "→ Trying: wl=250, st=250, tmin=0, chans=['FZ', 'CZ', 'PZ', 'PO7', 'OZ']\n",
      "   Bands: [(12.0, 20.666666666666664), (20.666666666666664, 29.333333333333332), (29.333333333333332, 38.0)], RF: n_est=100, depth=None\n",
      "task: mi, split: train, domain: time, data_fraction: 0.4\n",
      "Using 40.0% of data: 960/960 samples\n",
      "skipped: 0/960\n"
     ]
    },
    {
     "name": "stderr",
     "output_type": "stream",
     "text": [
      "[I 2025-06-28 16:05:59,189] Trial 58 finished with value: 0.6187545823845418 and parameters: {'window_length': 250, 'stride': 250, 'tmin': 0, 'ch_FZ': 1, 'ch_C3': 0, 'ch_CZ': 1, 'ch_C4': 0, 'ch_PZ': 1, 'ch_PO7': 1, 'ch_OZ': 1, 'ch_PO8': 0, 'n_bands': 3, 'min_freq': 12, 'max_freq': 38, 'filter_order': 3, 'fs': 125, 'n_estimators': 100, 'max_depth': None, 'min_samples_split': 5, 'min_samples_leaf': 5, 'max_features': 'sqrt'}. Best is trial 47 with value: 0.6203273625515585.\n"
     ]
    },
    {
     "name": "stdout",
     "output_type": "stream",
     "text": [
      "   → Train acc: 0.977 | Val acc: 0.619\n",
      "\n",
      "→ Trying: wl=1500, st=250, tmin=0, chans=['FZ', 'CZ', 'PZ', 'PO7', 'OZ']\n",
      "   Bands: [(4.0, 15.333333333333334), (15.333333333333334, 26.666666666666668), (26.666666666666668, 38.0)], RF: n_est=150, depth=None\n",
      "task: mi, split: train, domain: time, data_fraction: 0.4\n",
      "Using 40.0% of data: 960/960 samples\n",
      "skipped: 37/960\n"
     ]
    },
    {
     "name": "stderr",
     "output_type": "stream",
     "text": [
      "[I 2025-06-28 16:06:29,191] Trial 59 finished with value: 0.5864644160678711 and parameters: {'window_length': 1500, 'stride': 250, 'tmin': 0, 'ch_FZ': 1, 'ch_C3': 0, 'ch_CZ': 1, 'ch_C4': 0, 'ch_PZ': 1, 'ch_PO7': 1, 'ch_OZ': 1, 'ch_PO8': 0, 'n_bands': 3, 'min_freq': 4, 'max_freq': 38, 'filter_order': 3, 'fs': 125, 'n_estimators': 150, 'max_depth': None, 'min_samples_split': 5, 'min_samples_leaf': 1, 'max_features': 'sqrt'}. Best is trial 47 with value: 0.6203273625515585.\n"
     ]
    },
    {
     "name": "stdout",
     "output_type": "stream",
     "text": [
      "   → Train acc: 0.999 | Val acc: 0.586\n",
      "\n",
      "→ Trying: wl=250, st=250, tmin=0, chans=['FZ', 'CZ', 'PZ', 'PO7', 'OZ']\n",
      "   Bands: [(12.0, 20.333333333333336), (20.333333333333336, 28.666666666666668), (28.666666666666668, 37.0)], RF: n_est=100, depth=None\n",
      "task: mi, split: train, domain: time, data_fraction: 0.4\n",
      "Using 40.0% of data: 960/960 samples\n",
      "skipped: 0/960\n"
     ]
    },
    {
     "name": "stderr",
     "output_type": "stream",
     "text": [
      "[I 2025-06-28 16:07:31,042] Trial 60 finished with value: 0.6048282983653858 and parameters: {'window_length': 250, 'stride': 250, 'tmin': 0, 'ch_FZ': 1, 'ch_C3': 0, 'ch_CZ': 1, 'ch_C4': 0, 'ch_PZ': 1, 'ch_PO7': 1, 'ch_OZ': 1, 'ch_PO8': 0, 'n_bands': 3, 'min_freq': 12, 'max_freq': 37, 'filter_order': 3, 'fs': 125, 'n_estimators': 100, 'max_depth': None, 'min_samples_split': 5, 'min_samples_leaf': 5, 'max_features': 'sqrt'}. Best is trial 47 with value: 0.6203273625515585.\n"
     ]
    },
    {
     "name": "stdout",
     "output_type": "stream",
     "text": [
      "   → Train acc: 0.981 | Val acc: 0.605\n",
      "\n",
      "→ Trying: wl=250, st=250, tmin=0, chans=['FZ', 'CZ', 'PZ', 'PO7', 'OZ']\n",
      "   Bands: [(12.0, 20.666666666666664), (20.666666666666664, 29.333333333333332), (29.333333333333332, 38.0)], RF: n_est=100, depth=None\n",
      "task: mi, split: train, domain: time, data_fraction: 0.4\n",
      "Using 40.0% of data: 960/960 samples\n",
      "skipped: 0/960\n"
     ]
    },
    {
     "name": "stderr",
     "output_type": "stream",
     "text": [
      "[I 2025-06-28 16:08:31,650] Trial 61 finished with value: 0.6147306293943317 and parameters: {'window_length': 250, 'stride': 250, 'tmin': 0, 'ch_FZ': 1, 'ch_C3': 0, 'ch_CZ': 1, 'ch_C4': 0, 'ch_PZ': 1, 'ch_PO7': 1, 'ch_OZ': 1, 'ch_PO8': 0, 'n_bands': 3, 'min_freq': 12, 'max_freq': 38, 'filter_order': 3, 'fs': 125, 'n_estimators': 100, 'max_depth': None, 'min_samples_split': 6, 'min_samples_leaf': 5, 'max_features': 'sqrt'}. Best is trial 47 with value: 0.6203273625515585.\n"
     ]
    },
    {
     "name": "stdout",
     "output_type": "stream",
     "text": [
      "   → Train acc: 0.977 | Val acc: 0.615\n",
      "\n",
      "→ Trying: wl=250, st=250, tmin=0, chans=['FZ', 'CZ', 'PZ', 'PO7', 'OZ']\n",
      "   Bands: [(12.0, 20.666666666666664), (20.666666666666664, 29.333333333333332), (29.333333333333332, 38.0)], RF: n_est=100, depth=None\n",
      "task: mi, split: train, domain: time, data_fraction: 0.4\n",
      "Using 40.0% of data: 960/960 samples\n",
      "skipped: 0/960\n"
     ]
    },
    {
     "name": "stderr",
     "output_type": "stream",
     "text": [
      "[I 2025-06-28 16:09:32,988] Trial 62 finished with value: 0.6144224920847274 and parameters: {'window_length': 250, 'stride': 250, 'tmin': 0, 'ch_FZ': 1, 'ch_C3': 0, 'ch_CZ': 1, 'ch_C4': 0, 'ch_PZ': 1, 'ch_PO7': 1, 'ch_OZ': 1, 'ch_PO8': 0, 'n_bands': 3, 'min_freq': 12, 'max_freq': 38, 'filter_order': 3, 'fs': 125, 'n_estimators': 100, 'max_depth': None, 'min_samples_split': 6, 'min_samples_leaf': 5, 'max_features': 'sqrt'}. Best is trial 47 with value: 0.6203273625515585.\n"
     ]
    },
    {
     "name": "stdout",
     "output_type": "stream",
     "text": [
      "   → Train acc: 0.979 | Val acc: 0.614\n",
      "\n",
      "→ Trying: wl=250, st=250, tmin=0, chans=['FZ', 'CZ', 'PZ', 'PO7', 'OZ']\n",
      "   Bands: [(12.0, 20.666666666666664), (20.666666666666664, 29.333333333333332), (29.333333333333332, 38.0)], RF: n_est=150, depth=None\n",
      "task: mi, split: train, domain: time, data_fraction: 0.4\n",
      "Using 40.0% of data: 960/960 samples\n",
      "skipped: 0/960\n"
     ]
    },
    {
     "name": "stderr",
     "output_type": "stream",
     "text": [
      "[I 2025-06-28 16:10:47,525] Trial 63 finished with value: 0.6130284418420451 and parameters: {'window_length': 250, 'stride': 250, 'tmin': 0, 'ch_FZ': 1, 'ch_C3': 0, 'ch_CZ': 1, 'ch_C4': 0, 'ch_PZ': 1, 'ch_PO7': 1, 'ch_OZ': 1, 'ch_PO8': 0, 'n_bands': 3, 'min_freq': 12, 'max_freq': 38, 'filter_order': 3, 'fs': 125, 'n_estimators': 150, 'max_depth': None, 'min_samples_split': 6, 'min_samples_leaf': 5, 'max_features': 'sqrt'}. Best is trial 47 with value: 0.6203273625515585.\n"
     ]
    },
    {
     "name": "stdout",
     "output_type": "stream",
     "text": [
      "   → Train acc: 0.978 | Val acc: 0.613\n",
      "\n",
      "→ Trying: wl=250, st=250, tmin=0, chans=['FZ', 'CZ', 'PZ', 'PO7', 'OZ']\n",
      "   Bands: [(11.0, 20.666666666666664), (20.666666666666664, 30.333333333333332), (30.333333333333332, 40.0)], RF: n_est=200, depth=None\n",
      "task: mi, split: train, domain: time, data_fraction: 0.4\n",
      "Using 40.0% of data: 960/960 samples\n",
      "skipped: 0/960\n"
     ]
    },
    {
     "name": "stderr",
     "output_type": "stream",
     "text": [
      "[I 2025-06-28 16:11:58,238] Trial 64 finished with value: 0.6247884293758047 and parameters: {'window_length': 250, 'stride': 250, 'tmin': 0, 'ch_FZ': 1, 'ch_C3': 0, 'ch_CZ': 1, 'ch_C4': 0, 'ch_PZ': 1, 'ch_PO7': 1, 'ch_OZ': 1, 'ch_PO8': 0, 'n_bands': 3, 'min_freq': 11, 'max_freq': 40, 'filter_order': 3, 'fs': 125, 'n_estimators': 200, 'max_depth': None, 'min_samples_split': 6, 'min_samples_leaf': 5, 'max_features': 'sqrt'}. Best is trial 64 with value: 0.6247884293758047.\n"
     ]
    },
    {
     "name": "stdout",
     "output_type": "stream",
     "text": [
      "   → Train acc: 0.981 | Val acc: 0.625\n",
      "\n",
      "→ Trying: wl=250, st=250, tmin=0, chans=['FZ', 'CZ', 'PZ', 'PO7', 'OZ']\n",
      "   Bands: [(11.0, 18.25), (18.25, 25.5), (25.5, 32.75), (32.75, 40.0)], RF: n_est=200, depth=None\n",
      "task: mi, split: train, domain: time, data_fraction: 0.4\n",
      "Using 40.0% of data: 960/960 samples\n",
      "skipped: 0/960\n"
     ]
    },
    {
     "name": "stderr",
     "output_type": "stream",
     "text": [
      "[I 2025-06-28 16:13:24,387] Trial 65 finished with value: 0.6199933791051163 and parameters: {'window_length': 250, 'stride': 250, 'tmin': 0, 'ch_FZ': 1, 'ch_C3': 0, 'ch_CZ': 1, 'ch_C4': 0, 'ch_PZ': 1, 'ch_PO7': 1, 'ch_OZ': 1, 'ch_PO8': 0, 'n_bands': 4, 'min_freq': 11, 'max_freq': 40, 'filter_order': 3, 'fs': 125, 'n_estimators': 200, 'max_depth': None, 'min_samples_split': 6, 'min_samples_leaf': 5, 'max_features': 'sqrt'}. Best is trial 64 with value: 0.6247884293758047.\n"
     ]
    },
    {
     "name": "stdout",
     "output_type": "stream",
     "text": [
      "   → Train acc: 0.978 | Val acc: 0.620\n",
      "\n",
      "→ Trying: wl=500, st=500, tmin=0, chans=['FZ', 'CZ', 'PZ', 'PO7', 'OZ']\n",
      "   Bands: [(10.0, 17.5), (17.5, 25.0), (25.0, 32.5), (32.5, 40.0)], RF: n_est=200, depth=None\n",
      "task: mi, split: train, domain: time, data_fraction: 0.4\n",
      "Using 40.0% of data: 960/960 samples\n",
      "skipped: 3/960\n"
     ]
    },
    {
     "name": "stderr",
     "output_type": "stream",
     "text": [
      "[I 2025-06-28 16:14:11,201] Trial 66 finished with value: 0.5680452456698479 and parameters: {'window_length': 500, 'stride': 500, 'tmin': 0, 'ch_FZ': 1, 'ch_C3': 0, 'ch_CZ': 1, 'ch_C4': 0, 'ch_PZ': 1, 'ch_PO7': 1, 'ch_OZ': 1, 'ch_PO8': 0, 'n_bands': 4, 'min_freq': 10, 'max_freq': 40, 'filter_order': 3, 'fs': 125, 'n_estimators': 200, 'max_depth': None, 'min_samples_split': 6, 'min_samples_leaf': 5, 'max_features': 'sqrt'}. Best is trial 64 with value: 0.6247884293758047.\n"
     ]
    },
    {
     "name": "stdout",
     "output_type": "stream",
     "text": [
      "   → Train acc: 0.981 | Val acc: 0.568\n",
      "\n",
      "→ Trying: wl=250, st=250, tmin=0, chans=['FZ', 'CZ', 'PZ', 'PO7', 'OZ']\n",
      "   Bands: [(11.0, 18.25), (18.25, 25.5), (25.5, 32.75), (32.75, 40.0)], RF: n_est=200, depth=None\n",
      "task: mi, split: train, domain: time, data_fraction: 0.4\n",
      "Using 40.0% of data: 960/960 samples\n",
      "skipped: 0/960\n"
     ]
    },
    {
     "name": "stderr",
     "output_type": "stream",
     "text": [
      "[I 2025-06-28 16:15:36,063] Trial 67 finished with value: 0.6263345734944465 and parameters: {'window_length': 250, 'stride': 250, 'tmin': 0, 'ch_FZ': 1, 'ch_C3': 0, 'ch_CZ': 1, 'ch_C4': 0, 'ch_PZ': 1, 'ch_PO7': 1, 'ch_OZ': 1, 'ch_PO8': 0, 'n_bands': 4, 'min_freq': 11, 'max_freq': 40, 'filter_order': 3, 'fs': 125, 'n_estimators': 200, 'max_depth': None, 'min_samples_split': 6, 'min_samples_leaf': 2, 'max_features': 'sqrt'}. Best is trial 67 with value: 0.6263345734944465.\n"
     ]
    },
    {
     "name": "stdout",
     "output_type": "stream",
     "text": [
      "   → Train acc: 0.998 | Val acc: 0.626\n",
      "\n",
      "→ Trying: wl=1000, st=250, tmin=0, chans=['FZ', 'CZ', 'PZ', 'PO7', 'OZ']\n",
      "   Bands: [(11.0, 18.25), (18.25, 25.5), (25.5, 32.75), (32.75, 40.0)], RF: n_est=200, depth=5\n",
      "task: mi, split: train, domain: time, data_fraction: 0.4\n",
      "Using 40.0% of data: 960/960 samples\n",
      "skipped: 11/960\n"
     ]
    },
    {
     "name": "stderr",
     "output_type": "stream",
     "text": [
      "[I 2025-06-28 16:16:35,156] Trial 68 finished with value: 0.5766765736452056 and parameters: {'window_length': 1000, 'stride': 250, 'tmin': 0, 'ch_FZ': 1, 'ch_C3': 0, 'ch_CZ': 1, 'ch_C4': 0, 'ch_PZ': 1, 'ch_PO7': 1, 'ch_OZ': 1, 'ch_PO8': 0, 'n_bands': 4, 'min_freq': 11, 'max_freq': 40, 'filter_order': 3, 'fs': 125, 'n_estimators': 200, 'max_depth': 5, 'min_samples_split': 6, 'min_samples_leaf': 2, 'max_features': 'sqrt'}. Best is trial 67 with value: 0.6263345734944465.\n"
     ]
    },
    {
     "name": "stdout",
     "output_type": "stream",
     "text": [
      "   → Train acc: 0.731 | Val acc: 0.577\n",
      "\n",
      "→ Trying: wl=250, st=750, tmin=0, chans=['CZ', 'PZ', 'PO7', 'OZ']\n",
      "   Bands: [(10.0, 17.5), (17.5, 25.0), (25.0, 32.5), (32.5, 40.0)], RF: n_est=200, depth=None\n",
      "task: mi, split: train, domain: time, data_fraction: 0.4\n",
      "Using 40.0% of data: 960/960 samples\n",
      "skipped: 0/960\n"
     ]
    },
    {
     "name": "stderr",
     "output_type": "stream",
     "text": [
      "[I 2025-06-28 16:17:11,638] Trial 69 finished with value: 0.5271743648576749 and parameters: {'window_length': 250, 'stride': 750, 'tmin': 0, 'ch_FZ': 0, 'ch_C3': 0, 'ch_CZ': 1, 'ch_C4': 0, 'ch_PZ': 1, 'ch_PO7': 1, 'ch_OZ': 1, 'ch_PO8': 0, 'n_bands': 4, 'min_freq': 10, 'max_freq': 40, 'filter_order': 3, 'fs': 500, 'n_estimators': 200, 'max_depth': None, 'min_samples_split': 5, 'min_samples_leaf': 2, 'max_features': 'sqrt'}. Best is trial 67 with value: 0.6263345734944465.\n"
     ]
    },
    {
     "name": "stdout",
     "output_type": "stream",
     "text": [
      "   → Train acc: 1.000 | Val acc: 0.527\n",
      "\n",
      "→ Trying: wl=250, st=250, tmin=0, chans=['FZ', 'CZ', 'PZ', 'PO7', 'OZ']\n",
      "   Bands: [(11.0, 18.0), (18.0, 25.0), (25.0, 32.0), (32.0, 39.0)], RF: n_est=250, depth=None\n",
      "task: mi, split: train, domain: time, data_fraction: 0.4\n",
      "Using 40.0% of data: 960/960 samples\n",
      "skipped: 0/960\n"
     ]
    },
    {
     "name": "stderr",
     "output_type": "stream",
     "text": [
      "[I 2025-06-28 16:18:34,543] Trial 70 finished with value: 0.5512923311797472 and parameters: {'window_length': 250, 'stride': 250, 'tmin': 0, 'ch_FZ': 1, 'ch_C3': 0, 'ch_CZ': 1, 'ch_C4': 0, 'ch_PZ': 1, 'ch_PO7': 1, 'ch_OZ': 1, 'ch_PO8': 0, 'n_bands': 4, 'min_freq': 11, 'max_freq': 39, 'filter_order': 3, 'fs': 250, 'n_estimators': 250, 'max_depth': None, 'min_samples_split': 6, 'min_samples_leaf': 1, 'max_features': 'sqrt'}. Best is trial 67 with value: 0.6263345734944465.\n"
     ]
    },
    {
     "name": "stdout",
     "output_type": "stream",
     "text": [
      "   → Train acc: 1.000 | Val acc: 0.551\n",
      "\n",
      "→ Trying: wl=250, st=250, tmin=0, chans=['FZ', 'CZ', 'PZ', 'PO7', 'OZ']\n",
      "   Bands: [(11.0, 20.666666666666664), (20.666666666666664, 30.333333333333332), (30.333333333333332, 40.0)], RF: n_est=150, depth=None\n",
      "task: mi, split: train, domain: time, data_fraction: 0.4\n",
      "Using 40.0% of data: 960/960 samples\n"
     ]
    }
   ],
   "source": [
    "class FilterBankRTSClassifier(BaseEstimator, ClassifierMixin):\n",
    "    def __init__(self, bands=None, fs=250, order=4, n_estimators=100, max_depth=None, min_samples_split=2, min_samples_leaf=1, max_features=\"sqrt\", class_weight=\"balanced\", n_jobs=-1):\n",
    "        self.bands = bands if bands else [(8, 12), (12, 16), (16, 20), (20, 24), (24, 30)]\n",
    "        self.fs = fs\n",
    "        self.order = order\n",
    "        self.n_estimators = n_estimators\n",
    "        self.max_depth = max_depth\n",
    "        self.min_samples_split = min_samples_split\n",
    "        self.min_samples_leaf = min_samples_leaf\n",
    "        self.max_features = max_features\n",
    "        self.class_weight = class_weight\n",
    "        self.n_jobs = n_jobs\n",
    "\n",
    "    def compute_fb_covs(self, X):\n",
    "        \"\"\"X: (n_trials, C, T) → fb_covs: (n_trials, B, C, C)\"\"\"\n",
    "        # Pre-compute SOS filters if not done\n",
    "        if not hasattr(self, \"sos_bands\"):\n",
    "            self.sos_bands = [butter(self.order, (l / (self.fs / 2), h / (self.fs / 2)), btype=\"bandpass\", output=\"sos\") for l, h in self.bands]\n",
    "\n",
    "        n, C, _ = X.shape\n",
    "        B = len(self.sos_bands)\n",
    "        fb_covs = np.zeros((n, B, C, C))\n",
    "        for i, sos in enumerate(self.sos_bands):\n",
    "            Xf = sosfiltfilt(sos, X, axis=2)\n",
    "            fb_covs[:, i] = Covariances(estimator=\"lwf\").transform(Xf)\n",
    "        return fb_covs\n",
    "\n",
    "    def fit(self, X, y):\n",
    "        self.classes_ = np.unique(y)\n",
    "        fb_covs = self.compute_fb_covs(X)\n",
    "        n, B, C, _ = fb_covs.shape\n",
    "\n",
    "        # Flatten for tangent space\n",
    "        covs_flat = fb_covs.reshape(n * B, C, C)\n",
    "        labels_rep = np.repeat(y, B)\n",
    "\n",
    "        # Fit tangent space\n",
    "        self.ts = TangentSpace(metric=\"riemann\").fit(covs_flat, labels_rep)\n",
    "        Z = self.ts.transform(covs_flat)\n",
    "        Z = Z.reshape(n, B, -1)\n",
    "\n",
    "        # Compute mutual information weights\n",
    "        self.w = mutual_info_classif(Z.reshape(n, -1), y, discrete_features=False).reshape(B, -1).mean(axis=1)\n",
    "        self.w = self.w / self.w.sum()\n",
    "\n",
    "        # Weight features\n",
    "        Z_weighted = np.concatenate([np.sqrt(self.w[i]) * Z[:, i, :] for i in range(B)], axis=1)\n",
    "\n",
    "        # Train classifier\n",
    "        self.clf = make_pipeline(\n",
    "            StandardScaler(),\n",
    "            RandomForestClassifier(\n",
    "                n_estimators=self.n_estimators,\n",
    "                max_depth=self.max_depth,\n",
    "                min_samples_split=self.min_samples_split,\n",
    "                min_samples_leaf=self.min_samples_leaf,\n",
    "                max_features=self.max_features,\n",
    "                class_weight=self.class_weight,\n",
    "                n_jobs=self.n_jobs,\n",
    "                random_state=42,\n",
    "            ),\n",
    "        )\n",
    "        self.clf.fit(Z_weighted, y)\n",
    "        return self\n",
    "\n",
    "    def predict(self, X):\n",
    "        fb_covs = self.compute_fb_covs(X)\n",
    "        n, B, C, _ = fb_covs.shape\n",
    "\n",
    "        covs_flat = fb_covs.reshape(n * B, C, C)\n",
    "        Z = self.ts.transform(covs_flat).reshape(n, B, -1)\n",
    "        Z_weighted = np.concatenate([np.sqrt(self.w[i]) * Z[:, i, :] for i in range(B)], axis=1)\n",
    "\n",
    "        return self.clf.predict(Z_weighted)\n",
    "\n",
    "    def predict_proba(self, X):\n",
    "        fb_covs = self.compute_fb_covs(X)\n",
    "        n, B, C, _ = fb_covs.shape\n",
    "\n",
    "        covs_flat = fb_covs.reshape(n * B, C, C)\n",
    "        Z = self.ts.transform(covs_flat).reshape(n, B, -1)\n",
    "        Z_weighted = np.concatenate([np.sqrt(self.w[i]) * Z[:, i, :] for i in range(B)], axis=1)\n",
    "\n",
    "        return self.clf.predict_proba(Z_weighted)\n",
    "\n",
    "\n",
    "def load_eeg_data(data_path, window_length, stride, tmin, eeg_channels):\n",
    "    ds = EEGDataset(\n",
    "        data_path,\n",
    "        window_length=window_length,\n",
    "        stride=stride,\n",
    "        task=\"mi\",\n",
    "        split=\"train\",\n",
    "        data_fraction=0.4,\n",
    "        tmin=tmin,\n",
    "        eeg_channels=eeg_channels,\n",
    "    )\n",
    "    X = np.stack([x.numpy() for x, _ in ds])\n",
    "    y = np.array([label[0] for _, label in ds])\n",
    "    return X, y\n",
    "\n",
    "\n",
    "# Optuna optimization\n",
    "data_path = \"./data/mtcaic3\"\n",
    "cv_folds = 3\n",
    "\n",
    "window_lengths = [250, 500, 1000, 1500]\n",
    "strides = [250, 500, 750]\n",
    "tmins = [0, 250, 500]\n",
    "\n",
    "\n",
    "def objective(trial):\n",
    "    # Data parameters\n",
    "    wl = trial.suggest_categorical(\"window_length\", window_lengths)\n",
    "    st = trial.suggest_categorical(\"stride\", strides)\n",
    "    t0 = trial.suggest_categorical(\"tmin\", tmins)\n",
    "\n",
    "    # Channel selection\n",
    "    all_channels = [\"FZ\", \"C3\", \"CZ\", \"C4\", \"PZ\", \"PO7\", \"OZ\", \"PO8\"]\n",
    "    active_mask = [trial.suggest_int(f\"ch_{ch}\", 0, 1) for ch in all_channels]\n",
    "    chs = [ch for ch, enabled in zip(all_channels, active_mask) if enabled]\n",
    "\n",
    "    if len(chs) < 2:\n",
    "        return 0.0\n",
    "\n",
    "    # Filter bank parameters\n",
    "    n_bands = trial.suggest_int(\"n_bands\", 3, 8)\n",
    "    min_freq = trial.suggest_int(\"min_freq\", 4, 12)\n",
    "    max_freq = trial.suggest_int(\"max_freq\", 25, 40)\n",
    "\n",
    "    # Create frequency bands\n",
    "    freq_step = (max_freq - min_freq) / n_bands\n",
    "    bands = [(min_freq + i * freq_step, min_freq + (i + 1) * freq_step) for i in range(n_bands)]\n",
    "\n",
    "    filter_order = trial.suggest_int(\"filter_order\", 3, 6)\n",
    "    fs = trial.suggest_categorical(\"fs\", [125, 250, 500])\n",
    "\n",
    "    # Random Forest parameters\n",
    "    n_estimators = trial.suggest_int(\"n_estimators\", 50, 500, step=50)\n",
    "    max_depth = trial.suggest_categorical(\"max_depth\", [None, 5, 10, 15, 20])\n",
    "    min_samples_split = trial.suggest_int(\"min_samples_split\", 2, 10)\n",
    "    min_samples_leaf = trial.suggest_int(\"min_samples_leaf\", 1, 5)\n",
    "    max_features = trial.suggest_categorical(\"max_features\", [\"sqrt\", \"log2\", None])\n",
    "\n",
    "    print(f\"\\n→ Trying: wl={wl}, st={st}, tmin={t0}, chans={chs}\")\n",
    "    print(f\"   Bands: {bands}, RF: n_est={n_estimators}, depth={max_depth}\")\n",
    "\n",
    "    try:\n",
    "        X, y = load_eeg_data(data_path, wl, st, t0, chs)\n",
    "    except Exception as e:\n",
    "        print(\"Data loading failed:\", e)\n",
    "        return 0.0\n",
    "\n",
    "    clf = FilterBankRTSClassifier(bands=bands, fs=fs, order=filter_order, n_estimators=n_estimators, max_depth=max_depth, class_weight=\"balanced\", n_jobs=-1)\n",
    "\n",
    "    # Add RF-specific parameters\n",
    "    clf.min_samples_split = min_samples_split\n",
    "    clf.min_samples_leaf = min_samples_leaf\n",
    "    clf.max_features = max_features\n",
    "\n",
    "    # Override the classifier creation in fit method\n",
    "    original_fit = clf.fit\n",
    "\n",
    "    def custom_fit(X, y):\n",
    "        # Store the classes - this is required by scikit-learn\n",
    "        clf.classes_ = np.unique(y)\n",
    "\n",
    "        fb_covs = clf.compute_fb_covs(X)\n",
    "        n, B, C, _ = fb_covs.shape\n",
    "\n",
    "        covs_flat = fb_covs.reshape(n * B, C, C)\n",
    "        labels_rep = np.repeat(y, B)\n",
    "\n",
    "        clf.ts = TangentSpace(metric=\"riemann\").fit(covs_flat, labels_rep)\n",
    "        Z = clf.ts.transform(covs_flat)\n",
    "        Z = Z.reshape(n, B, -1)\n",
    "\n",
    "        clf.w = mutual_info_classif(Z.reshape(n, -1), y, discrete_features=False).reshape(B, -1).mean(axis=1)\n",
    "        clf.w = clf.w / clf.w.sum()\n",
    "\n",
    "        Z_weighted = np.concatenate([np.sqrt(clf.w[i]) * Z[:, i, :] for i in range(B)], axis=1)\n",
    "\n",
    "        clf.clf = make_pipeline(\n",
    "            StandardScaler(),\n",
    "            RandomForestClassifier(\n",
    "                n_estimators=n_estimators,\n",
    "                max_depth=max_depth,\n",
    "                min_samples_split=min_samples_split,\n",
    "                min_samples_leaf=min_samples_leaf,\n",
    "                max_features=max_features,\n",
    "                class_weight=\"balanced\",\n",
    "                n_jobs=-1,\n",
    "                random_state=42,\n",
    "            ),\n",
    "        )\n",
    "        clf.clf.fit(Z_weighted, y)\n",
    "        return clf\n",
    "\n",
    "    clf.fit = custom_fit\n",
    "\n",
    "    cv = StratifiedKFold(cv_folds, shuffle=True, random_state=42)\n",
    "    scores = cross_validate(clf, X, y, cv=cv, scoring=\"accuracy\", return_train_score=True)\n",
    "\n",
    "    train_acc = scores[\"train_score\"].mean()\n",
    "    val_acc = scores[\"test_score\"].mean()\n",
    "\n",
    "    print(f\"   → Train acc: {train_acc:.3f} | Val acc: {val_acc:.3f}\")\n",
    "    trial.set_user_attr(\"train_acc\", train_acc)\n",
    "\n",
    "    return val_acc\n",
    "\n",
    "\n",
    "study = optuna.create_study(direction=\"maximize\", pruner=MedianPruner())\n",
    "study.optimize(objective, n_trials=100, timeout=7200)\n",
    "\n",
    "print(\"\\n=== Best trial ===\")\n",
    "best = study.best_trial\n",
    "print(\"Val Acc:\", best.value)\n",
    "print(\"Train Acc:\", best.user_attrs[\"train_acc\"])\n",
    "print(\"Params:\")\n",
    "for k, v in best.params.items():\n",
    "    print(f\"  {k}: {v}\")"
   ]
  },
  {
   "cell_type": "code",
   "execution_count": null,
   "id": "61f62b37",
   "metadata": {},
   "outputs": [
    {
     "name": "stdout",
     "output_type": "stream",
     "text": [
      "task: mi, split: train, domain: time, data_fraction: 0.4\n",
      "Using 40.0% of data: 960/960 samples\n",
      "skipped: 0/960\n",
      "task: mi, split: train, domain: time, data_fraction: 1\n",
      "skipped: 0/2400\n",
      "Validation accuracy: 0.5613\n",
      "\n",
      "Classification Report:\n",
      "              precision    recall  f1-score   support\n",
      "\n",
      "           0       0.56      0.52      0.54      8002\n",
      "           1       0.56      0.60      0.58      8155\n",
      "\n",
      "    accuracy                           0.56     16157\n",
      "   macro avg       0.56      0.56      0.56     16157\n",
      "weighted avg       0.56      0.56      0.56     16157\n",
      "\n"
     ]
    }
   ],
   "source": [
    "# Trial 67 finished with value: 0.6263345734944465 and parameters: {'window_length': 250, 'stride': 250, 'tmin': 0, 'ch_FZ': 1, 'ch_C3': 0, 'ch_CZ': 1, 'ch_C4': 0, 'ch_PZ': 1, 'ch_PO7': 1, 'ch_OZ': 1, 'ch_PO8': 0, 'n_bands': 4, 'min_freq': 11, 'max_freq': 40, 'filter_order': 3, 'fs': 125, 'n_estimators': 200, 'max_depth': None, 'min_samples_split': 6, 'min_samples_leaf': 2, 'max_features': 'sqrt'}. Best is trial 67 with value: 0.6263345734944465.\n",
    "\n",
    "class FilterBankRTSClassifier(BaseEstimator, ClassifierMixin):\n",
    "    def __init__(self, bands=None, fs=250, order=4, n_estimators=100, max_depth=None, min_samples_split=2, min_samples_leaf=1, max_features=\"sqrt\", class_weight=\"balanced\", n_jobs=-1):\n",
    "        self.bands = bands if bands else [(8, 12), (12, 16), (16, 20), (20, 24), (24, 30)]\n",
    "        self.fs = fs\n",
    "        self.order = order\n",
    "        self.n_estimators = n_estimators\n",
    "        self.max_depth = max_depth\n",
    "        self.min_samples_split = min_samples_split\n",
    "        self.min_samples_leaf = min_samples_leaf\n",
    "        self.max_features = max_features\n",
    "        self.class_weight = class_weight\n",
    "        self.n_jobs = n_jobs\n",
    "\n",
    "    def compute_fb_covs(self, X):\n",
    "        \"\"\"X: (n_trials, C, T) → fb_covs: (n_trials, B, C, C)\"\"\"\n",
    "        # Pre-compute SOS filters if not done\n",
    "        if not hasattr(self, \"sos_bands\"):\n",
    "            self.sos_bands = [butter(self.order, (l / (self.fs / 2), h / (self.fs / 2)), btype=\"bandpass\", output=\"sos\") for l, h in self.bands]\n",
    "\n",
    "        n, C, _ = X.shape\n",
    "        B = len(self.sos_bands)\n",
    "        fb_covs = np.zeros((n, B, C, C))\n",
    "        for i, sos in enumerate(self.sos_bands):\n",
    "            Xf = sosfiltfilt(sos, X, axis=2)\n",
    "            fb_covs[:, i] = Covariances(estimator=\"lwf\").transform(Xf)\n",
    "        return fb_covs\n",
    "\n",
    "    def fit(self, X, y):\n",
    "        self.classes_ = np.unique(y)\n",
    "        fb_covs = self.compute_fb_covs(X)\n",
    "        n, B, C, _ = fb_covs.shape\n",
    "\n",
    "        # Flatten for tangent space\n",
    "        covs_flat = fb_covs.reshape(n * B, C, C)\n",
    "        labels_rep = np.repeat(y, B)\n",
    "\n",
    "        # Fit tangent space\n",
    "        self.ts = TangentSpace(metric=\"riemann\").fit(covs_flat, labels_rep)\n",
    "        Z = self.ts.transform(covs_flat)\n",
    "        Z = Z.reshape(n, B, -1)\n",
    "\n",
    "        # Compute mutual information weights\n",
    "        self.w = mutual_info_classif(Z.reshape(n, -1), y, discrete_features=False).reshape(B, -1).mean(axis=1)\n",
    "        self.w = self.w / self.w.sum()\n",
    "\n",
    "        # Weight features\n",
    "        Z_weighted = np.concatenate([np.sqrt(self.w[i]) * Z[:, i, :] for i in range(B)], axis=1)\n",
    "\n",
    "        # Train classifier\n",
    "        self.clf = make_pipeline(\n",
    "            StandardScaler(),\n",
    "            RandomForestClassifier(\n",
    "                n_estimators=self.n_estimators,\n",
    "                max_depth=self.max_depth,\n",
    "                min_samples_split=self.min_samples_split,\n",
    "                min_samples_leaf=self.min_samples_leaf,\n",
    "                max_features=self.max_features,\n",
    "                class_weight=self.class_weight,\n",
    "                n_jobs=self.n_jobs,\n",
    "                random_state=42,\n",
    "            ),\n",
    "        )\n",
    "        self.clf.fit(Z_weighted, y)\n",
    "        return self\n",
    "\n",
    "    def predict(self, X):\n",
    "        fb_covs = self.compute_fb_covs(X)\n",
    "        n, B, C, _ = fb_covs.shape\n",
    "\n",
    "        covs_flat = fb_covs.reshape(n * B, C, C)\n",
    "        Z = self.ts.transform(covs_flat).reshape(n, B, -1)\n",
    "        Z_weighted = np.concatenate([np.sqrt(self.w[i]) * Z[:, i, :] for i in range(B)], axis=1)\n",
    "\n",
    "        return self.clf.predict(Z_weighted)\n",
    "\n",
    "    def predict_proba(self, X):\n",
    "        fb_covs = self.compute_fb_covs(X)\n",
    "        n, B, C, _ = fb_covs.shape\n",
    "\n",
    "        covs_flat = fb_covs.reshape(n * B, C, C)\n",
    "        Z = self.ts.transform(covs_flat).reshape(n, B, -1)\n",
    "        Z_weighted = np.concatenate([np.sqrt(self.w[i]) * Z[:, i, :] for i in range(B)], axis=1)\n",
    "\n",
    "        return self.clf.predict_proba(Z_weighted)\n",
    "\n",
    "        \n",
    "window_length = 250\n",
    "# Best parameters from Optuna trial 67\n",
    "stride = 250\n",
    "tmin = 0\n",
    "eeg_channels = ['FZ', 'CZ', 'PZ', 'PO7', 'OZ']\n",
    "n_bands = 4\n",
    "min_freq = 11\n",
    "max_freq = 40\n",
    "filter_order = 3\n",
    "fs = 125\n",
    "n_estimators = 200\n",
    "max_depth = None\n",
    "min_samples_split = 6\n",
    "min_samples_leaf = 2\n",
    "max_features = 'sqrt'\n",
    "data_path = \"./data/mtcaic3\"\n",
    "\n",
    "\n",
    "# Load data with besjt parameters\n",
    "ds_train = EEGDataset(\n",
    "    data_path,\n",
    "    window_length=window_length,\n",
    "    stride=stride,\n",
    "    task=\"mi\",\n",
    "    split=\"train\",\n",
    "    data_fraction=1,\n",
    "    tmin=tmin,\n",
    "    eeg_channels=eeg_channels,\n",
    ")\n",
    "X_train = np.stack([x.numpy() for x, _ in ds_train])\n",
    "y_train = np.array([label[0] for _, label in ds_train])\n",
    "\n",
    "# Load data with besjt parameters\n",
    "ds_val = EEGDataset(\n",
    "    data_path,\n",
    "    window_length=window_length,\n",
    "    stride=stride,\n",
    "    task=\"mi\",\n",
    "    split=\"train\",\n",
    "    data_fraction=1,\n",
    "    tmin=tmin,\n",
    "    eeg_channels=eeg_channels,\n",
    ")\n",
    "X_val = np.stack([x.numpy() for x, _ in ds_val])\n",
    "y_val = np.array([label[0] for _, label in ds_val])\n",
    "\n",
    "\n",
    "# Create frequency bands\n",
    "freq_step = (max_freq - min_freq) / n_bands\n",
    "bands = [(min_freq + i * freq_step, min_freq + (i + 1) * freq_step) for i in range(n_bands)]\n",
    "\n",
    "# Create FilterBank classifier with best parameters\n",
    "clf = FilterBankRTSClassifier(\n",
    "    bands=bands,\n",
    "    fs=fs,\n",
    "    order=filter_order,\n",
    "    n_estimators=n_estimators,\n",
    "    max_depth=max_depth,\n",
    "    min_samples_split=min_samples_split,\n",
    "    min_samples_leaf=min_samples_leaf# Trial 67 finished with value: 0.6263345734944465 and parameters: {'window_length': 250, 'stride': 250, 'tmin': 0, 'ch_FZ': 1, 'ch_C3': 0, 'ch_CZ': 1, 'ch_C4': 0, 'ch_PZ': 1, 'ch_PO7': 1, 'ch_OZ': 1, 'ch_PO8': 0, 'n_bands': 4, 'min_freq': 11, 'max_freq': 40, 'filter_order': 3, 'fs': 125, 'n_estimators': 200, 'max_depth': None, 'min_samples_split': 6, 'min_samples_leaf': 2, 'max_features': 'sqrt'}. Best is trial 67 with value: 0.6263345734944465.\n",
    "\n",
    "class FilterBankRTSClassifier(BaseEstimator, ClassifierMixin):\n",
    "    def __init__(self, bands=None, fs=250, order=4, n_estimators=100, max_depth=None, min_samples_split=2, min_samples_leaf=1, max_features=\"sqrt\", class_weight=\"balanced\", n_jobs=-1):\n",
    "        self.bands = bands if bands else [(8, 12), (12, 16), (16, 20), (20, 24), (24, 30)]\n",
    "        self.fs = fs\n",
    "        self.order = order\n",
    "        self.n_estimators = n_estimators\n",
    "        self.max_depth = max_depth\n",
    "        self.min_samples_split = min_samples_split\n",
    "        self.min_samples_leaf = min_samples_leaf\n",
    "        self.max_features = max_features\n",
    "        self.class_weight = class_weight\n",
    "        self.n_jobs = n_jobs\n",
    "\n",
    "    def compute_fb_covs(self, X):\n",
    "        \"\"\"X: (n_trials, C, T) → fb_covs: (n_trials, B, C, C)\"\"\"\n",
    "        # Pre-compute SOS filters if not done\n",
    "        if not hasattr(self, \"sos_bands\"):\n",
    "            self.sos_bands = [butter(self.order, (l / (self.fs / 2), h / (self.fs / 2)), btype=\"bandpass\", output=\"sos\") for l, h in self.bands]\n",
    "\n",
    "        n, C, _ = X.shape\n",
    "        B = len(self.sos_bands)\n",
    "        fb_covs = np.zeros((n, B, C, C))\n",
    "        for i, sos in enumerate(self.sos_bands):\n",
    "            Xf = sosfiltfilt(sos, X, axis=2)\n",
    "            fb_covs[:, i] = Covariances(estimator=\"lwf\").transform(Xf)\n",
    "        return fb_covs\n",
    "\n",
    "    def fit(self, X, y):\n",
    "        self.classes_ = np.unique(y)\n",
    "        fb_covs = self.compute_fb_covs(X)\n",
    "        n, B, C, _ = fb_covs.shape\n",
    "\n",
    "        # Flatten for tangent space\n",
    "        covs_flat = fb_covs.reshape(n * B, C, C)\n",
    "        labels_rep = np.repeat(y, B)\n",
    "\n",
    "        # Fit tangent space\n",
    "        self.ts = TangentSpace(metric=\"riemann\").fit(covs_flat, labels_rep)\n",
    "        Z = self.ts.transform(covs_flat)\n",
    "        Z = Z.reshape(n, B, -1)\n",
    "\n",
    "        # Compute mutual information weights\n",
    "        self.w = mutual_info_classif(Z.reshape(n, -1), y, discrete_features=False).reshape(B, -1).mean(axis=1)\n",
    "        self.w = self.w / self.w.sum()\n",
    "\n",
    "        # Weight features\n",
    "        Z_weighted = np.concatenate([np.sqrt(self.w[i]) * Z[:, i, :] for i in range(B)], axis=1)\n",
    "\n",
    "        # Train classifier\n",
    "        self.clf = make_pipeline(\n",
    "            StandardScaler(),\n",
    "            RandomForestClassifier(\n",
    "                n_estimators=self.n_estimators,\n",
    "                max_depth=self.max_depth,\n",
    "                min_samples_split=self.min_samples_split,\n",
    "                min_samples_leaf=self.min_samples_leaf,\n",
    "                max_features=self.max_features,\n",
    "                class_weight=self.class_weight,\n",
    "                n_jobs=self.n_jobs,\n",
    "                random_state=42,\n",
    "            ),\n",
    "        )\n",
    "        self.clf.fit(Z_weighted, y)\n",
    "        return self\n",
    "\n",
    "    def predict(self, X):\n",
    "        fb_covs = self.compute_fb_covs(X)\n",
    "        n, B, C, _ = fb_covs.shape\n",
    "\n",
    "        covs_flat = fb_covs.reshape(n * B, C, C)\n",
    "        Z = self.ts.transform(covs_flat).reshape(n, B, -1)\n",
    "        Z_weighted = np.concatenate([np.sqrt(self.w[i]) * Z[:, i, :] for i in range(B)], axis=1)\n",
    "\n",
    "        return self.clf.predict(Z_weighted)\n",
    "\n",
    "    def predict_proba(self, X):\n",
    "        fb_covs = self.compute_fb_covs(X)\n",
    "        n, B, C, _ = fb_covs.shape\n",
    "\n",
    "        covs_flat = fb_covs.reshape(n * B, C, C)\n",
    "        Z = self.ts.transform(covs_flat).reshape(n, B, -1)\n",
    "        Z_weighted = np.concatenate([np.sqrt(self.w[i]) * Z[:, i, :] for i in range(B)], axis=1)\n",
    "\n",
    "        return self.clf.predict_proba(Z_weighted)\n",
    "\n",
    "        \n",
    "window_length = 250\n",
    "# Best parameters from Optuna trial 67\n",
    "stride = 250\n",
    "tmin = 0\n",
    "eeg_channels = ['FZ', 'CZ', 'PZ', 'PO7', 'OZ']\n",
    "n_bands = 4\n",
    "min_freq = 11\n",
    "max_freq = 40\n",
    "filter_order = 3\n",
    "fs = 125\n",
    "n_estimators = 200\n",
    "max_depth = None\n",
    "min_samples_split = 6\n",
    "min_samples_leaf = 2\n",
    "max_features = 'sqrt'\n",
    "data_path = \"./data/mtcaic3\"\n",
    "\n",
    "\n",
    "# Load data with besjt parameters\n",
    "ds_train = EEGDataset(\n",
    "    data_path,\n",
    "    window_length=window_length,\n",
    "    stride=stride,\n",
    "    task=\"mi\",\n",
    "    split=\"train\",\n",
    "    data_fraction=1,\n",
    "    tmin=tmin,\n",
    "    eeg_channels=eeg_channels,\n",
    ")\n",
    "X_train = np.stack([x.numpy() for x, _ in ds_train])\n",
    "y_train = np.array([label[0] for _, label in ds_train])\n",
    "\n",
    "# Load data with besjt parameters\n",
    "ds_val = EEGDataset(\n",
    "    data_path,\n",
    "    window_length=window_length,\n",
    "    stride=stride,\n",
    "    task=\"mi\",\n",
    "    split=\"train\",\n",
    "    data_fraction=1,\n",
    "    tmin=tmin,\n",
    "    eeg_channels=eeg_channels,\n",
    ")\n",
    "X_val = np.stack([x.numpy() for x, _ in ds_val])\n",
    "y_val = np.array([label[0] for _, label in ds_val])\n",
    "\n",
    "\n",
    "# Create frequency bands\n",
    "freq_step = (max_freq - min_freq) / n_bands\n",
    "bands = [(min_freq + i * freq_step, min_freq + (i + 1) * freq_step) for i in range(n_bands)]\n",
    "\n",
    "# Create FilterBank classifier with best parameters\n",
    "clf = FilterBankRTSClassifier(\n",
    "    bands=bands,\n",
    "    fs=fs,\n",
    "    order=filter_order,\n",
    "    n_estimators=n_estimators,\n",
    "    max_depth=max_depth,\n",
    "    min_samples_split=min_samples_split,\n",
    "    min_samples_leaf=min_samples_leaf,\n",
    "    max_features=max_features,\n",
    "    class_weight=\"balanced\",\n",
    "    n_jobs=-1\n",
    ")\n",
    "\n",
    "# Fit on training data\n",
    "clf.fit(X_train, y_train)\n",
    "\n",
    "# Calculate accuracy\n",
    "y_pred = clf.predict(X_val)\n",
    "val_acc = accuracy_score(y_val, y_pred)\n",
    "\n",
    "print(f\"Validation accuracy: {val_acc:.4f}\")\n",
    "\n",
    "# Classification report\n",
    "print(\"\\nClassification Report:\")\n",
    "print(classification_report(y_val, y_pred)),\n",
    "    max_features=max_features,\n",
    "    class_weight=\"balanced\",\n",
    "    n_jobs=-1\n",
    ")\n",
    "\n",
    "# Fit on training data\n",
    "clf.fit(X_train, y_train)\n",
    "\n",
    "# Calculate accuracy\n",
    "y_pred = clf.predict(X_val)\n",
    "val_acc = accuracy_score(y_val, y_pred)\n",
    "\n",
    "print(f\"Validation accuracy: {val_acc:.4f}\")\n",
    "\n",
    "# Classification report\n",
    "print(\"\\nClassification Report:\")\n",
    "print(classification_report(y_val, y_pred))"
   ]
  }
 ],
 "metadata": {
  "kernelspec": {
   "display_name": "icmtc_venv",
   "language": "python",
   "name": "python3"
  },
  "language_info": {
   "codemirror_mode": {
    "name": "ipython",
    "version": 3
   },
   "file_extension": ".py",
   "mimetype": "text/x-python",
   "name": "python",
   "nbconvert_exporter": "python",
   "pygments_lexer": "ipython3",
   "version": "3.12.11"
  }
 },
 "nbformat": 4,
 "nbformat_minor": 5
}
