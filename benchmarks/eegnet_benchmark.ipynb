{
  "cells": [
    {
      "cell_type": "code",
      "execution_count": 1,
      "id": "2a563374",
      "metadata": {
        "colab": {
          "base_uri": "https://localhost:8080/"
        },
        "id": "2a563374",
        "outputId": "a863b070-3865-4392-be7b-bc6b5e3c0e01"
      },
      "outputs": [
        {
          "name": "stdout",
          "output_type": "stream",
          "text": [
            "Requirement already satisfied: optuna in /home/zeyadcode/.pyenv/versions/3.12.11/envs/icmtc_venv/lib/python3.12/site-packages (4.4.0)\n",
            "Requirement already satisfied: alembic>=1.5.0 in /home/zeyadcode/.pyenv/versions/3.12.11/envs/icmtc_venv/lib/python3.12/site-packages (from optuna) (1.16.1)\n",
            "Requirement already satisfied: colorlog in /home/zeyadcode/.pyenv/versions/3.12.11/envs/icmtc_venv/lib/python3.12/site-packages (from optuna) (6.9.0)\n",
            "Requirement already satisfied: numpy in /home/zeyadcode/.pyenv/versions/3.12.11/envs/icmtc_venv/lib/python3.12/site-packages (from optuna) (2.3.0)\n",
            "Requirement already satisfied: packaging>=20.0 in /home/zeyadcode/.pyenv/versions/3.12.11/envs/icmtc_venv/lib/python3.12/site-packages (from optuna) (25.0)\n",
            "Requirement already satisfied: sqlalchemy>=1.4.2 in /home/zeyadcode/.pyenv/versions/3.12.11/envs/icmtc_venv/lib/python3.12/site-packages (from optuna) (2.0.41)\n",
            "Requirement already satisfied: tqdm in /home/zeyadcode/.pyenv/versions/3.12.11/envs/icmtc_venv/lib/python3.12/site-packages (from optuna) (4.67.1)\n",
            "Requirement already satisfied: PyYAML in /home/zeyadcode/.pyenv/versions/3.12.11/envs/icmtc_venv/lib/python3.12/site-packages (from optuna) (6.0.2)\n",
            "Requirement already satisfied: Mako in /home/zeyadcode/.pyenv/versions/3.12.11/envs/icmtc_venv/lib/python3.12/site-packages (from alembic>=1.5.0->optuna) (1.3.10)\n",
            "Requirement already satisfied: typing-extensions>=4.12 in /home/zeyadcode/.pyenv/versions/3.12.11/envs/icmtc_venv/lib/python3.12/site-packages (from alembic>=1.5.0->optuna) (4.14.0)\n",
            "Requirement already satisfied: greenlet>=1 in /home/zeyadcode/.pyenv/versions/3.12.11/envs/icmtc_venv/lib/python3.12/site-packages (from sqlalchemy>=1.4.2->optuna) (3.2.3)\n",
            "Requirement already satisfied: MarkupSafe>=0.9.2 in /home/zeyadcode/.pyenv/versions/3.12.11/envs/icmtc_venv/lib/python3.12/site-packages (from Mako->alembic>=1.5.0->optuna) (3.0.2)\n",
            "\n",
            "\u001b[1m[\u001b[0m\u001b[34;49mnotice\u001b[0m\u001b[1;39;49m]\u001b[0m\u001b[39;49m A new release of pip is available: \u001b[0m\u001b[31;49m25.0.1\u001b[0m\u001b[39;49m -> \u001b[0m\u001b[32;49m25.1.1\u001b[0m\n",
            "\u001b[1m[\u001b[0m\u001b[34;49mnotice\u001b[0m\u001b[1;39;49m]\u001b[0m\u001b[39;49m To update, run: \u001b[0m\u001b[32;49mpip install --upgrade pip\u001b[0m\n"
          ]
        },
        {
          "name": "stderr",
          "output_type": "stream",
          "text": [
            "/home/zeyadcode/.pyenv/versions/icmtc_venv/lib/python3.12/site-packages/tqdm/auto.py:21: TqdmWarning: IProgress not found. Please update jupyter and ipywidgets. See https://ipywidgets.readthedocs.io/en/stable/user_install.html\n",
            "  from .autonotebook import tqdm as notebook_tqdm\n"
          ]
        },
        {
          "data": {
            "text/plain": [
              "device(type='cpu')"
            ]
          },
          "execution_count": 1,
          "metadata": {},
          "output_type": "execute_result"
        }
      ],
      "source": [
        "%load_ext autoreload\n",
        "%autoreload 2\n",
        "import os\n",
        "if not os.path.exists('./modules') and not os.path.exists('modules.zip'):\n",
        "    from google.colab import files\n",
        "    uploaded = files.upload()\n",
        "if not os.path.exists('./modules') and os.path.exists('modules.zip'):\n",
        "    os.system('unzip modules.zip -d .')\n",
        "\n",
        "!pip3 install optuna\n",
        "import kagglehub\n",
        "import torch\n",
        "import torch.nn as nn\n",
        "from torch.utils.data import Dataset, DataLoader\n",
        "from sklearn.model_selection import train_test_split\n",
        "from sklearn.metrics import classification_report, accuracy_score\n",
        "from torch.utils.data import TensorDataset, DataLoader\n",
        "import optuna\n",
        "from modules import EEGDataset\n",
        "from modules.utils import split_and_get_loaders, evaluate_model, manual_write_study_params\n",
        "import torch.nn.functional as F\n",
        "import matplotlib.pyplot as plt\n",
        "import time\n",
        "\n",
        "device = torch.device('cuda' if torch.cuda.is_available() else 'cpu')\n",
        "device"
      ]
    },
    {
      "cell_type": "code",
      "execution_count": 2,
      "id": "fb6b091d",
      "metadata": {
        "colab": {
          "base_uri": "https://localhost:8080/"
        },
        "id": "fb6b091d",
        "outputId": "bb68971c-58d9-467b-a055-d93714af5cb3"
      },
      "outputs": [
        {
          "name": "stdout",
          "output_type": "stream",
          "text": [
            "Download datasetaset files: \n",
            " /home/zeyadcode/.cache/kagglehub/datasets/girgismicheal/steadystate-visual-evoked-potential-signals/versions/1/SSVEP (BrainWheel)\n"
          ]
        }
      ],
      "source": [
        "#! need to modify those for the competition itself\n",
        "TRIAL_LENGTH = 640  # frequency of changing.. frequency\n",
        "# Download dataset\n",
        "path_1 = kagglehub.dataset_download(\"girgismicheal/steadystate-visual-evoked-potential-signals\")\n",
        "path_1 += \"/SSVEP (BrainWheel)\"\n",
        "print(\"Download datasetaset files:\", \"\\n\", path_1)"
      ]
    },
    {
      "cell_type": "code",
      "execution_count": 4,
      "id": "8b83a09b",
      "metadata": {
        "colab": {
          "base_uri": "https://localhost:8080/"
        },
        "id": "8b83a09b",
        "outputId": "dda923eb-8400-4dd5-92bd-1ed594b65e24"
      },
      "outputs": [
        {
          "data": {
            "text/plain": [
              "tensor([[-0.7048, -0.6384,  0.0934, -0.0561],\n",
              "        [-1.0665,  0.0809, -0.1291, -0.6520],\n",
              "        [-0.2476, -0.0297, -0.6251, -1.2192],\n",
              "        [ 0.0498,  0.2729, -0.8966, -1.0984],\n",
              "        [-1.1078,  0.5089, -0.5097, -1.0641]], grad_fn=<AddmmBackward0>)"
            ]
          },
          "execution_count": 4,
          "metadata": {},
          "output_type": "execute_result"
        }
      ],
      "source": [
        "class DepthWiseConv2D(nn.Module):\n",
        "    def __init__(self, in_channels, kernel_size, dim_mult=1, padding=0, bias=False):\n",
        "        super(DepthWiseConv2D, self).__init__()\n",
        "        self.depthwise = nn.Conv2d(in_channels, in_channels * dim_mult, padding=padding, kernel_size=kernel_size, groups=in_channels, bias=bias)\n",
        "\n",
        "    def forward(self, x: torch.Tensor):\n",
        "        return self.depthwise(x)\n",
        "\n",
        "\n",
        "class SeperableConv2D(nn.Module):\n",
        "    def __init__(self, in_channels, out_channels, kernel_size, padding, bias=False):\n",
        "        super(SeperableConv2D, self).__init__()\n",
        "        self.depthwise = DepthWiseConv2D(in_channels, kernel_size, padding=padding)\n",
        "        self.pointwise = nn.Conv2d(in_channels, out_channels, kernel_size=1, bias=bias)\n",
        "\n",
        "    def forward(self, x):\n",
        "        out = self.depthwise(x)\n",
        "        out = self.pointwise(out)\n",
        "        return out\n",
        "\n",
        "class SSVEPClassifier(nn.Module):\n",
        "    # EEG Net Based\n",
        "    # todo look at this https://paperswithcode.com/paper/a-transformer-based-deep-neural-network-model\n",
        "    def __init__(self, n_electrodes=16, n_samples=128, out_dim=4, timesteps=120, dropout=0.25):\n",
        "        super().__init__()\n",
        "\n",
        "        Chans = n_electrodes\n",
        "        dropoutRate = 0.05\n",
        "        kernLength = 256\n",
        "        F1 = 96\n",
        "        D = 1\n",
        "        F2 = 96\n",
        "\n",
        "        # B x C x T\n",
        "        self.block_1 = nn.Sequential(\n",
        "            nn.Conv2d(1, F1, (1, kernLength), padding='same', bias=False),\n",
        "            nn.BatchNorm2d(F1),\n",
        "            #\n",
        "            DepthWiseConv2D(F1, (Chans, 1), dim_mult=D, bias=False),\n",
        "            nn.BatchNorm2d(F1*D),\n",
        "            nn.ELU(),\n",
        "            nn.MaxPool2d((1, 2)), # todo try making this max pool\n",
        "            nn.Dropout(dropoutRate),\n",
        "            #\n",
        "            SeperableConv2D(F1 * D, F2, kernel_size=(1, 16), padding='same', bias=False),\n",
        "            nn.BatchNorm2d(F2),\n",
        "            nn.ELU(),\n",
        "            nn.MaxPool2d((1, 4)),\n",
        "            nn.Dropout(dropoutRate),\n",
        "        )\n",
        "\n",
        "        self.classif_head = nn.Sequential(\n",
        "            nn.Flatten(),\n",
        "            nn.Linear(F1 * n_samples // 2 // 4, out_dim),\n",
        "        )\n",
        "\n",
        "    def forward(self, x: torch.Tensor):\n",
        "        \"\"\"expected input shape: BxCxT\"\"\"\n",
        "        x = x.unsqueeze(1)\n",
        "        y = self.block_1(x)\n",
        "        y = self.classif_head(y)\n",
        "\n",
        "        return y\n",
        "\n",
        "\n",
        "dummy_x = torch.randn(5, 14, 320//2)\n",
        "model = SSVEPClassifier(n_electrodes=dummy_x.shape[1], n_samples=dummy_x.shape[2])\n",
        "model(dummy_x)"
      ]
    },
    {
      "cell_type": "code",
      "execution_count": null,
      "id": "42089fb8",
      "metadata": {
        "colab": {
          "base_uri": "https://localhost:8080/"
        },
        "id": "42089fb8",
        "outputId": "5738cbcb-fa78-4614-a2c1-91a8f0f9460a"
      },
      "outputs": [
        {
          "name": "stdout",
          "output_type": "stream",
          "text": [
            "done converting to freq domain\n"
          ]
        }
      ],
      "source": [
        "window_length = 320\n",
        "stride = window_length\n",
        "batch_size = 32\n",
        "\n",
        "dataset = EEGDataset(path_1, TRIAL_LENGTH, window_length, stride=stride, domain='freq')\n",
        "train_loader, val_loader, test_loader = split_and_get_loaders(dataset, batch_size)\n"
      ]
    },
    {
      "cell_type": "code",
      "execution_count": null,
      "id": "5aw8bHOjIgqv",
      "metadata": {
        "id": "5aw8bHOjIgqv"
      },
      "outputs": [],
      "source": [
        "model = SSVEPClassifier(n_electrodes=dummy_x.shape[1], n_samples=dummy_x.shape[2]).to(device)"
      ]
    },
    {
      "cell_type": "code",
      "execution_count": null,
      "id": "12b164b5",
      "metadata": {
        "colab": {
          "base_uri": "https://localhost:8080/",
          "height": 1000
        },
        "id": "12b164b5",
        "outputId": "937f2600-752b-43a9-f210-4abb20a87e42"
      },
      "outputs": [
        {
          "name": "stdout",
          "output_type": "stream",
          "text": [
            "epoch: 0, avg_loss: 1.5045641864218362, val_evaluation: 0.28125\n",
            "epoch: 1, avg_loss: 1.3596880639471658, val_evaluation: 0.334375\n",
            "epoch: 2, avg_loss: 1.2595580583665429, val_evaluation: 0.321875\n",
            "epoch: 3, avg_loss: 1.1776945998029011, val_evaluation: 0.3375\n",
            "epoch: 4, avg_loss: 1.0972059630766147, val_evaluation: 0.375\n",
            "epoch: 5, avg_loss: 0.9796169167611657, val_evaluation: 0.4125\n",
            "epoch: 6, avg_loss: 0.8654714415713054, val_evaluation: 0.45\n",
            "epoch: 7, avg_loss: 0.7046253746602593, val_evaluation: 0.446875\n",
            "epoch: 8, avg_loss: 0.5855596254511577, val_evaluation: 0.409375\n",
            "epoch: 9, avg_loss: 0.4314008493249009, val_evaluation: 0.478125\n",
            "epoch: 10, avg_loss: 0.29648666810698626, val_evaluation: 0.4625\n",
            "epoch: 11, avg_loss: 0.19852668083295588, val_evaluation: 0.440625\n",
            "epoch: 12, avg_loss: 0.1345112297411372, val_evaluation: 0.46875\n",
            "epoch: 13, avg_loss: 0.10563869728911214, val_evaluation: 0.453125\n",
            "epoch: 14, avg_loss: 0.07247920834073206, val_evaluation: 0.44375\n",
            "epoch: 15, avg_loss: 0.052901328359616966, val_evaluation: 0.471875\n",
            "epoch: 16, avg_loss: 0.05187539654079734, val_evaluation: 0.48125\n",
            "epoch: 17, avg_loss: 0.03776204458824018, val_evaluation: 0.425\n",
            "epoch: 18, avg_loss: 0.03757201346409757, val_evaluation: 0.478125\n",
            "epoch: 19, avg_loss: 0.02924754875484945, val_evaluation: 0.45\n",
            "epoch: 20, avg_loss: 0.03146748858072409, val_evaluation: 0.478125\n",
            "epoch: 21, avg_loss: 0.02301368079284524, val_evaluation: 0.459375\n",
            "epoch: 22, avg_loss: 0.02398673984471981, val_evaluation: 0.45\n",
            "epoch: 23, avg_loss: 0.04320085018010038, val_evaluation: 0.428125\n",
            "epoch: 24, avg_loss: 0.031057612936398606, val_evaluation: 0.465625\n",
            "epoch: 25, avg_loss: 0.05654368219647284, val_evaluation: 0.428125\n",
            "epoch: 26, avg_loss: 0.2743155699132419, val_evaluation: 0.440625\n",
            "epoch: 27, avg_loss: 0.37286541865366263, val_evaluation: 0.434375\n",
            "epoch: 28, avg_loss: 0.17888126077085006, val_evaluation: 0.484375\n",
            "epoch: 29, avg_loss: 0.08040779442867128, val_evaluation: 0.48125\n",
            "epoch: 30, avg_loss: 0.036989416654517014, val_evaluation: 0.471875\n",
            "epoch: 31, avg_loss: 0.018803306963158455, val_evaluation: 0.465625\n",
            "epoch: 32, avg_loss: 0.01692664438699622, val_evaluation: 0.465625\n",
            "epoch: 33, avg_loss: 0.01810950487454581, val_evaluation: 0.465625\n",
            "epoch: 34, avg_loss: 0.008302469331793851, val_evaluation: 0.478125\n",
            "epoch: 35, avg_loss: 0.00728561463709012, val_evaluation: 0.478125\n",
            "epoch: 36, avg_loss: 0.005733025585380723, val_evaluation: 0.459375\n",
            "epoch: 37, avg_loss: 0.01385903405451511, val_evaluation: 0.48125\n",
            "epoch: 38, avg_loss: 0.013944645040305105, val_evaluation: 0.46875\n",
            "epoch: 39, avg_loss: 0.005071492774820909, val_evaluation: 0.478125\n",
            "epoch: 40, avg_loss: 0.003272607489545807, val_evaluation: 0.46875\n",
            "epoch: 41, avg_loss: 0.004065873714663633, val_evaluation: 0.46875\n",
            "epoch: 42, avg_loss: 0.006751567449721667, val_evaluation: 0.4875\n",
            "epoch: 43, avg_loss: 0.0052152734019839005, val_evaluation: 0.478125\n",
            "epoch: 44, avg_loss: 0.003568229299583813, val_evaluation: 0.471875\n",
            "epoch: 45, avg_loss: 0.0029251572875470693, val_evaluation: 0.484375\n",
            "epoch: 46, avg_loss: 0.002916413257835524, val_evaluation: 0.478125\n",
            "epoch: 47, avg_loss: 0.0028914467143405956, val_evaluation: 0.471875\n",
            "epoch: 48, avg_loss: 0.0023685739590025437, val_evaluation: 0.478125\n",
            "epoch: 49, avg_loss: 0.001447923274188325, val_evaluation: 0.475\n",
            "epoch: 50, avg_loss: 0.0011340656719545312, val_evaluation: 0.478125\n",
            "epoch: 51, avg_loss: 0.001150314889212207, val_evaluation: 0.471875\n",
            "epoch: 52, avg_loss: 0.0015612533880346568, val_evaluation: 0.471875\n",
            "epoch: 53, avg_loss: 0.0013943871255345053, val_evaluation: 0.478125\n",
            "epoch: 54, avg_loss: 0.0009252531965058752, val_evaluation: 0.46875\n",
            "epoch: 55, avg_loss: 0.000964320445768308, val_evaluation: 0.478125\n",
            "epoch: 56, avg_loss: 0.0009867003277688083, val_evaluation: 0.484375\n",
            "epoch: 57, avg_loss: 0.0009426617421346103, val_evaluation: 0.471875\n",
            "epoch: 58, avg_loss: 0.0008100337824832489, val_evaluation: 0.48125\n",
            "epoch: 59, avg_loss: 0.000678031364947035, val_evaluation: 0.465625\n",
            "epoch: 60, avg_loss: 0.0006456579757490899, val_evaluation: 0.478125\n",
            "epoch: 61, avg_loss: 0.0005845154515643627, val_evaluation: 0.46875\n",
            "epoch: 62, avg_loss: 0.0006101499015263781, val_evaluation: 0.478125\n",
            "epoch: 63, avg_loss: 0.00053342013540337, val_evaluation: 0.475\n",
            "epoch: 64, avg_loss: 0.0005513970151319305, val_evaluation: 0.475\n",
            "epoch: 65, avg_loss: 0.0005996872388073471, val_evaluation: 0.484375\n",
            "epoch: 66, avg_loss: 0.0005130784383055004, val_evaluation: 0.484375\n",
            "epoch: 67, avg_loss: 0.00047213727751712703, val_evaluation: 0.48125\n",
            "epoch: 68, avg_loss: 0.0004881027150365365, val_evaluation: 0.475\n",
            "epoch: 69, avg_loss: 0.0004304386247673481, val_evaluation: 0.48125\n",
            "epoch: 70, avg_loss: 0.0004422139387404569, val_evaluation: 0.48125\n",
            "epoch: 71, avg_loss: 0.00040106478316862725, val_evaluation: 0.475\n",
            "epoch: 72, avg_loss: 0.0003936576263740568, val_evaluation: 0.490625\n",
            "epoch: 73, avg_loss: 0.00038281921900683877, val_evaluation: 0.48125\n",
            "epoch: 74, avg_loss: 0.00036227764017317764, val_evaluation: 0.478125\n",
            "epoch: 75, avg_loss: 0.00035719270480756945, val_evaluation: 0.478125\n",
            "epoch: 76, avg_loss: 0.0003600180477028849, val_evaluation: 0.4875\n",
            "epoch: 77, avg_loss: 0.00031098303908238005, val_evaluation: 0.46875\n",
            "epoch: 78, avg_loss: 0.0003509517117025808, val_evaluation: 0.478125\n",
            "epoch: 79, avg_loss: 0.0003084926812756216, val_evaluation: 0.471875\n",
            "epoch: 80, avg_loss: 0.0002927973002398375, val_evaluation: 0.478125\n",
            "epoch: 81, avg_loss: 0.00027886429562364, val_evaluation: 0.48125\n",
            "epoch: 82, avg_loss: 0.00027103524863799445, val_evaluation: 0.471875\n",
            "epoch: 83, avg_loss: 0.0002679977802561153, val_evaluation: 0.475\n",
            "epoch: 84, avg_loss: 0.00028757707527469524, val_evaluation: 0.48125\n",
            "epoch: 85, avg_loss: 0.0002624991262209511, val_evaluation: 0.48125\n",
            "epoch: 86, avg_loss: 0.0002436619570067794, val_evaluation: 0.4875\n",
            "epoch: 87, avg_loss: 0.00023611465218070917, val_evaluation: 0.484375\n",
            "epoch: 88, avg_loss: 0.0002207302249877191, val_evaluation: 0.484375\n",
            "epoch: 89, avg_loss: 0.00022260665594708037, val_evaluation: 0.478125\n",
            "epoch: 90, avg_loss: 0.00022366429526833023, val_evaluation: 0.478125\n",
            "epoch: 91, avg_loss: 0.00021075735338211128, val_evaluation: 0.48125\n",
            "epoch: 92, avg_loss: 0.0002037810208559854, val_evaluation: 0.475\n",
            "epoch: 93, avg_loss: 0.00019806157886306187, val_evaluation: 0.475\n",
            "epoch: 94, avg_loss: 0.00019394237975442282, val_evaluation: 0.465625\n",
            "epoch: 95, avg_loss: 0.00018954182468871472, val_evaluation: 0.475\n",
            "epoch: 96, avg_loss: 0.00017744290291774655, val_evaluation: 0.478125\n",
            "epoch: 97, avg_loss: 0.000183097118790057, val_evaluation: 0.4875\n",
            "epoch: 98, avg_loss: 0.00018036122456556415, val_evaluation: 0.48125\n",
            "epoch: 99, avg_loss: 0.00015965142275246497, val_evaluation: 0.4875\n",
            "epoch: 100, avg_loss: 0.0001612402754800292, val_evaluation: 0.471875\n",
            "epoch: 101, avg_loss: 0.00017069523901005684, val_evaluation: 0.484375\n",
            "epoch: 102, avg_loss: 0.00015668043528332818, val_evaluation: 0.46875\n",
            "epoch: 103, avg_loss: 0.00015055235745399488, val_evaluation: 0.48125\n",
            "epoch: 104, avg_loss: 0.00014080650876943453, val_evaluation: 0.478125\n",
            "epoch: 105, avg_loss: 0.0001515850371350364, val_evaluation: 0.4875\n",
            "epoch: 106, avg_loss: 0.00014895499695806547, val_evaluation: 0.46875\n",
            "epoch: 107, avg_loss: 0.00012435662849783535, val_evaluation: 0.48125\n",
            "epoch: 108, avg_loss: 0.00011876946447911195, val_evaluation: 0.46875\n",
            "epoch: 109, avg_loss: 0.00013012370645145249, val_evaluation: 0.490625\n",
            "epoch: 110, avg_loss: 0.0001222259941242533, val_evaluation: 0.459375\n",
            "epoch: 111, avg_loss: 0.00013328301420409755, val_evaluation: 0.48125\n",
            "epoch: 112, avg_loss: 0.00010845022148803365, val_evaluation: 0.48125\n",
            "epoch: 113, avg_loss: 0.00010488237035687921, val_evaluation: 0.490625\n",
            "epoch: 114, avg_loss: 0.00010058982812419034, val_evaluation: 0.459375\n",
            "epoch: 115, avg_loss: 0.00010585441824088509, val_evaluation: 0.48125\n",
            "epoch: 116, avg_loss: 0.00010164903284110152, val_evaluation: 0.471875\n",
            "epoch: 117, avg_loss: 0.00010089199775659548, val_evaluation: 0.46875\n",
            "epoch: 118, avg_loss: 9.869942275655353e-05, val_evaluation: 0.475\n",
            "epoch: 119, avg_loss: 9.533137651997981e-05, val_evaluation: 0.478125\n",
            "epoch: 120, avg_loss: 9.352848512828974e-05, val_evaluation: 0.475\n",
            "epoch: 121, avg_loss: 9.920860443011539e-05, val_evaluation: 0.46875\n",
            "epoch: 122, avg_loss: 8.98651496976438e-05, val_evaluation: 0.475\n",
            "epoch: 123, avg_loss: 8.45175984911138e-05, val_evaluation: 0.4875\n",
            "epoch: 124, avg_loss: 7.849818886337212e-05, val_evaluation: 0.465625\n",
            "epoch: 125, avg_loss: 7.962990484218874e-05, val_evaluation: 0.475\n",
            "epoch: 126, avg_loss: 7.643633154391243e-05, val_evaluation: 0.48125\n",
            "epoch: 127, avg_loss: 7.212487359605048e-05, val_evaluation: 0.48125\n",
            "epoch: 128, avg_loss: 6.904700000255039e-05, val_evaluation: 0.471875\n",
            "epoch: 129, avg_loss: 6.770799145891854e-05, val_evaluation: 0.478125\n",
            "epoch: 130, avg_loss: 6.867897909393011e-05, val_evaluation: 0.471875\n",
            "epoch: 131, avg_loss: 6.392283236292736e-05, val_evaluation: 0.471875\n",
            "epoch: 132, avg_loss: 7.211618514879885e-05, val_evaluation: 0.48125\n",
            "epoch: 133, avg_loss: 6.700134089464327e-05, val_evaluation: 0.475\n",
            "epoch: 134, avg_loss: 6.212838871295212e-05, val_evaluation: 0.475\n",
            "epoch: 135, avg_loss: 6.230789092403096e-05, val_evaluation: 0.48125\n",
            "epoch: 136, avg_loss: 6.027284977856808e-05, val_evaluation: 0.478125\n",
            "epoch: 137, avg_loss: 5.632823405637571e-05, val_evaluation: 0.4625\n",
            "epoch: 138, avg_loss: 5.674215427883077e-05, val_evaluation: 0.478125\n",
            "epoch: 139, avg_loss: 5.180400356083538e-05, val_evaluation: 0.471875\n",
            "epoch: 140, avg_loss: 5.5236053546051576e-05, val_evaluation: 0.478125\n",
            "epoch: 141, avg_loss: 4.9989444960374385e-05, val_evaluation: 0.475\n",
            "epoch: 142, avg_loss: 4.937716516351651e-05, val_evaluation: 0.46875\n",
            "epoch: 143, avg_loss: 4.831674706975918e-05, val_evaluation: 0.484375\n",
            "epoch: 144, avg_loss: 4.96234870519313e-05, val_evaluation: 0.4625\n",
            "epoch: 145, avg_loss: 4.897994907567897e-05, val_evaluation: 0.48125\n",
            "epoch: 146, avg_loss: 4.495036740458667e-05, val_evaluation: 0.45625\n",
            "epoch: 147, avg_loss: 4.3989015732843585e-05, val_evaluation: 0.471875\n",
            "epoch: 148, avg_loss: 4.424429496838257e-05, val_evaluation: 0.471875\n",
            "epoch: 149, avg_loss: 4.085075699283441e-05, val_evaluation: 0.475\n",
            "epoch: 150, avg_loss: 3.919310844450104e-05, val_evaluation: 0.471875\n",
            "epoch: 151, avg_loss: 3.382346510146063e-05, val_evaluation: 0.475\n",
            "epoch: 152, avg_loss: 4.242435090595902e-05, val_evaluation: 0.475\n",
            "epoch: 153, avg_loss: 3.839384272595919e-05, val_evaluation: 0.46875\n",
            "epoch: 154, avg_loss: 3.700818307129893e-05, val_evaluation: 0.478125\n",
            "epoch: 155, avg_loss: 3.517803166110619e-05, val_evaluation: 0.478125\n",
            "epoch: 156, avg_loss: 3.407877769992721e-05, val_evaluation: 0.478125\n",
            "epoch: 157, avg_loss: 3.473323016717076e-05, val_evaluation: 0.471875\n",
            "epoch: 158, avg_loss: 3.533850200788371e-05, val_evaluation: 0.471875\n",
            "epoch: 159, avg_loss: 3.3446000754072265e-05, val_evaluation: 0.478125\n",
            "epoch: 160, avg_loss: 3.058156345082907e-05, val_evaluation: 0.471875\n",
            "epoch: 161, avg_loss: 2.9718138559873318e-05, val_evaluation: 0.46875\n",
            "epoch: 162, avg_loss: 2.9948455116160713e-05, val_evaluation: 0.484375\n",
            "epoch: 163, avg_loss: 3.137045572790468e-05, val_evaluation: 0.475\n",
            "epoch: 164, avg_loss: 3.0936451610880504e-05, val_evaluation: 0.45625\n",
            "epoch: 165, avg_loss: 2.9842651490137696e-05, val_evaluation: 0.48125\n",
            "epoch: 166, avg_loss: 3.1102007264186195e-05, val_evaluation: 0.4625\n",
            "epoch: 167, avg_loss: 3.246790586162228e-05, val_evaluation: 0.465625\n",
            "epoch: 168, avg_loss: 2.594960134468615e-05, val_evaluation: 0.471875\n"
          ]
        },
        {
          "ename": "KeyboardInterrupt",
          "evalue": "",
          "output_type": "error",
          "traceback": [
            "\u001b[0;31m---------------------------------------------------------------------------\u001b[0m",
            "\u001b[0;31mKeyboardInterrupt\u001b[0m                         Traceback (most recent call last)",
            "\u001b[0;32m<ipython-input-57-1285870047>\u001b[0m in \u001b[0;36m<cell line: 0>\u001b[0;34m()\u001b[0m\n\u001b[1;32m     10\u001b[0m         \u001b[0mx\u001b[0m \u001b[0;34m=\u001b[0m \u001b[0mx\u001b[0m\u001b[0;34m.\u001b[0m\u001b[0mto\u001b[0m\u001b[0;34m(\u001b[0m\u001b[0mdevice\u001b[0m\u001b[0;34m)\u001b[0m\u001b[0;34m\u001b[0m\u001b[0;34m\u001b[0m\u001b[0m\n\u001b[1;32m     11\u001b[0m         \u001b[0my\u001b[0m \u001b[0;34m=\u001b[0m \u001b[0my\u001b[0m\u001b[0;34m.\u001b[0m\u001b[0mto\u001b[0m\u001b[0;34m(\u001b[0m\u001b[0mdevice\u001b[0m\u001b[0;34m)\u001b[0m\u001b[0;34m\u001b[0m\u001b[0;34m\u001b[0m\u001b[0m\n\u001b[0;32m---> 12\u001b[0;31m         \u001b[0my_pred\u001b[0m \u001b[0;34m=\u001b[0m \u001b[0mmodel\u001b[0m\u001b[0;34m(\u001b[0m\u001b[0mx\u001b[0m\u001b[0;34m)\u001b[0m\u001b[0;34m.\u001b[0m\u001b[0mto\u001b[0m\u001b[0;34m(\u001b[0m\u001b[0mdevice\u001b[0m\u001b[0;34m)\u001b[0m\u001b[0;34m\u001b[0m\u001b[0;34m\u001b[0m\u001b[0m\n\u001b[0m\u001b[1;32m     13\u001b[0m \u001b[0;34m\u001b[0m\u001b[0m\n\u001b[1;32m     14\u001b[0m         \u001b[0mloss\u001b[0m \u001b[0;34m=\u001b[0m \u001b[0mcriterion\u001b[0m\u001b[0;34m(\u001b[0m\u001b[0my_pred\u001b[0m\u001b[0;34m,\u001b[0m \u001b[0my\u001b[0m\u001b[0;34m)\u001b[0m\u001b[0;34m\u001b[0m\u001b[0;34m\u001b[0m\u001b[0m\n",
            "\u001b[0;32m/usr/local/lib/python3.11/dist-packages/torch/nn/modules/module.py\u001b[0m in \u001b[0;36m_wrapped_call_impl\u001b[0;34m(self, *args, **kwargs)\u001b[0m\n\u001b[1;32m   1737\u001b[0m             \u001b[0;32mreturn\u001b[0m \u001b[0mself\u001b[0m\u001b[0;34m.\u001b[0m\u001b[0m_compiled_call_impl\u001b[0m\u001b[0;34m(\u001b[0m\u001b[0;34m*\u001b[0m\u001b[0margs\u001b[0m\u001b[0;34m,\u001b[0m \u001b[0;34m**\u001b[0m\u001b[0mkwargs\u001b[0m\u001b[0;34m)\u001b[0m  \u001b[0;31m# type: ignore[misc]\u001b[0m\u001b[0;34m\u001b[0m\u001b[0;34m\u001b[0m\u001b[0m\n\u001b[1;32m   1738\u001b[0m         \u001b[0;32melse\u001b[0m\u001b[0;34m:\u001b[0m\u001b[0;34m\u001b[0m\u001b[0;34m\u001b[0m\u001b[0m\n\u001b[0;32m-> 1739\u001b[0;31m             \u001b[0;32mreturn\u001b[0m \u001b[0mself\u001b[0m\u001b[0;34m.\u001b[0m\u001b[0m_call_impl\u001b[0m\u001b[0;34m(\u001b[0m\u001b[0;34m*\u001b[0m\u001b[0margs\u001b[0m\u001b[0;34m,\u001b[0m \u001b[0;34m**\u001b[0m\u001b[0mkwargs\u001b[0m\u001b[0;34m)\u001b[0m\u001b[0;34m\u001b[0m\u001b[0;34m\u001b[0m\u001b[0m\n\u001b[0m\u001b[1;32m   1740\u001b[0m \u001b[0;34m\u001b[0m\u001b[0m\n\u001b[1;32m   1741\u001b[0m     \u001b[0;31m# torchrec tests the code consistency with the following code\u001b[0m\u001b[0;34m\u001b[0m\u001b[0;34m\u001b[0m\u001b[0m\n",
            "\u001b[0;32m/usr/local/lib/python3.11/dist-packages/torch/nn/modules/module.py\u001b[0m in \u001b[0;36m_call_impl\u001b[0;34m(self, *args, **kwargs)\u001b[0m\n\u001b[1;32m   1748\u001b[0m                 \u001b[0;32mor\u001b[0m \u001b[0m_global_backward_pre_hooks\u001b[0m \u001b[0;32mor\u001b[0m \u001b[0m_global_backward_hooks\u001b[0m\u001b[0;34m\u001b[0m\u001b[0;34m\u001b[0m\u001b[0m\n\u001b[1;32m   1749\u001b[0m                 or _global_forward_hooks or _global_forward_pre_hooks):\n\u001b[0;32m-> 1750\u001b[0;31m             \u001b[0;32mreturn\u001b[0m \u001b[0mforward_call\u001b[0m\u001b[0;34m(\u001b[0m\u001b[0;34m*\u001b[0m\u001b[0margs\u001b[0m\u001b[0;34m,\u001b[0m \u001b[0;34m**\u001b[0m\u001b[0mkwargs\u001b[0m\u001b[0;34m)\u001b[0m\u001b[0;34m\u001b[0m\u001b[0;34m\u001b[0m\u001b[0m\n\u001b[0m\u001b[1;32m   1751\u001b[0m \u001b[0;34m\u001b[0m\u001b[0m\n\u001b[1;32m   1752\u001b[0m         \u001b[0mresult\u001b[0m \u001b[0;34m=\u001b[0m \u001b[0;32mNone\u001b[0m\u001b[0;34m\u001b[0m\u001b[0;34m\u001b[0m\u001b[0m\n",
            "\u001b[0;32m<ipython-input-54-891633651>\u001b[0m in \u001b[0;36mforward\u001b[0;34m(self, x)\u001b[0m\n\u001b[1;32m     58\u001b[0m         \u001b[0;34m\"\"\"expected input shape: BxCxT\"\"\"\u001b[0m\u001b[0;34m\u001b[0m\u001b[0;34m\u001b[0m\u001b[0m\n\u001b[1;32m     59\u001b[0m         \u001b[0mx\u001b[0m \u001b[0;34m=\u001b[0m \u001b[0mx\u001b[0m\u001b[0;34m.\u001b[0m\u001b[0munsqueeze\u001b[0m\u001b[0;34m(\u001b[0m\u001b[0;36m1\u001b[0m\u001b[0;34m)\u001b[0m\u001b[0;34m\u001b[0m\u001b[0;34m\u001b[0m\u001b[0m\n\u001b[0;32m---> 60\u001b[0;31m         \u001b[0my\u001b[0m \u001b[0;34m=\u001b[0m \u001b[0mself\u001b[0m\u001b[0;34m.\u001b[0m\u001b[0mblock_1\u001b[0m\u001b[0;34m(\u001b[0m\u001b[0mx\u001b[0m\u001b[0;34m)\u001b[0m\u001b[0;34m\u001b[0m\u001b[0;34m\u001b[0m\u001b[0m\n\u001b[0m\u001b[1;32m     61\u001b[0m         \u001b[0my\u001b[0m \u001b[0;34m=\u001b[0m \u001b[0mself\u001b[0m\u001b[0;34m.\u001b[0m\u001b[0mclassif_head\u001b[0m\u001b[0;34m(\u001b[0m\u001b[0my\u001b[0m\u001b[0;34m)\u001b[0m\u001b[0;34m\u001b[0m\u001b[0;34m\u001b[0m\u001b[0m\n\u001b[1;32m     62\u001b[0m \u001b[0;34m\u001b[0m\u001b[0m\n",
            "\u001b[0;32m/usr/local/lib/python3.11/dist-packages/torch/nn/modules/module.py\u001b[0m in \u001b[0;36m_wrapped_call_impl\u001b[0;34m(self, *args, **kwargs)\u001b[0m\n\u001b[1;32m   1737\u001b[0m             \u001b[0;32mreturn\u001b[0m \u001b[0mself\u001b[0m\u001b[0;34m.\u001b[0m\u001b[0m_compiled_call_impl\u001b[0m\u001b[0;34m(\u001b[0m\u001b[0;34m*\u001b[0m\u001b[0margs\u001b[0m\u001b[0;34m,\u001b[0m \u001b[0;34m**\u001b[0m\u001b[0mkwargs\u001b[0m\u001b[0;34m)\u001b[0m  \u001b[0;31m# type: ignore[misc]\u001b[0m\u001b[0;34m\u001b[0m\u001b[0;34m\u001b[0m\u001b[0m\n\u001b[1;32m   1738\u001b[0m         \u001b[0;32melse\u001b[0m\u001b[0;34m:\u001b[0m\u001b[0;34m\u001b[0m\u001b[0;34m\u001b[0m\u001b[0m\n\u001b[0;32m-> 1739\u001b[0;31m             \u001b[0;32mreturn\u001b[0m \u001b[0mself\u001b[0m\u001b[0;34m.\u001b[0m\u001b[0m_call_impl\u001b[0m\u001b[0;34m(\u001b[0m\u001b[0;34m*\u001b[0m\u001b[0margs\u001b[0m\u001b[0;34m,\u001b[0m \u001b[0;34m**\u001b[0m\u001b[0mkwargs\u001b[0m\u001b[0;34m)\u001b[0m\u001b[0;34m\u001b[0m\u001b[0;34m\u001b[0m\u001b[0m\n\u001b[0m\u001b[1;32m   1740\u001b[0m \u001b[0;34m\u001b[0m\u001b[0m\n\u001b[1;32m   1741\u001b[0m     \u001b[0;31m# torchrec tests the code consistency with the following code\u001b[0m\u001b[0;34m\u001b[0m\u001b[0;34m\u001b[0m\u001b[0m\n",
            "\u001b[0;32m/usr/local/lib/python3.11/dist-packages/torch/nn/modules/module.py\u001b[0m in \u001b[0;36m_call_impl\u001b[0;34m(self, *args, **kwargs)\u001b[0m\n\u001b[1;32m   1748\u001b[0m                 \u001b[0;32mor\u001b[0m \u001b[0m_global_backward_pre_hooks\u001b[0m \u001b[0;32mor\u001b[0m \u001b[0m_global_backward_hooks\u001b[0m\u001b[0;34m\u001b[0m\u001b[0;34m\u001b[0m\u001b[0m\n\u001b[1;32m   1749\u001b[0m                 or _global_forward_hooks or _global_forward_pre_hooks):\n\u001b[0;32m-> 1750\u001b[0;31m             \u001b[0;32mreturn\u001b[0m \u001b[0mforward_call\u001b[0m\u001b[0;34m(\u001b[0m\u001b[0;34m*\u001b[0m\u001b[0margs\u001b[0m\u001b[0;34m,\u001b[0m \u001b[0;34m**\u001b[0m\u001b[0mkwargs\u001b[0m\u001b[0;34m)\u001b[0m\u001b[0;34m\u001b[0m\u001b[0;34m\u001b[0m\u001b[0m\n\u001b[0m\u001b[1;32m   1751\u001b[0m \u001b[0;34m\u001b[0m\u001b[0m\n\u001b[1;32m   1752\u001b[0m         \u001b[0mresult\u001b[0m \u001b[0;34m=\u001b[0m \u001b[0;32mNone\u001b[0m\u001b[0;34m\u001b[0m\u001b[0;34m\u001b[0m\u001b[0m\n",
            "\u001b[0;32m/usr/local/lib/python3.11/dist-packages/torch/nn/modules/container.py\u001b[0m in \u001b[0;36mforward\u001b[0;34m(self, input)\u001b[0m\n\u001b[1;32m    248\u001b[0m     \u001b[0;32mdef\u001b[0m \u001b[0mforward\u001b[0m\u001b[0;34m(\u001b[0m\u001b[0mself\u001b[0m\u001b[0;34m,\u001b[0m \u001b[0minput\u001b[0m\u001b[0;34m)\u001b[0m\u001b[0;34m:\u001b[0m\u001b[0;34m\u001b[0m\u001b[0;34m\u001b[0m\u001b[0m\n\u001b[1;32m    249\u001b[0m         \u001b[0;32mfor\u001b[0m \u001b[0mmodule\u001b[0m \u001b[0;32min\u001b[0m \u001b[0mself\u001b[0m\u001b[0;34m:\u001b[0m\u001b[0;34m\u001b[0m\u001b[0;34m\u001b[0m\u001b[0m\n\u001b[0;32m--> 250\u001b[0;31m             \u001b[0minput\u001b[0m \u001b[0;34m=\u001b[0m \u001b[0mmodule\u001b[0m\u001b[0;34m(\u001b[0m\u001b[0minput\u001b[0m\u001b[0;34m)\u001b[0m\u001b[0;34m\u001b[0m\u001b[0;34m\u001b[0m\u001b[0m\n\u001b[0m\u001b[1;32m    251\u001b[0m         \u001b[0;32mreturn\u001b[0m \u001b[0minput\u001b[0m\u001b[0;34m\u001b[0m\u001b[0;34m\u001b[0m\u001b[0m\n\u001b[1;32m    252\u001b[0m \u001b[0;34m\u001b[0m\u001b[0m\n",
            "\u001b[0;32m/usr/local/lib/python3.11/dist-packages/torch/nn/modules/module.py\u001b[0m in \u001b[0;36m_wrapped_call_impl\u001b[0;34m(self, *args, **kwargs)\u001b[0m\n\u001b[1;32m   1737\u001b[0m             \u001b[0;32mreturn\u001b[0m \u001b[0mself\u001b[0m\u001b[0;34m.\u001b[0m\u001b[0m_compiled_call_impl\u001b[0m\u001b[0;34m(\u001b[0m\u001b[0;34m*\u001b[0m\u001b[0margs\u001b[0m\u001b[0;34m,\u001b[0m \u001b[0;34m**\u001b[0m\u001b[0mkwargs\u001b[0m\u001b[0;34m)\u001b[0m  \u001b[0;31m# type: ignore[misc]\u001b[0m\u001b[0;34m\u001b[0m\u001b[0;34m\u001b[0m\u001b[0m\n\u001b[1;32m   1738\u001b[0m         \u001b[0;32melse\u001b[0m\u001b[0;34m:\u001b[0m\u001b[0;34m\u001b[0m\u001b[0;34m\u001b[0m\u001b[0m\n\u001b[0;32m-> 1739\u001b[0;31m             \u001b[0;32mreturn\u001b[0m \u001b[0mself\u001b[0m\u001b[0;34m.\u001b[0m\u001b[0m_call_impl\u001b[0m\u001b[0;34m(\u001b[0m\u001b[0;34m*\u001b[0m\u001b[0margs\u001b[0m\u001b[0;34m,\u001b[0m \u001b[0;34m**\u001b[0m\u001b[0mkwargs\u001b[0m\u001b[0;34m)\u001b[0m\u001b[0;34m\u001b[0m\u001b[0;34m\u001b[0m\u001b[0m\n\u001b[0m\u001b[1;32m   1740\u001b[0m \u001b[0;34m\u001b[0m\u001b[0m\n\u001b[1;32m   1741\u001b[0m     \u001b[0;31m# torchrec tests the code consistency with the following code\u001b[0m\u001b[0;34m\u001b[0m\u001b[0;34m\u001b[0m\u001b[0m\n",
            "\u001b[0;32m/usr/local/lib/python3.11/dist-packages/torch/nn/modules/module.py\u001b[0m in \u001b[0;36m_call_impl\u001b[0;34m(self, *args, **kwargs)\u001b[0m\n\u001b[1;32m   1748\u001b[0m                 \u001b[0;32mor\u001b[0m \u001b[0m_global_backward_pre_hooks\u001b[0m \u001b[0;32mor\u001b[0m \u001b[0m_global_backward_hooks\u001b[0m\u001b[0;34m\u001b[0m\u001b[0;34m\u001b[0m\u001b[0m\n\u001b[1;32m   1749\u001b[0m                 or _global_forward_hooks or _global_forward_pre_hooks):\n\u001b[0;32m-> 1750\u001b[0;31m             \u001b[0;32mreturn\u001b[0m \u001b[0mforward_call\u001b[0m\u001b[0;34m(\u001b[0m\u001b[0;34m*\u001b[0m\u001b[0margs\u001b[0m\u001b[0;34m,\u001b[0m \u001b[0;34m**\u001b[0m\u001b[0mkwargs\u001b[0m\u001b[0;34m)\u001b[0m\u001b[0;34m\u001b[0m\u001b[0;34m\u001b[0m\u001b[0m\n\u001b[0m\u001b[1;32m   1751\u001b[0m \u001b[0;34m\u001b[0m\u001b[0m\n\u001b[1;32m   1752\u001b[0m         \u001b[0mresult\u001b[0m \u001b[0;34m=\u001b[0m \u001b[0;32mNone\u001b[0m\u001b[0;34m\u001b[0m\u001b[0;34m\u001b[0m\u001b[0m\n",
            "\u001b[0;32m/usr/local/lib/python3.11/dist-packages/torch/nn/modules/batchnorm.py\u001b[0m in \u001b[0;36mforward\u001b[0;34m(self, input)\u001b[0m\n\u001b[1;32m    191\u001b[0m         \u001b[0mused\u001b[0m \u001b[0;32mfor\u001b[0m \u001b[0mnormalization\u001b[0m \u001b[0;34m(\u001b[0m\u001b[0mi\u001b[0m\u001b[0;34m.\u001b[0m\u001b[0me\u001b[0m\u001b[0;34m.\u001b[0m \u001b[0;32min\u001b[0m \u001b[0meval\u001b[0m \u001b[0mmode\u001b[0m \u001b[0mwhen\u001b[0m \u001b[0mbuffers\u001b[0m \u001b[0mare\u001b[0m \u001b[0;32mnot\u001b[0m \u001b[0;32mNone\u001b[0m\u001b[0;34m)\u001b[0m\u001b[0;34m.\u001b[0m\u001b[0;34m\u001b[0m\u001b[0;34m\u001b[0m\u001b[0m\n\u001b[1;32m    192\u001b[0m         \"\"\"\n\u001b[0;32m--> 193\u001b[0;31m         return F.batch_norm(\n\u001b[0m\u001b[1;32m    194\u001b[0m             \u001b[0minput\u001b[0m\u001b[0;34m,\u001b[0m\u001b[0;34m\u001b[0m\u001b[0;34m\u001b[0m\u001b[0m\n\u001b[1;32m    195\u001b[0m             \u001b[0;31m# If buffers are not to be tracked, ensure that they won't be updated\u001b[0m\u001b[0;34m\u001b[0m\u001b[0;34m\u001b[0m\u001b[0m\n",
            "\u001b[0;32m/usr/local/lib/python3.11/dist-packages/torch/nn/functional.py\u001b[0m in \u001b[0;36mbatch_norm\u001b[0;34m(input, running_mean, running_var, weight, bias, training, momentum, eps)\u001b[0m\n\u001b[1;32m   2820\u001b[0m         \u001b[0m_verify_batch_size\u001b[0m\u001b[0;34m(\u001b[0m\u001b[0minput\u001b[0m\u001b[0;34m.\u001b[0m\u001b[0msize\u001b[0m\u001b[0;34m(\u001b[0m\u001b[0;34m)\u001b[0m\u001b[0;34m)\u001b[0m\u001b[0;34m\u001b[0m\u001b[0;34m\u001b[0m\u001b[0m\n\u001b[1;32m   2821\u001b[0m \u001b[0;34m\u001b[0m\u001b[0m\n\u001b[0;32m-> 2822\u001b[0;31m     return torch.batch_norm(\n\u001b[0m\u001b[1;32m   2823\u001b[0m         \u001b[0minput\u001b[0m\u001b[0;34m,\u001b[0m\u001b[0;34m\u001b[0m\u001b[0;34m\u001b[0m\u001b[0m\n\u001b[1;32m   2824\u001b[0m         \u001b[0mweight\u001b[0m\u001b[0;34m,\u001b[0m\u001b[0;34m\u001b[0m\u001b[0;34m\u001b[0m\u001b[0m\n",
            "\u001b[0;31mKeyboardInterrupt\u001b[0m: "
          ]
        }
      ],
      "source": [
        "criterion = nn.CrossEntropyLoss()\n",
        "opt = torch.optim.Adam(model.parameters(), lr=1e-3)\n",
        "avg_losses = []\n",
        "val_accuracies = []\n",
        "\n",
        "epochs = 200\n",
        "for epoch in range(epochs):\n",
        "    avg_loss = 0\n",
        "    for x, y in train_loader:\n",
        "        x = x.to(device)\n",
        "        y = y.to(device)\n",
        "        y_pred = model(x).to(device)\n",
        "\n",
        "        loss = criterion(y_pred, y)\n",
        "        opt.zero_grad()\n",
        "        loss.backward()\n",
        "        opt.step()\n",
        "        avg_loss += loss.item()\n",
        "\n",
        "    avg_loss /= len(train_loader)\n",
        "    avg_losses.append(avg_loss)\n",
        "\n",
        "    evaluation = evaluate_model(model, val_loader, device)\n",
        "    val_accuracies.append(evaluation)\n",
        "    print(f'epoch: {epoch}, avg_loss: {avg_loss}, val_evaluation: {evaluation}')"
      ]
    },
    {
      "cell_type": "code",
      "execution_count": null,
      "id": "OBfEejXsGwBy",
      "metadata": {
        "colab": {
          "base_uri": "https://localhost:8080/",
          "height": 466
        },
        "id": "OBfEejXsGwBy",
        "outputId": "91f81846-7357-407e-934f-637a9ee97ab1"
      },
      "outputs": [
        {
          "name": "stdout",
          "output_type": "stream",
          "text": [
            "min avg_losses: 2.594960134468615e-05\n",
            "max val_accuracies: 0.490625\n"
          ]
        },
        {
          "data": {
            "image/png": "[encoded data removed]",
            "text/plain": [
              "<Figure size 640x480 with 1 Axes>"
            ]
          },
          "metadata": {},
          "output_type": "display_data"
        }
      ],
      "source": [
        "# maxpool\n",
        "plt.plot(range(len(avg_losses)), avg_losses, \"b-\", label=\"trainingg loss\")\n",
        "plt.plot(range(len(val_accuracies)), val_accuracies, \"r-\", label=\"validation accuracies\")\n",
        "plt.legend()\n",
        "print(f\"min avg_losses: {min(avg_losses)}\")\n",
        "print(f\"max val_accuracies: {max(val_accuracies)}\")"
      ]
    },
    {
      "cell_type": "code",
      "execution_count": null,
      "id": "00f3308c",
      "metadata": {
        "colab": {
          "base_uri": "https://localhost:8080/",
          "height": 448
        },
        "id": "00f3308c",
        "outputId": "9b9819ec-4b62-487e-f7e9-a859465c3e72"
      },
      "outputs": [
        {
          "data": {
            "text/plain": [
              "<matplotlib.legend.Legend at 0x7fae2094b710>"
            ]
          },
          "execution_count": 7,
          "metadata": {},
          "output_type": "execute_result"
        },
        {
          "data": {
            "image/png": "[encoded data removed]",
            "text/plain": [
              "<Figure size 640x480 with 1 Axes>"
            ]
          },
          "metadata": {},
          "output_type": "display_data"
        }
      ],
      "source": [
        "# vanilla\n",
        "plt.plot(range(len(avg_losses)), avg_losses, \"b-\", label=\"trainingg loss\")\n",
        "plt.plot(range(len(val_accuracies)), val_accuracies, \"r-\", label=\"validation accuracies\")\n",
        "plt.legend()"
      ]
    },
    {
      "cell_type": "code",
      "execution_count": null,
      "id": "2dec2ee1",
      "metadata": {
        "id": "2dec2ee1"
      },
      "outputs": [],
      "source": [
        "class Trainer:\n",
        "    def __init__(self):\n",
        "        self.device = torch.device(\"cuda\" if torch.cuda.is_available() else \"cpu\")\n",
        "\n",
        "        self.train_epochs = 1000\n",
        "        self.tune_epochs = 25\n",
        "        self.optuna_n_trials = 120\n",
        "\n",
        "        self.criterion = nn.CrossEntropyLoss()\n",
        "        self.optimizer = None\n",
        "        self.trial = None\n",
        "\n",
        "        self.train_loader = None\n",
        "        self.eval_loader = None\n",
        "        self.test_loader = None\n",
        "        self.dataset = None\n",
        "\n",
        "        self.storage = \"sqlite:///optuna_studies.db\"\n",
        "        self.study_name = \"ssvep_classifier_optimization\"\n",
        "\n",
        "        self.checkpoint_path = \"./checkpoints/ssvep\"\n",
        "        os.makedirs(os.path.join(self.checkpoint_path, \"models\"), exist_ok=True)\n",
        "        self.checkpoint_model_path = os.path.join(self.checkpoint_path, \"models\")\n",
        "\n",
        "    def _train_loop(self, n_epochs: int, should_save=False, should_print=False):\n",
        "        assert isinstance(self.optimizer, torch.optim.Optimizer), \"optimizer is not a valid optimizer\"\n",
        "        assert isinstance(self.train_loader, DataLoader), \"train_laoder is not valid Datloader\"\n",
        "        if self.trial is None:\n",
        "            print(\"Warning: self.trial is none, we are probably in acutal training phase\")\n",
        "\n",
        "        for epoch in range(n_epochs):\n",
        "            self.model.to(self.device)\n",
        "            self.model.train()\n",
        "\n",
        "            avg_loss = 0\n",
        "            for x, y in self.train_loader:\n",
        "                x = x.to(self.device)\n",
        "                y = y.to(self.device)\n",
        "\n",
        "                y_pred = self.model(x)  # B x out_size\n",
        "                loss = self.criterion(y_pred, y)\n",
        "\n",
        "                self.optimizer.zero_grad()\n",
        "                loss.backward()\n",
        "                self.optimizer.step()\n",
        "                avg_loss += loss.item()\n",
        "\n",
        "            avg_loss = avg_loss / len(self.train_loader)\n",
        "            evaluation = evaluate_model(self.model, self.val_loader, self.device)\n",
        "\n",
        "            if self.trial is not None:\n",
        "                self.trial.report(evaluation, epoch)\n",
        "                if self.trial.should_prune():\n",
        "                    optuna.exceptions.TrialPruned()\n",
        "\n",
        "            if should_print:\n",
        "                print(f\"epoch {epoch}, evaluation {evaluation}, avg_loss {avg_loss}\")\n",
        "\n",
        "            if should_save:\n",
        "                self.model.cpu()\n",
        "                torch.save(self.model.state_dict(), os.path.join(self.checkpoint_model_path, f\"ssvep.pth\"))\n",
        "                self.model.to(self.device)\n",
        "\n",
        "\n",
        "    def _prepare_training(self, is_trial):\n",
        "        if is_trial:\n",
        "            assert isinstance(self.trial, optuna.Trial), \"trial is none, cant' suggest params\"\n",
        "\n",
        "            window_length = self.trial.suggest_categorical(\"window_length\", [128, 160])\n",
        "            stride_factor = self.trial.suggest_int(\"stride\", 2, 3)\n",
        "\n",
        "            dropout = self.trial.suggest_float(\"dropout\", 0, 0.4)\n",
        "            lr = self.trial.suggest_float(\"lr\", 3e-4, 3e-2, log=True)\n",
        "            batch_size = self.trial.suggest_categorical(\"batch_size\", [32, 64])\n",
        "\n",
        "        else:\n",
        "            best_params = self._get_study().best_params\n",
        "\n",
        "            window_length = best_params['window_length']\n",
        "            stride_factor = best_params['stride']\n",
        "            dropout = best_params[\"dropout\"]\n",
        "            lr = best_params[\"lr\"]\n",
        "            batch_size = best_params[\"batch_size\"]\n",
        "\n",
        "        stride = int(window_length // stride_factor)\n",
        "        self.dataset = EEGDataset(path_1, TRIAL_LENGTH, window_length, stride=stride)\n",
        "        unique_freqs = torch.unique(self.dataset.labels)\n",
        "\n",
        "        n_timesteps = self.dataset.data[0].shape[0]\n",
        "        n_electrodes = self.dataset.data[0].shape[1] # data[x] shape TxC\n",
        "        out_size = len(unique_freqs)\n",
        "\n",
        "        self.model = SSVEPClassifier(n_electrodes, out_size, n_timesteps, dropout)\n",
        "        self.train_loader, self.val_loader, self.test_loader = split_and_get_loaders(self.dataset, batch_size)\n",
        "        self.optimizer = torch.optim.Adam(self.model.parameters(), lr)\n",
        "\n",
        "    def _objective(self, trial: optuna.Trial):\n",
        "        self.trial = trial\n",
        "        self._prepare_training(True)\n",
        "\n",
        "        self._train_loop(self.tune_epochs, should_save=False, should_print=False)\n",
        "        evaluation = evaluate_model(self.model, self.val_loader, self.device)\n",
        "        return evaluation\n",
        "\n",
        "    def _get_study(self):\n",
        "        return optuna.create_study(study_name=self.study_name, storage=self.storage, direction=\"maximize\", load_if_exists=True)\n",
        "\n",
        "    def optimize(self, delete_existing=False):\n",
        "        if delete_existing:\n",
        "            try:\n",
        "                optuna.delete_study(study_name=self.study_name, storage=self.storage)\n",
        "            except Exception:\n",
        "                pass\n",
        "\n",
        "        study = self._get_study()\n",
        "        study.optimize(self._objective, n_trials=self.optuna_n_trials, timeout=60 * 10)\n",
        "\n",
        "        # Print optimization results\n",
        "        print(\"\\nStudy statistics:\")\n",
        "        print(f\"  Number of finished trials: {len(study.trials)}\")\n",
        "        print(f\"  Number of pruned trials: {len(study.get_trials(states=[optuna.trial.TrialState.PRUNED]))}\")\n",
        "        print(f\"  Number of complete trials: {len(study.get_trials(states=[optuna.trial.TrialState.COMPLETE]))}\")\n",
        "\n",
        "        print(\"\\nBest trial:\")\n",
        "        trial = study.best_trial\n",
        "        print(f\"  Value: {trial.value}\")\n",
        "        print(\"\\nBest hyperparameters:\")\n",
        "        for key, value in trial.params.items():\n",
        "            print(f\"  {key}: {value}\")\n",
        "\n",
        "        return study.best_params\n",
        "\n",
        "    def train(self):\n",
        "        self.trial = None\n",
        "        self._prepare_training(False)\n",
        "\n",
        "        self._train_loop(self.train_epochs, should_save=True, should_print=True)\n",
        "        evaluation = evaluate_model(self.model, self.val_loader, self.device)\n",
        "        print(\"done training\")\n",
        "        return evaluation\n",
        "\n",
        "trainer = Trainer()\n",
        "manual_write_study_params(trainer.study_name, trainer.storage)\n",
        "trainer.train()"
      ]
    },
    {
      "cell_type": "code",
      "execution_count": null,
      "id": "a132bf51",
      "metadata": {
        "id": "a132bf51"
      },
      "outputs": [],
      "source": [
        "delete_existing = True\n",
        "trainer.optimize(delete_existing)"
      ]
    },
    {
      "cell_type": "code",
      "execution_count": null,
      "id": "a93294ea",
      "metadata": {
        "id": "a93294ea"
      },
      "outputs": [],
      "source": [
        "# manual_write_study_params(trainer.study_name, trainer.storage)\n",
        "trainer.train()"
      ]
    }
  ],
  "metadata": {
    "accelerator": "GPU",
    "colab": {
      "gpuType": "T4",
      "provenance": []
    },
    "kernelspec": {
      "display_name": "icmtc_venv",
      "language": "python",
      "name": "python3"
    },
    "language_info": {
      "codemirror_mode": {
        "name": "ipython",
        "version": 3
      },
      "file_extension": ".py",
      "mimetype": "text/x-python",
      "name": "python",
      "nbconvert_exporter": "python",
      "pygments_lexer": "ipython3",
      "version": "3.12.11"
    }
  },
  "nbformat": 4,
  "nbformat_minor": 5
}
