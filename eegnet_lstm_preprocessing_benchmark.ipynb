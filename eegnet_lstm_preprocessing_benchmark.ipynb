{
  "cells": [
    {
      "cell_type": "code",
      "execution_count": null,
      "id": "2a563374",
      "metadata": {
        "colab": {
          "base_uri": "https://localhost:8080/",
          "height": 478
        },
        "id": "2a563374",
        "outputId": "53432013-182e-48b1-c2b3-fd43207f4cf2"
      },
      "outputs": [],
      "source": [
        "%load_ext autoreload\n",
        "%autoreload 2\n",
        "import os\n",
        "if not os.path.exists('./modules') and not os.path.exists('modules.zip'):\n",
        "    from google.colab import files\n",
        "    uploaded = files.upload()\n",
        "if not os.path.exists('./modules') and os.path.exists('modules.zip'):\n",
        "    os.system('unzip modules.zip -d .')\n",
        "\n",
        "!pip3 install optuna\n",
        "import kagglehub\n",
        "import torch\n",
        "import torch.nn as nn\n",
        "import optuna\n",
        "from modules import EEGDataset, Trainer\n",
        "from modules.utils import split_and_get_loaders, evaluate_model, manual_write_study_params\n",
        "import matplotlib.pyplot as plt\n",
        "import random\n",
        "import numpy as np\n",
        "\n",
        "device = torch.device('cuda' if torch.cuda.is_available() else 'cpu')\n",
        "device"
      ]
    },
    {
      "cell_type": "code",
      "execution_count": null,
      "id": "a17b42a7",
      "metadata": {
        "id": "a17b42a7"
      },
      "outputs": [],
      "source": [
        "# Add this at the beginning of your notebook, after imports\n",
        "def set_random_seeds(seed=42):\n",
        "    \"\"\"Set random seeds for reproducibility\"\"\"\n",
        "\n",
        "    random.seed(seed)\n",
        "    np.random.seed(seed)\n",
        "    torch.manual_seed(seed)\n",
        "    if torch.cuda.is_available():\n",
        "        torch.cuda.manual_seed(seed)\n",
        "        torch.cuda.manual_seed_all(seed)\n",
        "        torch.backends.cudnn.deterministic = True\n",
        "        torch.backends.cudnn.benchmark = False\n",
        "\n",
        "# Call this function before creating datasets and models\n",
        "set_random_seeds(42)"
      ]
    },
    {
      "cell_type": "code",
      "execution_count": null,
      "id": "fb6b091d",
      "metadata": {
        "colab": {
          "base_uri": "https://localhost:8080/"
        },
        "id": "fb6b091d",
        "outputId": "ed97bac7-daf6-4db7-ab05-395569081448"
      },
      "outputs": [],
      "source": [
        "#! need to modify those for the competition itself\n",
        "TRIAL_LENGTH = 640  # frequency of changing.. frequency\n",
        "# Download dataset\n",
        "path_1 = kagglehub.dataset_download(\"girgismicheal/steadystate-visual-evoked-potential-signals\")\n",
        "path_1 += \"/SSVEP (BrainWheel)\"\n",
        "print(\"Download datasetaset files:\", \"\\n\", path_1)"
      ]
    },
    {
      "cell_type": "code",
      "execution_count": null,
      "id": "8b83a09b",
      "metadata": {
        "colab": {
          "base_uri": "https://localhost:8080/"
        },
        "id": "8b83a09b",
        "outputId": "62628525-392a-45a8-8d28-30c10c6b2296"
      },
      "outputs": [],
      "source": [
        "class LSTMModel(nn.Module):\n",
        "    def __init__(self, input_dim, hidden_dim, layer_dim, output_dim):\n",
        "        super(LSTMModel, self).__init__()\n",
        "        self.hidden_dim = hidden_dim\n",
        "        self.layer_dim = layer_dim\n",
        "        self.lstm = nn.LSTM(input_dim, hidden_dim, layer_dim, batch_first=True)\n",
        "        self.fc = nn.Linear(hidden_dim, output_dim)\n",
        "\n",
        "    def forward(self, x, h0=None, c0=None):\n",
        "        if h0 is None or c0 is None:\n",
        "            h0 = torch.zeros(self.layer_dim, x.size(0), self.hidden_dim).to(x.device)\n",
        "            c0 = torch.zeros(self.layer_dim, x.size(0), self.hidden_dim).to(x.device)\n",
        "\n",
        "        out, (hn, cn) = self.lstm(x, (h0, c0))\n",
        "        out = self.fc(out[:, -1, :])\n",
        "        return out\n",
        "\n",
        "class DepthWiseConv2D(nn.Module):\n",
        "    def __init__(self, in_channels, kernel_size, dim_mult=1, padding=0, bias=False):\n",
        "        super(DepthWiseConv2D, self).__init__()\n",
        "        self.depthwise = nn.Conv2d(in_channels, in_channels * dim_mult, padding=padding, kernel_size=kernel_size, groups=in_channels, bias=bias)\n",
        "\n",
        "    def forward(self, x: torch.Tensor):\n",
        "        return self.depthwise(x)\n",
        "\n",
        "\n",
        "class SeperableConv2D(nn.Module):\n",
        "    def __init__(self, in_channels, out_channels, kernel_size, padding, bias=False):\n",
        "        super(SeperableConv2D, self).__init__()\n",
        "        self.depthwise = DepthWiseConv2D(in_channels, kernel_size, padding=padding)\n",
        "        self.pointwise = nn.Conv2d(in_channels, out_channels, kernel_size=1, bias=bias)\n",
        "\n",
        "    def forward(self, x):\n",
        "        out = self.depthwise(x)\n",
        "        out = self.pointwise(out)\n",
        "        return out\n",
        "\n",
        "class SSVEPClassifier(nn.Module):\n",
        "    # EEG Net Based\n",
        "    # todo look at this https://paperswithcode.com/paper/a-transformer-based-deep-neural-network-model\n",
        "    def __init__(self, n_electrodes=16, n_samples=128, out_dim=4, dropout=0.25, kernLength=256, F1=96, D=1, F2=96, hidden_dim=100, layer_dim=1):\n",
        "        super().__init__()\n",
        "\n",
        "        # B x C x T\n",
        "        self.block_1 = nn.Sequential(\n",
        "            nn.Conv2d(1, F1, (1, kernLength), padding='same', bias=False),\n",
        "            nn.BatchNorm2d(F1),\n",
        "            #\n",
        "            DepthWiseConv2D(F1, (n_electrodes, 1), dim_mult=D, bias=False),\n",
        "            nn.BatchNorm2d(F1*D),\n",
        "            nn.ELU(),\n",
        "            nn.MaxPool2d((1, 2)), # todo try making this max pool\n",
        "            nn.Dropout(dropout),\n",
        "            #\n",
        "            SeperableConv2D(F1 * D, F2, kernel_size=(1, 16), padding='same', bias=False),\n",
        "            nn.BatchNorm2d(F2),\n",
        "            nn.ELU(),\n",
        "            nn.MaxPool2d((1, 4)),\n",
        "            nn.Dropout(dropout),\n",
        "        )\n",
        "\n",
        "        self.lstm_head = LSTMModel(F2, hidden_dim, layer_dim, out_dim)\n",
        "\n",
        "    def forward(self, x: torch.Tensor):\n",
        "        \"\"\"expected input shape: BxCxT\"\"\"\n",
        "        x = x.unsqueeze(1)\n",
        "        y = self.block_1(x) # B x F1 x 1 x time_sub\n",
        "\n",
        "        y = y.squeeze(2) # B x F1 x time_sub\n",
        "        y = y.permute(0, 2, 1) # B x time_sub x F1\n",
        "        y = self.lstm_head(y)\n",
        "\n",
        "        return y\n",
        "\n",
        "\n",
        "dummy_x = torch.randn(5, 14, 320)\n",
        "model = SSVEPClassifier(n_electrodes=dummy_x.shape[1], n_samples=dummy_x.shape[2])\n",
        "model(dummy_x)"
      ]
    },
    {
      "cell_type": "code",
      "execution_count": null,
      "id": "42089fb8",
      "metadata": {
        "id": "42089fb8"
      },
      "outputs": [],
      "source": [
        "window_length = 160\n",
        "stride = window_length // 3\n",
        "batch_size = 64\n",
        "\n",
        "dataset = EEGDataset(path_1, TRIAL_LENGTH, window_length, stride=stride)\n",
        "train_loader, val_loader, test_loader = split_and_get_loaders(dataset, batch_size)\n"
      ]
    },
    {
      "cell_type": "code",
      "execution_count": null,
      "id": "5aw8bHOjIgqv",
      "metadata": {
        "id": "5aw8bHOjIgqv"
      },
      "outputs": [],
      "source": [
        "model = SSVEPClassifier(\n",
        "    n_electrodes=dummy_x.shape[1],\n",
        "    n_samples=dummy_x.shape[2],\n",
        "    dropout=0.33066508963955576,\n",
        "    kernLength=256,\n",
        "    F1 = 128,\n",
        "    D = 2,\n",
        "    F2 = 96,\n",
        "    hidden_dim=256,\n",
        "    layer_dim=3,\n",
        ").to(device)"
      ]
    },
    {
      "cell_type": "code",
      "execution_count": null,
      "id": "12b164b5",
      "metadata": {
        "colab": {
          "base_uri": "https://localhost:8080/"
        },
        "id": "12b164b5",
        "outputId": "57e8da82-5cf2-4c36-e202-52b3ef93af60"
      },
      "outputs": [],
      "source": [
        "criterion = nn.CrossEntropyLoss()\n",
        "opt = torch.optim.Adam(model.parameters(), lr=0.00030241790493218325)\n",
        "avg_losses = []\n",
        "val_accuracies = []\n",
        "\n",
        "epochs = 200\n",
        "for epoch in range(epochs):\n",
        "    avg_loss = 0\n",
        "    model.train()\n",
        "    for x, y in train_loader:\n",
        "        x = x.to(device)\n",
        "        y = y.to(device)\n",
        "        y_pred = model(x).to(device)\n",
        "\n",
        "        loss = criterion(y_pred, y)\n",
        "        opt.zero_grad()\n",
        "        loss.backward()\n",
        "        opt.step()\n",
        "        avg_loss += loss.item()\n",
        "\n",
        "    avg_loss /= len(train_loader)\n",
        "    avg_losses.append(avg_loss)\n",
        "\n",
        "    evaluation = evaluate_model(model, val_loader, device)\n",
        "    val_accuracies.append(evaluation)\n",
        "    print(f'epoch: {epoch}, avg_loss: {avg_loss}, val_evaluation: {evaluation}')"
      ]
    },
    {
      "cell_type": "code",
      "execution_count": null,
      "id": "OBfEejXsGwBy",
      "metadata": {
        "colab": {
          "base_uri": "https://localhost:8080/",
          "height": 466
        },
        "id": "OBfEejXsGwBy",
        "outputId": "91f81846-7357-407e-934f-637a9ee97ab1"
      },
      "outputs": [],
      "source": [
        "# maxpool\n",
        "plt.plot(range(len(avg_losses)), avg_losses, \"b-\", label=\"trainingg loss\")\n",
        "plt.plot(range(len(val_accuracies)), val_accuracies, \"r-\", label=\"validation accuracies\")\n",
        "plt.legend()\n",
        "print(f\"min avg_losses: {min(avg_losses)}\")\n",
        "print(f\"max val_accuracies: {max(val_accuracies)}\")"
      ]
    },
    {
      "cell_type": "code",
      "execution_count": null,
      "id": "2dec2ee1",
      "metadata": {
        "id": "2dec2ee1"
      },
      "outputs": [],
      "source": [
        "class CustomTrainer(Trainer):\n",
        "    def _prepare_training(self, is_trial):\n",
        "        super()._prepare_training(is_trial)\n",
        "        assert self.dataset is not None\n",
        "        \n",
        "        if is_trial:\n",
        "            assert isinstance(self.trial, optuna.Trial), \"trial is none, cant' suggest params\"\n",
        "\n",
        "            dropout = self.trial.suggest_float(\"dropout\", 0, 0.5)\n",
        "            kernLength = self.trial.suggest_categorical(\"kernLength\", [128, 256, 512])\n",
        "            F1 = self.trial.suggest_categorical(\"F1\", [64, 96, 128])\n",
        "            D = self.trial.suggest_categorical(\"D\", [1, 2, 3])\n",
        "            F2 = self.trial.suggest_categorical(\"F2\", [64, 96, 128])\n",
        "            hidden_dim = self.trial.suggest_categorical(\"hidden_dim\", [64, 128, 256])\n",
        "            layer_dim = self.trial.suggest_categorical(\"layer_dim\", [1, 2, 3, 4])\n",
        "            lr = self.trial.suggest_float(\"lr\", 3e-4, 3e-2, log=True)\n",
        "\n",
        "\n",
        "        else:\n",
        "            best_params = self._get_study().best_params\n",
        "            kernLength = best_params[\"kernLength\"]\n",
        "            F1 = best_params[\"F1\"]\n",
        "            D = best_params[\"D\"]\n",
        "            F2 = best_params[\"F2\"]\n",
        "            hidden_dim = best_params[\"hidden_dim\"]\n",
        "            layer_dim = best_params[\"layer_dim\"]\n",
        "            dropout = best_params[\"dropout\"]\n",
        "            lr = best_params[\"lr\"]\n",
        "            \n",
        "        \n",
        "        n_samples = self.dataset.data[0].shape[1]  # data[x] shape CxT\n",
        "        n_electrodes = self.dataset.data[0].shape[0]\n",
        "\n",
        "        self.model = SSVEPClassifier(\n",
        "            n_electrodes=n_electrodes, n_samples=n_samples, out_dim=4, dropout=dropout, kernLength=kernLength, F1=F1, D=D, F2=F1, hidden_dim=hidden_dim, layer_dim=layer_dim\n",
        "        )\n",
        "        self.optimizer = torch.optim.Adam(self.model.parameters(), lr)"
      ]
    },
    {
      "cell_type": "code",
      "execution_count": null,
      "id": "a132bf51",
      "metadata": {
        "colab": {
          "base_uri": "https://localhost:8080/"
        },
        "id": "a132bf51",
        "outputId": "a9aa3e55-b05b-451b-898e-4c92b2eb3fb6"
      },
      "outputs": [],
      "source": [
        "trainer = CustomTrainer(data_path=path_1, trial_length=TRIAL_LENGTH)\n",
        "delete_existing = False\n",
        "trainer.optimize(delete_existing)"
      ]
    },
    {
      "cell_type": "code",
      "execution_count": null,
      "id": "a93294ea",
      "metadata": {
        "id": "a93294ea"
      },
      "outputs": [],
      "source": [
        "# manual_write_study_params(trainer.study_name, trainer.storage)\n",
        "trainer.train()"
      ]
    }
  ],
  "metadata": {
    "accelerator": "GPU",
    "colab": {
      "gpuType": "T4",
      "provenance": []
    },
    "kernelspec": {
      "display_name": "icmtc_venv",
      "language": "python",
      "name": "python3"
    },
    "language_info": {
      "codemirror_mode": {
        "name": "ipython",
        "version": 3
      },
      "file_extension": ".py",
      "mimetype": "text/x-python",
      "name": "python",
      "nbconvert_exporter": "python",
      "pygments_lexer": "ipython3",
      "version": "3.12.11"
    }
  },
  "nbformat": 4,
  "nbformat_minor": 5
}
