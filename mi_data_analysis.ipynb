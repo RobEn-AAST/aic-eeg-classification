{
 "cells": [
  {
   "cell_type": "code",
   "execution_count": 2,
   "id": "63f517e7",
   "metadata": {},
   "outputs": [
    {
     "name": "stderr",
     "output_type": "stream",
     "text": [
      "/home/zeyadcode/.pyenv/versions/icmtc_venv/lib/python3.12/site-packages/tqdm/auto.py:21: TqdmWarning: IProgress not found. Please update jupyter and ipywidgets. See https://ipywidgets.readthedocs.io/en/stable/user_install.html\n",
      "  from .autonotebook import tqdm as notebook_tqdm\n"
     ]
    },
    {
     "data": {
      "text/plain": [
       "device(type='cpu')"
      ]
     },
     "execution_count": 2,
     "metadata": {},
     "output_type": "execute_result"
    }
   ],
   "source": [
    "%load_ext autoreload\n",
    "%autoreload 2\n",
    "import torch\n",
    "from modules.competition_dataset import EEGDataset, LABELS\n",
    "import matplotlib.pyplot as plt\n",
    "import seaborn as sns\n",
    "import pandas as pd\n",
    "from sklearn.covariance import EmpiricalCovariance\n",
    "import random\n",
    "import numpy as np\n",
    "from sklearn.manifold import TSNE\n",
    "from sklearn.feature_selection import f_classif\n",
    "from sklearn.feature_selection import f_classif\n",
    "from sklearn.manifold import trustworthiness\n",
    "from sklearn.metrics import silhouette_score\n",
    "\n",
    "device = torch.device('cuda' if torch.cuda.is_available() else 'cpu')\n",
    "device"
   ]
  },
  {
   "cell_type": "code",
   "execution_count": 3,
   "id": "f6c412b9",
   "metadata": {},
   "outputs": [],
   "source": [
    "data_path = './data/mtcaic3'\n",
    "lda_model_path = './checkpoints/mi/models/lda_mi.pkl'\n",
    "\n",
    "# Add this at the beginning of your notebook, after imports\n",
    "def set_random_seeds(seed=42):\n",
    "    \"\"\"Set random seeds for reproducibility\"\"\"\n",
    "\n",
    "    random.seed(seed)\n",
    "    np.random.seed(seed)\n",
    "    torch.manual_seed(seed)\n",
    "    if torch.cuda.is_available():\n",
    "        torch.cuda.manual_seed(seed)\n",
    "        torch.cuda.manual_seed_all(seed)\n",
    "        torch.backends.cudnn.deterministic = True\n",
    "        torch.backends.cudnn.benchmark = False\n",
    "\n",
    "set_random_seeds(42)"
   ]
  },
  {
   "cell_type": "code",
   "execution_count": 4,
   "id": "61f62b37",
   "metadata": {},
   "outputs": [],
   "source": [
    "window_length = 256\n",
    "stride = window_length // 3\n",
    "batch_size = 64"
   ]
  },
  {
   "cell_type": "code",
   "execution_count": 5,
   "id": "ac48c31e",
   "metadata": {},
   "outputs": [
    {
     "name": "stdout",
     "output_type": "stream",
     "text": [
      "task: mi, split: train, domain: time, data_fraction: 1.0\n",
      "skipped: 2/2400\n",
      "task: mi, split: validation, domain: time, data_fraction: 1.0\n",
      "skipped: 0/50\n",
      "task: mi, split: test, domain: time, data_fraction: 1.0\n",
      "skipped: 0/50\n"
     ]
    }
   ],
   "source": [
    "eeg_channels = [\n",
    "    \"FZ\",\n",
    "    \"C3\",\n",
    "    \"CZ\",\n",
    "    \"C4\",\n",
    "    \"PZ\",\n",
    "    \"PO7\",\n",
    "    \"OZ\",\n",
    "    \"PO8\",\n",
    "]\n",
    "\n",
    "dataset_train = EEGDataset(\n",
    "    data_path,\n",
    "    window_length=window_length,\n",
    "    stride=stride,\n",
    "    task=\"mi\",\n",
    "    split=\"train\",\n",
    "    data_fraction=1.0,\n",
    "    hardcoded_mean=False,\n",
    "    eeg_channels=eeg_channels,\n",
    ")\n",
    "\n",
    "dataset_val = EEGDataset(\n",
    "    data_path=data_path,\n",
    "    window_length=window_length,\n",
    "    stride=stride,\n",
    "    task=\"mi\",\n",
    "    split=\"validation\",\n",
    "    read_labels=True,\n",
    "    hardcoded_mean=False,\n",
    "    eeg_channels=eeg_channels,\n",
    ")\n",
    "\n",
    "dataset_test = EEGDataset(\n",
    "    data_path=data_path,\n",
    "    window_length=window_length,\n",
    "    stride=stride,\n",
    "    task=\"mi\",\n",
    "    split=\"test\",\n",
    "    read_labels=False,\n",
    "    hardcoded_mean=False,\n",
    "    eeg_channels=eeg_channels,\n",
    ")"
   ]
  },
  {
   "cell_type": "code",
   "execution_count": 6,
   "id": "495a8b9e",
   "metadata": {},
   "outputs": [
    {
     "data": {
      "text/plain": [
       "(tensor([298962.6875, 302375.4062, 335581.5312, 328421.2812, 348838.0938,\n",
       "         289281.5938, 286804.5000, 287110.0312]),\n",
       " tensor([ 25178.6797,  27688.2266,  73590.1797,  83241.5859, 121023.0312,\n",
       "          28624.8125,  30578.2109,  29023.3047]))"
      ]
     },
     "execution_count": 6,
     "metadata": {},
     "output_type": "execute_result"
    }
   ],
   "source": [
    "all_data = torch.cat([torch.stack([x for x,_ in ds]) for ds in (dataset_train, dataset_val, dataset_test)])\n",
    "X_val_train = torch.cat([torch.stack([x for x,_ in ds]) for ds in (dataset_train, dataset_val)])\n",
    "y_val_train = torch.cat([torch.stack([y for _,y in ds]) for ds in (dataset_train, dataset_val)])\n",
    "\n",
    "mean = all_data.mean((0, 2))\n",
    "std = all_data.std((0, 2))\n",
    "\n",
    "X_val_train = (X_val_train - mean[None, :, None]) / std[None, :, None]\n",
    "\n",
    "mean, std"
   ]
  },
  {
   "cell_type": "code",
   "execution_count": 7,
   "id": "653aa401",
   "metadata": {},
   "outputs": [
    {
     "name": "stdout",
     "output_type": "stream",
     "text": [
      "Data shape for selection: torch.Size([38067, 8, 256]), Labels shape: torch.Size([38067, 2])\n",
      "\n",
      "Calculating F-scores for each channel...\n"
     ]
    },
    {
     "ename": "ValueError",
     "evalue": "y should be a 1d array, got an array of shape (38067, 2) instead.",
     "output_type": "error",
     "traceback": [
      "\u001b[31m---------------------------------------------------------------------------\u001b[39m",
      "\u001b[31mValueError\u001b[39m                                Traceback (most recent call last)",
      "\u001b[36mCell\u001b[39m\u001b[36m \u001b[39m\u001b[32mIn[7]\u001b[39m\u001b[32m, line 13\u001b[39m\n\u001b[32m     10\u001b[39m \u001b[38;5;28;01mfor\u001b[39;00m i \u001b[38;5;129;01min\u001b[39;00m \u001b[38;5;28mrange\u001b[39m(num_channels):\n\u001b[32m     11\u001b[39m     channel_data = X_val_train[:, i, :]\n\u001b[32m---> \u001b[39m\u001b[32m13\u001b[39m     f_scores_per_timepoint, _ = \u001b[43mf_classif\u001b[49m\u001b[43m(\u001b[49m\u001b[43mchannel_data\u001b[49m\u001b[43m,\u001b[49m\u001b[43m \u001b[49m\u001b[43my_val_train\u001b[49m\u001b[43m)\u001b[49m\n\u001b[32m     15\u001b[39m     aggregated_f_score = np.sum(f_scores_per_timepoint)\n\u001b[32m     16\u001b[39m     channel_f_scores.append(aggregated_f_score)\n",
      "\u001b[36mFile \u001b[39m\u001b[32m~/.pyenv/versions/icmtc_venv/lib/python3.12/site-packages/sklearn/utils/_param_validation.py:213\u001b[39m, in \u001b[36mvalidate_params.<locals>.decorator.<locals>.wrapper\u001b[39m\u001b[34m(*args, **kwargs)\u001b[39m\n\u001b[32m    207\u001b[39m \u001b[38;5;28;01mtry\u001b[39;00m:\n\u001b[32m    208\u001b[39m     \u001b[38;5;28;01mwith\u001b[39;00m config_context(\n\u001b[32m    209\u001b[39m         skip_parameter_validation=(\n\u001b[32m    210\u001b[39m             prefer_skip_nested_validation \u001b[38;5;129;01mor\u001b[39;00m global_skip_validation\n\u001b[32m    211\u001b[39m         )\n\u001b[32m    212\u001b[39m     ):\n\u001b[32m--> \u001b[39m\u001b[32m213\u001b[39m         \u001b[38;5;28;01mreturn\u001b[39;00m \u001b[43mfunc\u001b[49m\u001b[43m(\u001b[49m\u001b[43m*\u001b[49m\u001b[43margs\u001b[49m\u001b[43m,\u001b[49m\u001b[43m \u001b[49m\u001b[43m*\u001b[49m\u001b[43m*\u001b[49m\u001b[43mkwargs\u001b[49m\u001b[43m)\u001b[49m\n\u001b[32m    214\u001b[39m \u001b[38;5;28;01mexcept\u001b[39;00m InvalidParameterError \u001b[38;5;28;01mas\u001b[39;00m e:\n\u001b[32m    215\u001b[39m     \u001b[38;5;66;03m# When the function is just a wrapper around an estimator, we allow\u001b[39;00m\n\u001b[32m    216\u001b[39m     \u001b[38;5;66;03m# the function to delegate validation to the estimator, but we replace\u001b[39;00m\n\u001b[32m    217\u001b[39m     \u001b[38;5;66;03m# the name of the estimator by the name of the function in the error\u001b[39;00m\n\u001b[32m    218\u001b[39m     \u001b[38;5;66;03m# message to avoid confusion.\u001b[39;00m\n\u001b[32m    219\u001b[39m     msg = re.sub(\n\u001b[32m    220\u001b[39m         \u001b[33mr\u001b[39m\u001b[33m\"\u001b[39m\u001b[33mparameter of \u001b[39m\u001b[33m\\\u001b[39m\u001b[33mw+ must be\u001b[39m\u001b[33m\"\u001b[39m,\n\u001b[32m    221\u001b[39m         \u001b[33mf\u001b[39m\u001b[33m\"\u001b[39m\u001b[33mparameter of \u001b[39m\u001b[38;5;132;01m{\u001b[39;00mfunc.\u001b[34m__qualname__\u001b[39m\u001b[38;5;132;01m}\u001b[39;00m\u001b[33m must be\u001b[39m\u001b[33m\"\u001b[39m,\n\u001b[32m    222\u001b[39m         \u001b[38;5;28mstr\u001b[39m(e),\n\u001b[32m    223\u001b[39m     )\n",
      "\u001b[36mFile \u001b[39m\u001b[32m~/.pyenv/versions/icmtc_venv/lib/python3.12/site-packages/sklearn/feature_selection/_univariate_selection.py:171\u001b[39m, in \u001b[36mf_classif\u001b[39m\u001b[34m(X, y)\u001b[39m\n\u001b[32m    120\u001b[39m \u001b[38;5;129m@validate_params\u001b[39m(\n\u001b[32m    121\u001b[39m     {\n\u001b[32m    122\u001b[39m         \u001b[33m\"\u001b[39m\u001b[33mX\u001b[39m\u001b[33m\"\u001b[39m: [\u001b[33m\"\u001b[39m\u001b[33marray-like\u001b[39m\u001b[33m\"\u001b[39m, \u001b[33m\"\u001b[39m\u001b[33msparse matrix\u001b[39m\u001b[33m\"\u001b[39m],\n\u001b[32m   (...)\u001b[39m\u001b[32m    126\u001b[39m )\n\u001b[32m    127\u001b[39m \u001b[38;5;28;01mdef\u001b[39;00m\u001b[38;5;250m \u001b[39m\u001b[34mf_classif\u001b[39m(X, y):\n\u001b[32m    128\u001b[39m \u001b[38;5;250m    \u001b[39m\u001b[33;03m\"\"\"Compute the ANOVA F-value for the provided sample.\u001b[39;00m\n\u001b[32m    129\u001b[39m \n\u001b[32m    130\u001b[39m \u001b[33;03m    Read more in the :ref:`User Guide <univariate_feature_selection>`.\u001b[39;00m\n\u001b[32m   (...)\u001b[39m\u001b[32m    169\u001b[39m \u001b[33;03m           3.8...e-01, 7.6...e-01])\u001b[39;00m\n\u001b[32m    170\u001b[39m \u001b[33;03m    \"\"\"\u001b[39;00m\n\u001b[32m--> \u001b[39m\u001b[32m171\u001b[39m     X, y = \u001b[43mcheck_X_y\u001b[49m\u001b[43m(\u001b[49m\u001b[43mX\u001b[49m\u001b[43m,\u001b[49m\u001b[43m \u001b[49m\u001b[43my\u001b[49m\u001b[43m,\u001b[49m\u001b[43m \u001b[49m\u001b[43maccept_sparse\u001b[49m\u001b[43m=\u001b[49m\u001b[43m[\u001b[49m\u001b[33;43m\"\u001b[39;49m\u001b[33;43mcsr\u001b[39;49m\u001b[33;43m\"\u001b[39;49m\u001b[43m,\u001b[49m\u001b[43m \u001b[49m\u001b[33;43m\"\u001b[39;49m\u001b[33;43mcsc\u001b[39;49m\u001b[33;43m\"\u001b[39;49m\u001b[43m,\u001b[49m\u001b[43m \u001b[49m\u001b[33;43m\"\u001b[39;49m\u001b[33;43mcoo\u001b[39;49m\u001b[33;43m\"\u001b[39;49m\u001b[43m]\u001b[49m\u001b[43m)\u001b[49m\n\u001b[32m    172\u001b[39m     args = [X[safe_mask(X, y == k)] \u001b[38;5;28;01mfor\u001b[39;00m k \u001b[38;5;129;01min\u001b[39;00m np.unique(y)]\n\u001b[32m    173\u001b[39m     \u001b[38;5;28;01mreturn\u001b[39;00m f_oneway(*args)\n",
      "\u001b[36mFile \u001b[39m\u001b[32m~/.pyenv/versions/icmtc_venv/lib/python3.12/site-packages/sklearn/utils/validation.py:1318\u001b[39m, in \u001b[36mcheck_X_y\u001b[39m\u001b[34m(X, y, accept_sparse, accept_large_sparse, dtype, order, copy, force_writeable, force_all_finite, ensure_2d, allow_nd, multi_output, ensure_min_samples, ensure_min_features, y_numeric, estimator)\u001b[39m\n\u001b[32m   1297\u001b[39m     \u001b[38;5;28;01mraise\u001b[39;00m \u001b[38;5;167;01mValueError\u001b[39;00m(\n\u001b[32m   1298\u001b[39m         \u001b[33mf\u001b[39m\u001b[33m\"\u001b[39m\u001b[38;5;132;01m{\u001b[39;00mestimator_name\u001b[38;5;132;01m}\u001b[39;00m\u001b[33m requires y to be passed, but the target y is None\u001b[39m\u001b[33m\"\u001b[39m\n\u001b[32m   1299\u001b[39m     )\n\u001b[32m   1301\u001b[39m X = check_array(\n\u001b[32m   1302\u001b[39m     X,\n\u001b[32m   1303\u001b[39m     accept_sparse=accept_sparse,\n\u001b[32m   (...)\u001b[39m\u001b[32m   1315\u001b[39m     input_name=\u001b[33m\"\u001b[39m\u001b[33mX\u001b[39m\u001b[33m\"\u001b[39m,\n\u001b[32m   1316\u001b[39m )\n\u001b[32m-> \u001b[39m\u001b[32m1318\u001b[39m y = \u001b[43m_check_y\u001b[49m\u001b[43m(\u001b[49m\u001b[43my\u001b[49m\u001b[43m,\u001b[49m\u001b[43m \u001b[49m\u001b[43mmulti_output\u001b[49m\u001b[43m=\u001b[49m\u001b[43mmulti_output\u001b[49m\u001b[43m,\u001b[49m\u001b[43m \u001b[49m\u001b[43my_numeric\u001b[49m\u001b[43m=\u001b[49m\u001b[43my_numeric\u001b[49m\u001b[43m,\u001b[49m\u001b[43m \u001b[49m\u001b[43mestimator\u001b[49m\u001b[43m=\u001b[49m\u001b[43mestimator\u001b[49m\u001b[43m)\u001b[49m\n\u001b[32m   1320\u001b[39m check_consistent_length(X, y)\n\u001b[32m   1322\u001b[39m \u001b[38;5;28;01mreturn\u001b[39;00m X, y\n",
      "\u001b[36mFile \u001b[39m\u001b[32m~/.pyenv/versions/icmtc_venv/lib/python3.12/site-packages/sklearn/utils/validation.py:1339\u001b[39m, in \u001b[36m_check_y\u001b[39m\u001b[34m(y, multi_output, y_numeric, estimator)\u001b[39m\n\u001b[32m   1337\u001b[39m \u001b[38;5;28;01melse\u001b[39;00m:\n\u001b[32m   1338\u001b[39m     estimator_name = _check_estimator_name(estimator)\n\u001b[32m-> \u001b[39m\u001b[32m1339\u001b[39m     y = \u001b[43mcolumn_or_1d\u001b[49m\u001b[43m(\u001b[49m\u001b[43my\u001b[49m\u001b[43m,\u001b[49m\u001b[43m \u001b[49m\u001b[43mwarn\u001b[49m\u001b[43m=\u001b[49m\u001b[38;5;28;43;01mTrue\u001b[39;49;00m\u001b[43m)\u001b[49m\n\u001b[32m   1340\u001b[39m     _assert_all_finite(y, input_name=\u001b[33m\"\u001b[39m\u001b[33my\u001b[39m\u001b[33m\"\u001b[39m, estimator_name=estimator_name)\n\u001b[32m   1341\u001b[39m     _ensure_no_complex_data(y)\n",
      "\u001b[36mFile \u001b[39m\u001b[32m~/.pyenv/versions/icmtc_venv/lib/python3.12/site-packages/sklearn/utils/validation.py:1406\u001b[39m, in \u001b[36mcolumn_or_1d\u001b[39m\u001b[34m(y, dtype, warn)\u001b[39m\n\u001b[32m   1395\u001b[39m         warnings.warn(\n\u001b[32m   1396\u001b[39m             (\n\u001b[32m   1397\u001b[39m                 \u001b[33m\"\u001b[39m\u001b[33mA column-vector y was passed when a 1d array was\u001b[39m\u001b[33m\"\u001b[39m\n\u001b[32m   (...)\u001b[39m\u001b[32m   1402\u001b[39m             stacklevel=\u001b[32m2\u001b[39m,\n\u001b[32m   1403\u001b[39m         )\n\u001b[32m   1404\u001b[39m     \u001b[38;5;28;01mreturn\u001b[39;00m _asarray_with_order(xp.reshape(y, (-\u001b[32m1\u001b[39m,)), order=\u001b[33m\"\u001b[39m\u001b[33mC\u001b[39m\u001b[33m\"\u001b[39m, xp=xp)\n\u001b[32m-> \u001b[39m\u001b[32m1406\u001b[39m \u001b[38;5;28;01mraise\u001b[39;00m \u001b[38;5;167;01mValueError\u001b[39;00m(\n\u001b[32m   1407\u001b[39m     \u001b[33m\"\u001b[39m\u001b[33my should be a 1d array, got an array of shape \u001b[39m\u001b[38;5;132;01m{}\u001b[39;00m\u001b[33m instead.\u001b[39m\u001b[33m\"\u001b[39m.format(shape)\n\u001b[32m   1408\u001b[39m )\n",
      "\u001b[31mValueError\u001b[39m: y should be a 1d array, got an array of shape (38067, 2) instead."
     ]
    }
   ],
   "source": [
    "# F score to reveal most relevant features\n",
    "num_samples, num_channels, time_points = X_val_train.shape\n",
    "original_channel_names = [\"FZ\",\"C3\",\"CZ\",\"C4\",\"PZ\",\"PO7\",\"OZ\",\"PO8\"]\n",
    "\n",
    "print(f\"Data shape for selection: {X_val_train.shape}, Labels shape: {y_val_train.shape}\")\n",
    "\n",
    "channel_f_scores = []\n",
    "\n",
    "print(\"\\nCalculating F-scores for each channel...\")\n",
    "for i in range(num_channels):\n",
    "    channel_data = X_val_train[:, i, :]\n",
    "    \n",
    "    f_scores_per_timepoint, _ = f_classif(channel_data, y_val_train)\n",
    "    \n",
    "    aggregated_f_score = np.sum(f_scores_per_timepoint)\n",
    "    channel_f_scores.append(aggregated_f_score)\n",
    "\n",
    "channel_scores_dict = {original_channel_names[i]: channel_f_scores[i] for i in range(num_channels)}\n",
    "\n",
    "print(\"\\n--- F-scores for each channel (higher score indicates more informativeness) ---\")\n",
    "sorted_channels = sorted(channel_scores_dict.items(), key=lambda item: item[1], reverse=True)\n",
    "for channel, score in sorted_channels:\n",
    "    print(f\"  {channel}: {score:.2f}\")\n",
    "\n",
    "top_3_channels = [channel for channel, score in sorted_channels[:3]]\n",
    "print(f\"\\n--- Recommended Top 3 Channels based on F-score: {top_3_channels} ---\")"
   ]
  },
  {
   "cell_type": "code",
   "execution_count": 18,
   "id": "1034de8b",
   "metadata": {},
   "outputs": [
    {
     "name": "stdout",
     "output_type": "stream",
     "text": [
      "Data prepared for t-SNE with shape: (5000, 768)\n",
      "[t-SNE] Computing 91 nearest neighbors...\n",
      "[t-SNE] Indexed 5000 samples in 0.001s...\n",
      "[t-SNE] Computed neighbors for 5000 samples in 0.498s...\n",
      "[t-SNE] Computed conditional probabilities for sample 1000 / 5000\n",
      "[t-SNE] Computed conditional probabilities for sample 2000 / 5000\n",
      "[t-SNE] Computed conditional probabilities for sample 3000 / 5000\n",
      "[t-SNE] Computed conditional probabilities for sample 4000 / 5000\n",
      "[t-SNE] Computed conditional probabilities for sample 5000 / 5000\n",
      "[t-SNE] Mean sigma: 0.250282\n",
      "[t-SNE] KL divergence after 250 iterations with early exaggeration: 62.975098\n",
      "[t-SNE] KL divergence after 1000 iterations: 0.555480\n",
      "t-SNE completed.\n"
     ]
    },
    {
     "ename": "TypeError",
     "evalue": "only integer scalar arrays can be converted to a scalar index",
     "output_type": "error",
     "traceback": [
      "\u001b[31m---------------------------------------------------------------------------\u001b[39m",
      "\u001b[31mTypeError\u001b[39m                                 Traceback (most recent call last)",
      "\u001b[36mCell\u001b[39m\u001b[36m \u001b[39m\u001b[32mIn[18]\u001b[39m\u001b[32m, line 24\u001b[39m\n\u001b[32m     21\u001b[39m \u001b[38;5;28mprint\u001b[39m(\u001b[33m\"\u001b[39m\u001b[33mt-SNE completed.\u001b[39m\u001b[33m\"\u001b[39m)\n\u001b[32m     23\u001b[39m df_tsne = pd.DataFrame(tsne_results, columns=[\u001b[33m'\u001b[39m\u001b[33mtsne-2d-one\u001b[39m\u001b[33m'\u001b[39m, \u001b[33m'\u001b[39m\u001b[33mtsne-2d-two\u001b[39m\u001b[33m'\u001b[39m])\n\u001b[32m---> \u001b[39m\u001b[32m24\u001b[39m df_tsne[\u001b[33m'\u001b[39m\u001b[33mlabel\u001b[39m\u001b[33m'\u001b[39m] = [\u001b[43mLABELS\u001b[49m\u001b[43m[\u001b[49m\u001b[43ml\u001b[49m\u001b[43m]\u001b[49m \u001b[38;5;28;01mfor\u001b[39;00m l \u001b[38;5;129;01min\u001b[39;00m all_labels] \n\u001b[32m     26\u001b[39m plt.figure(figsize=(\u001b[32m12\u001b[39m, \u001b[32m8\u001b[39m))\n\u001b[32m     27\u001b[39m sns.scatterplot(\n\u001b[32m     28\u001b[39m     x=\u001b[33m\"\u001b[39m\u001b[33mtsne-2d-one\u001b[39m\u001b[33m\"\u001b[39m, y=\u001b[33m\"\u001b[39m\u001b[33mtsne-2d-two\u001b[39m\u001b[33m\"\u001b[39m,\n\u001b[32m     29\u001b[39m     hue=\u001b[33m\"\u001b[39m\u001b[33mlabel\u001b[39m\u001b[33m\"\u001b[39m,\n\u001b[32m   (...)\u001b[39m\u001b[32m     33\u001b[39m     alpha=\u001b[32m0.8\u001b[39m \u001b[38;5;66;03m# Set transparency of points\u001b[39;00m\n\u001b[32m     34\u001b[39m )\n",
      "\u001b[31mTypeError\u001b[39m: only integer scalar arrays can be converted to a scalar index"
     ]
    }
   ],
   "source": [
    "# T-SNE to reveal how separatable the data is\n",
    "num_batches_for_tsne = 5\n",
    "\n",
    "all_features = X_val_train[:5000].numpy()\n",
    "all_labels = y_val_train[:5000].numpy()\n",
    "\n",
    "n_samples = all_features.shape[0]\n",
    "flattened_features = all_features.reshape(n_samples, -1) # n_samples x n_channels * n_freq_bins\n",
    "\n",
    "print(f\"Data prepared for t-SNE with shape: {flattened_features.shape}\")\n",
    "\n",
    "tsne = TSNE(\n",
    "    n_components=2,      # We want a 2D plot\n",
    "    verbose=1,           # Print progress\n",
    "    perplexity=30,       # A good default value, relates to # of nearest neighbors\n",
    "    learning_rate='auto',\n",
    "    init='pca'\n",
    ")\n",
    "tsne_results = tsne.fit_transform(flattened_features)\n",
    "\n",
    "print(\"t-SNE completed.\")\n",
    "\n",
    "df_tsne = pd.DataFrame(tsne_results, columns=['tsne-2d-one', 'tsne-2d-two'])\n",
    "df_tsne['label'] = [LABELS[l] for l in all_labels] \n",
    "\n",
    "plt.figure(figsize=(12, 8))\n",
    "sns.scatterplot(\n",
    "    x=\"tsne-2d-one\", y=\"tsne-2d-two\",\n",
    "    hue=\"label\",\n",
    "    palette=sns.color_palette(\"hls\", 4), # Use 4 distinct colors for the 4 classes\n",
    "    data=df_tsne,\n",
    "    legend=\"full\",\n",
    "    alpha=0.8 # Set transparency of points\n",
    ")\n",
    "\n",
    "plt.title('t-SNE Visualization of EEG Frequency Features')\n",
    "plt.xlabel('t-SNE Component 1')\n",
    "plt.ylabel('t-SNE Component 2')\n",
    "plt.legend(title='Classes')\n",
    "plt.show()\n",
    "\n",
    "\n",
    "X_high = flattened_features            # n_samples × (n_channels*n_freq_bins)\n",
    "X_low  = tsne_results                  # n_samples × 2\n",
    "y      = all_labels\n",
    "\n",
    "# how well local structure is preserved\n",
    "print(\"Trustworthiness:\", trustworthiness(X_high, X_low, n_neighbors=5))\n",
    "\n",
    "# cluster separability in the original space\n",
    "print(\"Silhouette (high-D):\", silhouette_score(X_high, y))\n",
    "\n",
    "# cluster separability in the embedding\n",
    "print(\"Silhouette (2-D):\", silhouette_score(X_low, y))"
   ]
  },
  {
   "cell_type": "code",
   "execution_count": 19,
   "id": "40d6719d",
   "metadata": {},
   "outputs": [
    {
     "name": "stdout",
     "output_type": "stream",
     "text": [
      "train: 42127, val: 857, test: 857\n"
     ]
    },
    {
     "data": {
      "text/plain": [
       "Text(0, 0.5, 'Count')"
      ]
     },
     "execution_count": 19,
     "metadata": {},
     "output_type": "execute_result"
    },
    {
     "data": {
      "image/png": "[encoded data removed]",
      "text/plain": [
       "<Figure size 640x480 with 1 Axes>"
      ]
     },
     "metadata": {},
     "output_type": "display_data"
    }
   ],
   "source": [
    "# Mahalopis\n",
    "print(f\"train: {len(dataset_train.data)}, val: {len(dataset_val.data)}, test: {len(dataset_val.data)}\")\n",
    "ec = EmpiricalCovariance().fit(dataset_train.data.mean(axis=2))\n",
    "\n",
    "\n",
    "d_train = ec.mahalanobis(dataset_train.data[:2000, :].mean(axis=2))\n",
    "d_val = ec.mahalanobis(dataset_val.data.mean(axis=2))\n",
    "d_test = ec.mahalanobis(dataset_test.data.mean(axis=2))\n",
    "\n",
    "plt.hist(d_train, bins=50, alpha=0.5, label=\"train\")\n",
    "plt.hist(d_val, bins=50, alpha=0.5, label=\"val\")\n",
    "plt.hist(d_test, bins=50, alpha=0.5, label=\"test\")\n",
    "\n",
    "plt.legend()\n",
    "plt.xlabel('Manhabolis distance')\n",
    "plt.ylabel('Count')"
   ]
  },
  {
   "cell_type": "code",
   "execution_count": null,
   "id": "e586d2db",
   "metadata": {},
   "outputs": [],
   "source": []
  }
 ],
 "metadata": {
  "kernelspec": {
   "display_name": "icmtc_venv",
   "language": "python",
   "name": "python3"
  },
  "language_info": {
   "codemirror_mode": {
    "name": "ipython",
    "version": 3
   },
   "file_extension": ".py",
   "mimetype": "text/x-python",
   "name": "python",
   "nbconvert_exporter": "python",
   "pygments_lexer": "ipython3",
   "version": "3.12.11"
  }
 },
 "nbformat": 4,
 "nbformat_minor": 5
}
