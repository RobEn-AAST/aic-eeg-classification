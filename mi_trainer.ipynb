{
 "cells": [
  {
   "cell_type": "code",
   "execution_count": 27,
   "id": "2a563374",
   "metadata": {
    "cellUniqueIdByVincent": "b5c77",
    "colab": {
     "base_uri": "https://localhost:8080/",
     "height": 484
    },
    "id": "2a563374",
    "outputId": "2f5357e7-a3f2-46ab-a67e-a21a666bccbf"
   },
   "outputs": [
    {
     "name": "stdout",
     "output_type": "stream",
     "text": [
      "The autoreload extension is already loaded. To reload it, use:\n",
      "  %reload_ext autoreload\n"
     ]
    },
    {
     "data": {
      "text/plain": [
       "device(type='cuda')"
      ]
     },
     "execution_count": 27,
     "metadata": {},
     "output_type": "execute_result"
    }
   ],
   "source": [
    "%load_ext autoreload\n",
    "%autoreload 2\n",
    "\n",
    "import torch\n",
    "import torch.nn as nn\n",
    "import optuna\n",
    "from modules import Trainer\n",
    "from modules.competition_dataset import EEGDataset\n",
    "from modules.utils import evaluate_model\n",
    "import random\n",
    "import numpy as np\n",
    "from torch.utils.data import ConcatDataset, random_split, DataLoader\n",
    "\n",
    "device = torch.device('cuda' if torch.cuda.is_available() else 'cpu')\n",
    "device"
   ]
  },
  {
   "cell_type": "code",
   "execution_count": 28,
   "id": "8c5bf7b0",
   "metadata": {
    "cellUniqueIdByVincent": "e6823",
    "colab": {
     "base_uri": "https://localhost:8080/",
     "height": 0
    },
    "id": "8c5bf7b0",
    "outputId": "e981327e-6451-4cf6-8020-c4fb791c5b99"
   },
   "outputs": [],
   "source": [
    "# from google.colab import drive\n",
    "# drive.mount('/content/drive')\n",
    "# data_path = '/content/drive/MyDrive/ai_data/eeg_detection/data/mtcaic3'\n",
    "# model_path = '/content/drive/MyDrive/ai_data/eeg_detection/checkpoints/ssvep/models/ssvep.pth'\n",
    "# optuna_db_path = '/content/drive/MyDrive/ai_data/eeg_detection/checkpoints/ssvep/optuna/optuna_studies.db'\n",
    "data_path = './data/mtcaic3'\n",
    "model_path = './checkpoints/mi/models/the_honored_one.pth'\n",
    "optuna_db_path = './checkpoints/mi/optuna/the_honored_one.db'\n",
    "eeg_channels = [\"C3\", \"PZ\", \"OZ\"]"
   ]
  },
  {
   "cell_type": "code",
   "execution_count": 29,
   "id": "a17b42a7",
   "metadata": {
    "cellUniqueIdByVincent": "285db",
    "id": "a17b42a7"
   },
   "outputs": [],
   "source": [
    "# Add this at the beginning of your notebook, after imports\n",
    "def set_random_seeds(seed=42):\n",
    "    \"\"\"Set random seeds for reproducibility\"\"\"\n",
    "\n",
    "    random.seed(seed)\n",
    "    np.random.seed(seed)\n",
    "    torch.manual_seed(seed)\n",
    "    if torch.cuda.is_available():\n",
    "        torch.cuda.manual_seed(seed)\n",
    "        torch.cuda.manual_seed_all(seed)\n",
    "        torch.backends.cudnn.deterministic = True\n",
    "        torch.backends.cudnn.benchmark = False\n",
    "\n",
    "# Call this function before creating datasets and models\n",
    "set_random_seeds(42)"
   ]
  },
  {
   "cell_type": "code",
   "execution_count": 30,
   "id": "42089fb8",
   "metadata": {
    "cellUniqueIdByVincent": "77c22",
    "id": "42089fb8"
   },
   "outputs": [
    {
     "name": "stdout",
     "output_type": "stream",
     "text": [
      "task: mi, split: train, domain: time, data_fraction: 1\n",
      "skipped: 0/2400\n",
      "data shape: (42127, 3, 256), mean shape: (1, 3, 1)\n",
      "task: mi, split: validation, domain: time, data_fraction: 1\n",
      "skipped: 0/50\n",
      "data shape: (857, 3, 256), mean shape: (1, 3, 1)\n"
     ]
    }
   ],
   "source": [
    "window_length = 128 * 2 # ensure divisble by 64 the kernel size\n",
    "stride = window_length // 3\n",
    "batch_size = 64\n",
    "\n",
    "dataset_train = EEGDataset(\n",
    "    data_path,\n",
    "    window_length=window_length,\n",
    "    stride=stride,\n",
    "    domain=\"time\",\n",
    "    data_fraction=1,\n",
    "    hardcoded_mean=True,\n",
    "    task=\"mi\",\n",
    "    eeg_channels=eeg_channels,\n",
    ")\n",
    "\n",
    "dataset_val = EEGDataset(\n",
    "    data_path=data_path,\n",
    "    window_length=window_length,\n",
    "    stride=stride,\n",
    "    split='validation',\n",
    "    read_labels=True,\n",
    "    hardcoded_mean=True,\n",
    "    data_fraction=1,\n",
    "    task=\"mi\",\n",
    "    eeg_channels=eeg_channels,\n",
    ")\n",
    "\n",
    "combined = ConcatDataset([dataset_train, dataset_val])\n",
    "train_len = int(len(combined) * 0.8)\n",
    "val_len = len(combined) - train_len\n",
    "train_ds, val_ds = random_split(combined, [train_len, val_len])\n",
    "\n",
    "train_loader = DataLoader(train_ds, batch_size=batch_size, shuffle=True)\n",
    "val_loader   = DataLoader(val_ds,   batch_size=batch_size)"
   ]
  },
  {
   "cell_type": "code",
   "execution_count": null,
   "id": "cbd5f3dc",
   "metadata": {},
   "outputs": [
    {
     "data": {
      "text/plain": [
       "tensor([[1.5133e-03, 5.1941e-02],\n",
       "        [3.7769e-03, 5.3241e-02],\n",
       "        [2.6249e-04, 5.2329e-02],\n",
       "        [2.4431e-03, 5.2711e-02],\n",
       "        [2.7204e-06, 5.1845e-02]], device='cuda:0', grad_fn=<AddmmBackward0>)"
      ]
     },
     "execution_count": 31,
     "metadata": {},
     "output_type": "execute_result"
    }
   ],
   "source": [
    "class LSTMModel(nn.Module):\n",
    "    def __init__(self, input_dim, hidden_dim, layer_dim, output_dim):\n",
    "        super(LSTMModel, self).__init__()\n",
    "        self.hidden_dim = hidden_dim\n",
    "        self.layer_dim = layer_dim\n",
    "        self.lstm = nn.LSTM(input_dim, hidden_dim, layer_dim, batch_first=True)\n",
    "        self.fc = nn.Linear(hidden_dim, output_dim)\n",
    "\n",
    "    def forward(self, x, h0=None, c0=None):\n",
    "        if h0 is None or c0 is None:\n",
    "            h0 = torch.zeros(self.layer_dim, x.size(0), self.hidden_dim).to(x.device)\n",
    "            c0 = torch.zeros(self.layer_dim, x.size(0), self.hidden_dim).to(x.device)\n",
    "\n",
    "        out, (hn, cn) = self.lstm(x, (h0, c0))\n",
    "        out = self.fc(out[:, -1, :])\n",
    "        return out\n",
    "\n",
    "class DepthWiseConv2D(nn.Module):\n",
    "    def __init__(self, in_channels, kernel_size, dim_mult=1, padding=0, bias=False):\n",
    "        super(DepthWiseConv2D, self).__init__()\n",
    "        self.depthwise = nn.Conv2d(in_channels, in_channels * dim_mult, padding=padding, kernel_size=kernel_size, groups=in_channels, bias=bias)\n",
    "\n",
    "    def forward(self, x: torch.Tensor):\n",
    "        return self.depthwise(x)\n",
    "\n",
    "\n",
    "class SeperableConv2D(nn.Module):\n",
    "    def __init__(self, in_channels, out_channels, kernel_size, padding, bias=False):\n",
    "        super(SeperableConv2D, self).__init__()\n",
    "        self.depthwise = DepthWiseConv2D(in_channels, kernel_size, padding=padding)\n",
    "        self.pointwise = nn.Conv2d(in_channels, out_channels, kernel_size=1, bias=bias)\n",
    "\n",
    "    def forward(self, x):\n",
    "        out = self.depthwise(x)\n",
    "        out = self.pointwise(out)\n",
    "        return out\n",
    "\n",
    "class SSVEPClassifier(nn.Module):\n",
    "    # EEG Net Based\n",
    "    # todo look at this https://paperswithcode.com/paper/a-transformer-based-deep-neural-network-model\n",
    "    def __init__(self, n_electrodes=16, out_dim=4, dropout=0.25, kernLength=256, F1=96, D=1, F2=96, hidden_dim=100, layer_dim=1):\n",
    "        super().__init__()\n",
    "\n",
    "        # B x C x T\n",
    "        self.block_1 = nn.Sequential(\n",
    "            nn.Conv2d(1, F1, (1, kernLength), padding='same', bias=False),\n",
    "            nn.BatchNorm2d(F1),\n",
    "            #\n",
    "            DepthWiseConv2D(F1, (n_electrodes, 1), dim_mult=D, bias=False),\n",
    "            nn.BatchNorm2d(F1*D),\n",
    "            nn.ELU(),\n",
    "            nn.MaxPool2d((1, 2)), # todo try making this max pool\n",
    "            nn.Dropout(dropout),\n",
    "            #\n",
    "            SeperableConv2D(F1 * D, F2, kernel_size=(1, 16), padding='same', bias=False),\n",
    "            nn.BatchNorm2d(F2),\n",
    "            nn.ELU(),\n",
    "            nn.MaxPool2d((1, 2)),\n",
    "            nn.Dropout(dropout),\n",
    "        )\n",
    "\n",
    "        self.lstm_head = LSTMModel(F2, hidden_dim, layer_dim, out_dim)\n",
    "\n",
    "    def forward(self, x: torch.Tensor):\n",
    "        \"\"\"expected input shape: BxCxT\"\"\"\n",
    "        x = x.unsqueeze(1)\n",
    "        y = self.block_1(x) # B x F1 x 1 x time_sub\n",
    "\n",
    "        y = y.squeeze(2) # B x F1 x time_sub\n",
    "        y = y.permute(0, 2, 1) # B x time_sub x F1\n",
    "        y = self.lstm_head(y)\n",
    "\n",
    "        return y\n",
    "\n",
    "dummy_x = torch.randn(5, 3, 256).to(device)\n",
    "model = SSVEPClassifier(\n",
    "    dropout=0.26211635308091535,\n",
    "    n_electrodes=3,\n",
    "    out_dim=2,\n",
    "    kernLength=256,\n",
    "    F1 = 32,\n",
    "    D = 3,\n",
    "    F2 = 32,\n",
    "    hidden_dim=256,\n",
    "    layer_dim=3,\n",
    ").to(device)\n",
    "\n",
    "model(dummy_x)"
   ]
  },
  {
   "cell_type": "code",
   "execution_count": 33,
   "id": "12b164b5",
   "metadata": {
    "cellUniqueIdByVincent": "c9b4e",
    "id": "12b164b5"
   },
   "outputs": [
    {
     "name": "stdout",
     "output_type": "stream",
     "text": [
      "epoch: 0, avg_loss: 0.22998837412068393, val_evaluation: 0.845178550657206, lr: 0.0003746351873334935\n",
      "epoch: 5, avg_loss: 0.23133591101349066, val_evaluation: 0.8406420844480633, lr: 0.0003746351873334935\n",
      "epoch: 10, avg_loss: 0.22475356866214355, val_evaluation: 0.8471559846458067, lr: 0.0003746351873334935\n",
      "epoch: 15, avg_loss: 0.22771020912215612, val_evaluation: 0.8440153541933233, lr: 0.0003746351873334935\n",
      "epoch: 20, avg_loss: 0.2190342526675157, val_evaluation: 0.8384320111666861, lr: 0.0003746351873334935\n",
      "epoch: 25, avg_loss: 0.2175467263588675, val_evaluation: 0.8394788879841806, lr: 0.0003746351873334935\n",
      "epoch: 30, avg_loss: 0.21255209111369675, val_evaluation: 0.8341281842503199, lr: 0.0003746351873334935\n",
      "epoch: 35, avg_loss: 0.20875239453960528, val_evaluation: 0.8433174363149936, lr: 0.0003746351873334935\n",
      "epoch: 40, avg_loss: 0.21021467909826222, val_evaluation: 0.8418052809119461, lr: 0.0003746351873334935\n",
      "epoch: 45, avg_loss: 0.20361291338796952, val_evaluation: 0.8397115272769571, lr: 0.0003746351873334935\n",
      "epoch: 50, avg_loss: 0.2024948750674503, val_evaluation: 0.8429684773758288, lr: 0.0003746351873334935\n",
      "epoch: 55, avg_loss: 0.19999147501521394, val_evaluation: 0.8419216005583343, lr: 0.0003746351873334935\n",
      "epoch: 60, avg_loss: 0.19723741344581305, val_evaluation: 0.8486681400488543, lr: 0.0003746351873334935\n",
      "epoch: 65, avg_loss: 0.1953573653052066, val_evaluation: 0.8408747237408398, lr: 0.0003746351873334935\n",
      "epoch: 70, avg_loss: 0.19698388408523287, val_evaluation: 0.8457601488891474, lr: 0.0003746351873334935\n",
      "epoch: 75, avg_loss: 0.19388409192954298, val_evaluation: 0.8376177736419681, lr: 0.0003746351873334935\n",
      "epoch: 80, avg_loss: 0.1930366043056808, val_evaluation: 0.8502966150982901, lr: 0.0003746351873334935\n",
      "epoch: 85, avg_loss: 0.18955339926215353, val_evaluation: 0.8364545771780854, lr: 0.0003746351873334935\n",
      "epoch: 90, avg_loss: 0.18821828301345106, val_evaluation: 0.8470396649994184, lr: 0.0003746351873334935\n",
      "epoch: 95, avg_loss: 0.1847307660987386, val_evaluation: 0.8430847970222171, lr: 0.0003746351873334935\n",
      "epoch: 100, avg_loss: 0.1807024535484141, val_evaluation: 0.8429684773758288, lr: 0.0003746351873334935\n",
      "epoch: 105, avg_loss: 0.18119943353821796, val_evaluation: 0.8435500756077702, lr: 0.0003746351873334935\n",
      "epoch: 110, avg_loss: 0.18086457069700093, val_evaluation: 0.8541351634291032, lr: 0.0003746351873334935\n",
      "epoch: 115, avg_loss: 0.17512465611820327, val_evaluation: 0.8468070257066419, lr: 0.0003746351873334935\n",
      "epoch: 120, avg_loss: 0.1733167540822109, val_evaluation: 0.845643829242759, lr: 0.0003746351873334935\n",
      "epoch: 125, avg_loss: 0.17257359436259614, val_evaluation: 0.8489007793416308, lr: 0.0003746351873334935\n",
      "epoch: 130, avg_loss: 0.1717636993355689, val_evaluation: 0.8527393276724439, lr: 0.0003746351873334935\n",
      "epoch: 135, avg_loss: 0.17250915753160045, val_evaluation: 0.8449459113644294, lr: 0.0003746351873334935\n",
      "epoch: 140, avg_loss: 0.16982206509043515, val_evaluation: 0.840060486216122, lr: 0.0003746351873334935\n",
      "epoch: 145, avg_loss: 0.16724637526063227, val_evaluation: 0.8420379202047226, lr: 0.0003746351873334935\n"
     ]
    },
    {
     "ename": "KeyboardInterrupt",
     "evalue": "",
     "output_type": "error",
     "traceback": [
      "\u001b[31m---------------------------------------------------------------------------\u001b[39m",
      "\u001b[31mKeyboardInterrupt\u001b[39m                         Traceback (most recent call last)",
      "\u001b[36mCell\u001b[39m\u001b[36m \u001b[39m\u001b[32mIn[33]\u001b[39m\u001b[32m, line 42\u001b[39m\n\u001b[32m     39\u001b[39m scheduler.step(avg_loss)\n\u001b[32m     41\u001b[39m \u001b[38;5;28;01mif\u001b[39;00m epoch % \u001b[32m5\u001b[39m == \u001b[32m0\u001b[39m:\n\u001b[32m---> \u001b[39m\u001b[32m42\u001b[39m     evaluation = \u001b[43mevaluate_model\u001b[49m\u001b[43m(\u001b[49m\u001b[43mmodel\u001b[49m\u001b[43m,\u001b[49m\u001b[43m \u001b[49m\u001b[43mval_loader\u001b[49m\u001b[43m,\u001b[49m\u001b[43m \u001b[49m\u001b[43mdevice\u001b[49m\u001b[43m)\u001b[49m\n\u001b[32m     43\u001b[39m     val_accuracies.append(evaluation)\n\u001b[32m     44\u001b[39m     model.cpu()\n",
      "\u001b[36mFile \u001b[39m\u001b[32mc:\\Users\\ahmad\\OneDrive\\سطح المكتب\\zeyadcode\\aic-eeg-classification\\modules\\utils.py:29\u001b[39m, in \u001b[36mevaluate_model\u001b[39m\u001b[34m(model, data_loader, device)\u001b[39m\n\u001b[32m     26\u001b[39m x = x.to(device)\n\u001b[32m     27\u001b[39m y = y.to(device)\n\u001b[32m---> \u001b[39m\u001b[32m29\u001b[39m outputs = \u001b[43mmodel\u001b[49m\u001b[43m(\u001b[49m\u001b[43mx\u001b[49m\u001b[43m)\u001b[49m\n\u001b[32m     30\u001b[39m _, predicted = torch.max(outputs.data, \u001b[32m1\u001b[39m)\n\u001b[32m     32\u001b[39m all_preds.extend(predicted.cpu().numpy())\n",
      "\u001b[36mFile \u001b[39m\u001b[32mc:\\Users\\ahmad\\AppData\\Local\\Programs\\Python\\Python312\\Lib\\site-packages\\torch\\nn\\modules\\module.py:1751\u001b[39m, in \u001b[36mModule._wrapped_call_impl\u001b[39m\u001b[34m(self, *args, **kwargs)\u001b[39m\n\u001b[32m   1749\u001b[39m     \u001b[38;5;28;01mreturn\u001b[39;00m \u001b[38;5;28mself\u001b[39m._compiled_call_impl(*args, **kwargs)  \u001b[38;5;66;03m# type: ignore[misc]\u001b[39;00m\n\u001b[32m   1750\u001b[39m \u001b[38;5;28;01melse\u001b[39;00m:\n\u001b[32m-> \u001b[39m\u001b[32m1751\u001b[39m     \u001b[38;5;28;01mreturn\u001b[39;00m \u001b[38;5;28;43mself\u001b[39;49m\u001b[43m.\u001b[49m\u001b[43m_call_impl\u001b[49m\u001b[43m(\u001b[49m\u001b[43m*\u001b[49m\u001b[43margs\u001b[49m\u001b[43m,\u001b[49m\u001b[43m \u001b[49m\u001b[43m*\u001b[49m\u001b[43m*\u001b[49m\u001b[43mkwargs\u001b[49m\u001b[43m)\u001b[49m\n",
      "\u001b[36mFile \u001b[39m\u001b[32mc:\\Users\\ahmad\\AppData\\Local\\Programs\\Python\\Python312\\Lib\\site-packages\\torch\\nn\\modules\\module.py:1762\u001b[39m, in \u001b[36mModule._call_impl\u001b[39m\u001b[34m(self, *args, **kwargs)\u001b[39m\n\u001b[32m   1757\u001b[39m \u001b[38;5;66;03m# If we don't have any hooks, we want to skip the rest of the logic in\u001b[39;00m\n\u001b[32m   1758\u001b[39m \u001b[38;5;66;03m# this function, and just call forward.\u001b[39;00m\n\u001b[32m   1759\u001b[39m \u001b[38;5;28;01mif\u001b[39;00m \u001b[38;5;129;01mnot\u001b[39;00m (\u001b[38;5;28mself\u001b[39m._backward_hooks \u001b[38;5;129;01mor\u001b[39;00m \u001b[38;5;28mself\u001b[39m._backward_pre_hooks \u001b[38;5;129;01mor\u001b[39;00m \u001b[38;5;28mself\u001b[39m._forward_hooks \u001b[38;5;129;01mor\u001b[39;00m \u001b[38;5;28mself\u001b[39m._forward_pre_hooks\n\u001b[32m   1760\u001b[39m         \u001b[38;5;129;01mor\u001b[39;00m _global_backward_pre_hooks \u001b[38;5;129;01mor\u001b[39;00m _global_backward_hooks\n\u001b[32m   1761\u001b[39m         \u001b[38;5;129;01mor\u001b[39;00m _global_forward_hooks \u001b[38;5;129;01mor\u001b[39;00m _global_forward_pre_hooks):\n\u001b[32m-> \u001b[39m\u001b[32m1762\u001b[39m     \u001b[38;5;28;01mreturn\u001b[39;00m \u001b[43mforward_call\u001b[49m\u001b[43m(\u001b[49m\u001b[43m*\u001b[49m\u001b[43margs\u001b[49m\u001b[43m,\u001b[49m\u001b[43m \u001b[49m\u001b[43m*\u001b[49m\u001b[43m*\u001b[49m\u001b[43mkwargs\u001b[49m\u001b[43m)\u001b[49m\n\u001b[32m   1764\u001b[39m result = \u001b[38;5;28;01mNone\u001b[39;00m\n\u001b[32m   1765\u001b[39m called_always_called_hooks = \u001b[38;5;28mset\u001b[39m()\n",
      "\u001b[36mCell\u001b[39m\u001b[36m \u001b[39m\u001b[32mIn[31]\u001b[39m\u001b[32m, line 71\u001b[39m, in \u001b[36mSSVEPClassifier.forward\u001b[39m\u001b[34m(self, x)\u001b[39m\n\u001b[32m     69\u001b[39m y = y.squeeze(\u001b[32m2\u001b[39m) \u001b[38;5;66;03m# B x F1 x time_sub\u001b[39;00m\n\u001b[32m     70\u001b[39m y = y.permute(\u001b[32m0\u001b[39m, \u001b[32m2\u001b[39m, \u001b[32m1\u001b[39m) \u001b[38;5;66;03m# B x time_sub x F1\u001b[39;00m\n\u001b[32m---> \u001b[39m\u001b[32m71\u001b[39m y = \u001b[38;5;28;43mself\u001b[39;49m\u001b[43m.\u001b[49m\u001b[43mlstm_head\u001b[49m\u001b[43m(\u001b[49m\u001b[43my\u001b[49m\u001b[43m)\u001b[49m\n\u001b[32m     73\u001b[39m \u001b[38;5;28;01mreturn\u001b[39;00m y\n",
      "\u001b[36mFile \u001b[39m\u001b[32mc:\\Users\\ahmad\\AppData\\Local\\Programs\\Python\\Python312\\Lib\\site-packages\\torch\\nn\\modules\\module.py:1751\u001b[39m, in \u001b[36mModule._wrapped_call_impl\u001b[39m\u001b[34m(self, *args, **kwargs)\u001b[39m\n\u001b[32m   1749\u001b[39m     \u001b[38;5;28;01mreturn\u001b[39;00m \u001b[38;5;28mself\u001b[39m._compiled_call_impl(*args, **kwargs)  \u001b[38;5;66;03m# type: ignore[misc]\u001b[39;00m\n\u001b[32m   1750\u001b[39m \u001b[38;5;28;01melse\u001b[39;00m:\n\u001b[32m-> \u001b[39m\u001b[32m1751\u001b[39m     \u001b[38;5;28;01mreturn\u001b[39;00m \u001b[38;5;28;43mself\u001b[39;49m\u001b[43m.\u001b[49m\u001b[43m_call_impl\u001b[49m\u001b[43m(\u001b[49m\u001b[43m*\u001b[49m\u001b[43margs\u001b[49m\u001b[43m,\u001b[49m\u001b[43m \u001b[49m\u001b[43m*\u001b[49m\u001b[43m*\u001b[49m\u001b[43mkwargs\u001b[49m\u001b[43m)\u001b[49m\n",
      "\u001b[36mFile \u001b[39m\u001b[32mc:\\Users\\ahmad\\AppData\\Local\\Programs\\Python\\Python312\\Lib\\site-packages\\torch\\nn\\modules\\module.py:1762\u001b[39m, in \u001b[36mModule._call_impl\u001b[39m\u001b[34m(self, *args, **kwargs)\u001b[39m\n\u001b[32m   1757\u001b[39m \u001b[38;5;66;03m# If we don't have any hooks, we want to skip the rest of the logic in\u001b[39;00m\n\u001b[32m   1758\u001b[39m \u001b[38;5;66;03m# this function, and just call forward.\u001b[39;00m\n\u001b[32m   1759\u001b[39m \u001b[38;5;28;01mif\u001b[39;00m \u001b[38;5;129;01mnot\u001b[39;00m (\u001b[38;5;28mself\u001b[39m._backward_hooks \u001b[38;5;129;01mor\u001b[39;00m \u001b[38;5;28mself\u001b[39m._backward_pre_hooks \u001b[38;5;129;01mor\u001b[39;00m \u001b[38;5;28mself\u001b[39m._forward_hooks \u001b[38;5;129;01mor\u001b[39;00m \u001b[38;5;28mself\u001b[39m._forward_pre_hooks\n\u001b[32m   1760\u001b[39m         \u001b[38;5;129;01mor\u001b[39;00m _global_backward_pre_hooks \u001b[38;5;129;01mor\u001b[39;00m _global_backward_hooks\n\u001b[32m   1761\u001b[39m         \u001b[38;5;129;01mor\u001b[39;00m _global_forward_hooks \u001b[38;5;129;01mor\u001b[39;00m _global_forward_pre_hooks):\n\u001b[32m-> \u001b[39m\u001b[32m1762\u001b[39m     \u001b[38;5;28;01mreturn\u001b[39;00m \u001b[43mforward_call\u001b[49m\u001b[43m(\u001b[49m\u001b[43m*\u001b[49m\u001b[43margs\u001b[49m\u001b[43m,\u001b[49m\u001b[43m \u001b[49m\u001b[43m*\u001b[49m\u001b[43m*\u001b[49m\u001b[43mkwargs\u001b[49m\u001b[43m)\u001b[49m\n\u001b[32m   1764\u001b[39m result = \u001b[38;5;28;01mNone\u001b[39;00m\n\u001b[32m   1765\u001b[39m called_always_called_hooks = \u001b[38;5;28mset\u001b[39m()\n",
      "\u001b[36mCell\u001b[39m\u001b[36m \u001b[39m\u001b[32mIn[31]\u001b[39m\u001b[32m, line 14\u001b[39m, in \u001b[36mLSTMModel.forward\u001b[39m\u001b[34m(self, x, h0, c0)\u001b[39m\n\u001b[32m     11\u001b[39m     h0 = torch.zeros(\u001b[38;5;28mself\u001b[39m.layer_dim, x.size(\u001b[32m0\u001b[39m), \u001b[38;5;28mself\u001b[39m.hidden_dim).to(x.device)\n\u001b[32m     12\u001b[39m     c0 = torch.zeros(\u001b[38;5;28mself\u001b[39m.layer_dim, x.size(\u001b[32m0\u001b[39m), \u001b[38;5;28mself\u001b[39m.hidden_dim).to(x.device)\n\u001b[32m---> \u001b[39m\u001b[32m14\u001b[39m out, (hn, cn) = \u001b[38;5;28;43mself\u001b[39;49m\u001b[43m.\u001b[49m\u001b[43mlstm\u001b[49m\u001b[43m(\u001b[49m\u001b[43mx\u001b[49m\u001b[43m,\u001b[49m\u001b[43m \u001b[49m\u001b[43m(\u001b[49m\u001b[43mh0\u001b[49m\u001b[43m,\u001b[49m\u001b[43m \u001b[49m\u001b[43mc0\u001b[49m\u001b[43m)\u001b[49m\u001b[43m)\u001b[49m\n\u001b[32m     15\u001b[39m out = \u001b[38;5;28mself\u001b[39m.fc(out[:, -\u001b[32m1\u001b[39m, :])\n\u001b[32m     16\u001b[39m \u001b[38;5;28;01mreturn\u001b[39;00m out\n",
      "\u001b[36mFile \u001b[39m\u001b[32mc:\\Users\\ahmad\\AppData\\Local\\Programs\\Python\\Python312\\Lib\\site-packages\\torch\\nn\\modules\\module.py:1751\u001b[39m, in \u001b[36mModule._wrapped_call_impl\u001b[39m\u001b[34m(self, *args, **kwargs)\u001b[39m\n\u001b[32m   1749\u001b[39m     \u001b[38;5;28;01mreturn\u001b[39;00m \u001b[38;5;28mself\u001b[39m._compiled_call_impl(*args, **kwargs)  \u001b[38;5;66;03m# type: ignore[misc]\u001b[39;00m\n\u001b[32m   1750\u001b[39m \u001b[38;5;28;01melse\u001b[39;00m:\n\u001b[32m-> \u001b[39m\u001b[32m1751\u001b[39m     \u001b[38;5;28;01mreturn\u001b[39;00m \u001b[38;5;28;43mself\u001b[39;49m\u001b[43m.\u001b[49m\u001b[43m_call_impl\u001b[49m\u001b[43m(\u001b[49m\u001b[43m*\u001b[49m\u001b[43margs\u001b[49m\u001b[43m,\u001b[49m\u001b[43m \u001b[49m\u001b[43m*\u001b[49m\u001b[43m*\u001b[49m\u001b[43mkwargs\u001b[49m\u001b[43m)\u001b[49m\n",
      "\u001b[36mFile \u001b[39m\u001b[32mc:\\Users\\ahmad\\AppData\\Local\\Programs\\Python\\Python312\\Lib\\site-packages\\torch\\nn\\modules\\module.py:1762\u001b[39m, in \u001b[36mModule._call_impl\u001b[39m\u001b[34m(self, *args, **kwargs)\u001b[39m\n\u001b[32m   1757\u001b[39m \u001b[38;5;66;03m# If we don't have any hooks, we want to skip the rest of the logic in\u001b[39;00m\n\u001b[32m   1758\u001b[39m \u001b[38;5;66;03m# this function, and just call forward.\u001b[39;00m\n\u001b[32m   1759\u001b[39m \u001b[38;5;28;01mif\u001b[39;00m \u001b[38;5;129;01mnot\u001b[39;00m (\u001b[38;5;28mself\u001b[39m._backward_hooks \u001b[38;5;129;01mor\u001b[39;00m \u001b[38;5;28mself\u001b[39m._backward_pre_hooks \u001b[38;5;129;01mor\u001b[39;00m \u001b[38;5;28mself\u001b[39m._forward_hooks \u001b[38;5;129;01mor\u001b[39;00m \u001b[38;5;28mself\u001b[39m._forward_pre_hooks\n\u001b[32m   1760\u001b[39m         \u001b[38;5;129;01mor\u001b[39;00m _global_backward_pre_hooks \u001b[38;5;129;01mor\u001b[39;00m _global_backward_hooks\n\u001b[32m   1761\u001b[39m         \u001b[38;5;129;01mor\u001b[39;00m _global_forward_hooks \u001b[38;5;129;01mor\u001b[39;00m _global_forward_pre_hooks):\n\u001b[32m-> \u001b[39m\u001b[32m1762\u001b[39m     \u001b[38;5;28;01mreturn\u001b[39;00m \u001b[43mforward_call\u001b[49m\u001b[43m(\u001b[49m\u001b[43m*\u001b[49m\u001b[43margs\u001b[49m\u001b[43m,\u001b[49m\u001b[43m \u001b[49m\u001b[43m*\u001b[49m\u001b[43m*\u001b[49m\u001b[43mkwargs\u001b[49m\u001b[43m)\u001b[49m\n\u001b[32m   1764\u001b[39m result = \u001b[38;5;28;01mNone\u001b[39;00m\n\u001b[32m   1765\u001b[39m called_always_called_hooks = \u001b[38;5;28mset\u001b[39m()\n",
      "\u001b[36mFile \u001b[39m\u001b[32mc:\\Users\\ahmad\\AppData\\Local\\Programs\\Python\\Python312\\Lib\\site-packages\\torch\\nn\\modules\\rnn.py:1124\u001b[39m, in \u001b[36mLSTM.forward\u001b[39m\u001b[34m(self, input, hx)\u001b[39m\n\u001b[32m   1121\u001b[39m         hx = \u001b[38;5;28mself\u001b[39m.permute_hidden(hx, sorted_indices)\n\u001b[32m   1123\u001b[39m \u001b[38;5;28;01mif\u001b[39;00m batch_sizes \u001b[38;5;129;01mis\u001b[39;00m \u001b[38;5;28;01mNone\u001b[39;00m:\n\u001b[32m-> \u001b[39m\u001b[32m1124\u001b[39m     result = \u001b[43m_VF\u001b[49m\u001b[43m.\u001b[49m\u001b[43mlstm\u001b[49m\u001b[43m(\u001b[49m\n\u001b[32m   1125\u001b[39m \u001b[43m        \u001b[49m\u001b[38;5;28;43minput\u001b[39;49m\u001b[43m,\u001b[49m\n\u001b[32m   1126\u001b[39m \u001b[43m        \u001b[49m\u001b[43mhx\u001b[49m\u001b[43m,\u001b[49m\n\u001b[32m   1127\u001b[39m \u001b[43m        \u001b[49m\u001b[38;5;28;43mself\u001b[39;49m\u001b[43m.\u001b[49m\u001b[43m_flat_weights\u001b[49m\u001b[43m,\u001b[49m\u001b[43m  \u001b[49m\u001b[38;5;66;43;03m# type: ignore[arg-type]\u001b[39;49;00m\n\u001b[32m   1128\u001b[39m \u001b[43m        \u001b[49m\u001b[38;5;28;43mself\u001b[39;49m\u001b[43m.\u001b[49m\u001b[43mbias\u001b[49m\u001b[43m,\u001b[49m\n\u001b[32m   1129\u001b[39m \u001b[43m        \u001b[49m\u001b[38;5;28;43mself\u001b[39;49m\u001b[43m.\u001b[49m\u001b[43mnum_layers\u001b[49m\u001b[43m,\u001b[49m\n\u001b[32m   1130\u001b[39m \u001b[43m        \u001b[49m\u001b[38;5;28;43mself\u001b[39;49m\u001b[43m.\u001b[49m\u001b[43mdropout\u001b[49m\u001b[43m,\u001b[49m\n\u001b[32m   1131\u001b[39m \u001b[43m        \u001b[49m\u001b[38;5;28;43mself\u001b[39;49m\u001b[43m.\u001b[49m\u001b[43mtraining\u001b[49m\u001b[43m,\u001b[49m\n\u001b[32m   1132\u001b[39m \u001b[43m        \u001b[49m\u001b[38;5;28;43mself\u001b[39;49m\u001b[43m.\u001b[49m\u001b[43mbidirectional\u001b[49m\u001b[43m,\u001b[49m\n\u001b[32m   1133\u001b[39m \u001b[43m        \u001b[49m\u001b[38;5;28;43mself\u001b[39;49m\u001b[43m.\u001b[49m\u001b[43mbatch_first\u001b[49m\u001b[43m,\u001b[49m\n\u001b[32m   1134\u001b[39m \u001b[43m    \u001b[49m\u001b[43m)\u001b[49m\n\u001b[32m   1135\u001b[39m \u001b[38;5;28;01melse\u001b[39;00m:\n\u001b[32m   1136\u001b[39m     result = _VF.lstm(\n\u001b[32m   1137\u001b[39m         \u001b[38;5;28minput\u001b[39m,\n\u001b[32m   1138\u001b[39m         batch_sizes,\n\u001b[32m   (...)\u001b[39m\u001b[32m   1145\u001b[39m         \u001b[38;5;28mself\u001b[39m.bidirectional,\n\u001b[32m   1146\u001b[39m     )\n",
      "\u001b[31mKeyboardInterrupt\u001b[39m: "
     ]
    }
   ],
   "source": [
    "try:\n",
    "    model.load_state_dict(torch.load(model_path, weights_only=True))\n",
    "except Exception:\n",
    "    print(\"skipping model loading...\")\n",
    "\n",
    "\n",
    "opt = torch.optim.Adam(model.parameters(), lr=0.0003746351873334935)\n",
    "criterion = nn.CrossEntropyLoss()\n",
    "avg_losses = []\n",
    "val_accuracies = []\n",
    "scheduler = torch.optim.lr_scheduler.ReduceLROnPlateau(\n",
    "    opt,\n",
    "    mode='min',        # “min” if you want to reduce lr when the quantity monitored has stopped decreasing\n",
    "    factor=0.5,        # new_lr = lr * factor\n",
    "    patience=20,        # number of epochs with no improvement after which lr will be reduced\n",
    "    threshold=1e-4,    # threshold for measuring the new optimum, to only focus on significant changes\n",
    "    threshold_mode='rel', # `'rel'` means compare change relative to best value. Could use `'abs'`.\n",
    "    cooldown=0,        # epochs to wait before resuming normal operation after lr has been reduced\n",
    "    min_lr=1e-6,       # lower bound on the lr\n",
    ")\n",
    "\n",
    "epochs = 4000\n",
    "for epoch in range(epochs):\n",
    "    avg_loss = 0\n",
    "    model.train()\n",
    "    for x, y in train_loader:\n",
    "        x = x.to(device)\n",
    "        y = y.to(device).to(torch.int64)\n",
    "        y_pred = model(x).to(device)\n",
    "\n",
    "        loss = criterion(y_pred, y)\n",
    "        opt.zero_grad()\n",
    "        loss.backward()\n",
    "        opt.step()\n",
    "        avg_loss += loss.item()\n",
    "\n",
    "    avg_loss /= len(train_loader)\n",
    "    avg_losses.append(avg_loss)\n",
    "    scheduler.step(avg_loss)\n",
    "\n",
    "    if epoch % 5 == 0:\n",
    "        evaluation = evaluate_model(model, val_loader, device)\n",
    "        val_accuracies.append(evaluation)\n",
    "        model.cpu()\n",
    "        torch.save(model.state_dict(), model_path)\n",
    "        model.to(device)\n",
    "        print(f\"epoch: {epoch}, avg_loss: {avg_loss}, val_evaluation: {evaluation}, lr: {opt.param_groups[0]['lr']}\")"
   ]
  },
  {
   "cell_type": "code",
   "execution_count": 25,
   "id": "2dec2ee1",
   "metadata": {
    "cellUniqueIdByVincent": "e8792",
    "id": "2dec2ee1"
   },
   "outputs": [],
   "source": [
    "class CustomTrainer(Trainer):\n",
    "    # This method is called by _objective during an Optuna trial\n",
    "    def prepare_trial_run(self):\n",
    "        assert isinstance(self.trial, optuna.Trial), \"Trial not set!\"\n",
    "\n",
    "        # 1. Define Hyperparameters for this trial\n",
    "        #    a. Data/Loader parameters\n",
    "        window_length = self.trial.suggest_categorical(\"window_length\", [128, 256, 640]) # e.g. 64*2, 64*4, 64*10\n",
    "        batch_size = self.trial.suggest_categorical(\"batch_size\", [32, 64])\n",
    "\n",
    "        #    b. Model architecture parameters\n",
    "        kernLength = self.trial.suggest_categorical(\"kernLength\", [64, 128, 256])\n",
    "        F1 = self.trial.suggest_categorical(\"F1\", [8, 16, 32])\n",
    "        D = self.trial.suggest_categorical(\"D\", [1, 2, 3])\n",
    "        F2 = self.trial.suggest_categorical(\"F2\", [16, 32, 64]) # F2 must be F1 * D\n",
    "        hidden_dim = self.trial.suggest_categorical(\"hidden_dim\", [64, 128, 256])\n",
    "        layer_dim = self.trial.suggest_categorical(\"layer_dim\", [1, 2, 3])\n",
    "        dropout = self.trial.suggest_float(\"dropout\", 0.1, 0.6)\n",
    "        \n",
    "        #    c. Optimizer parameters\n",
    "        lr = self.trial.suggest_float(\"lr\", 1e-4, 1e-2, log=True)\n",
    "\n",
    "        # 2. Prepare the data using these parameters\n",
    "        super()._prepare_data(is_trial=True, batch_size=batch_size, window_length=window_length)\n",
    "        \n",
    "        assert self.dataset is not None, \"Dataset was not created correctly\"\n",
    "        n_electrodes = self.dataset.datasets[0].data[0].shape[0] # Get shape from underlying dataset\n",
    "\n",
    "        # 3. Build the model and optimizer\n",
    "        self.model = SSVEPClassifier(\n",
    "            n_electrodes=n_electrodes, # Use value from data\n",
    "            dropout=dropout,\n",
    "            kernLength=kernLength,\n",
    "            F1=F1,\n",
    "            D=D,\n",
    "            F2=F1 * D, # F2 is dependent on F1 and D\n",
    "            hidden_dim=hidden_dim,\n",
    "            layer_dim=layer_dim,\n",
    "        ).to(self.device)\n",
    "        \n",
    "        self.optimizer = torch.optim.Adam(self.model.parameters(), lr=lr)\n",
    "\n",
    "    # This method is called by train() for the final run\n",
    "    def prepare_final_run(self):\n",
    "        # 1. Get the best hyperparameters from the completed study\n",
    "        study = self._get_study()\n",
    "        best_params = study.best_params\n",
    "        \n",
    "        # 2. Prepare data using the best params\n",
    "        super()._prepare_data(is_trial=False) # is_trial=False handles getting params from study\n",
    "        \n",
    "        assert self.dataset is not None, \"Dataset was not created correctly\"\n",
    "        n_electrodes = self.dataset.datasets[0].data[0].shape[0]\n",
    "\n",
    "        # 3. Build the final model and optimizer\n",
    "        self.model = SSVEPClassifier(\n",
    "            n_electrodes=n_electrodes,\n",
    "            out_dim=2,\n",
    "            dropout=best_params[\"dropout\"],\n",
    "            kernLength=best_params[\"kernLength\"],\n",
    "            F1=best_params[\"F1\"],\n",
    "            D=best_params[\"D\"],\n",
    "            F2=best_params[\"F1\"] * best_params[\"D\"],\n",
    "            hidden_dim=best_params[\"hidden_dim\"],\n",
    "            layer_dim=best_params[\"layer_dim\"],\n",
    "        ).to(self.device)\n",
    "        \n",
    "        # Optional: Load pre-existing weights if you are resuming\n",
    "        try:\n",
    "            self.model.load_state_dict(torch.load(self.model_path))\n",
    "            print(f\"Loaded existing model weights from {self.model_path}\")\n",
    "        except Exception:\n",
    "            print(f\"No existing model weights found at {self.model_path}. Training from scratch.\")\n",
    "        \n",
    "        lr = 0.00018182233882257615 # best_params[\"lr\"]\n",
    "        self.optimizer = torch.optim.Adam(self.model.parameters(), lr)\n",
    "        self.scheduler = torch.optim.lr_scheduler.ReduceLROnPlateau(\n",
    "            self.optimizer,\n",
    "            mode='max',        # “min” if you want to reduce lr when the quantity monitored has stopped decreasing\n",
    "            factor=0.5,        # new_lr = lr * factor\n",
    "            patience=20,        # number of epochs with no improvement after which lr will be reduced\n",
    "            threshold=1e-4,    # threshold for measuring the new optimum, to only focus on significant changes\n",
    "            threshold_mode='rel', # `'rel'` means compare change relative to best value. Could use `'abs'`.\n",
    "            cooldown=0,        # epochs to wait before resuming normal operation after lr has been reduced\n",
    "            min_lr=1e-6,       # lower bound on the lr\n",
    "        )\n",
    "\n",
    "trainer = CustomTrainer(\n",
    "        data_path=data_path,\n",
    "        optuna_db_path=optuna_db_path,\n",
    "        model_path=model_path,\n",
    "        train_epochs=500, # Final training epochs\n",
    "        tune_epochs=50,   # Epochs per trial\n",
    "        optuna_n_trials=50,\n",
    "        task=\"mi\",\n",
    "        eeg_channels=eeg_channels,\n",
    "        data_fraction=0.4\n",
    "    )"
   ]
  },
  {
   "cell_type": "code",
   "execution_count": 26,
   "id": "a132bf51",
   "metadata": {
    "cellUniqueIdByVincent": "00f49",
    "colab": {
     "base_uri": "https://localhost:8080/",
     "height": 685
    },
    "id": "a132bf51",
    "outputId": "fce5db39-6f8c-4201-da84-09fc34a1779e"
   },
   "outputs": [
    {
     "name": "stderr",
     "output_type": "stream",
     "text": [
      "[I 2025-06-24 13:08:57,087] Using an existing study with name 'mi_classifier_optimization' instead of creating a new one.\n"
     ]
    },
    {
     "name": "stdout",
     "output_type": "stream",
     "text": [
      "task: mi, split: train, domain: time, data_fraction: 0.4\n",
      "Using 40.0% of data: 960/960 samples\n",
      "skipped: 0/960\n",
      "data shape: (16860, 3, 256), mean shape: (1, 3, 1)\n",
      "task: mi, split: validation, domain: time, data_fraction: 1.0\n",
      "skipped: 0/50\n",
      "data shape: (857, 3, 256), mean shape: (1, 3, 1)\n",
      "Data prepared: Train batches=222, Val batches=56\n",
      "Epoch 0/50, Validation Accuracy: 0.5025, Avg Loss: 0.7742, lr: 0.0006426703883202322\n",
      "Epoch 1/50, Validation Accuracy: 0.5240, Avg Loss: 0.6915, lr: 0.0006426703883202322\n",
      "Epoch 2/50, Validation Accuracy: 0.5025, Avg Loss: 0.6897, lr: 0.0006426703883202322\n",
      "Epoch 3/50, Validation Accuracy: 0.5025, Avg Loss: 0.6895, lr: 0.0006426703883202322\n",
      "Epoch 4/50, Validation Accuracy: 0.5257, Avg Loss: 0.6890, lr: 0.0006426703883202322\n",
      "Epoch 5/50, Validation Accuracy: 0.5260, Avg Loss: 0.6877, lr: 0.0006426703883202322\n",
      "Epoch 6/50, Validation Accuracy: 0.5274, Avg Loss: 0.6887, lr: 0.0006426703883202322\n",
      "Epoch 7/50, Validation Accuracy: 0.5102, Avg Loss: 0.6883, lr: 0.0006426703883202322\n",
      "Epoch 8/50, Validation Accuracy: 0.5116, Avg Loss: 0.6860, lr: 0.0006426703883202322\n",
      "Epoch 9/50, Validation Accuracy: 0.5262, Avg Loss: 0.6861, lr: 0.0006426703883202322\n",
      "Epoch 10/50, Validation Accuracy: 0.5446, Avg Loss: 0.6837, lr: 0.0006426703883202322\n",
      "Epoch 11/50, Validation Accuracy: 0.5262, Avg Loss: 0.6843, lr: 0.0006426703883202322\n",
      "Epoch 12/50, Validation Accuracy: 0.5607, Avg Loss: 0.6824, lr: 0.0006426703883202322\n",
      "Epoch 13/50, Validation Accuracy: 0.5598, Avg Loss: 0.6839, lr: 0.0006426703883202322\n",
      "Epoch 14/50, Validation Accuracy: 0.5415, Avg Loss: 0.6814, lr: 0.0006426703883202322\n",
      "Epoch 15/50, Validation Accuracy: 0.5705, Avg Loss: 0.6799, lr: 0.0006426703883202322\n",
      "Epoch 16/50, Validation Accuracy: 0.5525, Avg Loss: 0.6811, lr: 0.0006426703883202322\n",
      "Epoch 17/50, Validation Accuracy: 0.5666, Avg Loss: 0.6790, lr: 0.0006426703883202322\n",
      "Epoch 18/50, Validation Accuracy: 0.5632, Avg Loss: 0.6776, lr: 0.0006426703883202322\n",
      "Epoch 19/50, Validation Accuracy: 0.5773, Avg Loss: 0.6761, lr: 0.0006426703883202322\n",
      "Epoch 20/50, Validation Accuracy: 0.5787, Avg Loss: 0.6749, lr: 0.0006426703883202322\n",
      "Epoch 21/50, Validation Accuracy: 0.5883, Avg Loss: 0.6734, lr: 0.0006426703883202322\n",
      "Epoch 22/50, Validation Accuracy: 0.5759, Avg Loss: 0.6722, lr: 0.0006426703883202322\n",
      "Epoch 23/50, Validation Accuracy: 0.5815, Avg Loss: 0.6714, lr: 0.0006426703883202322\n",
      "Epoch 24/50, Validation Accuracy: 0.5821, Avg Loss: 0.6695, lr: 0.0006426703883202322\n",
      "Epoch 25/50, Validation Accuracy: 0.5900, Avg Loss: 0.6713, lr: 0.0006426703883202322\n",
      "Epoch 26/50, Validation Accuracy: 0.5903, Avg Loss: 0.6694, lr: 0.0006426703883202322\n",
      "Epoch 27/50, Validation Accuracy: 0.5841, Avg Loss: 0.6688, lr: 0.0006426703883202322\n",
      "Epoch 28/50, Validation Accuracy: 0.5940, Avg Loss: 0.6690, lr: 0.0006426703883202322\n",
      "Epoch 29/50, Validation Accuracy: 0.5841, Avg Loss: 0.6693, lr: 0.0006426703883202322\n",
      "Epoch 30/50, Validation Accuracy: 0.5942, Avg Loss: 0.6675, lr: 0.0006426703883202322\n",
      "Epoch 31/50, Validation Accuracy: 0.5897, Avg Loss: 0.6663, lr: 0.0006426703883202322\n",
      "Epoch 32/50, Validation Accuracy: 0.5965, Avg Loss: 0.6677, lr: 0.0006426703883202322\n",
      "Epoch 33/50, Validation Accuracy: 0.5903, Avg Loss: 0.6659, lr: 0.0006426703883202322\n",
      "Epoch 34/50, Validation Accuracy: 0.5959, Avg Loss: 0.6643, lr: 0.0006426703883202322\n",
      "Epoch 35/50, Validation Accuracy: 0.5914, Avg Loss: 0.6648, lr: 0.0006426703883202322\n",
      "Epoch 36/50, Validation Accuracy: 0.5988, Avg Loss: 0.6604, lr: 0.0006426703883202322\n",
      "Epoch 37/50, Validation Accuracy: 0.6021, Avg Loss: 0.6642, lr: 0.0006426703883202322\n",
      "Epoch 38/50, Validation Accuracy: 0.6038, Avg Loss: 0.6628, lr: 0.0006426703883202322\n",
      "Epoch 39/50, Validation Accuracy: 0.5959, Avg Loss: 0.6595, lr: 0.0006426703883202322\n",
      "Epoch 40/50, Validation Accuracy: 0.6075, Avg Loss: 0.6569, lr: 0.0006426703883202322\n",
      "Epoch 41/50, Validation Accuracy: 0.6050, Avg Loss: 0.6579, lr: 0.0006426703883202322\n",
      "Epoch 42/50, Validation Accuracy: 0.6115, Avg Loss: 0.6585, lr: 0.0006426703883202322\n",
      "Epoch 43/50, Validation Accuracy: 0.6075, Avg Loss: 0.6567, lr: 0.0006426703883202322\n",
      "Epoch 44/50, Validation Accuracy: 0.6050, Avg Loss: 0.6548, lr: 0.0006426703883202322\n",
      "Epoch 45/50, Validation Accuracy: 0.6177, Avg Loss: 0.6509, lr: 0.0006426703883202322\n",
      "Epoch 46/50, Validation Accuracy: 0.6134, Avg Loss: 0.6551, lr: 0.0006426703883202322\n",
      "Epoch 47/50, Validation Accuracy: 0.6202, Avg Loss: 0.6522, lr: 0.0006426703883202322\n",
      "Epoch 48/50, Validation Accuracy: 0.6230, Avg Loss: 0.6510, lr: 0.0006426703883202322\n",
      "Epoch 49/50, Validation Accuracy: 0.6185, Avg Loss: 0.6522, lr: 0.0006426703883202322\n"
     ]
    },
    {
     "name": "stderr",
     "output_type": "stream",
     "text": [
      "[I 2025-06-24 13:10:29,169] Trial 2 finished with value: 0.618510158013544 and parameters: {'window_length': 256, 'batch_size': 64, 'kernLength': 256, 'F1': 8, 'D': 2, 'F2': 16, 'hidden_dim': 64, 'layer_dim': 1, 'dropout': 0.40305525348217675, 'lr': 0.0006426703883202322}. Best is trial 2 with value: 0.618510158013544.\n"
     ]
    },
    {
     "name": "stdout",
     "output_type": "stream",
     "text": [
      "task: mi, split: train, domain: time, data_fraction: 0.4\n",
      "Using 40.0% of data: 960/960 samples\n",
      "skipped: 0/960\n",
      "data shape: (16860, 3, 256), mean shape: (1, 3, 1)\n",
      "task: mi, split: validation, domain: time, data_fraction: 1.0\n",
      "skipped: 0/50\n",
      "data shape: (857, 3, 256), mean shape: (1, 3, 1)\n",
      "Data prepared: Train batches=222, Val batches=56\n",
      "Epoch 0/50, Validation Accuracy: 0.5169, Avg Loss: 0.7611, lr: 0.0001965353092543613\n",
      "Epoch 1/50, Validation Accuracy: 0.5169, Avg Loss: 0.6929, lr: 0.0001965353092543613\n",
      "Epoch 2/50, Validation Accuracy: 0.5274, Avg Loss: 0.6912, lr: 0.0001965353092543613\n",
      "Epoch 3/50, Validation Accuracy: 0.5169, Avg Loss: 0.6904, lr: 0.0001965353092543613\n",
      "Epoch 4/50, Validation Accuracy: 0.5265, Avg Loss: 0.6901, lr: 0.0001965353092543613\n",
      "Epoch 5/50, Validation Accuracy: 0.5231, Avg Loss: 0.6886, lr: 0.0001965353092543613\n",
      "Epoch 6/50, Validation Accuracy: 0.5347, Avg Loss: 0.6899, lr: 0.0001965353092543613\n",
      "Epoch 7/50, Validation Accuracy: 0.5234, Avg Loss: 0.6886, lr: 0.0001965353092543613\n",
      "Epoch 8/50, Validation Accuracy: 0.5296, Avg Loss: 0.6872, lr: 0.0001965353092543613\n",
      "Epoch 9/50, Validation Accuracy: 0.5234, Avg Loss: 0.6870, lr: 0.0001965353092543613\n",
      "Epoch 10/50, Validation Accuracy: 0.5260, Avg Loss: 0.6869, lr: 0.0001965353092543613\n",
      "Epoch 11/50, Validation Accuracy: 0.5271, Avg Loss: 0.6874, lr: 0.0001965353092543613\n",
      "Epoch 12/50, Validation Accuracy: 0.5229, Avg Loss: 0.6877, lr: 0.0001965353092543613\n",
      "Epoch 13/50, Validation Accuracy: 0.5257, Avg Loss: 0.6870, lr: 0.0001965353092543613\n",
      "Epoch 14/50, Validation Accuracy: 0.5347, Avg Loss: 0.6859, lr: 0.0001965353092543613\n",
      "Epoch 15/50, Validation Accuracy: 0.5333, Avg Loss: 0.6852, lr: 0.0001965353092543613\n",
      "Epoch 16/50, Validation Accuracy: 0.5285, Avg Loss: 0.6850, lr: 0.0001965353092543613\n",
      "Epoch 17/50, Validation Accuracy: 0.5646, Avg Loss: 0.6844, lr: 0.0001965353092543613\n",
      "Epoch 18/50, Validation Accuracy: 0.5674, Avg Loss: 0.6867, lr: 0.0001965353092543613\n",
      "Epoch 19/50, Validation Accuracy: 0.5505, Avg Loss: 0.6848, lr: 0.0001965353092543613\n",
      "Epoch 20/50, Validation Accuracy: 0.5499, Avg Loss: 0.6843, lr: 0.0001965353092543613\n",
      "Epoch 21/50, Validation Accuracy: 0.5491, Avg Loss: 0.6842, lr: 0.0001965353092543613\n",
      "Epoch 22/50, Validation Accuracy: 0.5491, Avg Loss: 0.6836, lr: 0.0001965353092543613\n",
      "Epoch 23/50, Validation Accuracy: 0.5714, Avg Loss: 0.6807, lr: 0.0001965353092543613\n",
      "Epoch 24/50, Validation Accuracy: 0.5621, Avg Loss: 0.6819, lr: 0.0001965353092543613\n",
      "Epoch 25/50, Validation Accuracy: 0.5734, Avg Loss: 0.6793, lr: 0.0001965353092543613\n",
      "Epoch 26/50, Validation Accuracy: 0.5578, Avg Loss: 0.6779, lr: 0.0001965353092543613\n",
      "Epoch 27/50, Validation Accuracy: 0.5722, Avg Loss: 0.6787, lr: 0.0001965353092543613\n",
      "Epoch 28/50, Validation Accuracy: 0.5607, Avg Loss: 0.6759, lr: 0.0001965353092543613\n",
      "Epoch 29/50, Validation Accuracy: 0.5720, Avg Loss: 0.6750, lr: 0.0001965353092543613\n",
      "Epoch 30/50, Validation Accuracy: 0.5815, Avg Loss: 0.6731, lr: 0.0001965353092543613\n",
      "Epoch 31/50, Validation Accuracy: 0.5765, Avg Loss: 0.6728, lr: 0.0001965353092543613\n",
      "Epoch 32/50, Validation Accuracy: 0.5756, Avg Loss: 0.6731, lr: 0.0001965353092543613\n",
      "Epoch 33/50, Validation Accuracy: 0.5827, Avg Loss: 0.6723, lr: 0.0001965353092543613\n",
      "Epoch 34/50, Validation Accuracy: 0.5869, Avg Loss: 0.6719, lr: 0.0001965353092543613\n",
      "Epoch 35/50, Validation Accuracy: 0.5807, Avg Loss: 0.6691, lr: 0.0001965353092543613\n",
      "Epoch 36/50, Validation Accuracy: 0.5959, Avg Loss: 0.6683, lr: 0.0001965353092543613\n",
      "Epoch 37/50, Validation Accuracy: 0.5965, Avg Loss: 0.6678, lr: 0.0001965353092543613\n",
      "Epoch 38/50, Validation Accuracy: 0.5971, Avg Loss: 0.6661, lr: 0.0001965353092543613\n",
      "Epoch 39/50, Validation Accuracy: 0.5959, Avg Loss: 0.6664, lr: 0.0001965353092543613\n",
      "Epoch 40/50, Validation Accuracy: 0.5917, Avg Loss: 0.6662, lr: 0.0001965353092543613\n",
      "Epoch 41/50, Validation Accuracy: 0.6024, Avg Loss: 0.6645, lr: 0.0001965353092543613\n",
      "Epoch 42/50, Validation Accuracy: 0.6030, Avg Loss: 0.6645, lr: 0.0001965353092543613\n",
      "Epoch 43/50, Validation Accuracy: 0.6013, Avg Loss: 0.6636, lr: 0.0001965353092543613\n",
      "Epoch 44/50, Validation Accuracy: 0.6081, Avg Loss: 0.6631, lr: 0.0001965353092543613\n",
      "Epoch 45/50, Validation Accuracy: 0.6030, Avg Loss: 0.6617, lr: 0.0001965353092543613\n",
      "Epoch 46/50, Validation Accuracy: 0.6191, Avg Loss: 0.6639, lr: 0.0001965353092543613\n",
      "Epoch 47/50, Validation Accuracy: 0.6095, Avg Loss: 0.6607, lr: 0.0001965353092543613\n",
      "Epoch 48/50, Validation Accuracy: 0.6106, Avg Loss: 0.6609, lr: 0.0001965353092543613\n",
      "Epoch 49/50, Validation Accuracy: 0.6160, Avg Loss: 0.6618, lr: 0.0001965353092543613\n"
     ]
    },
    {
     "name": "stderr",
     "output_type": "stream",
     "text": [
      "[I 2025-06-24 13:13:05,916] Trial 3 finished with value: 0.6159706546275395 and parameters: {'window_length': 256, 'batch_size': 64, 'kernLength': 64, 'F1': 8, 'D': 3, 'F2': 64, 'hidden_dim': 256, 'layer_dim': 1, 'dropout': 0.3501663697670412, 'lr': 0.0001965353092543613}. Best is trial 2 with value: 0.618510158013544.\n"
     ]
    },
    {
     "name": "stdout",
     "output_type": "stream",
     "text": [
      "task: mi, split: train, domain: time, data_fraction: 0.4\n",
      "Using 40.0% of data: 960/960 samples\n",
      "skipped: 6/960\n",
      "data shape: (5528, 3, 640), mean shape: (1, 3, 1)\n",
      "task: mi, split: validation, domain: time, data_fraction: 1.0\n",
      "skipped: 0/50\n",
      "data shape: (278, 3, 640), mean shape: (1, 3, 1)\n",
      "Data prepared: Train batches=73, Val batches=19\n",
      "Epoch 0/50, Validation Accuracy: 0.5198, Avg Loss: 0.9394, lr: 0.00037323573380291706\n",
      "Epoch 1/50, Validation Accuracy: 0.5017, Avg Loss: 0.7014, lr: 0.00037323573380291706\n",
      "Epoch 2/50, Validation Accuracy: 0.5017, Avg Loss: 0.6973, lr: 0.00037323573380291706\n",
      "Epoch 3/50, Validation Accuracy: 0.5413, Avg Loss: 0.6954, lr: 0.00037323573380291706\n",
      "Epoch 4/50, Validation Accuracy: 0.5422, Avg Loss: 0.6929, lr: 0.00037323573380291706\n",
      "Epoch 5/50, Validation Accuracy: 0.5017, Avg Loss: 0.6918, lr: 0.00037323573380291706\n",
      "Epoch 6/50, Validation Accuracy: 0.5017, Avg Loss: 0.6921, lr: 0.00037323573380291706\n",
      "Epoch 7/50, Validation Accuracy: 0.5439, Avg Loss: 0.6924, lr: 0.00037323573380291706\n",
      "Epoch 8/50, Validation Accuracy: 0.5017, Avg Loss: 0.6895, lr: 0.00037323573380291706\n",
      "Epoch 9/50, Validation Accuracy: 0.5396, Avg Loss: 0.6903, lr: 0.00037323573380291706\n",
      "Epoch 10/50, Validation Accuracy: 0.5439, Avg Loss: 0.6917, lr: 0.00037323573380291706\n",
      "Epoch 11/50, Validation Accuracy: 0.5017, Avg Loss: 0.6906, lr: 0.00037323573380291706\n",
      "Epoch 12/50, Validation Accuracy: 0.5499, Avg Loss: 0.6911, lr: 0.00037323573380291706\n",
      "Epoch 13/50, Validation Accuracy: 0.5017, Avg Loss: 0.6900, lr: 0.00037323573380291706\n",
      "Epoch 14/50, Validation Accuracy: 0.5344, Avg Loss: 0.6896, lr: 0.00037323573380291706\n",
      "Epoch 15/50, Validation Accuracy: 0.5318, Avg Loss: 0.6897, lr: 0.00037323573380291706\n",
      "Epoch 16/50, Validation Accuracy: 0.5017, Avg Loss: 0.6896, lr: 0.00037323573380291706\n",
      "Epoch 17/50, Validation Accuracy: 0.5017, Avg Loss: 0.6902, lr: 0.00037323573380291706\n",
      "Epoch 18/50, Validation Accuracy: 0.5017, Avg Loss: 0.6916, lr: 0.00037323573380291706\n",
      "Epoch 19/50, Validation Accuracy: 0.5017, Avg Loss: 0.6911, lr: 0.00037323573380291706\n",
      "Epoch 20/50, Validation Accuracy: 0.5404, Avg Loss: 0.6895, lr: 0.00037323573380291706\n",
      "Epoch 21/50, Validation Accuracy: 0.5017, Avg Loss: 0.6897, lr: 0.00037323573380291706\n",
      "Epoch 22/50, Validation Accuracy: 0.5017, Avg Loss: 0.6894, lr: 0.00037323573380291706\n",
      "Epoch 23/50, Validation Accuracy: 0.5422, Avg Loss: 0.6891, lr: 0.00037323573380291706\n",
      "Epoch 24/50, Validation Accuracy: 0.5017, Avg Loss: 0.6899, lr: 0.00037323573380291706\n",
      "Epoch 25/50, Validation Accuracy: 0.5473, Avg Loss: 0.6897, lr: 0.00037323573380291706\n",
      "Epoch 26/50, Validation Accuracy: 0.5189, Avg Loss: 0.6884, lr: 0.00037323573380291706\n",
      "Epoch 27/50, Validation Accuracy: 0.5396, Avg Loss: 0.6875, lr: 0.00037323573380291706\n",
      "Epoch 28/50, Validation Accuracy: 0.5112, Avg Loss: 0.6881, lr: 0.00037323573380291706\n",
      "Epoch 29/50, Validation Accuracy: 0.5422, Avg Loss: 0.6868, lr: 0.00037323573380291706\n",
      "Epoch 30/50, Validation Accuracy: 0.5086, Avg Loss: 0.6871, lr: 0.00037323573380291706\n",
      "Epoch 31/50, Validation Accuracy: 0.5387, Avg Loss: 0.6888, lr: 0.00037323573380291706\n",
      "Epoch 32/50, Validation Accuracy: 0.5224, Avg Loss: 0.6885, lr: 0.00037323573380291706\n",
      "Epoch 33/50, Validation Accuracy: 0.5413, Avg Loss: 0.6881, lr: 0.00037323573380291706\n",
      "Epoch 34/50, Validation Accuracy: 0.5379, Avg Loss: 0.6885, lr: 0.00037323573380291706\n",
      "Epoch 35/50, Validation Accuracy: 0.5241, Avg Loss: 0.6869, lr: 0.00037323573380291706\n",
      "Epoch 36/50, Validation Accuracy: 0.5224, Avg Loss: 0.6855, lr: 0.00037323573380291706\n",
      "Epoch 37/50, Validation Accuracy: 0.5327, Avg Loss: 0.6851, lr: 0.00037323573380291706\n",
      "Epoch 38/50, Validation Accuracy: 0.5404, Avg Loss: 0.6859, lr: 0.00037323573380291706\n",
      "Epoch 39/50, Validation Accuracy: 0.5267, Avg Loss: 0.6861, lr: 0.00037323573380291706\n",
      "Epoch 40/50, Validation Accuracy: 0.5310, Avg Loss: 0.6841, lr: 0.00037323573380291706\n",
      "Epoch 41/50, Validation Accuracy: 0.5413, Avg Loss: 0.6849, lr: 0.00037323573380291706\n",
      "Epoch 42/50, Validation Accuracy: 0.5465, Avg Loss: 0.6863, lr: 0.00037323573380291706\n",
      "Epoch 43/50, Validation Accuracy: 0.5577, Avg Loss: 0.6862, lr: 0.00037323573380291706\n",
      "Epoch 44/50, Validation Accuracy: 0.5396, Avg Loss: 0.6861, lr: 0.00037323573380291706\n",
      "Epoch 45/50, Validation Accuracy: 0.5404, Avg Loss: 0.6860, lr: 0.00037323573380291706\n",
      "Epoch 46/50, Validation Accuracy: 0.5525, Avg Loss: 0.6848, lr: 0.00037323573380291706\n",
      "Epoch 47/50, Validation Accuracy: 0.5181, Avg Loss: 0.6844, lr: 0.00037323573380291706\n",
      "Epoch 48/50, Validation Accuracy: 0.5396, Avg Loss: 0.6862, lr: 0.00037323573380291706\n",
      "Epoch 49/50, Validation Accuracy: 0.5284, Avg Loss: 0.6866, lr: 0.00037323573380291706\n"
     ]
    },
    {
     "name": "stderr",
     "output_type": "stream",
     "text": [
      "[I 2025-06-24 13:14:24,821] Trial 4 finished with value: 0.5283993115318416 and parameters: {'window_length': 640, 'batch_size': 64, 'kernLength': 256, 'F1': 32, 'D': 1, 'F2': 32, 'hidden_dim': 64, 'layer_dim': 2, 'dropout': 0.5404712739027973, 'lr': 0.00037323573380291706}. Best is trial 2 with value: 0.618510158013544.\n"
     ]
    },
    {
     "name": "stdout",
     "output_type": "stream",
     "text": [
      "task: mi, split: train, domain: time, data_fraction: 0.4\n",
      "Using 40.0% of data: 960/960 samples\n",
      "skipped: 0/960\n",
      "data shape: (36600, 3, 128), mean shape: (1, 3, 1)\n",
      "task: mi, split: validation, domain: time, data_fraction: 1.0\n",
      "skipped: 0/50\n",
      "data shape: (1862, 3, 128), mean shape: (1, 3, 1)\n",
      "Data prepared: Train batches=481, Val batches=121\n",
      "Epoch 0/50, Validation Accuracy: 0.5240, Avg Loss: 0.6994, lr: 0.004600182313128808\n",
      "Epoch 1/50, Validation Accuracy: 0.5340, Avg Loss: 0.6923, lr: 0.004600182313128808\n",
      "Epoch 2/50, Validation Accuracy: 0.5454, Avg Loss: 0.6889, lr: 0.004600182313128808\n",
      "Epoch 3/50, Validation Accuracy: 0.5670, Avg Loss: 0.6850, lr: 0.004600182313128808\n",
      "Epoch 4/50, Validation Accuracy: 0.5794, Avg Loss: 0.6823, lr: 0.004600182313128808\n",
      "Epoch 5/50, Validation Accuracy: 0.5691, Avg Loss: 0.6791, lr: 0.004600182313128808\n",
      "Epoch 6/50, Validation Accuracy: 0.5408, Avg Loss: 0.6770, lr: 0.004600182313128808\n",
      "Epoch 7/50, Validation Accuracy: 0.5781, Avg Loss: 0.6750, lr: 0.004600182313128808\n",
      "Epoch 8/50, Validation Accuracy: 0.5714, Avg Loss: 0.6743, lr: 0.004600182313128808\n",
      "Epoch 9/50, Validation Accuracy: 0.5758, Avg Loss: 0.6719, lr: 0.004600182313128808\n",
      "Epoch 10/50, Validation Accuracy: 0.5856, Avg Loss: 0.6705, lr: 0.004600182313128808\n",
      "Epoch 11/50, Validation Accuracy: 0.5862, Avg Loss: 0.6693, lr: 0.004600182313128808\n",
      "Epoch 12/50, Validation Accuracy: 0.5865, Avg Loss: 0.6665, lr: 0.004600182313128808\n",
      "Epoch 13/50, Validation Accuracy: 0.5914, Avg Loss: 0.6663, lr: 0.004600182313128808\n",
      "Epoch 14/50, Validation Accuracy: 0.6011, Avg Loss: 0.6634, lr: 0.004600182313128808\n",
      "Epoch 15/50, Validation Accuracy: 0.5970, Avg Loss: 0.6605, lr: 0.004600182313128808\n",
      "Epoch 16/50, Validation Accuracy: 0.5934, Avg Loss: 0.6597, lr: 0.004600182313128808\n",
      "Epoch 17/50, Validation Accuracy: 0.6076, Avg Loss: 0.6593, lr: 0.004600182313128808\n",
      "Epoch 18/50, Validation Accuracy: 0.6011, Avg Loss: 0.6579, lr: 0.004600182313128808\n",
      "Epoch 19/50, Validation Accuracy: 0.6063, Avg Loss: 0.6566, lr: 0.004600182313128808\n",
      "Epoch 20/50, Validation Accuracy: 0.6069, Avg Loss: 0.6554, lr: 0.004600182313128808\n",
      "Epoch 21/50, Validation Accuracy: 0.6077, Avg Loss: 0.6542, lr: 0.004600182313128808\n",
      "Epoch 22/50, Validation Accuracy: 0.6090, Avg Loss: 0.6522, lr: 0.004600182313128808\n",
      "Epoch 23/50, Validation Accuracy: 0.6111, Avg Loss: 0.6521, lr: 0.004600182313128808\n",
      "Epoch 24/50, Validation Accuracy: 0.6126, Avg Loss: 0.6504, lr: 0.004600182313128808\n",
      "Epoch 25/50, Validation Accuracy: 0.6013, Avg Loss: 0.6490, lr: 0.004600182313128808\n",
      "Epoch 26/50, Validation Accuracy: 0.5922, Avg Loss: 0.6488, lr: 0.004600182313128808\n",
      "Epoch 27/50, Validation Accuracy: 0.6169, Avg Loss: 0.6466, lr: 0.004600182313128808\n",
      "Epoch 28/50, Validation Accuracy: 0.6020, Avg Loss: 0.6453, lr: 0.004600182313128808\n",
      "Epoch 29/50, Validation Accuracy: 0.6108, Avg Loss: 0.6467, lr: 0.004600182313128808\n",
      "Epoch 30/50, Validation Accuracy: 0.6259, Avg Loss: 0.6446, lr: 0.004600182313128808\n",
      "Epoch 31/50, Validation Accuracy: 0.6282, Avg Loss: 0.6418, lr: 0.004600182313128808\n",
      "Epoch 32/50, Validation Accuracy: 0.6226, Avg Loss: 0.6410, lr: 0.004600182313128808\n",
      "Epoch 33/50, Validation Accuracy: 0.6203, Avg Loss: 0.6392, lr: 0.004600182313128808\n",
      "Epoch 34/50, Validation Accuracy: 0.6247, Avg Loss: 0.6389, lr: 0.004600182313128808\n",
      "Epoch 35/50, Validation Accuracy: 0.5944, Avg Loss: 0.6400, lr: 0.004600182313128808\n",
      "Epoch 36/50, Validation Accuracy: 0.6314, Avg Loss: 0.6414, lr: 0.004600182313128808\n",
      "Epoch 37/50, Validation Accuracy: 0.6076, Avg Loss: 0.6371, lr: 0.004600182313128808\n",
      "Epoch 38/50, Validation Accuracy: 0.6229, Avg Loss: 0.6365, lr: 0.004600182313128808\n",
      "Epoch 39/50, Validation Accuracy: 0.6228, Avg Loss: 0.6339, lr: 0.004600182313128808\n",
      "Epoch 40/50, Validation Accuracy: 0.6299, Avg Loss: 0.6340, lr: 0.004600182313128808\n",
      "Epoch 41/50, Validation Accuracy: 0.6236, Avg Loss: 0.6324, lr: 0.004600182313128808\n",
      "Epoch 42/50, Validation Accuracy: 0.6158, Avg Loss: 0.6328, lr: 0.004600182313128808\n",
      "Epoch 43/50, Validation Accuracy: 0.6239, Avg Loss: 0.6328, lr: 0.004600182313128808\n",
      "Epoch 44/50, Validation Accuracy: 0.6167, Avg Loss: 0.6312, lr: 0.004600182313128808\n",
      "Epoch 45/50, Validation Accuracy: 0.6289, Avg Loss: 0.6313, lr: 0.004600182313128808\n",
      "Epoch 46/50, Validation Accuracy: 0.6150, Avg Loss: 0.6304, lr: 0.004600182313128808\n",
      "Epoch 47/50, Validation Accuracy: 0.6211, Avg Loss: 0.6306, lr: 0.004600182313128808\n",
      "Epoch 48/50, Validation Accuracy: 0.6167, Avg Loss: 0.6273, lr: 0.004600182313128808\n",
      "Epoch 49/50, Validation Accuracy: 0.6247, Avg Loss: 0.6269, lr: 0.004600182313128808\n"
     ]
    },
    {
     "name": "stderr",
     "output_type": "stream",
     "text": [
      "[I 2025-06-24 13:17:44,218] Trial 5 finished with value: 0.6247237748602625 and parameters: {'window_length': 128, 'batch_size': 64, 'kernLength': 64, 'F1': 32, 'D': 2, 'F2': 16, 'hidden_dim': 128, 'layer_dim': 1, 'dropout': 0.23558930393275893, 'lr': 0.004600182313128808}. Best is trial 5 with value: 0.6247237748602625.\n"
     ]
    },
    {
     "name": "stdout",
     "output_type": "stream",
     "text": [
      "task: mi, split: train, domain: time, data_fraction: 0.4\n",
      "Using 40.0% of data: 960/960 samples\n",
      "skipped: 6/960\n",
      "data shape: (5528, 3, 640), mean shape: (1, 3, 1)\n",
      "task: mi, split: validation, domain: time, data_fraction: 1.0\n",
      "skipped: 0/50\n",
      "data shape: (278, 3, 640), mean shape: (1, 3, 1)\n",
      "Data prepared: Train batches=73, Val batches=19\n",
      "Epoch 0/50, Validation Accuracy: 0.4948, Avg Loss: 1.1902, lr: 0.00015321737109206371\n",
      "Epoch 1/50, Validation Accuracy: 0.5370, Avg Loss: 0.7813, lr: 0.00015321737109206371\n",
      "Epoch 2/50, Validation Accuracy: 0.5241, Avg Loss: 0.7134, lr: 0.00015321737109206371\n",
      "Epoch 3/50, Validation Accuracy: 0.5396, Avg Loss: 0.7034, lr: 0.00015321737109206371\n",
      "Epoch 4/50, Validation Accuracy: 0.5361, Avg Loss: 0.7005, lr: 0.00015321737109206371\n",
      "Epoch 5/50, Validation Accuracy: 0.5508, Avg Loss: 0.6981, lr: 0.00015321737109206371\n",
      "Epoch 6/50, Validation Accuracy: 0.5448, Avg Loss: 0.6959, lr: 0.00015321737109206371\n",
      "Epoch 7/50, Validation Accuracy: 0.5301, Avg Loss: 0.6948, lr: 0.00015321737109206371\n",
      "Epoch 8/50, Validation Accuracy: 0.5594, Avg Loss: 0.6951, lr: 0.00015321737109206371\n",
      "Epoch 9/50, Validation Accuracy: 0.5310, Avg Loss: 0.6942, lr: 0.00015321737109206371\n",
      "Epoch 10/50, Validation Accuracy: 0.5361, Avg Loss: 0.6934, lr: 0.00015321737109206371\n",
      "Epoch 11/50, Validation Accuracy: 0.5525, Avg Loss: 0.6934, lr: 0.00015321737109206371\n",
      "Epoch 12/50, Validation Accuracy: 0.5275, Avg Loss: 0.6917, lr: 0.00015321737109206371\n",
      "Epoch 13/50, Validation Accuracy: 0.5293, Avg Loss: 0.6925, lr: 0.00015321737109206371\n",
      "Epoch 14/50, Validation Accuracy: 0.5740, Avg Loss: 0.6918, lr: 0.00015321737109206371\n",
      "Epoch 15/50, Validation Accuracy: 0.5482, Avg Loss: 0.6902, lr: 0.00015321737109206371\n",
      "Epoch 16/50, Validation Accuracy: 0.5499, Avg Loss: 0.6901, lr: 0.00015321737109206371\n",
      "Epoch 17/50, Validation Accuracy: 0.5594, Avg Loss: 0.6890, lr: 0.00015321737109206371\n",
      "Epoch 18/50, Validation Accuracy: 0.5611, Avg Loss: 0.6880, lr: 0.00015321737109206371\n",
      "Epoch 19/50, Validation Accuracy: 0.5473, Avg Loss: 0.6890, lr: 0.00015321737109206371\n",
      "Epoch 20/50, Validation Accuracy: 0.5697, Avg Loss: 0.6878, lr: 0.00015321737109206371\n",
      "Epoch 21/50, Validation Accuracy: 0.5697, Avg Loss: 0.6874, lr: 0.00015321737109206371\n",
      "Epoch 22/50, Validation Accuracy: 0.5585, Avg Loss: 0.6860, lr: 0.00015321737109206371\n",
      "Epoch 23/50, Validation Accuracy: 0.5835, Avg Loss: 0.6866, lr: 0.00015321737109206371\n",
      "Epoch 24/50, Validation Accuracy: 0.5714, Avg Loss: 0.6864, lr: 0.00015321737109206371\n",
      "Epoch 25/50, Validation Accuracy: 0.5620, Avg Loss: 0.6861, lr: 0.00015321737109206371\n",
      "Epoch 26/50, Validation Accuracy: 0.5792, Avg Loss: 0.6860, lr: 0.00015321737109206371\n",
      "Epoch 27/50, Validation Accuracy: 0.5663, Avg Loss: 0.6831, lr: 0.00015321737109206371\n",
      "Epoch 28/50, Validation Accuracy: 0.5654, Avg Loss: 0.6826, lr: 0.00015321737109206371\n",
      "Epoch 29/50, Validation Accuracy: 0.5680, Avg Loss: 0.6851, lr: 0.00015321737109206371\n",
      "Epoch 30/50, Validation Accuracy: 0.5749, Avg Loss: 0.6836, lr: 0.00015321737109206371\n",
      "Epoch 31/50, Validation Accuracy: 0.5542, Avg Loss: 0.6841, lr: 0.00015321737109206371\n",
      "Epoch 32/50, Validation Accuracy: 0.5602, Avg Loss: 0.6828, lr: 0.00015321737109206371\n",
      "Epoch 33/50, Validation Accuracy: 0.5714, Avg Loss: 0.6826, lr: 0.00015321737109206371\n",
      "Epoch 34/50, Validation Accuracy: 0.5714, Avg Loss: 0.6814, lr: 0.00015321737109206371\n",
      "Epoch 35/50, Validation Accuracy: 0.5731, Avg Loss: 0.6818, lr: 0.00015321737109206371\n",
      "Epoch 36/50, Validation Accuracy: 0.5688, Avg Loss: 0.6819, lr: 0.00015321737109206371\n",
      "Epoch 37/50, Validation Accuracy: 0.5594, Avg Loss: 0.6801, lr: 0.00015321737109206371\n",
      "Epoch 38/50, Validation Accuracy: 0.5645, Avg Loss: 0.6802, lr: 0.00015321737109206371\n",
      "Epoch 39/50, Validation Accuracy: 0.5611, Avg Loss: 0.6804, lr: 0.00015321737109206371\n",
      "Epoch 40/50, Validation Accuracy: 0.5559, Avg Loss: 0.6811, lr: 0.00015321737109206371\n",
      "Epoch 41/50, Validation Accuracy: 0.5620, Avg Loss: 0.6789, lr: 0.00015321737109206371\n",
      "Epoch 42/50, Validation Accuracy: 0.5723, Avg Loss: 0.6790, lr: 0.00015321737109206371\n",
      "Epoch 43/50, Validation Accuracy: 0.5542, Avg Loss: 0.6792, lr: 0.00015321737109206371\n",
      "Epoch 44/50, Validation Accuracy: 0.5645, Avg Loss: 0.6788, lr: 0.00015321737109206371\n",
      "Epoch 45/50, Validation Accuracy: 0.5628, Avg Loss: 0.6790, lr: 0.00015321737109206371\n",
      "Epoch 46/50, Validation Accuracy: 0.5559, Avg Loss: 0.6814, lr: 0.00015321737109206371\n",
      "Epoch 47/50, Validation Accuracy: 0.5637, Avg Loss: 0.6777, lr: 0.00015321737109206371\n",
      "Epoch 48/50, Validation Accuracy: 0.5757, Avg Loss: 0.6787, lr: 0.00015321737109206371\n",
      "Epoch 49/50, Validation Accuracy: 0.5723, Avg Loss: 0.6785, lr: 0.00015321737109206371\n"
     ]
    },
    {
     "name": "stderr",
     "output_type": "stream",
     "text": [
      "[I 2025-06-24 13:19:06,715] Trial 6 finished with value: 0.572289156626506 and parameters: {'window_length': 640, 'batch_size': 64, 'kernLength': 128, 'F1': 32, 'D': 2, 'F2': 32, 'hidden_dim': 64, 'layer_dim': 1, 'dropout': 0.5063798781017299, 'lr': 0.00015321737109206371}. Best is trial 5 with value: 0.6247237748602625.\n"
     ]
    },
    {
     "name": "stdout",
     "output_type": "stream",
     "text": [
      "task: mi, split: train, domain: time, data_fraction: 0.4\n",
      "Using 40.0% of data: 960/960 samples\n",
      "skipped: 0/960\n",
      "data shape: (36600, 3, 128), mean shape: (1, 3, 1)\n",
      "task: mi, split: validation, domain: time, data_fraction: 1.0\n",
      "skipped: 0/50\n",
      "data shape: (1862, 3, 128), mean shape: (1, 3, 1)\n",
      "Data prepared: Train batches=481, Val batches=121\n",
      "Epoch 0/50, Validation Accuracy: 0.5176, Avg Loss: 0.7781, lr: 0.00015582427116663991\n"
     ]
    },
    {
     "name": "stderr",
     "output_type": "stream",
     "text": [
      "[I 2025-06-24 13:19:27,616] Trial 7 pruned. \n"
     ]
    },
    {
     "name": "stdout",
     "output_type": "stream",
     "text": [
      "task: mi, split: train, domain: time, data_fraction: 0.4\n",
      "Using 40.0% of data: 960/960 samples\n",
      "skipped: 0/960\n",
      "data shape: (36600, 3, 128), mean shape: (1, 3, 1)\n",
      "task: mi, split: validation, domain: time, data_fraction: 1.0\n",
      "skipped: 0/50\n",
      "data shape: (1862, 3, 128), mean shape: (1, 3, 1)\n",
      "Data prepared: Train batches=481, Val batches=121\n",
      "Epoch 0/50, Validation Accuracy: 0.5293, Avg Loss: 0.7004, lr: 0.00558147192005758\n",
      "Epoch 1/50, Validation Accuracy: 0.5409, Avg Loss: 0.6907, lr: 0.00558147192005758\n",
      "Epoch 2/50, Validation Accuracy: 0.5428, Avg Loss: 0.6897, lr: 0.00558147192005758\n",
      "Epoch 3/50, Validation Accuracy: 0.5159, Avg Loss: 0.6898, lr: 0.00558147192005758\n",
      "Epoch 4/50, Validation Accuracy: 0.5161, Avg Loss: 0.6882, lr: 0.00558147192005758\n",
      "Epoch 5/50, Validation Accuracy: 0.5396, Avg Loss: 0.6891, lr: 0.00558147192005758\n",
      "Epoch 6/50, Validation Accuracy: 0.5509, Avg Loss: 0.6899, lr: 0.00558147192005758\n",
      "Epoch 7/50, Validation Accuracy: 0.5548, Avg Loss: 0.6875, lr: 0.00558147192005758\n",
      "Epoch 8/50, Validation Accuracy: 0.5423, Avg Loss: 0.6865, lr: 0.00558147192005758\n",
      "Epoch 9/50, Validation Accuracy: 0.5348, Avg Loss: 0.6863, lr: 0.00558147192005758\n",
      "Epoch 10/50, Validation Accuracy: 0.5599, Avg Loss: 0.6865, lr: 0.00558147192005758\n",
      "Epoch 11/50, Validation Accuracy: 0.5596, Avg Loss: 0.6858, lr: 0.00558147192005758\n",
      "Epoch 12/50, Validation Accuracy: 0.5586, Avg Loss: 0.6842, lr: 0.00558147192005758\n",
      "Epoch 13/50, Validation Accuracy: 0.5589, Avg Loss: 0.6832, lr: 0.00558147192005758\n",
      "Epoch 14/50, Validation Accuracy: 0.5235, Avg Loss: 0.6814, lr: 0.00558147192005758\n",
      "Epoch 15/50, Validation Accuracy: 0.5634, Avg Loss: 0.6817, lr: 0.00558147192005758\n",
      "Epoch 16/50, Validation Accuracy: 0.5604, Avg Loss: 0.6828, lr: 0.00558147192005758\n"
     ]
    },
    {
     "name": "stderr",
     "output_type": "stream",
     "text": [
      "[I 2025-06-24 13:22:06,428] Trial 8 pruned. \n"
     ]
    },
    {
     "name": "stdout",
     "output_type": "stream",
     "text": [
      "task: mi, split: train, domain: time, data_fraction: 0.4\n",
      "Using 40.0% of data: 960/960 samples\n",
      "skipped: 0/960\n",
      "data shape: (36600, 3, 128), mean shape: (1, 3, 1)\n",
      "task: mi, split: validation, domain: time, data_fraction: 1.0\n",
      "skipped: 0/50\n",
      "data shape: (1862, 3, 128), mean shape: (1, 3, 1)\n",
      "Data prepared: Train batches=962, Val batches=241\n",
      "Epoch 0/50, Validation Accuracy: 0.5285, Avg Loss: 0.7010, lr: 0.001110814175556375\n",
      "Epoch 1/50, Validation Accuracy: 0.5268, Avg Loss: 0.6932, lr: 0.001110814175556375\n",
      "Epoch 2/50, Validation Accuracy: 0.5285, Avg Loss: 0.6922, lr: 0.001110814175556375\n"
     ]
    },
    {
     "name": "stderr",
     "output_type": "stream",
     "text": [
      "[I 2025-06-24 13:22:53,883] Trial 9 pruned. \n"
     ]
    },
    {
     "name": "stdout",
     "output_type": "stream",
     "text": [
      "task: mi, split: train, domain: time, data_fraction: 0.4\n",
      "Using 40.0% of data: 960/960 samples\n",
      "skipped: 6/960\n",
      "data shape: (5528, 3, 640), mean shape: (1, 3, 1)\n",
      "task: mi, split: validation, domain: time, data_fraction: 1.0\n",
      "skipped: 0/50\n",
      "data shape: (278, 3, 640), mean shape: (1, 3, 1)\n",
      "Data prepared: Train batches=146, Val batches=37\n",
      "Epoch 0/50, Validation Accuracy: 0.5327, Avg Loss: 1.0167, lr: 0.0001342679660378534\n",
      "Epoch 1/50, Validation Accuracy: 0.5164, Avg Loss: 0.7161, lr: 0.0001342679660378534\n",
      "Epoch 2/50, Validation Accuracy: 0.5258, Avg Loss: 0.7024, lr: 0.0001342679660378534\n"
     ]
    },
    {
     "name": "stderr",
     "output_type": "stream",
     "text": [
      "[I 2025-06-24 13:23:12,207] Trial 10 pruned. \n"
     ]
    },
    {
     "name": "stdout",
     "output_type": "stream",
     "text": [
      "task: mi, split: train, domain: time, data_fraction: 0.4\n",
      "Using 40.0% of data: 960/960 samples\n",
      "skipped: 0/960\n",
      "data shape: (36600, 3, 128), mean shape: (1, 3, 1)\n",
      "task: mi, split: validation, domain: time, data_fraction: 1.0\n",
      "skipped: 0/50\n",
      "data shape: (1862, 3, 128), mean shape: (1, 3, 1)\n",
      "Data prepared: Train batches=962, Val batches=241\n"
     ]
    },
    {
     "name": "stderr",
     "output_type": "stream",
     "text": [
      "[I 2025-06-24 13:23:32,262] Trial 11 pruned. \n"
     ]
    },
    {
     "name": "stdout",
     "output_type": "stream",
     "text": [
      "task: mi, split: train, domain: time, data_fraction: 0.4\n",
      "Using 40.0% of data: 960/960 samples\n",
      "skipped: 0/960\n",
      "data shape: (36600, 3, 128), mean shape: (1, 3, 1)\n",
      "task: mi, split: validation, domain: time, data_fraction: 1.0\n",
      "skipped: 0/50\n",
      "data shape: (1862, 3, 128), mean shape: (1, 3, 1)\n",
      "Data prepared: Train batches=962, Val batches=241\n",
      "Epoch 0/50, Validation Accuracy: 0.5216, Avg Loss: 0.6975, lr: 0.009146818011546062\n",
      "Epoch 1/50, Validation Accuracy: 0.5552, Avg Loss: 0.6904, lr: 0.009146818011546062\n",
      "Epoch 2/50, Validation Accuracy: 0.5489, Avg Loss: 0.6890, lr: 0.009146818011546062\n",
      "Epoch 3/50, Validation Accuracy: 0.5493, Avg Loss: 0.6877, lr: 0.009146818011546062\n",
      "Epoch 4/50, Validation Accuracy: 0.5508, Avg Loss: 0.6857, lr: 0.009146818011546062\n",
      "Epoch 5/50, Validation Accuracy: 0.5592, Avg Loss: 0.6848, lr: 0.009146818011546062\n",
      "Epoch 6/50, Validation Accuracy: 0.5536, Avg Loss: 0.6842, lr: 0.009146818011546062\n",
      "Epoch 7/50, Validation Accuracy: 0.5521, Avg Loss: 0.6838, lr: 0.009146818011546062\n",
      "Epoch 8/50, Validation Accuracy: 0.5599, Avg Loss: 0.6826, lr: 0.009146818011546062\n",
      "Epoch 9/50, Validation Accuracy: 0.5422, Avg Loss: 0.6847, lr: 0.009146818011546062\n",
      "Epoch 10/50, Validation Accuracy: 0.5626, Avg Loss: 0.6831, lr: 0.009146818011546062\n",
      "Epoch 11/50, Validation Accuracy: 0.5630, Avg Loss: 0.6822, lr: 0.009146818011546062\n",
      "Epoch 12/50, Validation Accuracy: 0.5517, Avg Loss: 0.6815, lr: 0.009146818011546062\n",
      "Epoch 13/50, Validation Accuracy: 0.5644, Avg Loss: 0.6801, lr: 0.009146818011546062\n",
      "Epoch 14/50, Validation Accuracy: 0.5734, Avg Loss: 0.6793, lr: 0.009146818011546062\n",
      "Epoch 15/50, Validation Accuracy: 0.5817, Avg Loss: 0.6788, lr: 0.009146818011546062\n",
      "Epoch 16/50, Validation Accuracy: 0.5782, Avg Loss: 0.6792, lr: 0.009146818011546062\n",
      "Epoch 17/50, Validation Accuracy: 0.5827, Avg Loss: 0.6793, lr: 0.009146818011546062\n",
      "Epoch 18/50, Validation Accuracy: 0.5822, Avg Loss: 0.6792, lr: 0.009146818011546062\n",
      "Epoch 19/50, Validation Accuracy: 0.5829, Avg Loss: 0.6756, lr: 0.009146818011546062\n",
      "Epoch 20/50, Validation Accuracy: 0.5732, Avg Loss: 0.6759, lr: 0.009146818011546062\n",
      "Epoch 21/50, Validation Accuracy: 0.5775, Avg Loss: 0.6751, lr: 0.009146818011546062\n",
      "Epoch 22/50, Validation Accuracy: 0.5803, Avg Loss: 0.6751, lr: 0.009146818011546062\n",
      "Epoch 23/50, Validation Accuracy: 0.5705, Avg Loss: 0.6745, lr: 0.009146818011546062\n",
      "Epoch 24/50, Validation Accuracy: 0.5805, Avg Loss: 0.6762, lr: 0.009146818011546062\n",
      "Epoch 25/50, Validation Accuracy: 0.5804, Avg Loss: 0.6731, lr: 0.009146818011546062\n",
      "Epoch 26/50, Validation Accuracy: 0.5768, Avg Loss: 0.6732, lr: 0.009146818011546062\n",
      "Epoch 27/50, Validation Accuracy: 0.5803, Avg Loss: 0.6743, lr: 0.009146818011546062\n",
      "Epoch 28/50, Validation Accuracy: 0.5385, Avg Loss: 0.6727, lr: 0.009146818011546062\n",
      "Epoch 29/50, Validation Accuracy: 0.5813, Avg Loss: 0.6741, lr: 0.009146818011546062\n",
      "Epoch 30/50, Validation Accuracy: 0.5755, Avg Loss: 0.6742, lr: 0.009146818011546062\n",
      "Epoch 31/50, Validation Accuracy: 0.5771, Avg Loss: 0.6745, lr: 0.009146818011546062\n",
      "Epoch 32/50, Validation Accuracy: 0.5648, Avg Loss: 0.6741, lr: 0.009146818011546062\n",
      "Epoch 33/50, Validation Accuracy: 0.5714, Avg Loss: 0.6751, lr: 0.009146818011546062\n"
     ]
    },
    {
     "name": "stderr",
     "output_type": "stream",
     "text": [
      "[I 2025-06-24 13:27:23,568] Trial 12 pruned. \n"
     ]
    },
    {
     "name": "stdout",
     "output_type": "stream",
     "text": [
      "task: mi, split: train, domain: time, data_fraction: 0.4\n",
      "Using 40.0% of data: 960/960 samples\n",
      "skipped: 0/960\n",
      "data shape: (16860, 3, 256), mean shape: (1, 3, 1)\n",
      "task: mi, split: validation, domain: time, data_fraction: 1.0\n",
      "skipped: 0/50\n",
      "data shape: (857, 3, 256), mean shape: (1, 3, 1)\n",
      "Data prepared: Train batches=222, Val batches=56\n"
     ]
    },
    {
     "name": "stderr",
     "output_type": "stream",
     "text": [
      "[I 2025-06-24 13:27:37,826] Trial 13 pruned. \n"
     ]
    },
    {
     "name": "stdout",
     "output_type": "stream",
     "text": [
      "task: mi, split: train, domain: time, data_fraction: 0.4\n",
      "Using 40.0% of data: 960/960 samples\n",
      "skipped: 0/960\n",
      "data shape: (16860, 3, 256), mean shape: (1, 3, 1)\n",
      "task: mi, split: validation, domain: time, data_fraction: 1.0\n",
      "skipped: 0/50\n",
      "data shape: (857, 3, 256), mean shape: (1, 3, 1)\n",
      "Data prepared: Train batches=222, Val batches=56\n"
     ]
    },
    {
     "name": "stderr",
     "output_type": "stream",
     "text": [
      "[I 2025-06-24 13:27:51,722] Trial 14 pruned. \n"
     ]
    },
    {
     "name": "stdout",
     "output_type": "stream",
     "text": [
      "task: mi, split: train, domain: time, data_fraction: 0.4\n",
      "Using 40.0% of data: 960/960 samples\n",
      "skipped: 0/960\n",
      "data shape: (16860, 3, 256), mean shape: (1, 3, 1)\n",
      "task: mi, split: validation, domain: time, data_fraction: 1.0\n",
      "skipped: 0/50\n",
      "data shape: (857, 3, 256), mean shape: (1, 3, 1)\n",
      "Data prepared: Train batches=222, Val batches=56\n"
     ]
    },
    {
     "name": "stderr",
     "output_type": "stream",
     "text": [
      "[I 2025-06-24 13:28:06,195] Trial 15 pruned. \n"
     ]
    },
    {
     "name": "stdout",
     "output_type": "stream",
     "text": [
      "task: mi, split: train, domain: time, data_fraction: 0.4\n",
      "Using 40.0% of data: 960/960 samples\n",
      "skipped: 0/960\n",
      "data shape: (16860, 3, 256), mean shape: (1, 3, 1)\n",
      "task: mi, split: validation, domain: time, data_fraction: 1.0\n",
      "skipped: 0/50\n",
      "data shape: (857, 3, 256), mean shape: (1, 3, 1)\n",
      "Data prepared: Train batches=222, Val batches=56\n",
      "Epoch 0/50, Validation Accuracy: 0.5291, Avg Loss: 0.7043, lr: 0.001986645135660941\n",
      "Epoch 1/50, Validation Accuracy: 0.5198, Avg Loss: 0.6900, lr: 0.001986645135660941\n",
      "Epoch 2/50, Validation Accuracy: 0.5364, Avg Loss: 0.6848, lr: 0.001986645135660941\n"
     ]
    },
    {
     "name": "stderr",
     "output_type": "stream",
     "text": [
      "[I 2025-06-24 13:28:33,187] Trial 16 pruned. \n"
     ]
    },
    {
     "name": "stdout",
     "output_type": "stream",
     "text": [
      "task: mi, split: train, domain: time, data_fraction: 0.4\n",
      "Using 40.0% of data: 960/960 samples\n",
      "skipped: 0/960\n",
      "data shape: (36600, 3, 128), mean shape: (1, 3, 1)\n",
      "task: mi, split: validation, domain: time, data_fraction: 1.0\n",
      "skipped: 0/50\n",
      "data shape: (1862, 3, 128), mean shape: (1, 3, 1)\n",
      "Data prepared: Train batches=481, Val batches=121\n",
      "Epoch 0/50, Validation Accuracy: 0.5198, Avg Loss: 0.7046, lr: 0.003934017279862863\n"
     ]
    },
    {
     "name": "stderr",
     "output_type": "stream",
     "text": [
      "[I 2025-06-24 13:28:54,775] Trial 17 pruned. \n"
     ]
    },
    {
     "name": "stdout",
     "output_type": "stream",
     "text": [
      "task: mi, split: train, domain: time, data_fraction: 0.4\n",
      "Using 40.0% of data: 960/960 samples\n",
      "skipped: 0/960\n",
      "data shape: (16860, 3, 256), mean shape: (1, 3, 1)\n",
      "task: mi, split: validation, domain: time, data_fraction: 1.0\n",
      "skipped: 0/50\n",
      "data shape: (857, 3, 256), mean shape: (1, 3, 1)\n",
      "Data prepared: Train batches=222, Val batches=56\n"
     ]
    },
    {
     "name": "stderr",
     "output_type": "stream",
     "text": [
      "[I 2025-06-24 13:29:09,369] Trial 18 pruned. \n"
     ]
    },
    {
     "name": "stdout",
     "output_type": "stream",
     "text": [
      "task: mi, split: train, domain: time, data_fraction: 0.4\n",
      "Using 40.0% of data: 960/960 samples\n",
      "skipped: 0/960\n",
      "data shape: (36600, 3, 128), mean shape: (1, 3, 1)\n",
      "task: mi, split: validation, domain: time, data_fraction: 1.0\n",
      "skipped: 0/50\n",
      "data shape: (1862, 3, 128), mean shape: (1, 3, 1)\n",
      "Data prepared: Train batches=481, Val batches=121\n",
      "Epoch 0/50, Validation Accuracy: 0.5317, Avg Loss: 0.7053, lr: 0.0010570001537933554\n",
      "Epoch 1/50, Validation Accuracy: 0.5344, Avg Loss: 0.6872, lr: 0.0010570001537933554\n",
      "Epoch 2/50, Validation Accuracy: 0.5691, Avg Loss: 0.6835, lr: 0.0010570001537933554\n",
      "Epoch 3/50, Validation Accuracy: 0.5647, Avg Loss: 0.6796, lr: 0.0010570001537933554\n",
      "Epoch 4/50, Validation Accuracy: 0.5660, Avg Loss: 0.6783, lr: 0.0010570001537933554\n",
      "Epoch 5/50, Validation Accuracy: 0.5692, Avg Loss: 0.6744, lr: 0.0010570001537933554\n",
      "Epoch 6/50, Validation Accuracy: 0.5781, Avg Loss: 0.6744, lr: 0.0010570001537933554\n",
      "Epoch 7/50, Validation Accuracy: 0.5912, Avg Loss: 0.6722, lr: 0.0010570001537933554\n",
      "Epoch 8/50, Validation Accuracy: 0.5846, Avg Loss: 0.6688, lr: 0.0010570001537933554\n",
      "Epoch 9/50, Validation Accuracy: 0.5800, Avg Loss: 0.6688, lr: 0.0010570001537933554\n",
      "Epoch 10/50, Validation Accuracy: 0.5909, Avg Loss: 0.6673, lr: 0.0010570001537933554\n",
      "Epoch 11/50, Validation Accuracy: 0.5931, Avg Loss: 0.6658, lr: 0.0010570001537933554\n",
      "Epoch 12/50, Validation Accuracy: 0.6008, Avg Loss: 0.6648, lr: 0.0010570001537933554\n",
      "Epoch 13/50, Validation Accuracy: 0.6051, Avg Loss: 0.6628, lr: 0.0010570001537933554\n",
      "Epoch 14/50, Validation Accuracy: 0.6051, Avg Loss: 0.6608, lr: 0.0010570001537933554\n",
      "Epoch 15/50, Validation Accuracy: 0.5942, Avg Loss: 0.6593, lr: 0.0010570001537933554\n",
      "Epoch 16/50, Validation Accuracy: 0.5917, Avg Loss: 0.6589, lr: 0.0010570001537933554\n",
      "Epoch 17/50, Validation Accuracy: 0.6067, Avg Loss: 0.6566, lr: 0.0010570001537933554\n",
      "Epoch 18/50, Validation Accuracy: 0.6159, Avg Loss: 0.6552, lr: 0.0010570001537933554\n",
      "Epoch 19/50, Validation Accuracy: 0.6169, Avg Loss: 0.6549, lr: 0.0010570001537933554\n",
      "Epoch 20/50, Validation Accuracy: 0.6056, Avg Loss: 0.6519, lr: 0.0010570001537933554\n",
      "Epoch 21/50, Validation Accuracy: 0.6147, Avg Loss: 0.6496, lr: 0.0010570001537933554\n",
      "Epoch 22/50, Validation Accuracy: 0.6255, Avg Loss: 0.6498, lr: 0.0010570001537933554\n",
      "Epoch 23/50, Validation Accuracy: 0.6208, Avg Loss: 0.6463, lr: 0.0010570001537933554\n",
      "Epoch 24/50, Validation Accuracy: 0.6187, Avg Loss: 0.6445, lr: 0.0010570001537933554\n",
      "Epoch 25/50, Validation Accuracy: 0.6206, Avg Loss: 0.6424, lr: 0.0010570001537933554\n",
      "Epoch 26/50, Validation Accuracy: 0.6213, Avg Loss: 0.6409, lr: 0.0010570001537933554\n",
      "Epoch 27/50, Validation Accuracy: 0.6223, Avg Loss: 0.6372, lr: 0.0010570001537933554\n",
      "Epoch 28/50, Validation Accuracy: 0.6403, Avg Loss: 0.6343, lr: 0.0010570001537933554\n",
      "Epoch 29/50, Validation Accuracy: 0.6325, Avg Loss: 0.6350, lr: 0.0010570001537933554\n",
      "Epoch 30/50, Validation Accuracy: 0.6489, Avg Loss: 0.6342, lr: 0.0010570001537933554\n",
      "Epoch 31/50, Validation Accuracy: 0.6458, Avg Loss: 0.6311, lr: 0.0010570001537933554\n",
      "Epoch 32/50, Validation Accuracy: 0.6454, Avg Loss: 0.6303, lr: 0.0010570001537933554\n",
      "Epoch 33/50, Validation Accuracy: 0.6441, Avg Loss: 0.6285, lr: 0.0010570001537933554\n",
      "Epoch 34/50, Validation Accuracy: 0.6485, Avg Loss: 0.6297, lr: 0.0010570001537933554\n",
      "Epoch 35/50, Validation Accuracy: 0.6523, Avg Loss: 0.6252, lr: 0.0010570001537933554\n",
      "Epoch 36/50, Validation Accuracy: 0.6592, Avg Loss: 0.6231, lr: 0.0010570001537933554\n",
      "Epoch 37/50, Validation Accuracy: 0.6433, Avg Loss: 0.6219, lr: 0.0010570001537933554\n",
      "Epoch 38/50, Validation Accuracy: 0.6602, Avg Loss: 0.6208, lr: 0.0010570001537933554\n",
      "Epoch 39/50, Validation Accuracy: 0.6476, Avg Loss: 0.6189, lr: 0.0010570001537933554\n",
      "Epoch 40/50, Validation Accuracy: 0.6659, Avg Loss: 0.6193, lr: 0.0010570001537933554\n",
      "Epoch 41/50, Validation Accuracy: 0.6677, Avg Loss: 0.6166, lr: 0.0010570001537933554\n",
      "Epoch 42/50, Validation Accuracy: 0.6671, Avg Loss: 0.6143, lr: 0.0010570001537933554\n",
      "Epoch 43/50, Validation Accuracy: 0.6551, Avg Loss: 0.6147, lr: 0.0010570001537933554\n",
      "Epoch 44/50, Validation Accuracy: 0.6659, Avg Loss: 0.6135, lr: 0.0010570001537933554\n",
      "Epoch 45/50, Validation Accuracy: 0.6619, Avg Loss: 0.6118, lr: 0.0010570001537933554\n",
      "Epoch 46/50, Validation Accuracy: 0.6718, Avg Loss: 0.6113, lr: 0.0010570001537933554\n",
      "Epoch 47/50, Validation Accuracy: 0.6749, Avg Loss: 0.6069, lr: 0.0010570001537933554\n",
      "Epoch 48/50, Validation Accuracy: 0.6554, Avg Loss: 0.6068, lr: 0.0010570001537933554\n",
      "Epoch 49/50, Validation Accuracy: 0.6703, Avg Loss: 0.6063, lr: 0.0010570001537933554\n"
     ]
    },
    {
     "name": "stderr",
     "output_type": "stream",
     "text": [
      "[I 2025-06-24 13:32:28,483] Trial 19 finished with value: 0.6703496685298324 and parameters: {'window_length': 128, 'batch_size': 64, 'kernLength': 256, 'F1': 32, 'D': 2, 'F2': 16, 'hidden_dim': 64, 'layer_dim': 1, 'dropout': 0.26679832268110276, 'lr': 0.0010570001537933554}. Best is trial 19 with value: 0.6703496685298324.\n"
     ]
    },
    {
     "name": "stdout",
     "output_type": "stream",
     "text": [
      "task: mi, split: train, domain: time, data_fraction: 0.4\n",
      "Using 40.0% of data: 960/960 samples\n",
      "skipped: 0/960\n",
      "data shape: (36600, 3, 128), mean shape: (1, 3, 1)\n",
      "task: mi, split: validation, domain: time, data_fraction: 1.0\n",
      "skipped: 0/50\n",
      "data shape: (1862, 3, 128), mean shape: (1, 3, 1)\n",
      "Data prepared: Train batches=962, Val batches=241\n"
     ]
    },
    {
     "name": "stderr",
     "output_type": "stream",
     "text": [
      "[I 2025-06-24 13:32:51,417] Trial 20 pruned. \n"
     ]
    },
    {
     "name": "stdout",
     "output_type": "stream",
     "text": [
      "task: mi, split: train, domain: time, data_fraction: 0.4\n",
      "Using 40.0% of data: 960/960 samples\n",
      "skipped: 0/960\n",
      "data shape: (36600, 3, 128), mean shape: (1, 3, 1)\n",
      "task: mi, split: validation, domain: time, data_fraction: 1.0\n",
      "skipped: 0/50\n",
      "data shape: (1862, 3, 128), mean shape: (1, 3, 1)\n",
      "Data prepared: Train batches=481, Val batches=121\n"
     ]
    },
    {
     "name": "stderr",
     "output_type": "stream",
     "text": [
      "[I 2025-06-24 13:33:18,599] Trial 21 pruned. \n"
     ]
    },
    {
     "name": "stdout",
     "output_type": "stream",
     "text": [
      "task: mi, split: train, domain: time, data_fraction: 0.4\n",
      "Using 40.0% of data: 960/960 samples\n",
      "skipped: 0/960\n",
      "data shape: (36600, 3, 128), mean shape: (1, 3, 1)\n",
      "task: mi, split: validation, domain: time, data_fraction: 1.0\n",
      "skipped: 0/50\n",
      "data shape: (1862, 3, 128), mean shape: (1, 3, 1)\n",
      "Data prepared: Train batches=481, Val batches=121\n",
      "Epoch 0/50, Validation Accuracy: 0.5670, Avg Loss: 0.6991, lr: 0.0023722347352056476\n",
      "Epoch 1/50, Validation Accuracy: 0.5274, Avg Loss: 0.6871, lr: 0.0023722347352056476\n",
      "Epoch 2/50, Validation Accuracy: 0.5535, Avg Loss: 0.6821, lr: 0.0023722347352056476\n",
      "Epoch 3/50, Validation Accuracy: 0.5779, Avg Loss: 0.6797, lr: 0.0023722347352056476\n",
      "Epoch 4/50, Validation Accuracy: 0.5760, Avg Loss: 0.6786, lr: 0.0023722347352056476\n",
      "Epoch 5/50, Validation Accuracy: 0.5652, Avg Loss: 0.6760, lr: 0.0023722347352056476\n",
      "Epoch 6/50, Validation Accuracy: 0.5875, Avg Loss: 0.6744, lr: 0.0023722347352056476\n",
      "Epoch 7/50, Validation Accuracy: 0.5726, Avg Loss: 0.6728, lr: 0.0023722347352056476\n",
      "Epoch 8/50, Validation Accuracy: 0.5791, Avg Loss: 0.6708, lr: 0.0023722347352056476\n",
      "Epoch 9/50, Validation Accuracy: 0.5656, Avg Loss: 0.6695, lr: 0.0023722347352056476\n",
      "Epoch 10/50, Validation Accuracy: 0.5795, Avg Loss: 0.6667, lr: 0.0023722347352056476\n",
      "Epoch 11/50, Validation Accuracy: 0.5848, Avg Loss: 0.6682, lr: 0.0023722347352056476\n",
      "Epoch 12/50, Validation Accuracy: 0.5935, Avg Loss: 0.6661, lr: 0.0023722347352056476\n",
      "Epoch 13/50, Validation Accuracy: 0.5933, Avg Loss: 0.6644, lr: 0.0023722347352056476\n",
      "Epoch 14/50, Validation Accuracy: 0.5914, Avg Loss: 0.6638, lr: 0.0023722347352056476\n",
      "Epoch 15/50, Validation Accuracy: 0.5899, Avg Loss: 0.6633, lr: 0.0023722347352056476\n",
      "Epoch 16/50, Validation Accuracy: 0.5956, Avg Loss: 0.6613, lr: 0.0023722347352056476\n",
      "Epoch 17/50, Validation Accuracy: 0.5881, Avg Loss: 0.6623, lr: 0.0023722347352056476\n",
      "Epoch 18/50, Validation Accuracy: 0.5911, Avg Loss: 0.6613, lr: 0.0023722347352056476\n",
      "Epoch 19/50, Validation Accuracy: 0.6008, Avg Loss: 0.6587, lr: 0.0023722347352056476\n",
      "Epoch 20/50, Validation Accuracy: 0.5998, Avg Loss: 0.6567, lr: 0.0023722347352056476\n",
      "Epoch 21/50, Validation Accuracy: 0.5991, Avg Loss: 0.6561, lr: 0.0023722347352056476\n",
      "Epoch 22/50, Validation Accuracy: 0.5991, Avg Loss: 0.6558, lr: 0.0023722347352056476\n",
      "Epoch 23/50, Validation Accuracy: 0.6028, Avg Loss: 0.6539, lr: 0.0023722347352056476\n",
      "Epoch 24/50, Validation Accuracy: 0.6063, Avg Loss: 0.6528, lr: 0.0023722347352056476\n",
      "Epoch 25/50, Validation Accuracy: 0.5913, Avg Loss: 0.6520, lr: 0.0023722347352056476\n",
      "Epoch 26/50, Validation Accuracy: 0.6069, Avg Loss: 0.6494, lr: 0.0023722347352056476\n",
      "Epoch 27/50, Validation Accuracy: 0.6177, Avg Loss: 0.6482, lr: 0.0023722347352056476\n",
      "Epoch 28/50, Validation Accuracy: 0.6159, Avg Loss: 0.6470, lr: 0.0023722347352056476\n",
      "Epoch 29/50, Validation Accuracy: 0.6156, Avg Loss: 0.6470, lr: 0.0023722347352056476\n",
      "Epoch 30/50, Validation Accuracy: 0.6128, Avg Loss: 0.6433, lr: 0.0023722347352056476\n",
      "Epoch 31/50, Validation Accuracy: 0.6163, Avg Loss: 0.6444, lr: 0.0023722347352056476\n",
      "Epoch 32/50, Validation Accuracy: 0.6141, Avg Loss: 0.6407, lr: 0.0023722347352056476\n",
      "Epoch 33/50, Validation Accuracy: 0.6172, Avg Loss: 0.6408, lr: 0.0023722347352056476\n",
      "Epoch 34/50, Validation Accuracy: 0.6191, Avg Loss: 0.6381, lr: 0.0023722347352056476\n",
      "Epoch 35/50, Validation Accuracy: 0.6237, Avg Loss: 0.6377, lr: 0.0023722347352056476\n",
      "Epoch 36/50, Validation Accuracy: 0.6263, Avg Loss: 0.6328, lr: 0.0023722347352056476\n",
      "Epoch 37/50, Validation Accuracy: 0.6230, Avg Loss: 0.6346, lr: 0.0023722347352056476\n",
      "Epoch 38/50, Validation Accuracy: 0.6268, Avg Loss: 0.6359, lr: 0.0023722347352056476\n",
      "Epoch 39/50, Validation Accuracy: 0.6224, Avg Loss: 0.6303, lr: 0.0023722347352056476\n",
      "Epoch 40/50, Validation Accuracy: 0.6280, Avg Loss: 0.6292, lr: 0.0023722347352056476\n",
      "Epoch 41/50, Validation Accuracy: 0.6256, Avg Loss: 0.6291, lr: 0.0023722347352056476\n",
      "Epoch 42/50, Validation Accuracy: 0.6371, Avg Loss: 0.6271, lr: 0.0023722347352056476\n",
      "Epoch 43/50, Validation Accuracy: 0.6258, Avg Loss: 0.6268, lr: 0.0023722347352056476\n",
      "Epoch 44/50, Validation Accuracy: 0.6429, Avg Loss: 0.6253, lr: 0.0023722347352056476\n",
      "Epoch 45/50, Validation Accuracy: 0.6345, Avg Loss: 0.6234, lr: 0.0023722347352056476\n",
      "Epoch 46/50, Validation Accuracy: 0.6342, Avg Loss: 0.6223, lr: 0.0023722347352056476\n",
      "Epoch 47/50, Validation Accuracy: 0.6230, Avg Loss: 0.6224, lr: 0.0023722347352056476\n",
      "Epoch 48/50, Validation Accuracy: 0.6375, Avg Loss: 0.6212, lr: 0.0023722347352056476\n",
      "Epoch 49/50, Validation Accuracy: 0.6358, Avg Loss: 0.6191, lr: 0.0023722347352056476\n"
     ]
    },
    {
     "name": "stderr",
     "output_type": "stream",
     "text": [
      "[I 2025-06-24 13:37:31,715] Trial 22 finished with value: 0.6357727804497595 and parameters: {'window_length': 128, 'batch_size': 64, 'kernLength': 64, 'F1': 32, 'D': 2, 'F2': 16, 'hidden_dim': 128, 'layer_dim': 1, 'dropout': 0.24232390125175296, 'lr': 0.0023722347352056476}. Best is trial 19 with value: 0.6703496685298324.\n"
     ]
    },
    {
     "name": "stdout",
     "output_type": "stream",
     "text": [
      "task: mi, split: train, domain: time, data_fraction: 0.4\n",
      "Using 40.0% of data: 960/960 samples\n",
      "skipped: 0/960\n",
      "data shape: (36600, 3, 128), mean shape: (1, 3, 1)\n",
      "task: mi, split: validation, domain: time, data_fraction: 1.0\n",
      "skipped: 0/50\n",
      "data shape: (1862, 3, 128), mean shape: (1, 3, 1)\n",
      "Data prepared: Train batches=481, Val batches=121\n"
     ]
    },
    {
     "name": "stderr",
     "output_type": "stream",
     "text": [
      "[I 2025-06-24 13:37:49,768] Trial 23 pruned. \n"
     ]
    },
    {
     "name": "stdout",
     "output_type": "stream",
     "text": [
      "task: mi, split: train, domain: time, data_fraction: 0.4\n",
      "Using 40.0% of data: 960/960 samples\n",
      "skipped: 0/960\n",
      "data shape: (36600, 3, 128), mean shape: (1, 3, 1)\n",
      "task: mi, split: validation, domain: time, data_fraction: 1.0\n",
      "skipped: 0/50\n",
      "data shape: (1862, 3, 128), mean shape: (1, 3, 1)\n",
      "Data prepared: Train batches=481, Val batches=121\n"
     ]
    },
    {
     "name": "stderr",
     "output_type": "stream",
     "text": [
      "[I 2025-06-24 13:38:08,608] Trial 24 pruned. \n"
     ]
    },
    {
     "name": "stdout",
     "output_type": "stream",
     "text": [
      "task: mi, split: train, domain: time, data_fraction: 0.4\n",
      "Using 40.0% of data: 960/960 samples\n",
      "skipped: 0/960\n",
      "data shape: (36600, 3, 128), mean shape: (1, 3, 1)\n",
      "task: mi, split: validation, domain: time, data_fraction: 1.0\n",
      "skipped: 0/50\n",
      "data shape: (1862, 3, 128), mean shape: (1, 3, 1)\n",
      "Data prepared: Train batches=481, Val batches=121\n",
      "Epoch 0/50, Validation Accuracy: 0.5279, Avg Loss: 0.6986, lr: 0.0024688957542372525\n",
      "Epoch 1/50, Validation Accuracy: 0.5652, Avg Loss: 0.6899, lr: 0.0024688957542372525\n",
      "Epoch 2/50, Validation Accuracy: 0.5289, Avg Loss: 0.6854, lr: 0.0024688957542372525\n",
      "Epoch 3/50, Validation Accuracy: 0.5866, Avg Loss: 0.6833, lr: 0.0024688957542372525\n",
      "Epoch 4/50, Validation Accuracy: 0.5738, Avg Loss: 0.6807, lr: 0.0024688957542372525\n",
      "Epoch 5/50, Validation Accuracy: 0.5859, Avg Loss: 0.6777, lr: 0.0024688957542372525\n",
      "Epoch 6/50, Validation Accuracy: 0.5726, Avg Loss: 0.6770, lr: 0.0024688957542372525\n",
      "Epoch 7/50, Validation Accuracy: 0.5955, Avg Loss: 0.6746, lr: 0.0024688957542372525\n",
      "Epoch 8/50, Validation Accuracy: 0.5873, Avg Loss: 0.6729, lr: 0.0024688957542372525\n",
      "Epoch 9/50, Validation Accuracy: 0.5758, Avg Loss: 0.6736, lr: 0.0024688957542372525\n",
      "Epoch 10/50, Validation Accuracy: 0.5990, Avg Loss: 0.6732, lr: 0.0024688957542372525\n",
      "Epoch 11/50, Validation Accuracy: 0.5895, Avg Loss: 0.6702, lr: 0.0024688957542372525\n",
      "Epoch 12/50, Validation Accuracy: 0.6089, Avg Loss: 0.6699, lr: 0.0024688957542372525\n",
      "Epoch 13/50, Validation Accuracy: 0.5944, Avg Loss: 0.6705, lr: 0.0024688957542372525\n",
      "Epoch 14/50, Validation Accuracy: 0.5900, Avg Loss: 0.6687, lr: 0.0024688957542372525\n",
      "Epoch 15/50, Validation Accuracy: 0.5957, Avg Loss: 0.6685, lr: 0.0024688957542372525\n",
      "Epoch 16/50, Validation Accuracy: 0.6026, Avg Loss: 0.6655, lr: 0.0024688957542372525\n",
      "Epoch 17/50, Validation Accuracy: 0.5953, Avg Loss: 0.6646, lr: 0.0024688957542372525\n",
      "Epoch 18/50, Validation Accuracy: 0.6026, Avg Loss: 0.6641, lr: 0.0024688957542372525\n",
      "Epoch 19/50, Validation Accuracy: 0.6129, Avg Loss: 0.6631, lr: 0.0024688957542372525\n",
      "Epoch 20/50, Validation Accuracy: 0.6063, Avg Loss: 0.6606, lr: 0.0024688957542372525\n",
      "Epoch 21/50, Validation Accuracy: 0.5937, Avg Loss: 0.6594, lr: 0.0024688957542372525\n",
      "Epoch 22/50, Validation Accuracy: 0.5834, Avg Loss: 0.6574, lr: 0.0024688957542372525\n",
      "Epoch 23/50, Validation Accuracy: 0.5983, Avg Loss: 0.6557, lr: 0.0024688957542372525\n",
      "Epoch 24/50, Validation Accuracy: 0.5956, Avg Loss: 0.6530, lr: 0.0024688957542372525\n",
      "Epoch 25/50, Validation Accuracy: 0.6089, Avg Loss: 0.6530, lr: 0.0024688957542372525\n",
      "Epoch 26/50, Validation Accuracy: 0.6026, Avg Loss: 0.6527, lr: 0.0024688957542372525\n",
      "Epoch 27/50, Validation Accuracy: 0.6106, Avg Loss: 0.6507, lr: 0.0024688957542372525\n",
      "Epoch 28/50, Validation Accuracy: 0.6178, Avg Loss: 0.6492, lr: 0.0024688957542372525\n",
      "Epoch 29/50, Validation Accuracy: 0.6271, Avg Loss: 0.6475, lr: 0.0024688957542372525\n",
      "Epoch 30/50, Validation Accuracy: 0.6158, Avg Loss: 0.6465, lr: 0.0024688957542372525\n",
      "Epoch 31/50, Validation Accuracy: 0.6234, Avg Loss: 0.6453, lr: 0.0024688957542372525\n",
      "Epoch 32/50, Validation Accuracy: 0.6328, Avg Loss: 0.6455, lr: 0.0024688957542372525\n",
      "Epoch 33/50, Validation Accuracy: 0.6265, Avg Loss: 0.6421, lr: 0.0024688957542372525\n",
      "Epoch 34/50, Validation Accuracy: 0.6015, Avg Loss: 0.6405, lr: 0.0024688957542372525\n",
      "Epoch 35/50, Validation Accuracy: 0.6290, Avg Loss: 0.6430, lr: 0.0024688957542372525\n",
      "Epoch 36/50, Validation Accuracy: 0.6293, Avg Loss: 0.6379, lr: 0.0024688957542372525\n",
      "Epoch 37/50, Validation Accuracy: 0.6260, Avg Loss: 0.6378, lr: 0.0024688957542372525\n",
      "Epoch 38/50, Validation Accuracy: 0.6138, Avg Loss: 0.6356, lr: 0.0024688957542372525\n",
      "Epoch 39/50, Validation Accuracy: 0.6288, Avg Loss: 0.6368, lr: 0.0024688957542372525\n",
      "Epoch 40/50, Validation Accuracy: 0.6263, Avg Loss: 0.6336, lr: 0.0024688957542372525\n",
      "Epoch 41/50, Validation Accuracy: 0.6343, Avg Loss: 0.6333, lr: 0.0024688957542372525\n",
      "Epoch 42/50, Validation Accuracy: 0.6408, Avg Loss: 0.6292, lr: 0.0024688957542372525\n",
      "Epoch 43/50, Validation Accuracy: 0.6341, Avg Loss: 0.6301, lr: 0.0024688957542372525\n",
      "Epoch 44/50, Validation Accuracy: 0.6319, Avg Loss: 0.6306, lr: 0.0024688957542372525\n",
      "Epoch 45/50, Validation Accuracy: 0.6420, Avg Loss: 0.6294, lr: 0.0024688957542372525\n",
      "Epoch 46/50, Validation Accuracy: 0.6290, Avg Loss: 0.6289, lr: 0.0024688957542372525\n",
      "Epoch 47/50, Validation Accuracy: 0.6441, Avg Loss: 0.6266, lr: 0.0024688957542372525\n",
      "Epoch 48/50, Validation Accuracy: 0.6428, Avg Loss: 0.6261, lr: 0.0024688957542372525\n",
      "Epoch 49/50, Validation Accuracy: 0.6350, Avg Loss: 0.6286, lr: 0.0024688957542372525\n"
     ]
    },
    {
     "name": "stderr",
     "output_type": "stream",
     "text": [
      "[I 2025-06-24 13:42:14,054] Trial 25 finished with value: 0.6349928506434421 and parameters: {'window_length': 128, 'batch_size': 64, 'kernLength': 64, 'F1': 32, 'D': 2, 'F2': 16, 'hidden_dim': 128, 'layer_dim': 1, 'dropout': 0.3142121310678645, 'lr': 0.0024688957542372525}. Best is trial 19 with value: 0.6703496685298324.\n"
     ]
    },
    {
     "name": "stdout",
     "output_type": "stream",
     "text": [
      "task: mi, split: train, domain: time, data_fraction: 0.4\n",
      "Using 40.0% of data: 960/960 samples\n",
      "skipped: 0/960\n",
      "data shape: (36600, 3, 128), mean shape: (1, 3, 1)\n",
      "task: mi, split: validation, domain: time, data_fraction: 1.0\n",
      "skipped: 0/50\n",
      "data shape: (1862, 3, 128), mean shape: (1, 3, 1)\n",
      "Data prepared: Train batches=481, Val batches=121\n",
      "Epoch 0/50, Validation Accuracy: 0.5414, Avg Loss: 0.7004, lr: 0.002348793202903883\n",
      "Epoch 1/50, Validation Accuracy: 0.5380, Avg Loss: 0.6903, lr: 0.002348793202903883\n",
      "Epoch 2/50, Validation Accuracy: 0.5476, Avg Loss: 0.6871, lr: 0.002348793202903883\n"
     ]
    },
    {
     "name": "stderr",
     "output_type": "stream",
     "text": [
      "[I 2025-06-24 13:42:44,626] Trial 26 pruned. \n"
     ]
    },
    {
     "name": "stdout",
     "output_type": "stream",
     "text": [
      "task: mi, split: train, domain: time, data_fraction: 0.4\n",
      "Using 40.0% of data: 960/960 samples\n",
      "skipped: 0/960\n",
      "data shape: (36600, 3, 128), mean shape: (1, 3, 1)\n",
      "task: mi, split: validation, domain: time, data_fraction: 1.0\n",
      "skipped: 0/50\n",
      "data shape: (1862, 3, 128), mean shape: (1, 3, 1)\n",
      "Data prepared: Train batches=481, Val batches=121\n",
      "Epoch 0/50, Validation Accuracy: 0.5326, Avg Loss: 0.7059, lr: 0.0013557578793840616\n",
      "Epoch 1/50, Validation Accuracy: 0.5835, Avg Loss: 0.6870, lr: 0.0013557578793840616\n",
      "Epoch 2/50, Validation Accuracy: 0.5599, Avg Loss: 0.6868, lr: 0.0013557578793840616\n",
      "Epoch 3/50, Validation Accuracy: 0.5768, Avg Loss: 0.6834, lr: 0.0013557578793840616\n",
      "Epoch 4/50, Validation Accuracy: 0.5739, Avg Loss: 0.6793, lr: 0.0013557578793840616\n",
      "Epoch 5/50, Validation Accuracy: 0.5674, Avg Loss: 0.6777, lr: 0.0013557578793840616\n",
      "Epoch 6/50, Validation Accuracy: 0.5775, Avg Loss: 0.6785, lr: 0.0013557578793840616\n",
      "Epoch 7/50, Validation Accuracy: 0.5673, Avg Loss: 0.6785, lr: 0.0013557578793840616\n",
      "Epoch 8/50, Validation Accuracy: 0.5673, Avg Loss: 0.6759, lr: 0.0013557578793840616\n",
      "Epoch 9/50, Validation Accuracy: 0.5734, Avg Loss: 0.6753, lr: 0.0013557578793840616\n",
      "Epoch 10/50, Validation Accuracy: 0.5788, Avg Loss: 0.6725, lr: 0.0013557578793840616\n",
      "Epoch 11/50, Validation Accuracy: 0.5872, Avg Loss: 0.6731, lr: 0.0013557578793840616\n",
      "Epoch 12/50, Validation Accuracy: 0.5842, Avg Loss: 0.6717, lr: 0.0013557578793840616\n",
      "Epoch 13/50, Validation Accuracy: 0.5892, Avg Loss: 0.6688, lr: 0.0013557578793840616\n",
      "Epoch 14/50, Validation Accuracy: 0.5677, Avg Loss: 0.6679, lr: 0.0013557578793840616\n",
      "Epoch 15/50, Validation Accuracy: 0.5909, Avg Loss: 0.6665, lr: 0.0013557578793840616\n",
      "Epoch 16/50, Validation Accuracy: 0.5935, Avg Loss: 0.6648, lr: 0.0013557578793840616\n",
      "Epoch 17/50, Validation Accuracy: 0.6020, Avg Loss: 0.6645, lr: 0.0013557578793840616\n",
      "Epoch 18/50, Validation Accuracy: 0.5961, Avg Loss: 0.6622, lr: 0.0013557578793840616\n",
      "Epoch 19/50, Validation Accuracy: 0.6060, Avg Loss: 0.6618, lr: 0.0013557578793840616\n",
      "Epoch 20/50, Validation Accuracy: 0.5995, Avg Loss: 0.6600, lr: 0.0013557578793840616\n",
      "Epoch 21/50, Validation Accuracy: 0.6043, Avg Loss: 0.6566, lr: 0.0013557578793840616\n",
      "Epoch 22/50, Validation Accuracy: 0.6002, Avg Loss: 0.6558, lr: 0.0013557578793840616\n",
      "Epoch 23/50, Validation Accuracy: 0.5989, Avg Loss: 0.6559, lr: 0.0013557578793840616\n",
      "Epoch 24/50, Validation Accuracy: 0.6060, Avg Loss: 0.6528, lr: 0.0013557578793840616\n",
      "Epoch 25/50, Validation Accuracy: 0.6169, Avg Loss: 0.6500, lr: 0.0013557578793840616\n",
      "Epoch 26/50, Validation Accuracy: 0.6327, Avg Loss: 0.6495, lr: 0.0013557578793840616\n",
      "Epoch 27/50, Validation Accuracy: 0.6191, Avg Loss: 0.6461, lr: 0.0013557578793840616\n",
      "Epoch 28/50, Validation Accuracy: 0.6230, Avg Loss: 0.6458, lr: 0.0013557578793840616\n",
      "Epoch 29/50, Validation Accuracy: 0.6278, Avg Loss: 0.6437, lr: 0.0013557578793840616\n",
      "Epoch 30/50, Validation Accuracy: 0.6319, Avg Loss: 0.6421, lr: 0.0013557578793840616\n",
      "Epoch 31/50, Validation Accuracy: 0.6289, Avg Loss: 0.6426, lr: 0.0013557578793840616\n",
      "Epoch 32/50, Validation Accuracy: 0.6291, Avg Loss: 0.6388, lr: 0.0013557578793840616\n",
      "Epoch 33/50, Validation Accuracy: 0.6232, Avg Loss: 0.6383, lr: 0.0013557578793840616\n",
      "Epoch 34/50, Validation Accuracy: 0.6389, Avg Loss: 0.6365, lr: 0.0013557578793840616\n",
      "Epoch 35/50, Validation Accuracy: 0.6329, Avg Loss: 0.6375, lr: 0.0013557578793840616\n",
      "Epoch 36/50, Validation Accuracy: 0.6368, Avg Loss: 0.6341, lr: 0.0013557578793840616\n",
      "Epoch 37/50, Validation Accuracy: 0.6320, Avg Loss: 0.6328, lr: 0.0013557578793840616\n",
      "Epoch 38/50, Validation Accuracy: 0.6382, Avg Loss: 0.6302, lr: 0.0013557578793840616\n",
      "Epoch 39/50, Validation Accuracy: 0.6304, Avg Loss: 0.6309, lr: 0.0013557578793840616\n",
      "Epoch 40/50, Validation Accuracy: 0.6338, Avg Loss: 0.6296, lr: 0.0013557578793840616\n",
      "Epoch 41/50, Validation Accuracy: 0.6346, Avg Loss: 0.6244, lr: 0.0013557578793840616\n",
      "Epoch 42/50, Validation Accuracy: 0.6394, Avg Loss: 0.6262, lr: 0.0013557578793840616\n",
      "Epoch 43/50, Validation Accuracy: 0.6489, Avg Loss: 0.6271, lr: 0.0013557578793840616\n",
      "Epoch 44/50, Validation Accuracy: 0.6375, Avg Loss: 0.6226, lr: 0.0013557578793840616\n",
      "Epoch 45/50, Validation Accuracy: 0.6379, Avg Loss: 0.6218, lr: 0.0013557578793840616\n",
      "Epoch 46/50, Validation Accuracy: 0.6506, Avg Loss: 0.6215, lr: 0.0013557578793840616\n",
      "Epoch 47/50, Validation Accuracy: 0.6480, Avg Loss: 0.6203, lr: 0.0013557578793840616\n",
      "Epoch 48/50, Validation Accuracy: 0.6467, Avg Loss: 0.6211, lr: 0.0013557578793840616\n",
      "Epoch 49/50, Validation Accuracy: 0.6546, Avg Loss: 0.6168, lr: 0.0013557578793840616\n"
     ]
    },
    {
     "name": "stderr",
     "output_type": "stream",
     "text": [
      "[I 2025-06-24 13:46:10,072] Trial 27 finished with value: 0.6546210841024308 and parameters: {'window_length': 128, 'batch_size': 64, 'kernLength': 64, 'F1': 32, 'D': 2, 'F2': 16, 'hidden_dim': 64, 'layer_dim': 1, 'dropout': 0.30495617593703145, 'lr': 0.0013557578793840616}. Best is trial 19 with value: 0.6703496685298324.\n"
     ]
    },
    {
     "name": "stdout",
     "output_type": "stream",
     "text": [
      "task: mi, split: train, domain: time, data_fraction: 0.4\n",
      "Using 40.0% of data: 960/960 samples\n",
      "skipped: 6/960\n",
      "data shape: (5528, 3, 640), mean shape: (1, 3, 1)\n",
      "task: mi, split: validation, domain: time, data_fraction: 1.0\n",
      "skipped: 0/50\n",
      "data shape: (278, 3, 640), mean shape: (1, 3, 1)\n",
      "Data prepared: Train batches=146, Val batches=37\n",
      "Epoch 0/50, Validation Accuracy: 0.5301, Avg Loss: 0.7405, lr: 0.0012526884005511307\n"
     ]
    },
    {
     "name": "stderr",
     "output_type": "stream",
     "text": [
      "[I 2025-06-24 13:46:25,400] Trial 28 pruned. \n"
     ]
    },
    {
     "name": "stdout",
     "output_type": "stream",
     "text": [
      "task: mi, split: train, domain: time, data_fraction: 0.4\n",
      "Using 40.0% of data: 960/960 samples\n",
      "skipped: 0/960\n",
      "data shape: (36600, 3, 128), mean shape: (1, 3, 1)\n",
      "task: mi, split: validation, domain: time, data_fraction: 1.0\n",
      "skipped: 0/50\n",
      "data shape: (1862, 3, 128), mean shape: (1, 3, 1)\n",
      "Data prepared: Train batches=481, Val batches=121\n",
      "Epoch 0/50, Validation Accuracy: 0.5241, Avg Loss: 0.7096, lr: 0.0008648084457602758\n",
      "Epoch 1/50, Validation Accuracy: 0.5653, Avg Loss: 0.6877, lr: 0.0008648084457602758\n",
      "Epoch 2/50, Validation Accuracy: 0.5409, Avg Loss: 0.6849, lr: 0.0008648084457602758\n",
      "Epoch 3/50, Validation Accuracy: 0.5761, Avg Loss: 0.6831, lr: 0.0008648084457602758\n",
      "Epoch 4/50, Validation Accuracy: 0.5766, Avg Loss: 0.6813, lr: 0.0008648084457602758\n",
      "Epoch 5/50, Validation Accuracy: 0.5565, Avg Loss: 0.6782, lr: 0.0008648084457602758\n",
      "Epoch 6/50, Validation Accuracy: 0.5597, Avg Loss: 0.6791, lr: 0.0008648084457602758\n",
      "Epoch 7/50, Validation Accuracy: 0.5612, Avg Loss: 0.6782, lr: 0.0008648084457602758\n",
      "Epoch 8/50, Validation Accuracy: 0.5644, Avg Loss: 0.6752, lr: 0.0008648084457602758\n",
      "Epoch 9/50, Validation Accuracy: 0.5857, Avg Loss: 0.6737, lr: 0.0008648084457602758\n",
      "Epoch 10/50, Validation Accuracy: 0.5836, Avg Loss: 0.6728, lr: 0.0008648084457602758\n",
      "Epoch 11/50, Validation Accuracy: 0.5807, Avg Loss: 0.6723, lr: 0.0008648084457602758\n",
      "Epoch 12/50, Validation Accuracy: 0.5853, Avg Loss: 0.6704, lr: 0.0008648084457602758\n"
     ]
    },
    {
     "name": "stderr",
     "output_type": "stream",
     "text": [
      "[I 2025-06-24 13:47:25,445] Trial 29 pruned. \n"
     ]
    },
    {
     "name": "stdout",
     "output_type": "stream",
     "text": [
      "task: mi, split: train, domain: time, data_fraction: 0.4\n",
      "Using 40.0% of data: 960/960 samples\n",
      "skipped: 0/960\n",
      "data shape: (36600, 3, 128), mean shape: (1, 3, 1)\n",
      "task: mi, split: validation, domain: time, data_fraction: 1.0\n",
      "skipped: 0/50\n",
      "data shape: (1862, 3, 128), mean shape: (1, 3, 1)\n",
      "Data prepared: Train batches=481, Val batches=121\n"
     ]
    },
    {
     "name": "stderr",
     "output_type": "stream",
     "text": [
      "[I 2025-06-24 13:47:43,120] Trial 30 pruned. \n"
     ]
    },
    {
     "name": "stdout",
     "output_type": "stream",
     "text": [
      "task: mi, split: train, domain: time, data_fraction: 0.4\n",
      "Using 40.0% of data: 960/960 samples\n",
      "skipped: 0/960\n",
      "data shape: (36600, 3, 128), mean shape: (1, 3, 1)\n",
      "task: mi, split: validation, domain: time, data_fraction: 1.0\n",
      "skipped: 0/50\n",
      "data shape: (1862, 3, 128), mean shape: (1, 3, 1)\n",
      "Data prepared: Train batches=481, Val batches=121\n"
     ]
    },
    {
     "name": "stderr",
     "output_type": "stream",
     "text": [
      "[I 2025-06-24 13:47:59,985] Trial 31 pruned. \n"
     ]
    },
    {
     "name": "stdout",
     "output_type": "stream",
     "text": [
      "task: mi, split: train, domain: time, data_fraction: 0.4\n",
      "Using 40.0% of data: 960/960 samples\n",
      "skipped: 6/960\n",
      "data shape: (5528, 3, 640), mean shape: (1, 3, 1)\n",
      "task: mi, split: validation, domain: time, data_fraction: 1.0\n",
      "skipped: 0/50\n",
      "data shape: (278, 3, 640), mean shape: (1, 3, 1)\n",
      "Data prepared: Train batches=73, Val batches=19\n"
     ]
    },
    {
     "name": "stderr",
     "output_type": "stream",
     "text": [
      "[I 2025-06-24 13:48:14,226] Trial 32 pruned. \n"
     ]
    },
    {
     "name": "stdout",
     "output_type": "stream",
     "text": [
      "task: mi, split: train, domain: time, data_fraction: 0.4\n",
      "Using 40.0% of data: 960/960 samples\n",
      "skipped: 0/960\n",
      "data shape: (36600, 3, 128), mean shape: (1, 3, 1)\n",
      "task: mi, split: validation, domain: time, data_fraction: 1.0\n",
      "skipped: 0/50\n",
      "data shape: (1862, 3, 128), mean shape: (1, 3, 1)\n",
      "Data prepared: Train batches=481, Val batches=121\n"
     ]
    },
    {
     "name": "stderr",
     "output_type": "stream",
     "text": [
      "[I 2025-06-24 13:48:31,649] Trial 33 pruned. \n"
     ]
    },
    {
     "name": "stdout",
     "output_type": "stream",
     "text": [
      "task: mi, split: train, domain: time, data_fraction: 0.4\n",
      "Using 40.0% of data: 960/960 samples\n",
      "skipped: 0/960\n",
      "data shape: (36600, 3, 128), mean shape: (1, 3, 1)\n",
      "task: mi, split: validation, domain: time, data_fraction: 1.0\n",
      "skipped: 0/50\n",
      "data shape: (1862, 3, 128), mean shape: (1, 3, 1)\n",
      "Data prepared: Train batches=481, Val batches=121\n"
     ]
    },
    {
     "name": "stderr",
     "output_type": "stream",
     "text": [
      "[I 2025-06-24 13:48:50,062] Trial 34 pruned. \n"
     ]
    },
    {
     "name": "stdout",
     "output_type": "stream",
     "text": [
      "task: mi, split: train, domain: time, data_fraction: 0.4\n",
      "Using 40.0% of data: 960/960 samples\n",
      "skipped: 0/960\n",
      "data shape: (36600, 3, 128), mean shape: (1, 3, 1)\n",
      "task: mi, split: validation, domain: time, data_fraction: 1.0\n",
      "skipped: 0/50\n",
      "data shape: (1862, 3, 128), mean shape: (1, 3, 1)\n",
      "Data prepared: Train batches=481, Val batches=121\n",
      "Epoch 0/50, Validation Accuracy: 0.5435, Avg Loss: 0.7060, lr: 0.0010405476972862246\n",
      "Epoch 1/50, Validation Accuracy: 0.5562, Avg Loss: 0.6865, lr: 0.0010405476972862246\n",
      "Epoch 2/50, Validation Accuracy: 0.5531, Avg Loss: 0.6863, lr: 0.0010405476972862246\n",
      "Epoch 3/50, Validation Accuracy: 0.5829, Avg Loss: 0.6821, lr: 0.0010405476972862246\n",
      "Epoch 4/50, Validation Accuracy: 0.5582, Avg Loss: 0.6795, lr: 0.0010405476972862246\n",
      "Epoch 5/50, Validation Accuracy: 0.5846, Avg Loss: 0.6781, lr: 0.0010405476972862246\n",
      "Epoch 6/50, Validation Accuracy: 0.5896, Avg Loss: 0.6761, lr: 0.0010405476972862246\n",
      "Epoch 7/50, Validation Accuracy: 0.5805, Avg Loss: 0.6755, lr: 0.0010405476972862246\n",
      "Epoch 8/50, Validation Accuracy: 0.5947, Avg Loss: 0.6727, lr: 0.0010405476972862246\n",
      "Epoch 9/50, Validation Accuracy: 0.5895, Avg Loss: 0.6724, lr: 0.0010405476972862246\n",
      "Epoch 10/50, Validation Accuracy: 0.5904, Avg Loss: 0.6703, lr: 0.0010405476972862246\n",
      "Epoch 11/50, Validation Accuracy: 0.5959, Avg Loss: 0.6688, lr: 0.0010405476972862246\n",
      "Epoch 12/50, Validation Accuracy: 0.5909, Avg Loss: 0.6666, lr: 0.0010405476972862246\n",
      "Epoch 13/50, Validation Accuracy: 0.5821, Avg Loss: 0.6653, lr: 0.0010405476972862246\n",
      "Epoch 14/50, Validation Accuracy: 0.5991, Avg Loss: 0.6633, lr: 0.0010405476972862246\n",
      "Epoch 15/50, Validation Accuracy: 0.5907, Avg Loss: 0.6608, lr: 0.0010405476972862246\n",
      "Epoch 16/50, Validation Accuracy: 0.5959, Avg Loss: 0.6619, lr: 0.0010405476972862246\n",
      "Epoch 17/50, Validation Accuracy: 0.5912, Avg Loss: 0.6586, lr: 0.0010405476972862246\n",
      "Epoch 18/50, Validation Accuracy: 0.5982, Avg Loss: 0.6574, lr: 0.0010405476972862246\n"
     ]
    },
    {
     "name": "stderr",
     "output_type": "stream",
     "text": [
      "[I 2025-06-24 13:50:17,628] Trial 35 pruned. \n"
     ]
    },
    {
     "name": "stdout",
     "output_type": "stream",
     "text": [
      "task: mi, split: train, domain: time, data_fraction: 0.4\n",
      "Using 40.0% of data: 960/960 samples\n",
      "skipped: 0/960\n",
      "data shape: (36600, 3, 128), mean shape: (1, 3, 1)\n",
      "task: mi, split: validation, domain: time, data_fraction: 1.0\n",
      "skipped: 0/50\n",
      "data shape: (1862, 3, 128), mean shape: (1, 3, 1)\n",
      "Data prepared: Train batches=481, Val batches=121\n",
      "Epoch 0/50, Validation Accuracy: 0.5530, Avg Loss: 0.7209, lr: 0.0004403152538537588\n",
      "Epoch 1/50, Validation Accuracy: 0.5597, Avg Loss: 0.6860, lr: 0.0004403152538537588\n",
      "Epoch 2/50, Validation Accuracy: 0.5566, Avg Loss: 0.6842, lr: 0.0004403152538537588\n",
      "Epoch 3/50, Validation Accuracy: 0.5651, Avg Loss: 0.6830, lr: 0.0004403152538537588\n"
     ]
    },
    {
     "name": "stderr",
     "output_type": "stream",
     "text": [
      "[I 2025-06-24 13:50:45,929] Trial 36 pruned. \n"
     ]
    },
    {
     "name": "stdout",
     "output_type": "stream",
     "text": [
      "task: mi, split: train, domain: time, data_fraction: 0.4\n",
      "Using 40.0% of data: 960/960 samples\n",
      "skipped: 0/960\n",
      "data shape: (36600, 3, 128), mean shape: (1, 3, 1)\n",
      "task: mi, split: validation, domain: time, data_fraction: 1.0\n",
      "skipped: 0/50\n",
      "data shape: (1862, 3, 128), mean shape: (1, 3, 1)\n",
      "Data prepared: Train batches=481, Val batches=121\n",
      "Epoch 0/50, Validation Accuracy: 0.5259, Avg Loss: 0.6987, lr: 0.0064624045586889655\n",
      "Epoch 1/50, Validation Accuracy: 0.5354, Avg Loss: 0.6924, lr: 0.0064624045586889655\n",
      "Epoch 2/50, Validation Accuracy: 0.5314, Avg Loss: 0.6905, lr: 0.0064624045586889655\n"
     ]
    },
    {
     "name": "stderr",
     "output_type": "stream",
     "text": [
      "[I 2025-06-24 13:51:16,650] Trial 37 pruned. \n"
     ]
    },
    {
     "name": "stdout",
     "output_type": "stream",
     "text": [
      "task: mi, split: train, domain: time, data_fraction: 0.4\n",
      "Using 40.0% of data: 960/960 samples\n",
      "skipped: 0/960\n",
      "data shape: (36600, 3, 128), mean shape: (1, 3, 1)\n",
      "task: mi, split: validation, domain: time, data_fraction: 1.0\n",
      "skipped: 0/50\n",
      "data shape: (1862, 3, 128), mean shape: (1, 3, 1)\n",
      "Data prepared: Train batches=481, Val batches=121\n"
     ]
    },
    {
     "name": "stderr",
     "output_type": "stream",
     "text": [
      "[I 2025-06-24 13:51:34,092] Trial 38 pruned. \n"
     ]
    },
    {
     "name": "stdout",
     "output_type": "stream",
     "text": [
      "task: mi, split: train, domain: time, data_fraction: 0.4\n",
      "Using 40.0% of data: 960/960 samples\n",
      "skipped: 6/960\n",
      "data shape: (5528, 3, 640), mean shape: (1, 3, 1)\n",
      "task: mi, split: validation, domain: time, data_fraction: 1.0\n",
      "skipped: 0/50\n",
      "data shape: (278, 3, 640), mean shape: (1, 3, 1)\n",
      "Data prepared: Train batches=73, Val batches=19\n",
      "Epoch 0/50, Validation Accuracy: 0.5241, Avg Loss: 0.8177, lr: 0.0002552718223949247\n",
      "Epoch 1/50, Validation Accuracy: 0.5344, Avg Loss: 0.6968, lr: 0.0002552718223949247\n",
      "Epoch 2/50, Validation Accuracy: 0.5155, Avg Loss: 0.6945, lr: 0.0002552718223949247\n"
     ]
    },
    {
     "name": "stderr",
     "output_type": "stream",
     "text": [
      "[I 2025-06-24 13:51:59,615] Trial 39 pruned. \n"
     ]
    },
    {
     "name": "stdout",
     "output_type": "stream",
     "text": [
      "task: mi, split: train, domain: time, data_fraction: 0.4\n",
      "Using 40.0% of data: 960/960 samples\n",
      "skipped: 0/960\n",
      "data shape: (36600, 3, 128), mean shape: (1, 3, 1)\n",
      "task: mi, split: validation, domain: time, data_fraction: 1.0\n",
      "skipped: 0/50\n",
      "data shape: (1862, 3, 128), mean shape: (1, 3, 1)\n",
      "Data prepared: Train batches=481, Val batches=121\n"
     ]
    },
    {
     "name": "stderr",
     "output_type": "stream",
     "text": [
      "[I 2025-06-24 13:52:18,604] Trial 40 pruned. \n"
     ]
    },
    {
     "name": "stdout",
     "output_type": "stream",
     "text": [
      "task: mi, split: train, domain: time, data_fraction: 0.4\n",
      "Using 40.0% of data: 960/960 samples\n",
      "skipped: 0/960\n",
      "data shape: (36600, 3, 128), mean shape: (1, 3, 1)\n",
      "task: mi, split: validation, domain: time, data_fraction: 1.0\n",
      "skipped: 0/50\n",
      "data shape: (1862, 3, 128), mean shape: (1, 3, 1)\n",
      "Data prepared: Train batches=962, Val batches=241\n",
      "Epoch 0/50, Validation Accuracy: 0.5293, Avg Loss: 0.6981, lr: 0.0015841680695267467\n",
      "Epoch 1/50, Validation Accuracy: 0.5580, Avg Loss: 0.6882, lr: 0.0015841680695267467\n",
      "Epoch 2/50, Validation Accuracy: 0.5528, Avg Loss: 0.6865, lr: 0.0015841680695267467\n"
     ]
    },
    {
     "name": "stderr",
     "output_type": "stream",
     "text": [
      "[I 2025-06-24 13:53:02,952] Trial 41 pruned. \n"
     ]
    },
    {
     "name": "stdout",
     "output_type": "stream",
     "text": [
      "task: mi, split: train, domain: time, data_fraction: 0.4\n",
      "Using 40.0% of data: 960/960 samples\n",
      "skipped: 0/960\n",
      "data shape: (36600, 3, 128), mean shape: (1, 3, 1)\n",
      "task: mi, split: validation, domain: time, data_fraction: 1.0\n",
      "skipped: 0/50\n",
      "data shape: (1862, 3, 128), mean shape: (1, 3, 1)\n",
      "Data prepared: Train batches=481, Val batches=121\n"
     ]
    },
    {
     "name": "stderr",
     "output_type": "stream",
     "text": [
      "[I 2025-06-24 13:53:24,472] Trial 42 pruned. \n"
     ]
    },
    {
     "name": "stdout",
     "output_type": "stream",
     "text": [
      "task: mi, split: train, domain: time, data_fraction: 0.4\n",
      "Using 40.0% of data: 960/960 samples\n",
      "skipped: 0/960\n",
      "data shape: (36600, 3, 128), mean shape: (1, 3, 1)\n",
      "task: mi, split: validation, domain: time, data_fraction: 1.0\n",
      "skipped: 0/50\n",
      "data shape: (1862, 3, 128), mean shape: (1, 3, 1)\n",
      "Data prepared: Train batches=481, Val batches=121\n",
      "Epoch 0/50, Validation Accuracy: 0.5476, Avg Loss: 0.6995, lr: 0.004742355041054701\n",
      "Epoch 1/50, Validation Accuracy: 0.5669, Avg Loss: 0.6916, lr: 0.004742355041054701\n",
      "Epoch 2/50, Validation Accuracy: 0.5551, Avg Loss: 0.6897, lr: 0.004742355041054701\n",
      "Epoch 3/50, Validation Accuracy: 0.5096, Avg Loss: 0.6892, lr: 0.004742355041054701\n",
      "Epoch 4/50, Validation Accuracy: 0.5680, Avg Loss: 0.6888, lr: 0.004742355041054701\n",
      "Epoch 5/50, Validation Accuracy: 0.5744, Avg Loss: 0.6867, lr: 0.004742355041054701\n",
      "Epoch 6/50, Validation Accuracy: 0.5647, Avg Loss: 0.6847, lr: 0.004742355041054701\n",
      "Epoch 7/50, Validation Accuracy: 0.5519, Avg Loss: 0.6843, lr: 0.004742355041054701\n",
      "Epoch 8/50, Validation Accuracy: 0.5457, Avg Loss: 0.6826, lr: 0.004742355041054701\n",
      "Epoch 9/50, Validation Accuracy: 0.5714, Avg Loss: 0.6827, lr: 0.004742355041054701\n"
     ]
    },
    {
     "name": "stderr",
     "output_type": "stream",
     "text": [
      "[I 2025-06-24 13:54:24,354] Trial 43 pruned. \n"
     ]
    },
    {
     "name": "stdout",
     "output_type": "stream",
     "text": [
      "task: mi, split: train, domain: time, data_fraction: 0.4\n",
      "Using 40.0% of data: 960/960 samples\n",
      "skipped: 0/960\n",
      "data shape: (36600, 3, 128), mean shape: (1, 3, 1)\n",
      "task: mi, split: validation, domain: time, data_fraction: 1.0\n",
      "skipped: 0/50\n",
      "data shape: (1862, 3, 128), mean shape: (1, 3, 1)\n",
      "Data prepared: Train batches=481, Val batches=121\n",
      "Epoch 0/50, Validation Accuracy: 0.5467, Avg Loss: 0.6989, lr: 0.0024075554160093056\n",
      "Epoch 1/50, Validation Accuracy: 0.5592, Avg Loss: 0.6899, lr: 0.0024075554160093056\n",
      "Epoch 2/50, Validation Accuracy: 0.5654, Avg Loss: 0.6878, lr: 0.0024075554160093056\n",
      "Epoch 3/50, Validation Accuracy: 0.5651, Avg Loss: 0.6839, lr: 0.0024075554160093056\n"
     ]
    },
    {
     "name": "stderr",
     "output_type": "stream",
     "text": [
      "[I 2025-06-24 13:54:58,364] Trial 44 pruned. \n"
     ]
    },
    {
     "name": "stdout",
     "output_type": "stream",
     "text": [
      "task: mi, split: train, domain: time, data_fraction: 0.4\n",
      "Using 40.0% of data: 960/960 samples\n",
      "skipped: 0/960\n",
      "data shape: (36600, 3, 128), mean shape: (1, 3, 1)\n",
      "task: mi, split: validation, domain: time, data_fraction: 1.0\n",
      "skipped: 0/50\n",
      "data shape: (1862, 3, 128), mean shape: (1, 3, 1)\n",
      "Data prepared: Train batches=481, Val batches=121\n",
      "Epoch 0/50, Validation Accuracy: 0.5444, Avg Loss: 0.6995, lr: 0.006366706939876546\n",
      "Epoch 1/50, Validation Accuracy: 0.5462, Avg Loss: 0.6918, lr: 0.006366706939876546\n",
      "Epoch 2/50, Validation Accuracy: 0.5448, Avg Loss: 0.6877, lr: 0.006366706939876546\n"
     ]
    },
    {
     "name": "stderr",
     "output_type": "stream",
     "text": [
      "[I 2025-06-24 13:55:29,562] Trial 45 pruned. \n"
     ]
    },
    {
     "name": "stdout",
     "output_type": "stream",
     "text": [
      "task: mi, split: train, domain: time, data_fraction: 0.4\n",
      "Using 40.0% of data: 960/960 samples\n",
      "skipped: 6/960\n",
      "data shape: (5528, 3, 640), mean shape: (1, 3, 1)\n",
      "task: mi, split: validation, domain: time, data_fraction: 1.0\n",
      "skipped: 0/50\n",
      "data shape: (278, 3, 640), mean shape: (1, 3, 1)\n",
      "Data prepared: Train batches=73, Val batches=19\n"
     ]
    },
    {
     "name": "stderr",
     "output_type": "stream",
     "text": [
      "[I 2025-06-24 13:55:43,796] Trial 46 pruned. \n"
     ]
    },
    {
     "name": "stdout",
     "output_type": "stream",
     "text": [
      "task: mi, split: train, domain: time, data_fraction: 0.4\n",
      "Using 40.0% of data: 960/960 samples\n",
      "skipped: 0/960\n",
      "data shape: (36600, 3, 128), mean shape: (1, 3, 1)\n",
      "task: mi, split: validation, domain: time, data_fraction: 1.0\n",
      "skipped: 0/50\n",
      "data shape: (1862, 3, 128), mean shape: (1, 3, 1)\n",
      "Data prepared: Train batches=962, Val batches=241\n",
      "Epoch 0/50, Validation Accuracy: 0.5279, Avg Loss: 0.6994, lr: 0.0037535946328934398\n"
     ]
    },
    {
     "name": "stderr",
     "output_type": "stream",
     "text": [
      "[I 2025-06-24 13:56:13,221] Trial 47 pruned. \n"
     ]
    },
    {
     "name": "stdout",
     "output_type": "stream",
     "text": [
      "task: mi, split: train, domain: time, data_fraction: 0.4\n",
      "Using 40.0% of data: 960/960 samples\n",
      "skipped: 0/960\n",
      "data shape: (36600, 3, 128), mean shape: (1, 3, 1)\n",
      "task: mi, split: validation, domain: time, data_fraction: 1.0\n",
      "skipped: 0/50\n",
      "data shape: (1862, 3, 128), mean shape: (1, 3, 1)\n",
      "Data prepared: Train batches=481, Val batches=121\n",
      "Epoch 0/50, Validation Accuracy: 0.5252, Avg Loss: 0.6998, lr: 0.0025727742759451898\n",
      "Epoch 1/50, Validation Accuracy: 0.5532, Avg Loss: 0.6898, lr: 0.0025727742759451898\n",
      "Epoch 2/50, Validation Accuracy: 0.5612, Avg Loss: 0.6891, lr: 0.0025727742759451898\n",
      "Epoch 3/50, Validation Accuracy: 0.5665, Avg Loss: 0.6875, lr: 0.0025727742759451898\n",
      "Epoch 4/50, Validation Accuracy: 0.5469, Avg Loss: 0.6840, lr: 0.0025727742759451898\n",
      "Epoch 5/50, Validation Accuracy: 0.5809, Avg Loss: 0.6831, lr: 0.0025727742759451898\n",
      "Epoch 6/50, Validation Accuracy: 0.5705, Avg Loss: 0.6792, lr: 0.0025727742759451898\n",
      "Epoch 7/50, Validation Accuracy: 0.5732, Avg Loss: 0.6767, lr: 0.0025727742759451898\n",
      "Epoch 8/50, Validation Accuracy: 0.5848, Avg Loss: 0.6755, lr: 0.0025727742759451898\n",
      "Epoch 9/50, Validation Accuracy: 0.5726, Avg Loss: 0.6745, lr: 0.0025727742759451898\n",
      "Epoch 10/50, Validation Accuracy: 0.5901, Avg Loss: 0.6722, lr: 0.0025727742759451898\n",
      "Epoch 11/50, Validation Accuracy: 0.5851, Avg Loss: 0.6702, lr: 0.0025727742759451898\n",
      "Epoch 12/50, Validation Accuracy: 0.5925, Avg Loss: 0.6696, lr: 0.0025727742759451898\n",
      "Epoch 13/50, Validation Accuracy: 0.6022, Avg Loss: 0.6674, lr: 0.0025727742759451898\n",
      "Epoch 14/50, Validation Accuracy: 0.5755, Avg Loss: 0.6663, lr: 0.0025727742759451898\n",
      "Epoch 15/50, Validation Accuracy: 0.6067, Avg Loss: 0.6651, lr: 0.0025727742759451898\n",
      "Epoch 16/50, Validation Accuracy: 0.6074, Avg Loss: 0.6629, lr: 0.0025727742759451898\n",
      "Epoch 17/50, Validation Accuracy: 0.6039, Avg Loss: 0.6601, lr: 0.0025727742759451898\n",
      "Epoch 18/50, Validation Accuracy: 0.6099, Avg Loss: 0.6580, lr: 0.0025727742759451898\n",
      "Epoch 19/50, Validation Accuracy: 0.6163, Avg Loss: 0.6566, lr: 0.0025727742759451898\n",
      "Epoch 20/50, Validation Accuracy: 0.5924, Avg Loss: 0.6549, lr: 0.0025727742759451898\n",
      "Epoch 21/50, Validation Accuracy: 0.6269, Avg Loss: 0.6537, lr: 0.0025727742759451898\n",
      "Epoch 22/50, Validation Accuracy: 0.6093, Avg Loss: 0.6515, lr: 0.0025727742759451898\n",
      "Epoch 23/50, Validation Accuracy: 0.6177, Avg Loss: 0.6501, lr: 0.0025727742759451898\n",
      "Epoch 24/50, Validation Accuracy: 0.6043, Avg Loss: 0.6468, lr: 0.0025727742759451898\n",
      "Epoch 25/50, Validation Accuracy: 0.6141, Avg Loss: 0.6444, lr: 0.0025727742759451898\n",
      "Epoch 26/50, Validation Accuracy: 0.6239, Avg Loss: 0.6432, lr: 0.0025727742759451898\n",
      "Epoch 27/50, Validation Accuracy: 0.6345, Avg Loss: 0.6377, lr: 0.0025727742759451898\n",
      "Epoch 28/50, Validation Accuracy: 0.6336, Avg Loss: 0.6396, lr: 0.0025727742759451898\n",
      "Epoch 29/50, Validation Accuracy: 0.6355, Avg Loss: 0.6394, lr: 0.0025727742759451898\n",
      "Epoch 30/50, Validation Accuracy: 0.6155, Avg Loss: 0.6368, lr: 0.0025727742759451898\n",
      "Epoch 31/50, Validation Accuracy: 0.6328, Avg Loss: 0.6314, lr: 0.0025727742759451898\n",
      "Epoch 32/50, Validation Accuracy: 0.6377, Avg Loss: 0.6304, lr: 0.0025727742759451898\n",
      "Epoch 33/50, Validation Accuracy: 0.6308, Avg Loss: 0.6322, lr: 0.0025727742759451898\n",
      "Epoch 34/50, Validation Accuracy: 0.6537, Avg Loss: 0.6285, lr: 0.0025727742759451898\n",
      "Epoch 35/50, Validation Accuracy: 0.6421, Avg Loss: 0.6278, lr: 0.0025727742759451898\n",
      "Epoch 36/50, Validation Accuracy: 0.6561, Avg Loss: 0.6252, lr: 0.0025727742759451898\n",
      "Epoch 37/50, Validation Accuracy: 0.6622, Avg Loss: 0.6244, lr: 0.0025727742759451898\n",
      "Epoch 38/50, Validation Accuracy: 0.6581, Avg Loss: 0.6255, lr: 0.0025727742759451898\n",
      "Epoch 39/50, Validation Accuracy: 0.6574, Avg Loss: 0.6220, lr: 0.0025727742759451898\n",
      "Epoch 40/50, Validation Accuracy: 0.6494, Avg Loss: 0.6193, lr: 0.0025727742759451898\n",
      "Epoch 41/50, Validation Accuracy: 0.6493, Avg Loss: 0.6187, lr: 0.0025727742759451898\n",
      "Epoch 42/50, Validation Accuracy: 0.6510, Avg Loss: 0.6195, lr: 0.0025727742759451898\n",
      "Epoch 43/50, Validation Accuracy: 0.6507, Avg Loss: 0.6185, lr: 0.0025727742759451898\n",
      "Epoch 44/50, Validation Accuracy: 0.6558, Avg Loss: 0.6155, lr: 0.0025727742759451898\n",
      "Epoch 45/50, Validation Accuracy: 0.6657, Avg Loss: 0.6166, lr: 0.0025727742759451898\n",
      "Epoch 46/50, Validation Accuracy: 0.6648, Avg Loss: 0.6140, lr: 0.0025727742759451898\n",
      "Epoch 47/50, Validation Accuracy: 0.6490, Avg Loss: 0.6130, lr: 0.0025727742759451898\n",
      "Epoch 48/50, Validation Accuracy: 0.6601, Avg Loss: 0.6111, lr: 0.0025727742759451898\n",
      "Epoch 49/50, Validation Accuracy: 0.6702, Avg Loss: 0.6089, lr: 0.0025727742759451898\n"
     ]
    },
    {
     "name": "stderr",
     "output_type": "stream",
     "text": [
      "[I 2025-06-24 14:00:54,445] Trial 48 finished with value: 0.6702196802287794 and parameters: {'window_length': 128, 'batch_size': 64, 'kernLength': 256, 'F1': 16, 'D': 2, 'F2': 64, 'hidden_dim': 128, 'layer_dim': 2, 'dropout': 0.25417700846230007, 'lr': 0.0025727742759451898}. Best is trial 19 with value: 0.6703496685298324.\n"
     ]
    },
    {
     "name": "stdout",
     "output_type": "stream",
     "text": [
      "task: mi, split: train, domain: time, data_fraction: 0.4\n",
      "Using 40.0% of data: 960/960 samples\n",
      "skipped: 0/960\n",
      "data shape: (16860, 3, 256), mean shape: (1, 3, 1)\n",
      "task: mi, split: validation, domain: time, data_fraction: 1.0\n",
      "skipped: 0/50\n",
      "data shape: (857, 3, 256), mean shape: (1, 3, 1)\n",
      "Data prepared: Train batches=222, Val batches=56\n",
      "Epoch 0/50, Validation Accuracy: 0.5389, Avg Loss: 0.7159, lr: 0.0009661934649264636\n",
      "Epoch 1/50, Validation Accuracy: 0.5398, Avg Loss: 0.6913, lr: 0.0009661934649264636\n",
      "Epoch 2/50, Validation Accuracy: 0.5195, Avg Loss: 0.6905, lr: 0.0009661934649264636\n"
     ]
    },
    {
     "name": "stderr",
     "output_type": "stream",
     "text": [
      "[I 2025-06-24 14:01:24,473] Trial 49 pruned. \n"
     ]
    },
    {
     "name": "stdout",
     "output_type": "stream",
     "text": [
      "task: mi, split: train, domain: time, data_fraction: 0.4\n",
      "Using 40.0% of data: 960/960 samples\n",
      "skipped: 0/960\n",
      "data shape: (36600, 3, 128), mean shape: (1, 3, 1)\n",
      "task: mi, split: validation, domain: time, data_fraction: 1.0\n",
      "skipped: 0/50\n",
      "data shape: (1862, 3, 128), mean shape: (1, 3, 1)\n",
      "Data prepared: Train batches=481, Val batches=121\n"
     ]
    },
    {
     "name": "stderr",
     "output_type": "stream",
     "text": [
      "[I 2025-06-24 14:01:48,965] Trial 50 pruned. \n"
     ]
    },
    {
     "name": "stdout",
     "output_type": "stream",
     "text": [
      "task: mi, split: train, domain: time, data_fraction: 0.4\n",
      "Using 40.0% of data: 960/960 samples\n",
      "skipped: 0/960\n",
      "data shape: (36600, 3, 128), mean shape: (1, 3, 1)\n",
      "task: mi, split: validation, domain: time, data_fraction: 1.0\n",
      "skipped: 0/50\n",
      "data shape: (1862, 3, 128), mean shape: (1, 3, 1)\n",
      "Data prepared: Train batches=481, Val batches=121\n"
     ]
    },
    {
     "name": "stderr",
     "output_type": "stream",
     "text": [
      "[I 2025-06-24 14:02:08,072] Trial 51 pruned. \n"
     ]
    },
    {
     "name": "stdout",
     "output_type": "stream",
     "text": [
      "\n",
      "--- Optimization Finished ---\n",
      "Study statistics: \n",
      "  Number of finished trials: 52\n",
      "  Number of pruned trials: 40\n",
      "  Number of complete trials: 10\n",
      "Best trial:\n",
      "  Value: 0.6703496685298324\n",
      "  Best hyperparameters: \n",
      "    window_length: 128\n",
      "    batch_size: 64\n",
      "    kernLength: 256\n",
      "    F1: 32\n",
      "    D: 2\n",
      "    F2: 16\n",
      "    hidden_dim: 64\n",
      "    layer_dim: 1\n",
      "    dropout: 0.26679832268110276\n",
      "    lr: 0.0010570001537933554\n"
     ]
    },
    {
     "data": {
      "text/plain": [
       "{'window_length': 128,\n",
       " 'batch_size': 64,\n",
       " 'kernLength': 256,\n",
       " 'F1': 32,\n",
       " 'D': 2,\n",
       " 'F2': 16,\n",
       " 'hidden_dim': 64,\n",
       " 'layer_dim': 1,\n",
       " 'dropout': 0.26679832268110276,\n",
       " 'lr': 0.0010570001537933554}"
      ]
     },
     "execution_count": 26,
     "metadata": {},
     "output_type": "execute_result"
    }
   ],
   "source": [
    "delete_existing = False\n",
    "trainer.optimize(delete_existing)"
   ]
  },
  {
   "cell_type": "code",
   "execution_count": null,
   "id": "a93294ea",
   "metadata": {
    "cellUniqueIdByVincent": "9a628",
    "colab": {
     "base_uri": "https://localhost:8080/",
     "height": 932
    },
    "id": "a93294ea",
    "outputId": "e77ed180-3a33-492a-c29e-15a57befbbae"
   },
   "outputs": [],
   "source": [
    "trainer.train()"
   ]
  },
  {
   "cell_type": "code",
   "execution_count": null,
   "id": "1d8d4e73",
   "metadata": {
    "cellUniqueIdByVincent": "72394",
    "id": "1d8d4e73",
    "outputId": "879ad0ae-f397-49f7-e3ba-7d299bdcecf0"
   },
   "outputs": [],
   "source": [
    "trainer._prepare_training(False)\n",
    "trainer.model.eval()\n",
    "f\"test accuracy: {evaluate_model(trainer.model, trainer.eval_loader, device)}\""
   ]
  }
 ],
 "metadata": {
  "kernelspec": {
   "display_name": "icmtc_venv",
   "language": "python",
   "name": "python3"
  },
  "language_info": {
   "codemirror_mode": {
    "name": "ipython",
    "version": 3
   },
   "file_extension": ".py",
   "mimetype": "text/x-python",
   "name": "python",
   "nbconvert_exporter": "python",
   "pygments_lexer": "ipython3",
   "version": "3.12.11"
  },
  "vincent": {
   "sessionId": "bb6251503a76299c2e1994d5_2025-06-21T14-24-00-772Z"
  }
 },
 "nbformat": 4,
 "nbformat_minor": 5
}
