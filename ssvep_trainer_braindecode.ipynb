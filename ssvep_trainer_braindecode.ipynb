{
 "cells": [
  {
   "cell_type": "code",
   "execution_count": 19,
   "id": "2a563374",
   "metadata": {
    "cellUniqueIdByVincent": "b5c77",
    "colab": {
     "base_uri": "https://localhost:8080/",
     "height": 484
    },
    "id": "2a563374",
    "outputId": "2f5357e7-a3f2-46ab-a67e-a21a666bccbf"
   },
   "outputs": [
    {
     "name": "stdout",
     "output_type": "stream",
     "text": [
      "The autoreload extension is already loaded. To reload it, use:\n",
      "  %reload_ext autoreload\n"
     ]
    },
    {
     "data": {
      "text/plain": [
       "device(type='cpu')"
      ]
     },
     "execution_count": 19,
     "metadata": {},
     "output_type": "execute_result"
    }
   ],
   "source": [
    "%load_ext autoreload  \n",
    "%autoreload 2  \n",
    "  \n",
    "import random  \n",
    "import numpy as np  \n",
    "import torch  \n",
    "import torch.nn as nn  \n",
    "from braindecode import EEGClassifier\n",
    "\n",
    "# dataset related  \n",
    "from modules.competition_dataset import EEGDataset\n",
    "from torch.utils.data import TensorDataset, DataLoader\n",
    "from braindecode.models import EEGSimpleConv, EEGInceptionERP\n",
    "from skorch.helper import predefined_split  \n",
    "import random\n",
    "import mne\n",
    "import numpy as np\n",
    "device = torch.device('cuda' if torch.cuda.is_available() else 'cpu')  \n",
    "device  "
   ]
  },
  {
   "cell_type": "code",
   "execution_count": 38,
   "id": "a17b42a7",
   "metadata": {
    "cellUniqueIdByVincent": "285db",
    "id": "a17b42a7"
   },
   "outputs": [],
   "source": [
    "data_path = './data/mtcaic3'\n",
    "model_path = './checkpoints/ssvep/models/the_honored_one.pth'\n",
    "optuna_db_path = './checkpoints/ssvep/optuna/the_honored_one.db'\n",
    "eeg_channels = [\n",
    "    \"OZ\", \n",
    "    \"PO7\",\n",
    "    \"PO8\",\n",
    "    \"PZ\",\n",
    "]\n",
    "\n",
    "\n",
    "batch_size = 64\n",
    "# Add this at the beginning of your notebook, after imports\n",
    "def set_random_seeds(seed=42):\n",
    "    \"\"\"Set random seeds for reproducibility\"\"\"\n",
    "\n",
    "    random.seed(seed)\n",
    "    np.random.seed(seed)\n",
    "    torch.manual_seed(seed)\n",
    "    if torch.cuda.is_available():\n",
    "        torch.cuda.manual_seed(seed)\n",
    "        torch.cuda.manual_seed_all(seed)\n",
    "        torch.backends.cudnn.deterministic = True\n",
    "        torch.backends.cudnn.benchmark = False\n",
    "\n",
    "# Call this function before creating datasets and models\n",
    "set_random_seeds(42)"
   ]
  },
  {
   "cell_type": "code",
   "execution_count": 43,
   "id": "42089fb8",
   "metadata": {
    "cellUniqueIdByVincent": "77c22",
    "id": "42089fb8"
   },
   "outputs": [
    {
     "name": "stdout",
     "output_type": "stream",
     "text": [
      "task: SSVEP, split: train, domain: time, data_fraction: 0.2\n",
      "Using 20.0% of data: 480/480 samples\n",
      "skipped: 1/480\n",
      "task: SSVEP, split: validation, domain: time, data_fraction: 1\n",
      "skipped: 0/50\n"
     ]
    }
   ],
   "source": [
    "window_length = 128 * 3 # ensure divisble by 64 the kernel size\n",
    "stride = 20\n",
    "batch_size = 64\n",
    "\n",
    "dataset_train = EEGDataset(\n",
    "    data_path,\n",
    "    window_length=window_length,\n",
    "    stride=stride,\n",
    "    data_fraction=0.2,\n",
    "    task=\"SSVEP\",\n",
    "    eeg_channels=eeg_channels,\n",
    "    tmin=1,\n",
    ")\n",
    "\n",
    "dataset_val = EEGDataset(\n",
    "    data_path=data_path,\n",
    "    window_length=window_length,\n",
    "    stride=stride,\n",
    "    split='validation',\n",
    "    data_fraction=1,\n",
    "    task=\"SSVEP\",\n",
    "    eeg_channels=eeg_channels,\n",
    "    tmin=1,\n",
    ")\n",
    "\n",
    "\n",
    "# train_loader = DataLoader(dataset_train, batch_size=batch_size, shuffle=True)\n",
    "# val_loader   = DataLoader(dataset_val,   batch_size=batch_size)"
   ]
  },
  {
   "cell_type": "code",
   "execution_count": 44,
   "id": "6651d57a",
   "metadata": {},
   "outputs": [
    {
     "name": "stdout",
     "output_type": "stream",
     "text": [
      "torch.Size([3196])\n",
      "tensor([2, 2, 2, 2, 2, 2, 2, 2, 2, 2])\n"
     ]
    }
   ],
   "source": [
    "print(dataset_val.labels.shape)  # should be (N,)\n",
    "print(dataset_val.labels[:10])   # should be 0, 1, 2, 3"
   ]
  },
  {
   "cell_type": "code",
   "execution_count": null,
   "id": "8a9356cf",
   "metadata": {},
   "outputs": [
    {
     "name": "stdout",
     "output_type": "stream",
     "text": [
      "  epoch    train_accuracy    train_loss    valid_acc    valid_accuracy    valid_loss      dur\n",
      "-------  ----------------  ------------  -----------  ----------------  ------------  -------\n",
      "      1            \u001b[36m0.4553\u001b[0m        \u001b[32m1.2680\u001b[0m       \u001b[35m0.2797\u001b[0m            \u001b[31m0.2797\u001b[0m        \u001b[94m3.3358\u001b[0m  83.6039\n",
      "      2            \u001b[36m0.4605\u001b[0m        \u001b[32m1.2040\u001b[0m       0.1599            0.1599        3.3829  87.3383\n",
      "      3            \u001b[36m0.5018\u001b[0m        \u001b[32m1.1706\u001b[0m       0.1974            0.1974        4.3919  94.5323\n",
      "      4            \u001b[36m0.5326\u001b[0m        \u001b[32m1.1427\u001b[0m       0.1934            0.1934        3.4617  81.6469\n",
      "      5            0.5058        \u001b[32m1.1246\u001b[0m       0.2365            0.2365        3.8485  82.9627\n",
      "      6            0.4997        \u001b[32m1.1064\u001b[0m       0.2031            0.2031        \u001b[94m3.1055\u001b[0m  84.2994\n",
      "      7            0.5187        \u001b[32m1.0892\u001b[0m       0.2569            0.2569        4.5766  77.1784\n",
      "      8            0.5296        \u001b[32m1.0722\u001b[0m       0.2547            0.2547        4.1038  92.9631\n",
      "      9            0.5247        \u001b[32m1.0551\u001b[0m       0.2722            0.2722        3.6880  86.3818\n",
      "     10            \u001b[36m0.5465\u001b[0m        \u001b[32m1.0494\u001b[0m       0.2506            0.2506        3.5999  97.0186\n",
      "     11            \u001b[36m0.5739\u001b[0m        \u001b[32m1.0349\u001b[0m       0.2074            0.2074        3.8994  85.2885\n"
     ]
    }
   ],
   "source": [
    "model = EEGSimpleConv(\n",
    "    n_chans=4,\n",
    "    n_outputs=4,  # Left/right/backward/forward\n",
    "    sfreq=80,  # Optimal resampling frequency for this model is 80hz\n",
    "    feature_maps=96,  # Within recommended range [64-144]\n",
    "    n_convs=2,  # For cross-subject: [2-4]\n",
    "    kernel_size=8,  # For cross-subject: [5-8]\n",
    "    resampling_freq=80,\n",
    ")\n",
    "\n",
    "clf = EEGClassifier(\n",
    "    model,\n",
    "    criterion=torch.nn.CrossEntropyLoss,\n",
    "    optimizer=torch.optim.Adam,\n",
    "    optimizer__lr=0.0001,\n",
    "    batch_size=64,\n",
    "    max_epochs=100,\n",
    "    train_split=predefined_split(dataset_val),\n",
    "    device=\"cuda\" if torch.cuda.is_available() else \"cpu\",\n",
    "    verbose=2,\n",
    "    callbacks=[\"accuracy\"],\n",
    ")\n",
    "\n",
    "clf.fit(dataset_train.data, dataset_train.labels)"
   ]
  },
  {
   "cell_type": "code",
   "execution_count": null,
   "id": "09c5ece6",
   "metadata": {},
   "outputs": [],
   "source": [
    "print(X_train.shape, y_train.shape)\n",
    "\n",
    "model = ATCNet(\n",
    "    n_chans=5,\n",
    "    n_outputs=2,  # Left/right hand motor imagery\n",
    "    input_window_seconds=3.0,\n",
    "    sfreq=250,\n",
    "    n_windows=5,\n",
    "    att_head_dim=8,\n",
    "    att_num_heads=2,\n",
    "    tcn_depth=2,\n",
    "    tcn_kernel_size=4,\n",
    "    tcn_n_filters=32,\n",
    ")\n",
    "\n",
    "clf = EEGClassifier(\n",
    "    model,\n",
    "    criterion=torch.nn.CrossEntropyLoss,\n",
    "    optimizer=torch.optim.Adam,\n",
    "    optimizer__lr=0.0005,  # Lower learning rate for attention models\n",
    "    batch_size=32,  # Smaller batch size for memory efficiency\n",
    "    max_epochs=100,\n",
    "    train_split=predefined_split(val_dataset),\n",
    "    device=\"cuda\" if torch.cuda.is_available() else \"cpu\",\n",
    "    verbose=2,\n",
    "    callbacks=[\"accuracy\"],\n",
    ")\n",
    "\n",
    "clf.fit(X_train, y_train)"
   ]
  }
 ],
 "metadata": {
  "kernelspec": {
   "display_name": "icmtc_venv",
   "language": "python",
   "name": "python3"
  },
  "language_info": {
   "codemirror_mode": {
    "name": "ipython",
    "version": 3
   },
   "file_extension": ".py",
   "mimetype": "text/x-python",
   "name": "python",
   "nbconvert_exporter": "python",
   "pygments_lexer": "ipython3",
   "version": "3.12.11"
  },
  "vincent": {
   "sessionId": "bb6251503a76299c2e1994d5_2025-06-21T14-24-00-772Z"
  }
 },
 "nbformat": 4,
 "nbformat_minor": 5
}
