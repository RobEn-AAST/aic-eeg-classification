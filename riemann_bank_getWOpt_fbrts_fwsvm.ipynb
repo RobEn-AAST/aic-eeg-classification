{
 "cells": [
  {
   "cell_type": "code",
   "execution_count": null,
   "id": "63f517e7",
   "metadata": {},
   "outputs": [
    {
     "name": "stdout",
     "output_type": "stream",
     "text": [
      "The autoreload extension is already loaded. To reload it, use:\n",
      "  %reload_ext autoreload\n"
     ]
    }
   ],
   "source": [
    "%load_ext autoreload\n",
    "%autoreload 2\n",
    "import torch\n",
    "import random\n",
    "import numpy as np\n",
    "import optuna\n",
    "from optuna.pruners import MedianPruner\n",
    "from scipy.signal import butter, sosfiltfilt\n",
    "from sklearn.ensemble import RandomForestClassifier\n",
    "from sklearn.svm import SVC\n",
    "from sklearn.preprocessing import StandardScaler\n",
    "from sklearn.pipeline import make_pipeline\n",
    "from sklearn.model_selection import StratifiedKFold, cross_validate\n",
    "from sklearn.feature_selection import mutual_info_classif\n",
    "from sklearn.base import BaseEstimator, ClassifierMixin\n",
    "from pyriemann.estimation import Covariances\n",
    "from pyriemann.tangentspace import TangentSpace\n",
    "from modules.competition_dataset import EEGDataset\n",
    "from pyriemann.utils.mean import mean_riemann\n",
    "from sklearn.base import BaseEstimator, TransformerMixin\n",
    "from sklearn.metrics import accuracy_score, classification_report\n",
    "from scipy.linalg import expm, logm, inv\n",
    "from scipy.optimize import minimize"
   ]
  },
  {
   "cell_type": "code",
   "execution_count": null,
   "id": "f6c412b9",
   "metadata": {},
   "outputs": [],
   "source": [
    "data_path = './data/mtcaic3'\n",
    "lda_model_path = './checkpoints/mi/models/lda_mi.pkl'\n",
    "\n",
    "# Add this at the beginning of your notebook, after imports\n",
    "def set_random_seeds(seed=42):\n",
    "    \"\"\"Set random seeds for reproducibility\"\"\"\n",
    "\n",
    "    random.seed(seed)\n",
    "    np.random.seed(seed)\n",
    "    torch.manual_seed(seed)\n",
    "    if torch.cuda.is_available():\n",
    "        torch.cuda.manual_seed(seed)\n",
    "        torch.cuda.manual_seed_all(seed)\n",
    "        torch.backends.cudnn.deterministic = True\n",
    "        torch.backends.cudnn.benchmark = False\n",
    "\n",
    "set_random_seeds(42)"
   ]
  },
  {
   "cell_type": "code",
   "execution_count": null,
   "id": "a69b96ed",
   "metadata": {},
   "outputs": [
    {
     "name": "stderr",
     "output_type": "stream",
     "text": [
      "[I 2025-06-28 17:28:58,187] A new study created in memory with name: no-name-e27acc82-92fa-4b93-9258-090bf05348df\n",
      "/tmp/ipykernel_8343/2636314267.py:179: FutureWarning: suggest_uniform has been deprecated in v3.0.0. This feature will be removed in v6.0.0. See https://github.com/optuna/optuna/releases/tag/v3.0.0. Use suggest_float instead.\n",
      "  coef0 = trial.suggest_uniform(\"coef0\", 0.0, 1.0)\n"
     ]
    },
    {
     "name": "stdout",
     "output_type": "stream",
     "text": [
      "\n",
      "→ Trying: wl=1500, st=250, tmin=500, chans=['FZ', 'C3', 'PZ', 'PO7', 'PO8']\n",
      "task: mi, split: train, domain: time, data_fraction: 0.4\n",
      "Using 40.0% of data: 960/960 samples\n"
     ]
    },
    {
     "name": "stderr",
     "output_type": "stream",
     "text": [
      "[I 2025-06-28 17:29:04,979] Trial 0 finished with value: 0.0 and parameters: {'window_length': 1500, 'stride': 250, 'tmin': 500, 'ch_FZ': 1, 'ch_C3': 1, 'ch_CZ': 0, 'ch_C4': 0, 'ch_PZ': 1, 'ch_PO7': 1, 'ch_OZ': 0, 'ch_PO8': 1, 'rsf_d': 2, 'n_bands': 8, 'min_freq': 5, 'max_freq': 32, 'filter_order': 5, 'fs': 500, 'C': 9.700229111364788, 'kernel': 'poly', 'gamma': 'scale', 'degree': 2, 'coef0': 0.3595978872096106}. Best is trial 0 with value: 0.0.\n"
     ]
    },
    {
     "name": "stdout",
     "output_type": "stream",
     "text": [
      "skipped: 960/960\n",
      "Data loading failed: need at least one array to concatenate\n",
      "\n",
      "→ Trying: wl=250, st=250, tmin=500, chans=['CZ', 'PO7', 'PO8']\n",
      "task: mi, split: train, domain: time, data_fraction: 0.4\n",
      "Using 40.0% of data: 960/960 samples\n"
     ]
    },
    {
     "name": "stderr",
     "output_type": "stream",
     "text": [
      "/tmp/ipykernel_8343/2636314267.py:179: FutureWarning: suggest_uniform has been deprecated in v3.0.0. This feature will be removed in v6.0.0. See https://github.com/optuna/optuna/releases/tag/v3.0.0. Use suggest_float instead.\n",
      "  coef0 = trial.suggest_uniform(\"coef0\", 0.0, 1.0)\n"
     ]
    },
    {
     "name": "stdout",
     "output_type": "stream",
     "text": [
      "skipped: 7/960\n"
     ]
    },
    {
     "name": "stderr",
     "output_type": "stream",
     "text": [
      "[I 2025-06-28 17:30:20,803] Trial 1 finished with value: 0.5314573409847582 and parameters: {'window_length': 250, 'stride': 250, 'tmin': 500, 'ch_FZ': 0, 'ch_C3': 0, 'ch_CZ': 1, 'ch_C4': 0, 'ch_PZ': 0, 'ch_PO7': 1, 'ch_OZ': 0, 'ch_PO8': 1, 'rsf_d': 2, 'n_bands': 6, 'min_freq': 8, 'max_freq': 33, 'filter_order': 4, 'fs': 125, 'C': 6.055391733767742, 'kernel': 'poly', 'gamma': 'auto', 'degree': 5, 'coef0': 0.9389198681471957}. Best is trial 1 with value: 0.5314573409847582.\n"
     ]
    },
    {
     "name": "stdout",
     "output_type": "stream",
     "text": [
      "   → Train acc: 0.724 | Val acc: 0.531\n",
      "\n",
      "→ Trying: wl=1000, st=250, tmin=0, chans=['FZ', 'C4', 'PZ', 'PO7']\n",
      "task: mi, split: train, domain: time, data_fraction: 0.4\n",
      "Using 40.0% of data: 960/960 samples\n"
     ]
    },
    {
     "name": "stderr",
     "output_type": "stream",
     "text": [
      "/tmp/ipykernel_8343/2636314267.py:179: FutureWarning: suggest_uniform has been deprecated in v3.0.0. This feature will be removed in v6.0.0. See https://github.com/optuna/optuna/releases/tag/v3.0.0. Use suggest_float instead.\n",
      "  coef0 = trial.suggest_uniform(\"coef0\", 0.0, 1.0)\n"
     ]
    },
    {
     "name": "stdout",
     "output_type": "stream",
     "text": [
      "skipped: 11/960\n"
     ]
    },
    {
     "name": "stderr",
     "output_type": "stream",
     "text": [
      "[I 2025-06-28 17:30:58,159] Trial 2 finished with value: 0.5243522923428029 and parameters: {'window_length': 1000, 'stride': 250, 'tmin': 0, 'ch_FZ': 1, 'ch_C3': 0, 'ch_CZ': 0, 'ch_C4': 1, 'ch_PZ': 1, 'ch_PO7': 1, 'ch_OZ': 0, 'ch_PO8': 0, 'rsf_d': 2, 'n_bands': 4, 'min_freq': 9, 'max_freq': 28, 'filter_order': 3, 'fs': 125, 'C': 0.01288073897535579, 'kernel': 'sigmoid', 'gamma': 'scale', 'degree': 3, 'coef0': 0.40374598592718713}. Best is trial 1 with value: 0.5314573409847582.\n"
     ]
    },
    {
     "name": "stdout",
     "output_type": "stream",
     "text": [
      "   → Train acc: 0.520 | Val acc: 0.524\n",
      "\n",
      "→ Trying: wl=1000, st=500, tmin=500, chans=['C3', 'C4']\n",
      "task: mi, split: train, domain: time, data_fraction: 0.4\n",
      "Using 40.0% of data: 960/960 samples\n"
     ]
    },
    {
     "name": "stderr",
     "output_type": "stream",
     "text": [
      "/tmp/ipykernel_8343/2636314267.py:179: FutureWarning: suggest_uniform has been deprecated in v3.0.0. This feature will be removed in v6.0.0. See https://github.com/optuna/optuna/releases/tag/v3.0.0. Use suggest_float instead.\n",
      "  coef0 = trial.suggest_uniform(\"coef0\", 0.0, 1.0)\n"
     ]
    },
    {
     "name": "stdout",
     "output_type": "stream",
     "text": [
      "skipped: 37/960\n"
     ]
    },
    {
     "name": "stderr",
     "output_type": "stream",
     "text": [
      "[I 2025-06-28 17:31:15,282] Trial 3 finished with value: 0.5146615057038509 and parameters: {'window_length': 1000, 'stride': 500, 'tmin': 500, 'ch_FZ': 0, 'ch_C3': 1, 'ch_CZ': 0, 'ch_C4': 1, 'ch_PZ': 0, 'ch_PO7': 0, 'ch_OZ': 0, 'ch_PO8': 0, 'rsf_d': 2, 'n_bands': 7, 'min_freq': 10, 'max_freq': 35, 'filter_order': 4, 'fs': 125, 'C': 5.459554328202124, 'kernel': 'linear', 'gamma': 'auto', 'degree': 3, 'coef0': 0.25548945868767536}. Best is trial 1 with value: 0.5314573409847582.\n"
     ]
    },
    {
     "name": "stdout",
     "output_type": "stream",
     "text": [
      "   → Train acc: 0.575 | Val acc: 0.515\n",
      "\n",
      "→ Trying: wl=250, st=500, tmin=500, chans=['C3', 'PZ', 'PO7', 'OZ', 'PO8']\n",
      "task: mi, split: train, domain: time, data_fraction: 0.4\n",
      "Using 40.0% of data: 960/960 samples\n"
     ]
    },
    {
     "name": "stderr",
     "output_type": "stream",
     "text": [
      "/tmp/ipykernel_8343/2636314267.py:179: FutureWarning: suggest_uniform has been deprecated in v3.0.0. This feature will be removed in v6.0.0. See https://github.com/optuna/optuna/releases/tag/v3.0.0. Use suggest_float instead.\n",
      "  coef0 = trial.suggest_uniform(\"coef0\", 0.0, 1.0)\n"
     ]
    },
    {
     "name": "stdout",
     "output_type": "stream",
     "text": [
      "skipped: 7/960\n"
     ]
    },
    {
     "name": "stderr",
     "output_type": "stream",
     "text": [
      "[I 2025-06-28 17:31:52,438] Trial 4 finished with value: 0.5044897572301658 and parameters: {'window_length': 250, 'stride': 500, 'tmin': 500, 'ch_FZ': 0, 'ch_C3': 1, 'ch_CZ': 0, 'ch_C4': 0, 'ch_PZ': 1, 'ch_PO7': 1, 'ch_OZ': 1, 'ch_PO8': 1, 'rsf_d': 2, 'n_bands': 6, 'min_freq': 8, 'max_freq': 34, 'filter_order': 5, 'fs': 500, 'C': 99.92360421218291, 'kernel': 'rbf', 'gamma': 'auto', 'degree': 3, 'coef0': 0.7190031576759304}. Best is trial 1 with value: 0.5314573409847582.\n"
     ]
    },
    {
     "name": "stdout",
     "output_type": "stream",
     "text": [
      "   → Train acc: 0.838 | Val acc: 0.504\n",
      "\n",
      "→ Trying: wl=1000, st=250, tmin=250, chans=['CZ', 'C4', 'PZ', 'OZ', 'PO8']\n",
      "task: mi, split: train, domain: time, data_fraction: 0.4\n",
      "Using 40.0% of data: 960/960 samples\n"
     ]
    },
    {
     "name": "stderr",
     "output_type": "stream",
     "text": [
      "/tmp/ipykernel_8343/2636314267.py:179: FutureWarning: suggest_uniform has been deprecated in v3.0.0. This feature will be removed in v6.0.0. See https://github.com/optuna/optuna/releases/tag/v3.0.0. Use suggest_float instead.\n",
      "  coef0 = trial.suggest_uniform(\"coef0\", 0.0, 1.0)\n"
     ]
    },
    {
     "name": "stdout",
     "output_type": "stream",
     "text": [
      "skipped: 16/960\n"
     ]
    },
    {
     "name": "stderr",
     "output_type": "stream",
     "text": [
      "[I 2025-06-28 17:32:50,010] Trial 5 finished with value: 0.5015057101160555 and parameters: {'window_length': 1000, 'stride': 250, 'tmin': 250, 'ch_FZ': 0, 'ch_C3': 0, 'ch_CZ': 1, 'ch_C4': 1, 'ch_PZ': 1, 'ch_PO7': 0, 'ch_OZ': 1, 'ch_PO8': 1, 'rsf_d': 3, 'n_bands': 8, 'min_freq': 9, 'max_freq': 29, 'filter_order': 6, 'fs': 125, 'C': 0.00197274833953799, 'kernel': 'poly', 'gamma': 'scale', 'degree': 2, 'coef0': 0.825096996456126}. Best is trial 1 with value: 0.5314573409847582.\n"
     ]
    },
    {
     "name": "stdout",
     "output_type": "stream",
     "text": [
      "   → Train acc: 0.503 | Val acc: 0.502\n",
      "\n",
      "→ Trying: wl=500, st=500, tmin=250, chans=['C3', 'CZ', 'C4', 'PO7', 'OZ']\n",
      "task: mi, split: train, domain: time, data_fraction: 0.4\n",
      "Using 40.0% of data: 960/960 samples\n"
     ]
    },
    {
     "name": "stderr",
     "output_type": "stream",
     "text": [
      "/tmp/ipykernel_8343/2636314267.py:179: FutureWarning: suggest_uniform has been deprecated in v3.0.0. This feature will be removed in v6.0.0. See https://github.com/optuna/optuna/releases/tag/v3.0.0. Use suggest_float instead.\n",
      "  coef0 = trial.suggest_uniform(\"coef0\", 0.0, 1.0)\n"
     ]
    },
    {
     "name": "stdout",
     "output_type": "stream",
     "text": [
      "skipped: 7/960\n"
     ]
    },
    {
     "name": "stderr",
     "output_type": "stream",
     "text": [
      "[I 2025-06-28 17:36:27,789] Trial 6 finished with value: 0.5261756411482371 and parameters: {'window_length': 500, 'stride': 500, 'tmin': 250, 'ch_FZ': 0, 'ch_C3': 1, 'ch_CZ': 1, 'ch_C4': 1, 'ch_PZ': 0, 'ch_PO7': 1, 'ch_OZ': 1, 'ch_PO8': 0, 'rsf_d': 3, 'n_bands': 3, 'min_freq': 6, 'max_freq': 27, 'filter_order': 5, 'fs': 500, 'C': 815.553561503435, 'kernel': 'linear', 'gamma': 'scale', 'degree': 5, 'coef0': 0.8631835349621266}. Best is trial 1 with value: 0.5314573409847582.\n"
     ]
    },
    {
     "name": "stdout",
     "output_type": "stream",
     "text": [
      "   → Train acc: 0.551 | Val acc: 0.526\n",
      "\n",
      "→ Trying: wl=250, st=750, tmin=500, chans=['CZ', 'C4', 'PO8']\n",
      "task: mi, split: train, domain: time, data_fraction: 0.4\n",
      "Using 40.0% of data: 960/960 samples\n"
     ]
    },
    {
     "name": "stderr",
     "output_type": "stream",
     "text": [
      "/tmp/ipykernel_8343/2636314267.py:179: FutureWarning: suggest_uniform has been deprecated in v3.0.0. This feature will be removed in v6.0.0. See https://github.com/optuna/optuna/releases/tag/v3.0.0. Use suggest_float instead.\n",
      "  coef0 = trial.suggest_uniform(\"coef0\", 0.0, 1.0)\n"
     ]
    },
    {
     "name": "stdout",
     "output_type": "stream",
     "text": [
      "skipped: 7/960\n"
     ]
    },
    {
     "name": "stderr",
     "output_type": "stream",
     "text": [
      "[I 2025-06-28 17:36:52,727] Trial 7 finished with value: 0.49147518636847715 and parameters: {'window_length': 250, 'stride': 750, 'tmin': 500, 'ch_FZ': 0, 'ch_C3': 0, 'ch_CZ': 1, 'ch_C4': 1, 'ch_PZ': 0, 'ch_PO7': 0, 'ch_OZ': 0, 'ch_PO8': 1, 'rsf_d': 2, 'n_bands': 6, 'min_freq': 10, 'max_freq': 35, 'filter_order': 4, 'fs': 125, 'C': 0.0024524408055706156, 'kernel': 'poly', 'gamma': 'auto', 'degree': 4, 'coef0': 0.3685813466623128}. Best is trial 1 with value: 0.5314573409847582.\n"
     ]
    },
    {
     "name": "stdout",
     "output_type": "stream",
     "text": [
      "   → Train acc: 0.501 | Val acc: 0.491\n",
      "\n",
      "→ Trying: wl=500, st=750, tmin=0, chans=['FZ', 'CZ', 'C4', 'PO7', 'OZ']\n",
      "task: mi, split: train, domain: time, data_fraction: 0.4\n",
      "Using 40.0% of data: 960/960 samples\n"
     ]
    },
    {
     "name": "stderr",
     "output_type": "stream",
     "text": [
      "/tmp/ipykernel_8343/2636314267.py:179: FutureWarning: suggest_uniform has been deprecated in v3.0.0. This feature will be removed in v6.0.0. See https://github.com/optuna/optuna/releases/tag/v3.0.0. Use suggest_float instead.\n",
      "  coef0 = trial.suggest_uniform(\"coef0\", 0.0, 1.0)\n"
     ]
    },
    {
     "name": "stdout",
     "output_type": "stream",
     "text": [
      "skipped: 3/960\n"
     ]
    },
    {
     "name": "stderr",
     "output_type": "stream",
     "text": [
      "[I 2025-06-28 17:37:30,576] Trial 8 finished with value: 0.5071056823863797 and parameters: {'window_length': 500, 'stride': 750, 'tmin': 0, 'ch_FZ': 1, 'ch_C3': 0, 'ch_CZ': 1, 'ch_C4': 1, 'ch_PZ': 0, 'ch_PO7': 1, 'ch_OZ': 1, 'ch_PO8': 0, 'rsf_d': 4, 'n_bands': 7, 'min_freq': 11, 'max_freq': 31, 'filter_order': 6, 'fs': 500, 'C': 0.37469840353692024, 'kernel': 'poly', 'gamma': 'auto', 'degree': 5, 'coef0': 0.8200651483831887}. Best is trial 1 with value: 0.5314573409847582.\n"
     ]
    },
    {
     "name": "stdout",
     "output_type": "stream",
     "text": [
      "   → Train acc: 0.926 | Val acc: 0.507\n",
      "\n",
      "→ Trying: wl=1000, st=250, tmin=0, chans=['FZ', 'C3', 'PZ', 'PO7']\n",
      "task: mi, split: train, domain: time, data_fraction: 0.4\n",
      "Using 40.0% of data: 960/960 samples\n"
     ]
    },
    {
     "name": "stderr",
     "output_type": "stream",
     "text": [
      "/tmp/ipykernel_8343/2636314267.py:179: FutureWarning: suggest_uniform has been deprecated in v3.0.0. This feature will be removed in v6.0.0. See https://github.com/optuna/optuna/releases/tag/v3.0.0. Use suggest_float instead.\n",
      "  coef0 = trial.suggest_uniform(\"coef0\", 0.0, 1.0)\n"
     ]
    },
    {
     "name": "stdout",
     "output_type": "stream",
     "text": [
      "skipped: 11/960\n"
     ]
    }
   ],
   "source": [
    "# -----------------------------------------------------------------------------\n",
    "# 1) RSFTransformer that learns W_opt using BFGS\n",
    "# -----------------------------------------------------------------------------\n",
    "class RSFTransformer(BaseEstimator, TransformerMixin):\n",
    "    def __init__(self, d=8, eps=1e-6, maxiter=500):\n",
    "        self.d = d\n",
    "        self.eps = eps\n",
    "        self.maxiter = maxiter\n",
    "\n",
    "    def fit(self, X, y):\n",
    "        covs = Covariances(estimator=\"lwf\").transform(X)\n",
    "        C1 = mean_riemann(covs[y == 0])\n",
    "        C2 = mean_riemann(covs[y == 1])\n",
    "        Nc = C1.shape[0]\n",
    "        W0 = np.random.randn(Nc, self.d)\n",
    "\n",
    "        def J(w_flat):\n",
    "            W = w_flat.reshape(Nc, self.d)\n",
    "            S1 = W.T @ C1 @ W + np.eye(self.d) * self.eps\n",
    "            S2 = W.T @ C2 @ W + np.eye(self.d) * self.eps\n",
    "            return np.linalg.norm(logm(inv(S1) @ S2), \"fro\") ** 2\n",
    "\n",
    "        def grad(w_flat):\n",
    "            W = w_flat.reshape(Nc, self.d)\n",
    "            S1 = W.T @ C1 @ W + np.eye(self.d) * self.eps\n",
    "            S2 = W.T @ C2 @ W + np.eye(self.d) * self.eps\n",
    "            A = inv(S1) @ S2\n",
    "            L = logm(A)\n",
    "            t1 = 2 * C1 @ W @ inv(S1) @ L @ inv(S1)\n",
    "            t2 = 2 * C2 @ W @ inv(S2) @ L @ inv(S2)\n",
    "            return (t1 - t2).ravel()\n",
    "\n",
    "        res = minimize(lambda w: -J(w), W0.ravel(), jac=lambda w: -grad(w), method=\"BFGS\", options={\"maxiter\": self.maxiter})\n",
    "        self.W_opt = res.x.reshape(Nc, self.d)\n",
    "        return self\n",
    "\n",
    "    def transform(self, X):\n",
    "        return np.einsum(\"cd,ect->edt\", self.W_opt, X)\n",
    "\n",
    "class FilterBankRTSClassifier(BaseEstimator, ClassifierMixin):\n",
    "    def __init__(self, bands, fs, order, C, kernel, gamma, degree, coef0, probability):\n",
    "        self.bands = bands if bands else [(8, 12), (12, 16), (16, 20), (20, 24), (24, 30)]\n",
    "        self.fs = fs\n",
    "        self.order = order\n",
    "        self.C = C\n",
    "        self.kernel = kernel\n",
    "        self.gamma = gamma\n",
    "        self.degree = degree\n",
    "        self.coef0 = coef0\n",
    "        self.probability = probability\n",
    "\n",
    "    def compute_fb_covs(self, X):\n",
    "        \"\"\"X: (n_trials, C, T) → fb_covs: (n_trials, B, C, C)\"\"\"\n",
    "        # Pre-compute SOS filters if not done\n",
    "        if not hasattr(self, \"sos_bands\"):\n",
    "            self.sos_bands = [butter(self.order, (l / (self.fs / 2), h / (self.fs / 2)), btype=\"bandpass\", output=\"sos\") for l, h in self.bands]\n",
    "\n",
    "        n, C, _ = X.shape\n",
    "        B = len(self.sos_bands)\n",
    "        fb_covs = np.zeros((n, B, C, C))\n",
    "        for i, sos in enumerate(self.sos_bands):\n",
    "            Xf = sosfiltfilt(sos, X, axis=2)\n",
    "            fb_covs[:, i] = Covariances(estimator=\"lwf\").transform(Xf)\n",
    "        return fb_covs\n",
    "\n",
    "    def fit(self, X, y):\n",
    "        self.classes_ = np.unique(y)\n",
    "        fb_covs = self.compute_fb_covs(X)\n",
    "        n, B, C, _ = fb_covs.shape\n",
    "\n",
    "        # Flatten for tangent space\n",
    "        covs_flat = fb_covs.reshape(n * B, C, C)\n",
    "        labels_rep = np.repeat(y, B)\n",
    "\n",
    "        # Fit tangent space\n",
    "        self.ts = TangentSpace(metric=\"riemann\").fit(covs_flat, labels_rep)\n",
    "        Z = self.ts.transform(covs_flat)\n",
    "        Z = Z.reshape(n, B, -1)\n",
    "\n",
    "        # Compute mutual information weights\n",
    "        self.w = mutual_info_classif(Z.reshape(n, -1), y, discrete_features=False).reshape(B, -1).mean(axis=1)\n",
    "        self.w = self.w / self.w.sum()\n",
    "\n",
    "        # Weight features\n",
    "        Z_weighted = np.concatenate([np.sqrt(self.w[i]) * Z[:, i, :] for i in range(B)], axis=1)\n",
    "\n",
    "        # Train classifier\n",
    "        self.clf = make_pipeline(\n",
    "            StandardScaler(),\n",
    "            SVC(\n",
    "                C=self.C,\n",
    "                kernel=self.kernel,\n",
    "                gamma=self.gamma,\n",
    "                degree=self.degree,\n",
    "                coef0=self.coef0,\n",
    "                class_weight='balanced',\n",
    "                probability=self.probability,\n",
    "                random_state=42,\n",
    "            ),\n",
    "        )\n",
    "        self.clf.fit(Z_weighted, y)\n",
    "        return self\n",
    "\n",
    "    def predict(self, X):\n",
    "        fb_covs = self.compute_fb_covs(X)\n",
    "        n, B, C, _ = fb_covs.shape\n",
    "\n",
    "        covs_flat = fb_covs.reshape(n * B, C, C)\n",
    "        Z = self.ts.transform(covs_flat).reshape(n, B, -1)\n",
    "        Z_weighted = np.concatenate([np.sqrt(self.w[i]) * Z[:, i, :] for i in range(B)], axis=1)\n",
    "\n",
    "        return self.clf.predict(Z_weighted)\n",
    "\n",
    "    def predict_proba(self, X):\n",
    "        fb_covs = self.compute_fb_covs(X)\n",
    "        n, B, C, _ = fb_covs.shape\n",
    "\n",
    "        covs_flat = fb_covs.reshape(n * B, C, C)\n",
    "        Z = self.ts.transform(covs_flat).reshape(n, B, -1)\n",
    "        Z_weighted = np.concatenate([np.sqrt(self.w[i]) * Z[:, i, :] for i in range(B)], axis=1)\n",
    "\n",
    "        return self.clf.predict_proba(Z_weighted)\n",
    "\n",
    "\n",
    "def load_eeg_data(data_path, window_length, stride, tmin, eeg_channels):\n",
    "    ds = EEGDataset(\n",
    "        data_path,\n",
    "        window_length=window_length,\n",
    "        stride=stride,\n",
    "        task=\"mi\",\n",
    "        split=\"train\",\n",
    "        data_fraction=0.4,\n",
    "        tmin=tmin,\n",
    "        eeg_channels=eeg_channels,\n",
    "    )\n",
    "    X = np.stack([x.numpy() for x, _ in ds])\n",
    "    y = np.array([label[0] for _, label in ds])\n",
    "    return X, y\n",
    "\n",
    "\n",
    "# Optuna optimization\n",
    "data_path = \"./data/mtcaic3\"\n",
    "cv_folds = 3\n",
    "\n",
    "window_lengths = [250, 500, 1000, 1500]\n",
    "strides = [250, 500, 750]\n",
    "tmins = [0, 250, 500]\n",
    "\n",
    "\n",
    "def objective(trial):\n",
    "    # --- Data and channel selection parameters (same as before) ---\n",
    "    wl = trial.suggest_categorical(\"window_length\", window_lengths)\n",
    "    st = trial.suggest_categorical(\"stride\", strides)\n",
    "    t0 = trial.suggest_categorical(\"tmin\", tmins)\n",
    "    all_channels = [\"FZ\", \"C3\", \"CZ\", \"C4\", \"PZ\", \"PO7\", \"OZ\", \"PO8\"]\n",
    "    active_mask = [trial.suggest_int(f\"ch_{ch}\", 0, 1) for ch in all_channels]\n",
    "    chs = [ch for ch, enabled in zip(all_channels, active_mask) if enabled]\n",
    "    if len(chs) < 2:\n",
    "        return 0.0\n",
    "\n",
    "    # --- NEW: Hyperparameter for the RSFTransformer ---\n",
    "    # The dimension 'd' must be between 2 and the number of selected channels.\n",
    "    d_rsf = trial.suggest_int(\"rsf_d\", 2, len(chs))\n",
    "\n",
    "    # --- Filter bank parameters (same as before) ---\n",
    "    n_bands = trial.suggest_int(\"n_bands\", 3, 8)\n",
    "    min_freq = trial.suggest_int(\"min_freq\", 4, 12)\n",
    "    max_freq = trial.suggest_int(\"max_freq\", 25, 40)\n",
    "    freq_step = (max_freq - min_freq) / n_bands\n",
    "    bands = [(min_freq + i * freq_step, min_freq + (i + 1) * freq_step) for i in range(n_bands)]\n",
    "    filter_order = trial.suggest_int(\"filter_order\", 3, 6)\n",
    "    fs = trial.suggest_categorical(\"fs\", [125, 250, 500])\n",
    "\n",
    "    # --- SVM parameters ---\n",
    "    C = trial.suggest_float(\"C\", 1e-3, 1e3, log=True)\n",
    "    kernel = trial.suggest_categorical(\"kernel\", [\"linear\", \"rbf\", \"poly\", \"sigmoid\"])\n",
    "    gamma = trial.suggest_categorical(\"gamma\", [\"scale\", \"auto\"])\n",
    "    degree = trial.suggest_int(\"degree\", 2, 5)  # only for 'poly'\n",
    "    coef0 = trial.suggest_uniform(\"coef0\", 0.0, 1.0)\n",
    "\n",
    "    print(f\"\\n→ Trying: wl={wl}, st={st}, tmin={t0}, chans={chs}\")\n",
    "\n",
    "    try:\n",
    "        X, y = load_eeg_data(data_path, wl, st, t0, chs)\n",
    "    except Exception as e:\n",
    "        print(\"Data loading failed:\", e)\n",
    "        return 0.0\n",
    "\n",
    "    # --- CORE CHANGE: Build the pipeline ---\n",
    "    pipeline = make_pipeline(\n",
    "            RSFTransformer(d=d_rsf),\n",
    "            FilterBankRTSClassifier(\n",
    "                bands=bands,\n",
    "                fs=fs,\n",
    "                order=filter_order,\n",
    "                C=C,\n",
    "                kernel=kernel,\n",
    "                gamma=gamma,\n",
    "                degree=degree,\n",
    "                coef0=coef0,\n",
    "                probability=True,\n",
    "            ),\n",
    "        )\n",
    "\n",
    "    cv = StratifiedKFold(cv_folds, shuffle=True, random_state=42)\n",
    "    \n",
    "    # Run cross-validation on the entire pipeline\n",
    "    scores = cross_validate(pipeline, X, y, cv=cv, scoring=\"accuracy\", return_train_score=True)\n",
    "\n",
    "    train_acc = scores[\"train_score\"].mean()\n",
    "    val_acc = scores[\"test_score\"].mean()\n",
    "\n",
    "    print(f\"   → Train acc: {train_acc:.3f} | Val acc: {val_acc:.3f}\")\n",
    "    trial.set_user_attr(\"train_acc\", train_acc)\n",
    "\n",
    "    return val_acc\n",
    "    \n",
    "    \n",
    "study = optuna.create_study(direction=\"maximize\", pruner=MedianPruner())\n",
    "study.optimize(objective, n_trials=100, timeout=7200)\n",
    "\n",
    "print(\"\\n=== Best trial ===\")\n",
    "best = study.best_trial\n",
    "print(\"Val Acc:\", best.value)\n",
    "print(\"Train Acc:\", best.user_attrs[\"train_acc\"])\n",
    "print(\"Params:\")\n",
    "for k, v in best.params.items():\n",
    "    print(f\"  {k}: {v}\")"
   ]
  },
  {
   "cell_type": "code",
   "execution_count": null,
   "id": "f1a087e4",
   "metadata": {},
   "outputs": [
    {
     "name": "stdout",
     "output_type": "stream",
     "text": [
      "task: mi, split: train, domain: time, data_fraction: 1\n",
      "skipped: 21/2400\n",
      "task: mi, split: train, domain: time, data_fraction: 1\n",
      "skipped: 21/2400\n",
      "Validation accuracy: 0.5602\n",
      "\n",
      "Classification Report:\n",
      "              precision    recall  f1-score   support\n",
      "\n",
      "           0       0.55      0.61      0.58      3317\n",
      "           1       0.57      0.51      0.54      3374\n",
      "\n",
      "    accuracy                           0.56      6691\n",
      "   macro avg       0.56      0.56      0.56      6691\n",
      "weighted avg       0.56      0.56      0.56      6691\n",
      "\n"
     ]
    }
   ],
   "source": [
    "# Trial 7 finished with value: 0.5871394563472291 and parameters: {'window_length': 250, 'stride': 500, 'tmin': 500, 'ch_FZ': 0, 'ch_C3': 0, 'ch_CZ': 1, 'ch_C4': 1, 'ch_PZ': 0, 'ch_PO7': 1, 'ch_OZ': 1, 'ch_PO8': 1, 'rsf_d': 5, 'n_bands': 3, 'min_freq': 4, 'max_freq': 39, 'filter_order': 3, 'fs': 125, 'n_estimators': 150, 'max_depth': 10, 'min_samples_split': 5, 'min_samples_leaf': 1, 'max_features': 'sqrt'}. Best is trial 7 with value: 0.5871394563472291.\n",
    "\n",
    "class FilterBankRTSClassifier(BaseEstimator, ClassifierMixin):\n",
    "    def __init__(self, bands=None, fs=250, order=4, n_estimators=100, max_depth=None, min_samples_split=2, min_samples_leaf=1, max_features=\"sqrt\", class_weight=\"balanced\", n_jobs=-1):\n",
    "        self.bands = bands if bands else [(8, 12), (12, 16), (16, 20), (20, 24), (24, 30)]\n",
    "        self.fs = fs\n",
    "        self.order = order\n",
    "        self.n_estimators = n_estimators\n",
    "        self.max_depth = max_depth\n",
    "        self.min_samples_split = min_samples_split\n",
    "        self.min_samples_leaf = min_samples_leaf\n",
    "        self.max_features = max_features\n",
    "        self.class_weight = class_weight\n",
    "        self.n_jobs = n_jobs\n",
    "\n",
    "    def compute_fb_covs(self, X):\n",
    "        \"\"\"X: (n_trials, C, T) → fb_covs: (n_trials, B, C, C)\"\"\"\n",
    "        # Pre-compute SOS filters if not done\n",
    "        if not hasattr(self, \"sos_bands\"):\n",
    "            self.sos_bands = [butter(self.order, (l / (self.fs / 2), h / (self.fs / 2)), btype=\"bandpass\", output=\"sos\") for l, h in self.bands]\n",
    "\n",
    "        n, C, _ = X.shape\n",
    "        B = len(self.sos_bands)\n",
    "        fb_covs = np.zeros((n, B, C, C))\n",
    "        for i, sos in enumerate(self.sos_bands):\n",
    "            Xf = sosfiltfilt(sos, X, axis=2)\n",
    "            fb_covs[:, i] = Covariances(estimator=\"lwf\").transform(Xf)\n",
    "        return fb_covs\n",
    "\n",
    "    def fit(self, X, y):\n",
    "        self.classes_ = np.unique(y)\n",
    "        fb_covs = self.compute_fb_covs(X)\n",
    "        n, B, C, _ = fb_covs.shape\n",
    "\n",
    "        # Flatten for tangent space\n",
    "        covs_flat = fb_covs.reshape(n * B, C, C)\n",
    "        labels_rep = np.repeat(y, B)\n",
    "\n",
    "        # Fit tangent space\n",
    "        self.ts = TangentSpace(metric=\"riemann\").fit(covs_flat, labels_rep)\n",
    "        Z = self.ts.transform(covs_flat)\n",
    "        Z = Z.reshape(n, B, -1)\n",
    "\n",
    "        # Compute mutual information weights\n",
    "        self.w = mutual_info_classif(Z.reshape(n, -1), y, discrete_features=False).reshape(B, -1).mean(axis=1)\n",
    "        self.w = self.w / self.w.sum()\n",
    "\n",
    "        # Weight features\n",
    "        Z_weighted = np.concatenate([np.sqrt(self.w[i]) * Z[:, i, :] for i in range(B)], axis=1)\n",
    "\n",
    "        # Train classifier\n",
    "        self.clf = make_pipeline(\n",
    "            StandardScaler(),\n",
    "            RandomForestClassifier(\n",
    "                n_estimators=self.n_estimators,\n",
    "                max_depth=self.max_depth,\n",
    "                min_samples_split=self.min_samples_split,\n",
    "                min_samples_leaf=self.min_samples_leaf,\n",
    "                max_features=self.max_features,\n",
    "                class_weight=self.class_weight,\n",
    "                n_jobs=self.n_jobs,\n",
    "                random_state=42,\n",
    "            ),\n",
    "        )\n",
    "        self.clf.fit(Z_weighted, y)\n",
    "        return self\n",
    "\n",
    "    def predict(self, X):\n",
    "        fb_covs = self.compute_fb_covs(X)\n",
    "        n, B, C, _ = fb_covs.shape\n",
    "\n",
    "        covs_flat = fb_covs.reshape(n * B, C, C)\n",
    "        Z = self.ts.transform(covs_flat).reshape(n, B, -1)\n",
    "        Z_weighted = np.concatenate([np.sqrt(self.w[i]) * Z[:, i, :] for i in range(B)], axis=1)\n",
    "\n",
    "        return self.clf.predict(Z_weighted)\n",
    "\n",
    "    def predict_proba(self, X):\n",
    "        fb_covs = self.compute_fb_covs(X)\n",
    "        n, B, C, _ = fb_covs.shape\n",
    "\n",
    "        covs_flat = fb_covs.reshape(n * B, C, C)\n",
    "        Z = self.ts.transform(covs_flat).reshape(n, B, -1)\n",
    "        Z_weighted = np.concatenate([np.sqrt(self.w[i]) * Z[:, i, :] for i in range(B)], axis=1)\n",
    "\n",
    "        return self.clf.predict_proba(Z_weighted)\n",
    "\n",
    "class RSFTransformer(BaseEstimator, TransformerMixin):\n",
    "    def __init__(self, d=8, eps=1e-6, maxiter=500):\n",
    "        self.d = d\n",
    "        self.eps = eps\n",
    "        self.maxiter = maxiter\n",
    "\n",
    "    def fit(self, X, y):\n",
    "        covs = Covariances(estimator=\"lwf\").transform(X)\n",
    "        C1 = mean_riemann(covs[y == 0])\n",
    "        C2 = mean_riemann(covs[y == 1])\n",
    "        Nc = C1.shape[0]\n",
    "        W0 = np.random.randn(Nc, self.d)\n",
    "\n",
    "        def J(w_flat):\n",
    "            W = w_flat.reshape(Nc, self.d)\n",
    "            S1 = W.T @ C1 @ W + np.eye(self.d) * self.eps\n",
    "            S2 = W.T @ C2 @ W + np.eye(self.d) * self.eps\n",
    "            return np.linalg.norm(logm(inv(S1) @ S2), \"fro\") ** 2\n",
    "\n",
    "        def grad(w_flat):\n",
    "            W = w_flat.reshape(Nc, self.d)\n",
    "            S1 = W.T @ C1 @ W + np.eye(self.d) * self.eps\n",
    "            S2 = W.T @ C2 @ W + np.eye(self.d) * self.eps\n",
    "            A = inv(S1) @ S2\n",
    "            L = logm(A)\n",
    "            t1 = 2 * C1 @ W @ inv(S1) @ L @ inv(S1)\n",
    "            t2 = 2 * C2 @ W @ inv(S2) @ L @ inv(S2)\n",
    "            return (t1 - t2).ravel()\n",
    "\n",
    "        res = minimize(lambda w: -J(w), W0.ravel(), jac=lambda w: -grad(w), method=\"BFGS\", options={\"maxiter\": self.maxiter})\n",
    "        self.W_opt = res.x.reshape(Nc, self.d)\n",
    "        return self\n",
    "\n",
    "    def transform(self, X):\n",
    "        return np.einsum(\"cd,ect->edt\", self.W_opt, X)\n",
    "\n",
    "\n",
    "window_length = 250\n",
    "stride = 500\n",
    "tmin = 500\n",
    "eeg_channels = ['CZ', 'C4', 'PO7', 'OZ', 'PO8']\n",
    "d_rsf = 5\n",
    "n_bands = 3\n",
    "min_freq = 4\n",
    "max_freq = 39\n",
    "filter_order = 3\n",
    "fs = 125\n",
    "n_estimators = 150\n",
    "max_depth = 10\n",
    "min_samples_split = 5\n",
    "min_samples_leaf = 1\n",
    "max_features = 'sqrt'\n",
    "data_path = \"./data/mtcaic3\"\n",
    "\n",
    "\n",
    "# Load data with besjt parameters\n",
    "ds_train = EEGDataset(\n",
    "    data_path,\n",
    "    window_length=window_length,\n",
    "    stride=stride,\n",
    "    task=\"mi\",\n",
    "    split=\"train\",\n",
    "    data_fraction=1,\n",
    "    tmin=tmin,\n",
    "    eeg_channels=eeg_channels,\n",
    ")\n",
    "X_train = np.stack([x.numpy() for x, _ in ds_train])\n",
    "y_train = np.array([label[0] for _, label in ds_train])\n",
    "\n",
    "# Load data with besjt parameters\n",
    "freq_step = (max_freq - min_freq) / n_bands\n",
    "bands = [(min_freq + i * freq_step, min_freq + (i + 1) * freq_step) for i in range(n_bands)]\n",
    "ds_val = EEGDataset(\n",
    "    data_path,\n",
    "    window_length=window_length,\n",
    "    stride=stride,\n",
    "    task=\"mi\",\n",
    "    split=\"train\",\n",
    "    data_fraction=1,\n",
    "    tmin=tmin,\n",
    "    eeg_channels=eeg_channels,\n",
    ")\n",
    "X_val = np.stack([x.numpy() for x, _ in ds_val])\n",
    "y_val = np.array([label[0] for _, label in ds_val])\n",
    "\n",
    "freq_step = (max_freq - min_freq) / n_bands\n",
    "bands = [(min_freq + i * freq_step, min_freq + (i + 1) * freq_step) for i in range(n_bands)]\n",
    "\n",
    "# Create frequency bands\n",
    "\n",
    "# Create FilterBank classifier with best parameters\n",
    "clf = make_pipeline(\n",
    "    # This single object now contains your entire workflow.\n",
    "        RSFTransformer(d=d_rsf),\n",
    "        FilterBankRTSClassifier(\n",
    "            bands=bands,\n",
    "            fs=fs,\n",
    "            order=filter_order,\n",
    "            n_estimators=n_estimators,\n",
    "            max_depth=max_depth,\n",
    "            min_samples_split=min_samples_split,\n",
    "            min_samples_leaf=min_samples_leaf,\n",
    "            max_features=max_features,\n",
    "            class_weight=\"balanced\",\n",
    "            n_jobs=-1\n",
    "        )\n",
    "    )\n",
    "\n",
    "# Fit on training data\n",
    "clf.fit(X_train, y_train)\n",
    "\n",
    "# Calculate accuracy\n",
    "y_pred = clf.predict(X_val)\n",
    "val_acc = accuracy_score(y_val, y_pred)\n",
    "\n",
    "print(f\"Validation accuracy: {val_acc:.4f}\")\n",
    "\n",
    "# Classification report\n",
    "print(\"\\nClassification Report:\")\n",
    "print(classification_report(y_val, y_pred))"
   ]
  }
 ],
 "metadata": {
  "kernelspec": {
   "display_name": "icmtc_venv",
   "language": "python",
   "name": "python3"
  },
  "language_info": {
   "codemirror_mode": {
    "name": "ipython",
    "version": 3
   },
   "file_extension": ".py",
   "mimetype": "text/x-python",
   "name": "python",
   "nbconvert_exporter": "python",
   "pygments_lexer": "ipython3",
   "version": "3.12.11"
  }
 },
 "nbformat": 4,
 "nbformat_minor": 5
}
