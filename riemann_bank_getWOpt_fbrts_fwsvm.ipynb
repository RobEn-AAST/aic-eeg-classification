{
 "cells": [
  {
   "cell_type": "code",
   "execution_count": 1,
   "id": "63f517e7",
   "metadata": {},
   "outputs": [
    {
     "name": "stderr",
     "output_type": "stream",
     "text": [
      "/home/zeyadcode/.pyenv/versions/icmtc_venv/lib/python3.12/site-packages/tqdm/auto.py:21: TqdmWarning: IProgress not found. Please update jupyter and ipywidgets. See https://ipywidgets.readthedocs.io/en/stable/user_install.html\n",
      "  from .autonotebook import tqdm as notebook_tqdm\n"
     ]
    }
   ],
   "source": [
    "%load_ext autoreload\n",
    "%autoreload 2\n",
    "import torch\n",
    "import random\n",
    "import numpy as np\n",
    "import optuna\n",
    "from optuna.pruners import MedianPruner\n",
    "from scipy.signal import butter, sosfiltfilt\n",
    "from sklearn.ensemble import RandomForestClassifier\n",
    "from sklearn.preprocessing import StandardScaler\n",
    "from sklearn.pipeline import make_pipeline\n",
    "from sklearn.model_selection import StratifiedKFold, cross_validate\n",
    "from sklearn.feature_selection import mutual_info_classif\n",
    "from sklearn.base import BaseEstimator, ClassifierMixin\n",
    "from pyriemann.estimation import Covariances\n",
    "from pyriemann.tangentspace import TangentSpace\n",
    "from modules.competition_dataset import EEGDataset\n",
    "from pyriemann.utils.mean import mean_riemann\n",
    "from sklearn.base import BaseEstimator, TransformerMixin\n",
    "from sklearn.metrics import accuracy_score, classification_report\n",
    "from scipy.linalg import expm, logm, inv\n",
    "from scipy.optimize import minimize"
   ]
  },
  {
   "cell_type": "code",
   "execution_count": 2,
   "id": "f6c412b9",
   "metadata": {},
   "outputs": [],
   "source": [
    "data_path = './data/mtcaic3'\n",
    "lda_model_path = './checkpoints/mi/models/lda_mi.pkl'\n",
    "\n",
    "# Add this at the beginning of your notebook, after imports\n",
    "def set_random_seeds(seed=42):\n",
    "    \"\"\"Set random seeds for reproducibility\"\"\"\n",
    "\n",
    "    random.seed(seed)\n",
    "    np.random.seed(seed)\n",
    "    torch.manual_seed(seed)\n",
    "    if torch.cuda.is_available():\n",
    "        torch.cuda.manual_seed(seed)\n",
    "        torch.cuda.manual_seed_all(seed)\n",
    "        torch.backends.cudnn.deterministic = True\n",
    "        torch.backends.cudnn.benchmark = False\n",
    "\n",
    "set_random_seeds(42)"
   ]
  },
  {
   "cell_type": "code",
   "execution_count": null,
   "id": "a69b96ed",
   "metadata": {},
   "outputs": [
    {
     "name": "stderr",
     "output_type": "stream",
     "text": [
      "[I 2025-06-28 16:45:27,429] A new study created in memory with name: no-name-a919510c-1120-434c-9610-964537f001ae\n"
     ]
    },
    {
     "name": "stdout",
     "output_type": "stream",
     "text": [
      "\n",
      "→ Trying: wl=1000, st=250, tmin=250, chans=['C3', 'CZ', 'C4', 'PZ', 'OZ']\n",
      "   RSF d=3, Bands: [(8.0, 15.25), (15.25, 22.5), (22.5, 29.75), (29.75, 37.0)], RF: n_est=300, depth=10\n",
      "task: mi, split: train, domain: time, data_fraction: 0.4\n",
      "Using 40.0% of data: 960/960 samples\n",
      "skipped: 16/960\n"
     ]
    },
    {
     "name": "stderr",
     "output_type": "stream",
     "text": [
      "[I 2025-06-28 16:46:17,501] Trial 0 finished with value: 0.5192881036889468 and parameters: {'window_length': 1000, 'stride': 250, 'tmin': 250, 'ch_FZ': 0, 'ch_C3': 1, 'ch_CZ': 1, 'ch_C4': 1, 'ch_PZ': 1, 'ch_PO7': 0, 'ch_OZ': 1, 'ch_PO8': 0, 'rsf_d': 3, 'n_bands': 4, 'min_freq': 8, 'max_freq': 37, 'filter_order': 6, 'fs': 250, 'n_estimators': 300, 'max_depth': 10, 'min_samples_split': 5, 'min_samples_leaf': 5, 'max_features': None}. Best is trial 0 with value: 0.5192881036889468.\n"
     ]
    },
    {
     "name": "stdout",
     "output_type": "stream",
     "text": [
      "   → Train acc: 0.957 | Val acc: 0.519\n",
      "\n",
      "→ Trying: wl=1500, st=750, tmin=250, chans=['FZ', 'C3', 'C4', 'PO7', 'PO8']\n",
      "   RSF d=2, Bands: [(5.0, 9.166666666666668), (9.166666666666668, 13.333333333333334), (13.333333333333334, 17.5), (17.5, 21.666666666666668), (21.666666666666668, 25.833333333333336), (25.833333333333336, 30.0)], RF: n_est=450, depth=15\n",
      "task: mi, split: train, domain: time, data_fraction: 0.4\n",
      "Using 40.0% of data: 960/960 samples\n",
      "skipped: 183/960\n"
     ]
    },
    {
     "name": "stderr",
     "output_type": "stream",
     "text": [
      "[I 2025-06-28 16:46:42,349] Trial 1 finished with value: 0.48648648648648646 and parameters: {'window_length': 1500, 'stride': 750, 'tmin': 250, 'ch_FZ': 1, 'ch_C3': 1, 'ch_CZ': 0, 'ch_C4': 1, 'ch_PZ': 0, 'ch_PO7': 1, 'ch_OZ': 0, 'ch_PO8': 1, 'rsf_d': 2, 'n_bands': 6, 'min_freq': 5, 'max_freq': 30, 'filter_order': 4, 'fs': 500, 'n_estimators': 450, 'max_depth': 15, 'min_samples_split': 9, 'min_samples_leaf': 5, 'max_features': 'sqrt'}. Best is trial 0 with value: 0.5192881036889468.\n"
     ]
    },
    {
     "name": "stdout",
     "output_type": "stream",
     "text": [
      "   → Train acc: 0.972 | Val acc: 0.486\n",
      "\n",
      "→ Trying: wl=1500, st=750, tmin=250, chans=['FZ', 'CZ', 'C4', 'PZ']\n",
      "   RSF d=2, Bands: [(7.0, 12.333333333333332), (12.333333333333332, 17.666666666666664), (17.666666666666664, 23.0), (23.0, 28.333333333333332), (28.333333333333332, 33.666666666666664), (33.666666666666664, 39.0)], RF: n_est=400, depth=15\n",
      "task: mi, split: train, domain: time, data_fraction: 0.4\n",
      "Using 40.0% of data: 960/960 samples\n",
      "skipped: 183/960\n"
     ]
    },
    {
     "name": "stderr",
     "output_type": "stream",
     "text": [
      "[I 2025-06-28 16:47:06,857] Trial 2 finished with value: 0.5122265122265123 and parameters: {'window_length': 1500, 'stride': 750, 'tmin': 250, 'ch_FZ': 1, 'ch_C3': 0, 'ch_CZ': 1, 'ch_C4': 1, 'ch_PZ': 1, 'ch_PO7': 0, 'ch_OZ': 0, 'ch_PO8': 0, 'rsf_d': 2, 'n_bands': 6, 'min_freq': 7, 'max_freq': 39, 'filter_order': 6, 'fs': 250, 'n_estimators': 400, 'max_depth': 15, 'min_samples_split': 7, 'min_samples_leaf': 2, 'max_features': 'log2'}. Best is trial 0 with value: 0.5192881036889468.\n"
     ]
    },
    {
     "name": "stdout",
     "output_type": "stream",
     "text": [
      "   → Train acc: 0.992 | Val acc: 0.512\n",
      "\n",
      "→ Trying: wl=1500, st=250, tmin=0, chans=['C3', 'CZ', 'C4', 'PO8']\n",
      "   RSF d=2, Bands: [(10.0, 14.285714285714285), (14.285714285714285, 18.57142857142857), (18.57142857142857, 22.857142857142858), (22.857142857142858, 27.142857142857142), (27.142857142857142, 31.428571428571427), (31.428571428571427, 35.714285714285715), (35.714285714285715, 40.0)], RF: n_est=500, depth=20\n",
      "task: mi, split: train, domain: time, data_fraction: 0.4\n",
      "Using 40.0% of data: 960/960 samples\n",
      "skipped: 37/960\n"
     ]
    },
    {
     "name": "stderr",
     "output_type": "stream",
     "text": [
      "[I 2025-06-28 16:47:54,096] Trial 3 finished with value: 0.5252896342413421 and parameters: {'window_length': 1500, 'stride': 250, 'tmin': 0, 'ch_FZ': 0, 'ch_C3': 1, 'ch_CZ': 1, 'ch_C4': 1, 'ch_PZ': 0, 'ch_PO7': 0, 'ch_OZ': 0, 'ch_PO8': 1, 'rsf_d': 2, 'n_bands': 7, 'min_freq': 10, 'max_freq': 40, 'filter_order': 4, 'fs': 250, 'n_estimators': 500, 'max_depth': 20, 'min_samples_split': 2, 'min_samples_leaf': 3, 'max_features': None}. Best is trial 3 with value: 0.5252896342413421.\n"
     ]
    },
    {
     "name": "stdout",
     "output_type": "stream",
     "text": [
      "   → Train acc: 0.998 | Val acc: 0.525\n",
      "\n",
      "→ Trying: wl=500, st=500, tmin=0, chans=['C3', 'OZ', 'PO8']\n",
      "   RSF d=3, Bands: [(7.0, 13.666666666666668), (13.666666666666668, 20.333333333333336), (20.333333333333336, 27.0)], RF: n_est=150, depth=None\n",
      "task: mi, split: train, domain: time, data_fraction: 0.4\n",
      "Using 40.0% of data: 960/960 samples\n",
      "skipped: 3/960\n"
     ]
    },
    {
     "name": "stderr",
     "output_type": "stream",
     "text": [
      "[I 2025-06-28 16:48:27,715] Trial 4 finished with value: 0.513255567338282 and parameters: {'window_length': 500, 'stride': 500, 'tmin': 0, 'ch_FZ': 0, 'ch_C3': 1, 'ch_CZ': 0, 'ch_C4': 0, 'ch_PZ': 0, 'ch_PO7': 0, 'ch_OZ': 1, 'ch_PO8': 1, 'rsf_d': 3, 'n_bands': 3, 'min_freq': 7, 'max_freq': 27, 'filter_order': 5, 'fs': 250, 'n_estimators': 150, 'max_depth': None, 'min_samples_split': 3, 'min_samples_leaf': 2, 'max_features': 'sqrt'}. Best is trial 3 with value: 0.5252896342413421.\n"
     ]
    },
    {
     "name": "stdout",
     "output_type": "stream",
     "text": [
      "   → Train acc: 0.999 | Val acc: 0.513\n",
      "\n",
      "→ Trying: wl=500, st=500, tmin=0, chans=['FZ', 'C3', 'OZ', 'PO8']\n",
      "   RSF d=3, Bands: [(12.0, 16.0), (16.0, 20.0), (20.0, 24.0), (24.0, 28.0), (28.0, 32.0), (32.0, 36.0), (36.0, 40.0)], RF: n_est=150, depth=20\n",
      "task: mi, split: train, domain: time, data_fraction: 0.4\n",
      "Using 40.0% of data: 960/960 samples\n",
      "skipped: 3/960\n"
     ]
    },
    {
     "name": "stderr",
     "output_type": "stream",
     "text": [
      "[I 2025-06-28 16:49:33,198] Trial 5 finished with value: 0.5245669848002827 and parameters: {'window_length': 500, 'stride': 500, 'tmin': 0, 'ch_FZ': 1, 'ch_C3': 1, 'ch_CZ': 0, 'ch_C4': 0, 'ch_PZ': 0, 'ch_PO7': 0, 'ch_OZ': 1, 'ch_PO8': 1, 'rsf_d': 3, 'n_bands': 7, 'min_freq': 12, 'max_freq': 40, 'filter_order': 4, 'fs': 250, 'n_estimators': 150, 'max_depth': 20, 'min_samples_split': 8, 'min_samples_leaf': 5, 'max_features': None}. Best is trial 3 with value: 0.5252896342413421.\n"
     ]
    },
    {
     "name": "stdout",
     "output_type": "stream",
     "text": [
      "   → Train acc: 0.992 | Val acc: 0.525\n",
      "\n",
      "→ Trying: wl=250, st=250, tmin=0, chans=['FZ', 'C4', 'PO7', 'OZ', 'PO8']\n",
      "   RSF d=3, Bands: [(7.0, 11.166666666666668), (11.166666666666668, 15.333333333333334), (15.333333333333334, 19.5), (19.5, 23.666666666666668), (23.666666666666668, 27.833333333333336), (27.833333333333336, 32.0)], RF: n_est=350, depth=20\n",
      "task: mi, split: train, domain: time, data_fraction: 0.4\n",
      "Using 40.0% of data: 960/960 samples\n",
      "skipped: 0/960\n"
     ]
    },
    {
     "name": "stderr",
     "output_type": "stream",
     "text": [
      "[I 2025-06-28 16:51:29,622] Trial 6 finished with value: 0.5418525292608368 and parameters: {'window_length': 250, 'stride': 250, 'tmin': 0, 'ch_FZ': 1, 'ch_C3': 0, 'ch_CZ': 0, 'ch_C4': 1, 'ch_PZ': 0, 'ch_PO7': 1, 'ch_OZ': 1, 'ch_PO8': 1, 'rsf_d': 3, 'n_bands': 6, 'min_freq': 7, 'max_freq': 32, 'filter_order': 5, 'fs': 500, 'n_estimators': 350, 'max_depth': 20, 'min_samples_split': 10, 'min_samples_leaf': 5, 'max_features': 'sqrt'}. Best is trial 6 with value: 0.5418525292608368.\n"
     ]
    },
    {
     "name": "stdout",
     "output_type": "stream",
     "text": [
      "   → Train acc: 0.983 | Val acc: 0.542\n",
      "\n",
      "→ Trying: wl=250, st=500, tmin=500, chans=['CZ', 'C4', 'PO7', 'OZ', 'PO8']\n",
      "   RSF d=5, Bands: [(4.0, 15.666666666666666), (15.666666666666666, 27.333333333333332), (27.333333333333332, 39.0)], RF: n_est=150, depth=10\n",
      "task: mi, split: train, domain: time, data_fraction: 0.4\n",
      "Using 40.0% of data: 960/960 samples\n",
      "skipped: 7/960\n"
     ]
    },
    {
     "name": "stderr",
     "output_type": "stream",
     "text": [
      "[I 2025-06-28 16:52:03,671] Trial 7 finished with value: 0.5871394563472291 and parameters: {'window_length': 250, 'stride': 500, 'tmin': 500, 'ch_FZ': 0, 'ch_C3': 0, 'ch_CZ': 1, 'ch_C4': 1, 'ch_PZ': 0, 'ch_PO7': 1, 'ch_OZ': 1, 'ch_PO8': 1, 'rsf_d': 5, 'n_bands': 3, 'min_freq': 4, 'max_freq': 39, 'filter_order': 3, 'fs': 125, 'n_estimators': 150, 'max_depth': 10, 'min_samples_split': 5, 'min_samples_leaf': 1, 'max_features': 'sqrt'}. Best is trial 7 with value: 0.5871394563472291.\n"
     ]
    },
    {
     "name": "stdout",
     "output_type": "stream",
     "text": [
      "   → Train acc: 0.972 | Val acc: 0.587\n",
      "\n",
      "→ Trying: wl=1500, st=500, tmin=250, chans=['C3', 'CZ', 'PO7', 'OZ']\n",
      "   RSF d=2, Bands: [(5.0, 10.8), (10.8, 16.6), (16.6, 22.4), (22.4, 28.2), (28.2, 34.0)], RF: n_est=450, depth=20\n",
      "task: mi, split: train, domain: time, data_fraction: 0.4\n",
      "Using 40.0% of data: 960/960 samples\n",
      "skipped: 183/960\n"
     ]
    },
    {
     "name": "stderr",
     "output_type": "stream",
     "text": [
      "[I 2025-06-28 16:52:27,542] Trial 8 finished with value: 0.5173745173745173 and parameters: {'window_length': 1500, 'stride': 500, 'tmin': 250, 'ch_FZ': 0, 'ch_C3': 1, 'ch_CZ': 1, 'ch_C4': 0, 'ch_PZ': 0, 'ch_PO7': 1, 'ch_OZ': 1, 'ch_PO8': 0, 'rsf_d': 2, 'n_bands': 5, 'min_freq': 5, 'max_freq': 34, 'filter_order': 6, 'fs': 250, 'n_estimators': 450, 'max_depth': 20, 'min_samples_split': 10, 'min_samples_leaf': 4, 'max_features': 'sqrt'}. Best is trial 7 with value: 0.5871394563472291.\n",
      "[I 2025-06-28 16:52:27,546] Trial 9 finished with value: 0.0 and parameters: {'window_length': 1500, 'stride': 250, 'tmin': 500, 'ch_FZ': 0, 'ch_C3': 0, 'ch_CZ': 0, 'ch_C4': 1, 'ch_PZ': 0, 'ch_PO7': 0, 'ch_OZ': 0, 'ch_PO8': 0}. Best is trial 7 with value: 0.5871394563472291.\n"
     ]
    },
    {
     "name": "stdout",
     "output_type": "stream",
     "text": [
      "   → Train acc: 0.963 | Val acc: 0.517\n",
      "\n",
      "→ Trying: wl=250, st=500, tmin=500, chans=['CZ', 'PZ', 'PO7', 'OZ', 'PO8']\n",
      "   RSF d=5, Bands: [(4.0, 14.333333333333334), (14.333333333333334, 24.666666666666668), (24.666666666666668, 35.0)], RF: n_est=50, depth=10\n",
      "task: mi, split: train, domain: time, data_fraction: 0.4\n",
      "Using 40.0% of data: 960/960 samples\n",
      "skipped: 7/960\n"
     ]
    },
    {
     "name": "stderr",
     "output_type": "stream",
     "text": [
      "[I 2025-06-28 16:53:02,279] Trial 10 finished with value: 0.5774142353614201 and parameters: {'window_length': 250, 'stride': 500, 'tmin': 500, 'ch_FZ': 0, 'ch_C3': 0, 'ch_CZ': 1, 'ch_C4': 0, 'ch_PZ': 1, 'ch_PO7': 1, 'ch_OZ': 1, 'ch_PO8': 1, 'rsf_d': 5, 'n_bands': 3, 'min_freq': 4, 'max_freq': 35, 'filter_order': 3, 'fs': 125, 'n_estimators': 50, 'max_depth': 10, 'min_samples_split': 5, 'min_samples_leaf': 1, 'max_features': 'log2'}. Best is trial 7 with value: 0.5871394563472291.\n"
     ]
    },
    {
     "name": "stdout",
     "output_type": "stream",
     "text": [
      "   → Train acc: 0.950 | Val acc: 0.577\n",
      "\n",
      "→ Trying: wl=250, st=500, tmin=500, chans=['CZ', 'PZ', 'PO7', 'OZ', 'PO8']\n",
      "   RSF d=5, Bands: [(4.0, 14.666666666666666), (14.666666666666666, 25.333333333333332), (25.333333333333332, 36.0)], RF: n_est=50, depth=10\n",
      "task: mi, split: train, domain: time, data_fraction: 0.4\n",
      "Using 40.0% of data: 960/960 samples\n",
      "skipped: 7/960\n"
     ]
    },
    {
     "name": "stderr",
     "output_type": "stream",
     "text": [
      "[I 2025-06-28 16:53:35,162] Trial 11 finished with value: 0.5669416302201554 and parameters: {'window_length': 250, 'stride': 500, 'tmin': 500, 'ch_FZ': 0, 'ch_C3': 0, 'ch_CZ': 1, 'ch_C4': 0, 'ch_PZ': 1, 'ch_PO7': 1, 'ch_OZ': 1, 'ch_PO8': 1, 'rsf_d': 5, 'n_bands': 3, 'min_freq': 4, 'max_freq': 36, 'filter_order': 3, 'fs': 125, 'n_estimators': 50, 'max_depth': 10, 'min_samples_split': 5, 'min_samples_leaf': 1, 'max_features': 'log2'}. Best is trial 7 with value: 0.5871394563472291.\n"
     ]
    },
    {
     "name": "stdout",
     "output_type": "stream",
     "text": [
      "   → Train acc: 0.938 | Val acc: 0.567\n",
      "\n",
      "→ Trying: wl=250, st=500, tmin=500, chans=['CZ', 'PZ', 'PO7', 'OZ', 'PO8']\n",
      "   RSF d=5, Bands: [(4.0, 12.0), (12.0, 20.0), (20.0, 28.0), (28.0, 36.0)], RF: n_est=50, depth=5\n",
      "task: mi, split: train, domain: time, data_fraction: 0.4\n",
      "Using 40.0% of data: 960/960 samples\n",
      "skipped: 7/960\n"
     ]
    },
    {
     "name": "stderr",
     "output_type": "stream",
     "text": [
      "[I 2025-06-28 16:54:11,457] Trial 12 finished with value: 0.5456218890449084 and parameters: {'window_length': 250, 'stride': 500, 'tmin': 500, 'ch_FZ': 0, 'ch_C3': 0, 'ch_CZ': 1, 'ch_C4': 0, 'ch_PZ': 1, 'ch_PO7': 1, 'ch_OZ': 1, 'ch_PO8': 1, 'rsf_d': 5, 'n_bands': 4, 'min_freq': 4, 'max_freq': 36, 'filter_order': 3, 'fs': 125, 'n_estimators': 50, 'max_depth': 5, 'min_samples_split': 5, 'min_samples_leaf': 1, 'max_features': 'log2'}. Best is trial 7 with value: 0.5871394563472291.\n"
     ]
    },
    {
     "name": "stdout",
     "output_type": "stream",
     "text": [
      "   → Train acc: 0.739 | Val acc: 0.546\n",
      "\n",
      "→ Trying: wl=250, st=500, tmin=500, chans=['CZ', 'PZ', 'PO7', 'OZ', 'PO8']\n",
      "   RSF d=5, Bands: [(5.0, 12.0), (12.0, 19.0), (19.0, 26.0), (26.0, 33.0)], RF: n_est=150, depth=10\n",
      "task: mi, split: train, domain: time, data_fraction: 0.4\n",
      "Using 40.0% of data: 960/960 samples\n",
      "skipped: 7/960\n"
     ]
    },
    {
     "name": "stderr",
     "output_type": "stream",
     "text": [
      "[I 2025-06-28 16:54:48,628] Trial 13 finished with value: 0.5680580929708982 and parameters: {'window_length': 250, 'stride': 500, 'tmin': 500, 'ch_FZ': 0, 'ch_C3': 0, 'ch_CZ': 1, 'ch_C4': 0, 'ch_PZ': 1, 'ch_PO7': 1, 'ch_OZ': 1, 'ch_PO8': 1, 'rsf_d': 5, 'n_bands': 4, 'min_freq': 5, 'max_freq': 33, 'filter_order': 3, 'fs': 125, 'n_estimators': 150, 'max_depth': 10, 'min_samples_split': 4, 'min_samples_leaf': 2, 'max_features': 'log2'}. Best is trial 7 with value: 0.5871394563472291.\n"
     ]
    },
    {
     "name": "stdout",
     "output_type": "stream",
     "text": [
      "   → Train acc: 0.969 | Val acc: 0.568\n",
      "\n",
      "→ Trying: wl=250, st=500, tmin=500, chans=['CZ', 'PZ', 'PO7', 'OZ', 'PO8']\n",
      "   RSF d=4, Bands: [(6.0, 16.333333333333336), (16.333333333333336, 26.666666666666668), (26.666666666666668, 37.0)], RF: n_est=200, depth=10\n",
      "task: mi, split: train, domain: time, data_fraction: 0.4\n",
      "Using 40.0% of data: 960/960 samples\n",
      "skipped: 7/960\n"
     ]
    },
    {
     "name": "stderr",
     "output_type": "stream",
     "text": [
      "[I 2025-06-28 16:55:18,705] Trial 14 finished with value: 0.5673182581503458 and parameters: {'window_length': 250, 'stride': 500, 'tmin': 500, 'ch_FZ': 0, 'ch_C3': 0, 'ch_CZ': 1, 'ch_C4': 0, 'ch_PZ': 1, 'ch_PO7': 1, 'ch_OZ': 1, 'ch_PO8': 1, 'rsf_d': 4, 'n_bands': 3, 'min_freq': 6, 'max_freq': 37, 'filter_order': 3, 'fs': 125, 'n_estimators': 200, 'max_depth': 10, 'min_samples_split': 7, 'min_samples_leaf': 1, 'max_features': 'sqrt'}. Best is trial 7 with value: 0.5871394563472291.\n"
     ]
    },
    {
     "name": "stdout",
     "output_type": "stream",
     "text": [
      "   → Train acc: 0.956 | Val acc: 0.567\n",
      "\n",
      "→ Trying: wl=1000, st=750, tmin=500, chans=['CZ', 'C4', 'PZ', 'PO7', 'OZ', 'PO8']\n",
      "   RSF d=6, Bands: [(9.0, 11.0), (11.0, 13.0), (13.0, 15.0), (15.0, 17.0), (17.0, 19.0), (19.0, 21.0), (21.0, 23.0), (23.0, 25.0)], RF: n_est=50, depth=10\n",
      "task: mi, split: train, domain: time, data_fraction: 0.4\n",
      "Using 40.0% of data: 960/960 samples\n",
      "skipped: 37/960\n"
     ]
    },
    {
     "name": "stderr",
     "output_type": "stream",
     "text": [
      "[I 2025-06-28 16:55:52,548] Trial 15 finished with value: 0.4994853138175614 and parameters: {'window_length': 1000, 'stride': 750, 'tmin': 500, 'ch_FZ': 0, 'ch_C3': 0, 'ch_CZ': 1, 'ch_C4': 1, 'ch_PZ': 1, 'ch_PO7': 1, 'ch_OZ': 1, 'ch_PO8': 1, 'rsf_d': 6, 'n_bands': 8, 'min_freq': 9, 'max_freq': 25, 'filter_order': 4, 'fs': 125, 'n_estimators': 50, 'max_depth': 10, 'min_samples_split': 6, 'min_samples_leaf': 3, 'max_features': 'log2'}. Best is trial 7 with value: 0.5871394563472291.\n"
     ]
    },
    {
     "name": "stdout",
     "output_type": "stream",
     "text": [
      "   → Train acc: 0.993 | Val acc: 0.499\n",
      "\n",
      "→ Trying: wl=250, st=500, tmin=500, chans=['CZ', 'PO7', 'OZ', 'PO8']\n",
      "   RSF d=4, Bands: [(4.0, 9.2), (9.2, 14.4), (14.4, 19.6), (19.6, 24.8), (24.8, 30.0)], RF: n_est=250, depth=None\n",
      "task: mi, split: train, domain: time, data_fraction: 0.4\n",
      "Using 40.0% of data: 960/960 samples\n",
      "skipped: 7/960\n"
     ]
    },
    {
     "name": "stderr",
     "output_type": "stream",
     "text": [
      "[I 2025-06-28 16:56:34,637] Trial 16 finished with value: 0.5665712934023847 and parameters: {'window_length': 250, 'stride': 500, 'tmin': 500, 'ch_FZ': 0, 'ch_C3': 0, 'ch_CZ': 1, 'ch_C4': 0, 'ch_PZ': 0, 'ch_PO7': 1, 'ch_OZ': 1, 'ch_PO8': 1, 'rsf_d': 4, 'n_bands': 5, 'min_freq': 4, 'max_freq': 30, 'filter_order': 3, 'fs': 125, 'n_estimators': 250, 'max_depth': None, 'min_samples_split': 3, 'min_samples_leaf': 1, 'max_features': 'sqrt'}. Best is trial 7 with value: 0.5871394563472291.\n"
     ]
    },
    {
     "name": "stdout",
     "output_type": "stream",
     "text": [
      "   → Train acc: 1.000 | Val acc: 0.567\n",
      "\n",
      "→ Trying: wl=250, st=500, tmin=500, chans=['FZ', 'CZ', 'C4', 'PZ', 'PO7']\n",
      "   RSF d=5, Bands: [(6.0, 14.0), (14.0, 22.0), (22.0, 30.0), (30.0, 38.0)], RF: n_est=100, depth=5\n",
      "task: mi, split: train, domain: time, data_fraction: 0.4\n",
      "Using 40.0% of data: 960/960 samples\n",
      "skipped: 7/960\n"
     ]
    },
    {
     "name": "stderr",
     "output_type": "stream",
     "text": [
      "[I 2025-06-28 16:57:10,916] Trial 17 finished with value: 0.5396390411338094 and parameters: {'window_length': 250, 'stride': 500, 'tmin': 500, 'ch_FZ': 1, 'ch_C3': 0, 'ch_CZ': 1, 'ch_C4': 1, 'ch_PZ': 1, 'ch_PO7': 1, 'ch_OZ': 0, 'ch_PO8': 0, 'rsf_d': 5, 'n_bands': 4, 'min_freq': 6, 'max_freq': 38, 'filter_order': 3, 'fs': 125, 'n_estimators': 100, 'max_depth': 5, 'min_samples_split': 6, 'min_samples_leaf': 2, 'max_features': 'log2'}. Best is trial 7 with value: 0.5871394563472291.\n"
     ]
    },
    {
     "name": "stdout",
     "output_type": "stream",
     "text": [
      "   → Train acc: 0.731 | Val acc: 0.540\n",
      "\n",
      "→ Trying: wl=250, st=500, tmin=500, chans=['CZ', 'PO7', 'OZ', 'PO8']\n",
      "   RSF d=4, Bands: [(11.0, 19.0), (19.0, 27.0), (27.0, 35.0)], RF: n_est=250, depth=10\n",
      "task: mi, split: train, domain: time, data_fraction: 0.4\n",
      "Using 40.0% of data: 960/960 samples\n",
      "skipped: 7/960\n"
     ]
    },
    {
     "name": "stderr",
     "output_type": "stream",
     "text": [
      "[I 2025-06-28 16:57:41,537] Trial 18 finished with value: 0.517952318400749 and parameters: {'window_length': 250, 'stride': 500, 'tmin': 500, 'ch_FZ': 0, 'ch_C3': 0, 'ch_CZ': 1, 'ch_C4': 0, 'ch_PZ': 0, 'ch_PO7': 1, 'ch_OZ': 1, 'ch_PO8': 1, 'rsf_d': 4, 'n_bands': 3, 'min_freq': 11, 'max_freq': 35, 'filter_order': 5, 'fs': 500, 'n_estimators': 250, 'max_depth': 10, 'min_samples_split': 4, 'min_samples_leaf': 1, 'max_features': 'log2'}. Best is trial 7 with value: 0.5871394563472291.\n"
     ]
    },
    {
     "name": "stdout",
     "output_type": "stream",
     "text": [
      "   → Train acc: 0.980 | Val acc: 0.518\n",
      "\n",
      "→ Trying: wl=500, st=750, tmin=500, chans=['CZ', 'C4', 'PZ', 'PO7', 'OZ', 'PO8']\n",
      "   RSF d=6, Bands: [(6.0, 11.0), (11.0, 16.0), (16.0, 21.0), (21.0, 26.0), (26.0, 31.0)], RF: n_est=100, depth=10\n",
      "task: mi, split: train, domain: time, data_fraction: 0.4\n",
      "Using 40.0% of data: 960/960 samples\n",
      "skipped: 11/960\n"
     ]
    },
    {
     "name": "stderr",
     "output_type": "stream",
     "text": [
      "[I 2025-06-28 16:58:16,415] Trial 19 finished with value: 0.5457659017713365 and parameters: {'window_length': 500, 'stride': 750, 'tmin': 500, 'ch_FZ': 0, 'ch_C3': 0, 'ch_CZ': 1, 'ch_C4': 1, 'ch_PZ': 1, 'ch_PO7': 1, 'ch_OZ': 1, 'ch_PO8': 1, 'rsf_d': 6, 'n_bands': 5, 'min_freq': 6, 'max_freq': 31, 'filter_order': 4, 'fs': 125, 'n_estimators': 100, 'max_depth': 10, 'min_samples_split': 7, 'min_samples_leaf': 4, 'max_features': 'sqrt'}. Best is trial 7 with value: 0.5871394563472291.\n"
     ]
    },
    {
     "name": "stdout",
     "output_type": "stream",
     "text": [
      "   → Train acc: 0.968 | Val acc: 0.546\n",
      "\n",
      "→ Trying: wl=1000, st=500, tmin=500, chans=['FZ', 'PO7']\n",
      "   RSF d=2, Bands: [(9.0, 17.333333333333336), (17.333333333333336, 25.666666666666668), (25.666666666666668, 34.0)], RF: n_est=200, depth=10\n",
      "task: mi, split: train, domain: time, data_fraction: 0.4\n",
      "Using 40.0% of data: 960/960 samples\n",
      "skipped: 37/960\n"
     ]
    },
    {
     "name": "stderr",
     "output_type": "stream",
     "text": [
      "[I 2025-06-28 16:58:32,656] Trial 20 finished with value: 0.5037684899248417 and parameters: {'window_length': 1000, 'stride': 500, 'tmin': 500, 'ch_FZ': 1, 'ch_C3': 0, 'ch_CZ': 0, 'ch_C4': 0, 'ch_PZ': 0, 'ch_PO7': 1, 'ch_OZ': 0, 'ch_PO8': 0, 'rsf_d': 2, 'n_bands': 3, 'min_freq': 9, 'max_freq': 34, 'filter_order': 3, 'fs': 125, 'n_estimators': 200, 'max_depth': 10, 'min_samples_split': 4, 'min_samples_leaf': 2, 'max_features': None}. Best is trial 7 with value: 0.5871394563472291.\n"
     ]
    },
    {
     "name": "stdout",
     "output_type": "stream",
     "text": [
      "   → Train acc: 0.987 | Val acc: 0.504\n",
      "\n",
      "→ Trying: wl=250, st=500, tmin=500, chans=['CZ', 'PZ', 'PO7', 'OZ', 'PO8']\n",
      "   RSF d=5, Bands: [(5.0, 12.0), (12.0, 19.0), (19.0, 26.0), (26.0, 33.0)], RF: n_est=150, depth=10\n",
      "task: mi, split: train, domain: time, data_fraction: 0.4\n",
      "Using 40.0% of data: 960/960 samples\n",
      "skipped: 7/960\n"
     ]
    },
    {
     "name": "stderr",
     "output_type": "stream",
     "text": [
      "[I 2025-06-28 16:59:09,377] Trial 21 finished with value: 0.5770359298012512 and parameters: {'window_length': 250, 'stride': 500, 'tmin': 500, 'ch_FZ': 0, 'ch_C3': 0, 'ch_CZ': 1, 'ch_C4': 0, 'ch_PZ': 1, 'ch_PO7': 1, 'ch_OZ': 1, 'ch_PO8': 1, 'rsf_d': 5, 'n_bands': 4, 'min_freq': 5, 'max_freq': 33, 'filter_order': 3, 'fs': 125, 'n_estimators': 150, 'max_depth': 10, 'min_samples_split': 4, 'min_samples_leaf': 2, 'max_features': 'log2'}. Best is trial 7 with value: 0.5871394563472291.\n"
     ]
    },
    {
     "name": "stdout",
     "output_type": "stream",
     "text": [
      "   → Train acc: 0.969 | Val acc: 0.577\n",
      "\n",
      "→ Trying: wl=250, st=500, tmin=500, chans=['CZ', 'PZ', 'PO7', 'OZ', 'PO8']\n",
      "   RSF d=5, Bands: [(4.0, 10.25), (10.25, 16.5), (16.5, 22.75), (22.75, 29.0)], RF: n_est=100, depth=10\n",
      "task: mi, split: train, domain: time, data_fraction: 0.4\n",
      "Using 40.0% of data: 960/960 samples\n",
      "skipped: 7/960\n"
     ]
    },
    {
     "name": "stderr",
     "output_type": "stream",
     "text": [
      "[I 2025-06-28 16:59:46,086] Trial 22 finished with value: 0.5639499965608585 and parameters: {'window_length': 250, 'stride': 500, 'tmin': 500, 'ch_FZ': 0, 'ch_C3': 0, 'ch_CZ': 1, 'ch_C4': 0, 'ch_PZ': 1, 'ch_PO7': 1, 'ch_OZ': 1, 'ch_PO8': 1, 'rsf_d': 5, 'n_bands': 4, 'min_freq': 4, 'max_freq': 29, 'filter_order': 3, 'fs': 125, 'n_estimators': 100, 'max_depth': 10, 'min_samples_split': 3, 'min_samples_leaf': 1, 'max_features': 'log2'}. Best is trial 7 with value: 0.5871394563472291.\n"
     ]
    },
    {
     "name": "stdout",
     "output_type": "stream",
     "text": [
      "   → Train acc: 0.978 | Val acc: 0.564\n",
      "\n",
      "→ Trying: wl=250, st=500, tmin=500, chans=['CZ', 'PZ', 'PO7', 'OZ', 'PO8']\n",
      "   RSF d=4, Bands: [(5.0, 14.0), (14.0, 23.0), (23.0, 32.0)], RF: n_est=200, depth=10\n",
      "task: mi, split: train, domain: time, data_fraction: 0.4\n",
      "Using 40.0% of data: 960/960 samples\n",
      "skipped: 7/960\n"
     ]
    },
    {
     "name": "stderr",
     "output_type": "stream",
     "text": [
      "[I 2025-06-28 17:00:16,484] Trial 23 finished with value: 0.5624531312124735 and parameters: {'window_length': 250, 'stride': 500, 'tmin': 500, 'ch_FZ': 0, 'ch_C3': 0, 'ch_CZ': 1, 'ch_C4': 0, 'ch_PZ': 1, 'ch_PO7': 1, 'ch_OZ': 1, 'ch_PO8': 1, 'rsf_d': 4, 'n_bands': 3, 'min_freq': 5, 'max_freq': 32, 'filter_order': 4, 'fs': 125, 'n_estimators': 200, 'max_depth': 10, 'min_samples_split': 5, 'min_samples_leaf': 2, 'max_features': 'log2'}. Best is trial 7 with value: 0.5871394563472291.\n"
     ]
    },
    {
     "name": "stdout",
     "output_type": "stream",
     "text": [
      "   → Train acc: 0.946 | Val acc: 0.562\n",
      "\n",
      "→ Trying: wl=250, st=500, tmin=500, chans=['CZ', 'PZ', 'PO7', 'OZ', 'PO8']\n",
      "   RSF d=5, Bands: [(4.0, 11.5), (11.5, 19.0), (19.0, 26.5), (26.5, 34.0)], RF: n_est=100, depth=10\n",
      "task: mi, split: train, domain: time, data_fraction: 0.4\n",
      "Using 40.0% of data: 960/960 samples\n",
      "skipped: 7/960\n"
     ]
    },
    {
     "name": "stderr",
     "output_type": "stream",
     "text": [
      "[I 2025-06-28 17:00:58,223] Trial 24 finished with value: 0.5587141133977208 and parameters: {'window_length': 250, 'stride': 500, 'tmin': 500, 'ch_FZ': 0, 'ch_C3': 0, 'ch_CZ': 1, 'ch_C4': 0, 'ch_PZ': 1, 'ch_PO7': 1, 'ch_OZ': 1, 'ch_PO8': 1, 'rsf_d': 5, 'n_bands': 4, 'min_freq': 4, 'max_freq': 34, 'filter_order': 3, 'fs': 125, 'n_estimators': 100, 'max_depth': 10, 'min_samples_split': 6, 'min_samples_leaf': 1, 'max_features': 'log2'}. Best is trial 7 with value: 0.5871394563472291.\n"
     ]
    },
    {
     "name": "stdout",
     "output_type": "stream",
     "text": [
      "   → Train acc: 0.963 | Val acc: 0.559\n",
      "\n",
      "→ Trying: wl=250, st=500, tmin=500, chans=['CZ', 'PZ', 'PO7', 'OZ', 'PO8']\n",
      "   RSF d=4, Bands: [(5.0, 16.0), (16.0, 27.0), (27.0, 38.0)], RF: n_est=150, depth=15\n",
      "task: mi, split: train, domain: time, data_fraction: 0.4\n",
      "Using 40.0% of data: 960/960 samples\n"
     ]
    }
   ],
   "source": [
    "# -----------------------------------------------------------------------------\n",
    "# 1) RSFTransformer that learns W_opt using BFGS\n",
    "# -----------------------------------------------------------------------------\n",
    "class RSFTransformer(BaseEstimator, TransformerMixin):\n",
    "    def __init__(self, d=8, eps=1e-6, maxiter=500):\n",
    "        self.d = d\n",
    "        self.eps = eps\n",
    "        self.maxiter = maxiter\n",
    "\n",
    "    def fit(self, X, y):\n",
    "        covs = Covariances(estimator=\"lwf\").transform(X)\n",
    "        C1 = mean_riemann(covs[y == 0])\n",
    "        C2 = mean_riemann(covs[y == 1])\n",
    "        Nc = C1.shape[0]\n",
    "        W0 = np.random.randn(Nc, self.d)\n",
    "\n",
    "        def J(w_flat):\n",
    "            W = w_flat.reshape(Nc, self.d)\n",
    "            S1 = W.T @ C1 @ W + np.eye(self.d) * self.eps\n",
    "            S2 = W.T @ C2 @ W + np.eye(self.d) * self.eps\n",
    "            return np.linalg.norm(logm(inv(S1) @ S2), \"fro\") ** 2\n",
    "\n",
    "        def grad(w_flat):\n",
    "            W = w_flat.reshape(Nc, self.d)\n",
    "            S1 = W.T @ C1 @ W + np.eye(self.d) * self.eps\n",
    "            S2 = W.T @ C2 @ W + np.eye(self.d) * self.eps\n",
    "            A = inv(S1) @ S2\n",
    "            L = logm(A)\n",
    "            t1 = 2 * C1 @ W @ inv(S1) @ L @ inv(S1)\n",
    "            t2 = 2 * C2 @ W @ inv(S2) @ L @ inv(S2)\n",
    "            return (t1 - t2).ravel()\n",
    "\n",
    "        res = minimize(lambda w: -J(w), W0.ravel(), jac=lambda w: -grad(w), method=\"BFGS\", options={\"maxiter\": self.maxiter})\n",
    "        self.W_opt = res.x.reshape(Nc, self.d)\n",
    "        return self\n",
    "\n",
    "    def transform(self, X):\n",
    "        return np.einsum(\"cd,ect->edt\", self.W_opt, X)\n",
    "\n",
    "class FilterBankRTSClassifier(BaseEstimator, ClassifierMixin):\n",
    "    def __init__(self, bands=None, fs=250, order=4, n_estimators=100, max_depth=None, min_samples_split=2, min_samples_leaf=1, max_features=\"sqrt\", class_weight=\"balanced\", n_jobs=-1):\n",
    "        self.bands = bands if bands else [(8, 12), (12, 16), (16, 20), (20, 24), (24, 30)]\n",
    "        self.fs = fs\n",
    "        self.order = order\n",
    "        self.n_estimators = n_estimators\n",
    "        self.max_depth = max_depth\n",
    "        self.min_samples_split = min_samples_split\n",
    "        self.min_samples_leaf = min_samples_leaf\n",
    "        self.max_features = max_features\n",
    "        self.class_weight = class_weight\n",
    "        self.n_jobs = n_jobs\n",
    "\n",
    "    def compute_fb_covs(self, X):\n",
    "        \"\"\"X: (n_trials, C, T) → fb_covs: (n_trials, B, C, C)\"\"\"\n",
    "        # Pre-compute SOS filters if not done\n",
    "        if not hasattr(self, \"sos_bands\"):\n",
    "            self.sos_bands = [butter(self.order, (l / (self.fs / 2), h / (self.fs / 2)), btype=\"bandpass\", output=\"sos\") for l, h in self.bands]\n",
    "\n",
    "        n, C, _ = X.shape\n",
    "        B = len(self.sos_bands)\n",
    "        fb_covs = np.zeros((n, B, C, C))\n",
    "        for i, sos in enumerate(self.sos_bands):\n",
    "            Xf = sosfiltfilt(sos, X, axis=2)\n",
    "            fb_covs[:, i] = Covariances(estimator=\"lwf\").transform(Xf)\n",
    "        return fb_covs\n",
    "\n",
    "    def fit(self, X, y):\n",
    "        self.classes_ = np.unique(y)\n",
    "        fb_covs = self.compute_fb_covs(X)\n",
    "        n, B, C, _ = fb_covs.shape\n",
    "\n",
    "        # Flatten for tangent space\n",
    "        covs_flat = fb_covs.reshape(n * B, C, C)\n",
    "        labels_rep = np.repeat(y, B)\n",
    "\n",
    "        # Fit tangent space\n",
    "        self.ts = TangentSpace(metric=\"riemann\").fit(covs_flat, labels_rep)\n",
    "        Z = self.ts.transform(covs_flat)\n",
    "        Z = Z.reshape(n, B, -1)\n",
    "\n",
    "        # Compute mutual information weights\n",
    "        self.w = mutual_info_classif(Z.reshape(n, -1), y, discrete_features=False).reshape(B, -1).mean(axis=1)\n",
    "        self.w = self.w / self.w.sum()\n",
    "\n",
    "        # Weight features\n",
    "        Z_weighted = np.concatenate([np.sqrt(self.w[i]) * Z[:, i, :] for i in range(B)], axis=1)\n",
    "\n",
    "        # Train classifier\n",
    "        self.clf = make_pipeline(\n",
    "            StandardScaler(),\n",
    "            RandomForestClassifier(\n",
    "                n_estimators=self.n_estimators,\n",
    "                max_depth=self.max_depth,\n",
    "                min_samples_split=self.min_samples_split,\n",
    "                min_samples_leaf=self.min_samples_leaf,\n",
    "                max_features=self.max_features,\n",
    "                class_weight=self.class_weight,\n",
    "                n_jobs=self.n_jobs,\n",
    "                random_state=42,\n",
    "            ),\n",
    "        )\n",
    "        self.clf.fit(Z_weighted, y)\n",
    "        return self\n",
    "\n",
    "    def predict(self, X):\n",
    "        fb_covs = self.compute_fb_covs(X)\n",
    "        n, B, C, _ = fb_covs.shape\n",
    "\n",
    "        covs_flat = fb_covs.reshape(n * B, C, C)\n",
    "        Z = self.ts.transform(covs_flat).reshape(n, B, -1)\n",
    "        Z_weighted = np.concatenate([np.sqrt(self.w[i]) * Z[:, i, :] for i in range(B)], axis=1)\n",
    "\n",
    "        return self.clf.predict(Z_weighted)\n",
    "\n",
    "    def predict_proba(self, X):\n",
    "        fb_covs = self.compute_fb_covs(X)\n",
    "        n, B, C, _ = fb_covs.shape\n",
    "\n",
    "        covs_flat = fb_covs.reshape(n * B, C, C)\n",
    "        Z = self.ts.transform(covs_flat).reshape(n, B, -1)\n",
    "        Z_weighted = np.concatenate([np.sqrt(self.w[i]) * Z[:, i, :] for i in range(B)], axis=1)\n",
    "\n",
    "        return self.clf.predict_proba(Z_weighted)\n",
    "\n",
    "\n",
    "def load_eeg_data(data_path, window_length, stride, tmin, eeg_channels):\n",
    "    ds = EEGDataset(\n",
    "        data_path,\n",
    "        window_length=window_length,\n",
    "        stride=stride,\n",
    "        task=\"mi\",\n",
    "        split=\"train\",\n",
    "        data_fraction=0.4,\n",
    "        tmin=tmin,\n",
    "        eeg_channels=eeg_channels,\n",
    "    )\n",
    "    X = np.stack([x.numpy() for x, _ in ds])\n",
    "    y = np.array([label[0] for _, label in ds])\n",
    "    return X, y\n",
    "\n",
    "\n",
    "# Optuna optimization\n",
    "data_path = \"./data/mtcaic3\"\n",
    "cv_folds = 3\n",
    "\n",
    "window_lengths = [250, 500, 1000, 1500]\n",
    "strides = [250, 500, 750]\n",
    "tmins = [0, 250, 500]\n",
    "\n",
    "\n",
    "def objective(trial):\n",
    "    # --- Data and channel selection parameters (same as before) ---\n",
    "    wl = trial.suggest_categorical(\"window_length\", window_lengths)\n",
    "    st = trial.suggest_categorical(\"stride\", strides)\n",
    "    t0 = trial.suggest_categorical(\"tmin\", tmins)\n",
    "    all_channels = [\"FZ\", \"C3\", \"CZ\", \"C4\", \"PZ\", \"PO7\", \"OZ\", \"PO8\"]\n",
    "    active_mask = [trial.suggest_int(f\"ch_{ch}\", 0, 1) for ch in all_channels]\n",
    "    chs = [ch for ch, enabled in zip(all_channels, active_mask) if enabled]\n",
    "    if len(chs) < 2:\n",
    "        return 0.0\n",
    "\n",
    "    # --- NEW: Hyperparameter for the RSFTransformer ---\n",
    "    # The dimension 'd' must be between 2 and the number of selected channels.\n",
    "    d_rsf = trial.suggest_int(\"rsf_d\", 2, len(chs))\n",
    "\n",
    "    # --- Filter bank parameters (same as before) ---\n",
    "    n_bands = trial.suggest_int(\"n_bands\", 3, 8)\n",
    "    min_freq = trial.suggest_int(\"min_freq\", 4, 12)\n",
    "    max_freq = trial.suggest_int(\"max_freq\", 25, 40)\n",
    "    freq_step = (max_freq - min_freq) / n_bands\n",
    "    bands = [(min_freq + i * freq_step, min_freq + (i + 1) * freq_step) for i in range(n_bands)]\n",
    "    filter_order = trial.suggest_int(\"filter_order\", 3, 6)\n",
    "    fs = trial.suggest_categorical(\"fs\", [125, 250, 500])\n",
    "\n",
    "    # --- Random Forest parameters (same as before) ---\n",
    "    n_estimators = trial.suggest_int(\"n_estimators\", 50, 500, step=50)\n",
    "    max_depth = trial.suggest_categorical(\"max_depth\", [None, 5, 10, 15, 20])\n",
    "    min_samples_split = trial.suggest_int(\"min_samples_split\", 2, 10)\n",
    "    min_samples_leaf = trial.suggest_int(\"min_samples_leaf\", 1, 5)\n",
    "    max_features = trial.suggest_categorical(\"max_features\", [\"sqrt\", \"log2\", None])\n",
    "\n",
    "    print(f\"\\n→ Trying: wl={wl}, st={st}, tmin={t0}, chans={chs}\")\n",
    "    print(f\"   RSF d={d_rsf}, Bands: {bands}, RF: n_est={n_estimators}, depth={max_depth}\")\n",
    "\n",
    "    try:\n",
    "        X, y = load_eeg_data(data_path, wl, st, t0, chs)\n",
    "    except Exception as e:\n",
    "        print(\"Data loading failed:\", e)\n",
    "        return 0.0\n",
    "\n",
    "    # --- CORE CHANGE: Build the pipeline ---\n",
    "    # This single object now contains your entire workflow.\n",
    "    pipeline = make_pipeline(\n",
    "        RSFTransformer(d=d_rsf),\n",
    "        FilterBankRTSClassifier(\n",
    "            bands=bands,\n",
    "            fs=fs,\n",
    "            order=filter_order,\n",
    "            n_estimators=n_estimators,\n",
    "            max_depth=max_depth,\n",
    "            min_samples_split=min_samples_split,\n",
    "            min_samples_leaf=min_samples_leaf,\n",
    "            max_features=max_features,\n",
    "            class_weight=\"balanced\",\n",
    "            n_jobs=-1\n",
    "        )\n",
    "    )\n",
    "\n",
    "    cv = StratifiedKFold(cv_folds, shuffle=True, random_state=42)\n",
    "    \n",
    "    # Run cross-validation on the entire pipeline\n",
    "    scores = cross_validate(pipeline, X, y, cv=cv, scoring=\"accuracy\", return_train_score=True)\n",
    "\n",
    "    train_acc = scores[\"train_score\"].mean()\n",
    "    val_acc = scores[\"test_score\"].mean()\n",
    "\n",
    "    print(f\"   → Train acc: {train_acc:.3f} | Val acc: {val_acc:.3f}\")\n",
    "    trial.set_user_attr(\"train_acc\", train_acc)\n",
    "\n",
    "    return val_acc\n",
    "    \n",
    "    \n",
    "study = optuna.create_study(direction=\"maximize\", pruner=MedianPruner())\n",
    "study.optimize(objective, n_trials=100, timeout=7200)\n",
    "\n",
    "print(\"\\n=== Best trial ===\")\n",
    "best = study.best_trial\n",
    "print(\"Val Acc:\", best.value)\n",
    "print(\"Train Acc:\", best.user_attrs[\"train_acc\"])\n",
    "print(\"Params:\")\n",
    "for k, v in best.params.items():\n",
    "    print(f\"  {k}: {v}\")"
   ]
  },
  {
   "cell_type": "code",
   "execution_count": 2,
   "id": "f1a087e4",
   "metadata": {},
   "outputs": [
    {
     "name": "stdout",
     "output_type": "stream",
     "text": [
      "task: mi, split: train, domain: time, data_fraction: 1\n",
      "skipped: 21/2400\n",
      "task: mi, split: train, domain: time, data_fraction: 1\n",
      "skipped: 21/2400\n",
      "Validation accuracy: 0.5602\n",
      "\n",
      "Classification Report:\n",
      "              precision    recall  f1-score   support\n",
      "\n",
      "           0       0.55      0.61      0.58      3317\n",
      "           1       0.57      0.51      0.54      3374\n",
      "\n",
      "    accuracy                           0.56      6691\n",
      "   macro avg       0.56      0.56      0.56      6691\n",
      "weighted avg       0.56      0.56      0.56      6691\n",
      "\n"
     ]
    }
   ],
   "source": [
    "# Trial 7 finished with value: 0.5871394563472291 and parameters: {'window_length': 250, 'stride': 500, 'tmin': 500, 'ch_FZ': 0, 'ch_C3': 0, 'ch_CZ': 1, 'ch_C4': 1, 'ch_PZ': 0, 'ch_PO7': 1, 'ch_OZ': 1, 'ch_PO8': 1, 'rsf_d': 5, 'n_bands': 3, 'min_freq': 4, 'max_freq': 39, 'filter_order': 3, 'fs': 125, 'n_estimators': 150, 'max_depth': 10, 'min_samples_split': 5, 'min_samples_leaf': 1, 'max_features': 'sqrt'}. Best is trial 7 with value: 0.5871394563472291.\n",
    "\n",
    "class FilterBankRTSClassifier(BaseEstimator, ClassifierMixin):\n",
    "    def __init__(self, bands=None, fs=250, order=4, n_estimators=100, max_depth=None, min_samples_split=2, min_samples_leaf=1, max_features=\"sqrt\", class_weight=\"balanced\", n_jobs=-1):\n",
    "        self.bands = bands if bands else [(8, 12), (12, 16), (16, 20), (20, 24), (24, 30)]\n",
    "        self.fs = fs\n",
    "        self.order = order\n",
    "        self.n_estimators = n_estimators\n",
    "        self.max_depth = max_depth\n",
    "        self.min_samples_split = min_samples_split\n",
    "        self.min_samples_leaf = min_samples_leaf\n",
    "        self.max_features = max_features\n",
    "        self.class_weight = class_weight\n",
    "        self.n_jobs = n_jobs\n",
    "\n",
    "    def compute_fb_covs(self, X):\n",
    "        \"\"\"X: (n_trials, C, T) → fb_covs: (n_trials, B, C, C)\"\"\"\n",
    "        # Pre-compute SOS filters if not done\n",
    "        if not hasattr(self, \"sos_bands\"):\n",
    "            self.sos_bands = [butter(self.order, (l / (self.fs / 2), h / (self.fs / 2)), btype=\"bandpass\", output=\"sos\") for l, h in self.bands]\n",
    "\n",
    "        n, C, _ = X.shape\n",
    "        B = len(self.sos_bands)\n",
    "        fb_covs = np.zeros((n, B, C, C))\n",
    "        for i, sos in enumerate(self.sos_bands):\n",
    "            Xf = sosfiltfilt(sos, X, axis=2)\n",
    "            fb_covs[:, i] = Covariances(estimator=\"lwf\").transform(Xf)\n",
    "        return fb_covs\n",
    "\n",
    "    def fit(self, X, y):\n",
    "        self.classes_ = np.unique(y)\n",
    "        fb_covs = self.compute_fb_covs(X)\n",
    "        n, B, C, _ = fb_covs.shape\n",
    "\n",
    "        # Flatten for tangent space\n",
    "        covs_flat = fb_covs.reshape(n * B, C, C)\n",
    "        labels_rep = np.repeat(y, B)\n",
    "\n",
    "        # Fit tangent space\n",
    "        self.ts = TangentSpace(metric=\"riemann\").fit(covs_flat, labels_rep)\n",
    "        Z = self.ts.transform(covs_flat)\n",
    "        Z = Z.reshape(n, B, -1)\n",
    "\n",
    "        # Compute mutual information weights\n",
    "        self.w = mutual_info_classif(Z.reshape(n, -1), y, discrete_features=False).reshape(B, -1).mean(axis=1)\n",
    "        self.w = self.w / self.w.sum()\n",
    "\n",
    "        # Weight features\n",
    "        Z_weighted = np.concatenate([np.sqrt(self.w[i]) * Z[:, i, :] for i in range(B)], axis=1)\n",
    "\n",
    "        # Train classifier\n",
    "        self.clf = make_pipeline(\n",
    "            StandardScaler(),\n",
    "            RandomForestClassifier(\n",
    "                n_estimators=self.n_estimators,\n",
    "                max_depth=self.max_depth,\n",
    "                min_samples_split=self.min_samples_split,\n",
    "                min_samples_leaf=self.min_samples_leaf,\n",
    "                max_features=self.max_features,\n",
    "                class_weight=self.class_weight,\n",
    "                n_jobs=self.n_jobs,\n",
    "                random_state=42,\n",
    "            ),\n",
    "        )\n",
    "        self.clf.fit(Z_weighted, y)\n",
    "        return self\n",
    "\n",
    "    def predict(self, X):\n",
    "        fb_covs = self.compute_fb_covs(X)\n",
    "        n, B, C, _ = fb_covs.shape\n",
    "\n",
    "        covs_flat = fb_covs.reshape(n * B, C, C)\n",
    "        Z = self.ts.transform(covs_flat).reshape(n, B, -1)\n",
    "        Z_weighted = np.concatenate([np.sqrt(self.w[i]) * Z[:, i, :] for i in range(B)], axis=1)\n",
    "\n",
    "        return self.clf.predict(Z_weighted)\n",
    "\n",
    "    def predict_proba(self, X):\n",
    "        fb_covs = self.compute_fb_covs(X)\n",
    "        n, B, C, _ = fb_covs.shape\n",
    "\n",
    "        covs_flat = fb_covs.reshape(n * B, C, C)\n",
    "        Z = self.ts.transform(covs_flat).reshape(n, B, -1)\n",
    "        Z_weighted = np.concatenate([np.sqrt(self.w[i]) * Z[:, i, :] for i in range(B)], axis=1)\n",
    "\n",
    "        return self.clf.predict_proba(Z_weighted)\n",
    "\n",
    "class RSFTransformer(BaseEstimator, TransformerMixin):\n",
    "    def __init__(self, d=8, eps=1e-6, maxiter=500):\n",
    "        self.d = d\n",
    "        self.eps = eps\n",
    "        self.maxiter = maxiter\n",
    "\n",
    "    def fit(self, X, y):\n",
    "        covs = Covariances(estimator=\"lwf\").transform(X)\n",
    "        C1 = mean_riemann(covs[y == 0])\n",
    "        C2 = mean_riemann(covs[y == 1])\n",
    "        Nc = C1.shape[0]\n",
    "        W0 = np.random.randn(Nc, self.d)\n",
    "\n",
    "        def J(w_flat):\n",
    "            W = w_flat.reshape(Nc, self.d)\n",
    "            S1 = W.T @ C1 @ W + np.eye(self.d) * self.eps\n",
    "            S2 = W.T @ C2 @ W + np.eye(self.d) * self.eps\n",
    "            return np.linalg.norm(logm(inv(S1) @ S2), \"fro\") ** 2\n",
    "\n",
    "        def grad(w_flat):\n",
    "            W = w_flat.reshape(Nc, self.d)\n",
    "            S1 = W.T @ C1 @ W + np.eye(self.d) * self.eps\n",
    "            S2 = W.T @ C2 @ W + np.eye(self.d) * self.eps\n",
    "            A = inv(S1) @ S2\n",
    "            L = logm(A)\n",
    "            t1 = 2 * C1 @ W @ inv(S1) @ L @ inv(S1)\n",
    "            t2 = 2 * C2 @ W @ inv(S2) @ L @ inv(S2)\n",
    "            return (t1 - t2).ravel()\n",
    "\n",
    "        res = minimize(lambda w: -J(w), W0.ravel(), jac=lambda w: -grad(w), method=\"BFGS\", options={\"maxiter\": self.maxiter})\n",
    "        self.W_opt = res.x.reshape(Nc, self.d)\n",
    "        return self\n",
    "\n",
    "    def transform(self, X):\n",
    "        return np.einsum(\"cd,ect->edt\", self.W_opt, X)\n",
    "\n",
    "\n",
    "window_length = 250\n",
    "stride = 500\n",
    "tmin = 500\n",
    "eeg_channels = ['CZ', 'C4', 'PO7', 'OZ', 'PO8']\n",
    "d_rsf = 5\n",
    "n_bands = 3\n",
    "min_freq = 4\n",
    "max_freq = 39\n",
    "filter_order = 3\n",
    "fs = 125\n",
    "n_estimators = 150\n",
    "max_depth = 10\n",
    "min_samples_split = 5\n",
    "min_samples_leaf = 1\n",
    "max_features = 'sqrt'\n",
    "data_path = \"./data/mtcaic3\"\n",
    "\n",
    "\n",
    "# Load data with besjt parameters\n",
    "ds_train = EEGDataset(\n",
    "    data_path,\n",
    "    window_length=window_length,\n",
    "    stride=stride,\n",
    "    task=\"mi\",\n",
    "    split=\"train\",\n",
    "    data_fraction=1,\n",
    "    tmin=tmin,\n",
    "    eeg_channels=eeg_channels,\n",
    ")\n",
    "X_train = np.stack([x.numpy() for x, _ in ds_train])\n",
    "y_train = np.array([label[0] for _, label in ds_train])\n",
    "\n",
    "# Load data with besjt parameters\n",
    "freq_step = (max_freq - min_freq) / n_bands\n",
    "bands = [(min_freq + i * freq_step, min_freq + (i + 1) * freq_step) for i in range(n_bands)]\n",
    "ds_val = EEGDataset(\n",
    "    data_path,\n",
    "    window_length=window_length,\n",
    "    stride=stride,\n",
    "    task=\"mi\",\n",
    "    split=\"train\",\n",
    "    data_fraction=1,\n",
    "    tmin=tmin,\n",
    "    eeg_channels=eeg_channels,\n",
    ")\n",
    "X_val = np.stack([x.numpy() for x, _ in ds_val])\n",
    "y_val = np.array([label[0] for _, label in ds_val])\n",
    "\n",
    "freq_step = (max_freq - min_freq) / n_bands\n",
    "bands = [(min_freq + i * freq_step, min_freq + (i + 1) * freq_step) for i in range(n_bands)]\n",
    "\n",
    "# Create frequency bands\n",
    "\n",
    "# Create FilterBank classifier with best parameters\n",
    "clf = make_pipeline(\n",
    "    # This single object now contains your entire workflow.\n",
    "        RSFTransformer(d=d_rsf),\n",
    "        FilterBankRTSClassifier(\n",
    "            bands=bands,\n",
    "            fs=fs,\n",
    "            order=filter_order,\n",
    "            n_estimators=n_estimators,\n",
    "            max_depth=max_depth,\n",
    "            min_samples_split=min_samples_split,\n",
    "            min_samples_leaf=min_samples_leaf,\n",
    "            max_features=max_features,\n",
    "            class_weight=\"balanced\",\n",
    "            n_jobs=-1\n",
    "        )\n",
    "    )\n",
    "\n",
    "# Fit on training data\n",
    "clf.fit(X_train, y_train)\n",
    "\n",
    "# Calculate accuracy\n",
    "y_pred = clf.predict(X_val)\n",
    "val_acc = accuracy_score(y_val, y_pred)\n",
    "\n",
    "print(f\"Validation accuracy: {val_acc:.4f}\")\n",
    "\n",
    "# Classification report\n",
    "print(\"\\nClassification Report:\")\n",
    "print(classification_report(y_val, y_pred))"
   ]
  }
 ],
 "metadata": {
  "kernelspec": {
   "display_name": "icmtc_venv",
   "language": "python",
   "name": "python3"
  },
  "language_info": {
   "codemirror_mode": {
    "name": "ipython",
    "version": 3
   },
   "file_extension": ".py",
   "mimetype": "text/x-python",
   "name": "python",
   "nbconvert_exporter": "python",
   "pygments_lexer": "ipython3",
   "version": "3.12.11"
  }
 },
 "nbformat": 4,
 "nbformat_minor": 5
}
