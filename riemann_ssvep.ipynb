{
 "cells": [
  {
   "cell_type": "code",
   "execution_count": 2,
   "id": "63f517e7",
   "metadata": {},
   "outputs": [
    {
     "name": "stderr",
     "output_type": "stream",
     "text": [
      "/home/zeyadcode/.pyenv/versions/icmtc_venv/lib/python3.12/site-packages/tqdm/auto.py:21: TqdmWarning: IProgress not found. Please update jupyter and ipywidgets. See https://ipywidgets.readthedocs.io/en/stable/user_install.html\n",
      "  from .autonotebook import tqdm as notebook_tqdm\n"
     ]
    },
    {
     "data": {
      "text/plain": [
       "device(type='cpu')"
      ]
     },
     "execution_count": 2,
     "metadata": {},
     "output_type": "execute_result"
    }
   ],
   "source": [
    "%load_ext autoreload\n",
    "%autoreload 2\n",
    "import torch\n",
    "from modules.competition_dataset import EEGDataset\n",
    "import random\n",
    "import numpy as np\n",
    "from sklearn.model_selection import GridSearchCV, RandomizedSearchCV, train_test_split, cross_val_score\n",
    "from sklearn.decomposition import PCA\n",
    "from sklearn.discriminant_analysis import LinearDiscriminantAnalysis as LDA\n",
    "from sklearn.pipeline import Pipeline\n",
    "from sklearn.linear_model import LogisticRegression\n",
    "from sklearn.preprocessing import StandardScaler\n",
    "from sklearn.svm import SVC\n",
    "from scipy.linalg import expm, logm\n",
    "from sklearn.pipeline import make_pipeline\n",
    "from pyriemann.estimation import Covariances\n",
    "from pyriemann.tangentspace import TangentSpace\n",
    "from pyriemann.utils.mean import mean_riemann\n",
    "from pyriemann.utils.distance import distance_riemann\n",
    "from pyriemann.classification import MDM\n",
    "from sklearn.feature_selection import mutual_info_classif\n",
    "from pyriemann.estimation import Covariances\n",
    "from pyriemann.tangentspace import TangentSpace\n",
    "from sklearn.linear_model import LogisticRegression\n",
    "from sklearn.pipeline import Pipeline\n",
    "from scipy.signal import sosfiltfilt, butter\n",
    "\n",
    "device = torch.device('cuda' if torch.cuda.is_available() else 'cpu')\n",
    "device\n"
   ]
  },
  {
   "cell_type": "code",
   "execution_count": 3,
   "id": "f6c412b9",
   "metadata": {},
   "outputs": [],
   "source": [
    "data_path = './data/mtcaic3'\n",
    "lda_model_path = './checkpoints/mi/models/lda_mi.pkl'\n",
    "\n",
    "# Add this at the beginning of your notebook, after imports\n",
    "def set_random_seeds(seed=42):\n",
    "    \"\"\"Set random seeds for reproducibility\"\"\"\n",
    "\n",
    "    random.seed(seed)\n",
    "    np.random.seed(seed)\n",
    "    torch.manual_seed(seed)\n",
    "    if torch.cuda.is_available():\n",
    "        torch.cuda.manual_seed(seed)\n",
    "        torch.cuda.manual_seed_all(seed)\n",
    "        torch.backends.cudnn.deterministic = True\n",
    "        torch.backends.cudnn.benchmark = False\n",
    "\n",
    "set_random_seeds(42)"
   ]
  },
  {
   "cell_type": "code",
   "execution_count": 10,
   "id": "61f62b37",
   "metadata": {},
   "outputs": [],
   "source": [
    "window_length = 256 * 3\n",
    "stride = window_length // 3\n",
    "batch_size = 64"
   ]
  },
  {
   "cell_type": "code",
   "execution_count": 11,
   "id": "ac48c31e",
   "metadata": {},
   "outputs": [
    {
     "name": "stdout",
     "output_type": "stream",
     "text": [
      "task: ssvep, split: train, domain: time, data_fraction: 0.4\n",
      "Using 40.0% of data: 960/960 samples\n",
      "skipped: 51/960\n",
      "task: ssvep, split: validation, domain: time, data_fraction: 1.0\n",
      "skipped: 1/50\n",
      "task: ssvep, split: test, domain: time, data_fraction: 1.0\n",
      "skipped: 0/50\n"
     ]
    },
    {
     "data": {
      "text/plain": [
       "torch.Size([5, 768])"
      ]
     },
     "execution_count": 11,
     "metadata": {},
     "output_type": "execute_result"
    }
   ],
   "source": [
    "eeg_channels = [\n",
    "    \"FZ\",\n",
    "    \"C3\",\n",
    "    \"CZ\",\n",
    "    \"C4\",\n",
    "    # \"PZ\",\n",
    "    # \"PO7\",\n",
    "    # \"OZ\",\n",
    "    \"PO8\",\n",
    "]\n",
    "\n",
    "dataset_train = EEGDataset(\n",
    "    data_path,\n",
    "    window_length=window_length,\n",
    "    stride=stride,\n",
    "    task=\"ssvep\",\n",
    "    split=\"train\",\n",
    "    data_fraction=0.4,\n",
    "    tmin=250,\n",
    "    eeg_channels=eeg_channels,\n",
    ")\n",
    "\n",
    "dataset_val = EEGDataset(\n",
    "    data_path=data_path,\n",
    "    window_length=window_length,\n",
    "    stride=stride,\n",
    "    task='ssvep',\n",
    "    split='validation',\n",
    "    read_labels=True,\n",
    "    tmin=250,\n",
    "    eeg_channels=eeg_channels,\n",
    ")\n",
    "\n",
    "dataset_test = EEGDataset(\n",
    "    data_path=data_path,\n",
    "    window_length=window_length,\n",
    "    stride=stride,\n",
    "    task='ssvep',\n",
    "    split='test',\n",
    "    read_labels=False,\n",
    "    tmin=250,\n",
    "    eeg_channels=eeg_channels,\n",
    ")\n",
    "\n",
    "dataset_train[0][0].shape"
   ]
  },
  {
   "cell_type": "code",
   "execution_count": 12,
   "id": "246cdd7a",
   "metadata": {},
   "outputs": [
    {
     "data": {
      "text/plain": [
       "(tensor([0.0853, 0.1110, 0.2870, 0.2247, 0.0903]),\n",
       " tensor([1.0156, 1.0317, 1.5956, 1.3086, 1.0097]))"
      ]
     },
     "execution_count": 12,
     "metadata": {},
     "output_type": "execute_result"
    }
   ],
   "source": [
    "all_data = torch.cat([torch.stack([x for x,_ in ds]) for ds in (dataset_train, dataset_val, dataset_test)])\n",
    "X_val_train = torch.cat([torch.stack([x for x,_ in ds]) for ds in (dataset_train, dataset_val)])\n",
    "y_val_train = torch.cat([torch.stack([y for _,y in ds]) for ds in (dataset_train, dataset_val)])\n",
    "\n",
    "mean = all_data.mean((0, 2))\n",
    "std = all_data.std((0, 2))\n",
    "\n",
    "X_val_train = (X_val_train - mean[None, :, None]) / std[None, :, None]\n",
    "\n",
    "mean, std"
   ]
  },
  {
   "cell_type": "code",
   "execution_count": 13,
   "id": "653aa401",
   "metadata": {},
   "outputs": [
    {
     "name": "stdout",
     "output_type": "stream",
     "text": [
      "\n",
      "--- F-scores for each channel (higher score indicates more informativeness) ---\n",
      "  C4: 25547.67\n",
      "  CZ: 12561.01\n",
      "  FZ: 5688.17\n",
      "  PO8: 5495.40\n",
      "  C3: 4894.91\n",
      "\n",
      "--- Recommended Top 3 Channels based on F-score: ['C4', 'CZ', 'FZ'] ---\n"
     ]
    }
   ],
   "source": [
    "import numpy as np\n",
    "from sklearn.feature_selection import f_classif\n",
    "\n",
    "# Concatenate all splits (add dataset_val and dataset_test if needed)\n",
    "X_all = np.concatenate([\n",
    "    dataset_train.data.numpy(),\n",
    "    dataset_val.data.numpy(),\n",
    "    dataset_test.data.numpy(),\n",
    "], axis=0)  # shape: [N_total, C, ...]\n",
    "y_all = np.concatenate([\n",
    "    dataset_train.labels.numpy(),\n",
    "    dataset_val.labels.numpy(),\n",
    "    dataset_test.labels.numpy(),\n",
    "], axis=0)  # shape: [N_total]\n",
    "\n",
    "# Detect shape and adapt\n",
    "if X_all.ndim == 3:\n",
    "    # [B, C, T]\n",
    "    num_samples, num_channels, time_points = X_all.shape\n",
    "    channel_f_scores = []\n",
    "    for i in range(num_channels):\n",
    "        channel_data = X_all[:, i, :]  # [N_total, T]\n",
    "        f_scores_per_timepoint, _ = f_classif(channel_data, y_all)\n",
    "        aggregated_f_score = np.sum(f_scores_per_timepoint)\n",
    "        channel_f_scores.append(aggregated_f_score)\n",
    "elif X_all.ndim == 4:\n",
    "    # [B, C, F, T]\n",
    "    num_samples, num_channels, freq_points, time_points = X_all.shape\n",
    "    channel_f_scores = []\n",
    "    for i in range(num_channels):\n",
    "        # Average over freq and time for each channel\n",
    "        channel_data = X_all[:, i, :, :].mean(axis=(1, 2))  # [N_total]\n",
    "        f_score, _ = f_classif(channel_data.reshape(-1, 1), y_all)\n",
    "        channel_f_scores.append(f_score[0])\n",
    "else:\n",
    "    raise ValueError(f\"Unsupported data shape: {X_all.shape}\")\n",
    "\n",
    "# Optionally, map to channel names\n",
    "original_channel_names = eeg_channels\n",
    "channel_scores_dict = {original_channel_names[i]: channel_f_scores[i] for i in range(num_channels)}\n",
    "\n",
    "print(\"\\n--- F-scores for each channel (higher score indicates more informativeness) ---\")\n",
    "sorted_channels = sorted(channel_scores_dict.items(), key=lambda item: item[1], reverse=True)\n",
    "for channel, score in sorted_channels:\n",
    "    print(f\"  {channel}: {score:.2f}\")\n",
    "\n",
    "top_3_channels = [channel for channel, score in sorted_channels[:3]]\n",
    "print(f\"\\n--- Recommended Top 3 Channels based on F-score: {top_3_channels} ---\")"
   ]
  },
  {
   "cell_type": "code",
   "execution_count": 14,
   "id": "afa38ad4",
   "metadata": {},
   "outputs": [],
   "source": [
    "# Example for train/val/test\n",
    "X_train = np.stack([x.numpy() for x, y in dataset_train])  # shape: [N, C, T]\n",
    "y_train = np.array([y[0] for x, y in dataset_train])\n",
    "\n",
    "X_val = np.stack([x.numpy() for x, y in dataset_val])\n",
    "y_val = np.array([y[0] for x, y in dataset_val])\n",
    "\n",
    "X_test = np.stack([x.numpy() for x, y in dataset_test])\n",
    "y_test = np.array([y[0] for x, y in dataset_test])\n",
    "\n",
    "# # Cheaty :)\n",
    "# X_train_full = np.concatenate([X_train, X_val], axis=0)\n",
    "# y_train_full = np.concatenate([y_train, y_val], axis=0)"
   ]
  },
  {
   "cell_type": "code",
   "execution_count": 15,
   "id": "541ba886",
   "metadata": {},
   "outputs": [
    {
     "name": "stdout",
     "output_type": "stream",
     "text": [
      "Val Acc: 0.24087591240875914\n",
      "              precision    recall  f1-score   support\n",
      "\n",
      "           0       0.27      0.21      0.24        38\n",
      "           1       0.22      0.41      0.29        27\n",
      "           2       0.24      0.28      0.26        39\n",
      "           3       0.25      0.09      0.13        33\n",
      "\n",
      "    accuracy                           0.24       137\n",
      "   macro avg       0.25      0.25      0.23       137\n",
      "weighted avg       0.25      0.24      0.23       137\n",
      "\n"
     ]
    }
   ],
   "source": [
    "bands = [\n",
    "    (6, 8),   # 7 Hz\n",
    "    (7, 9),   # 8 Hz\n",
    "    (9, 11),  # 10 Hz\n",
    "    (12, 14), # 13 Hz\n",
    "    (13, 17), # 2nd harmonic of 7-8 Hz\n",
    "    (18, 22), # 2nd harmonic of 9-11 Hz\n",
    "    # etc.\n",
    "]\n",
    "sos_bands = [butter(4, (l / 125, h / 125), btype=\"bandpass\", output=\"sos\") for l, h in bands]\n",
    "\n",
    "\n",
    "def compute_fb_covs(X):\n",
    "    \"\"\"X: (n_trials, C, T) → fb_covs: (n_trials, B, C, C)\"\"\"\n",
    "    n, C, _ = X.shape\n",
    "    B = len(sos_bands)\n",
    "    fb_covs = np.zeros((n, B, C, C))\n",
    "    for i, sos in enumerate(sos_bands):\n",
    "        Xf = sosfiltfilt(sos, X, axis=2)\n",
    "        fb_covs[:, i] = Covariances(estimator=\"lwf\").transform(Xf)\n",
    "    return fb_covs\n",
    "\n",
    "\n",
    "def fb_rts_fsvm(X, y):\n",
    "    \"\"\"\n",
    "    Implements Filter-Bank + Riemannian Tangent Space +\n",
    "    Feature-weighted SVM (FBRTS + FWSVM).\n",
    "    \"\"\"\n",
    "    # 1) Covariances per band\n",
    "    fb_covs = compute_fb_covs(X)  # (n_trials, B, C, C)\n",
    "    n, B, C, _ = fb_covs.shape\n",
    "\n",
    "    # 2) Flatten bands → SPD list & repeat labels\n",
    "    covs_flat = fb_covs.reshape(n * B, C, C)\n",
    "    labels_rep = np.repeat(y, B)\n",
    "\n",
    "    # 3) Tangent-space mapping\n",
    "    ts = TangentSpace(metric=\"riemann\").fit(covs_flat, labels_rep)\n",
    "    Z = ts.transform(covs_flat)  # (n*B, D), with D = C(C+1)/2\n",
    "    Z = Z.reshape(n, B, -1)  # (n, B, D)\n",
    "\n",
    "    # 4) Feature-level weights per band\n",
    "    #    Compute MI between each band’s features and labels\n",
    "    w = mutual_info_classif(Z.reshape(n, -1), y, discrete_features=False).reshape(B, -1).mean(axis=1)  # flatten all bands → (n, B·D)  # average MI per band → (B,)\n",
    "    w = w / w.sum()  # normalize to sum=1\n",
    "\n",
    "    # 5) Apply sqrt-weighted scaling: sqrt so weights scale variances\n",
    "    Z_weighted = np.concatenate([np.sqrt(w[i]) * Z[:, i, :] for i in range(B)], axis=1)  # → (n, B·D)\n",
    "\n",
    "    # 6) Train & return a pipelined SVM\n",
    "    clf = make_pipeline(\n",
    "        StandardScaler(),\n",
    "        SVC(kernel=\"linear\", probability=True, class_weight='balanced'),\n",
    "    )\n",
    "    clf.fit(Z_weighted, y)\n",
    "    return ts, w, clf\n",
    "\n",
    "\n",
    "def predict_fb_rts(ts, w, clf, X):\n",
    "    \"\"\"Given fitted ts, weights w, and clf, predict on new X.\"\"\"\n",
    "    fb_covs = compute_fb_covs(X)\n",
    "    n, B, C, _ = fb_covs.shape\n",
    "    covs_flat = fb_covs.reshape(n * B, C, C)\n",
    "    Z = ts.transform(covs_flat).reshape(n, B, -1)\n",
    "    Z_weighted = np.concatenate([np.sqrt(w[i]) * Z[:, i, :] for i in range(B)], axis=1)\n",
    "    return clf.predict(Z_weighted)\n",
    "\n",
    "\n",
    "# --- Example usage (no re-initialization of X_train, etc.) ---\n",
    "ts, w, clf = fb_rts_fsvm(X_train, y_train)\n",
    "y_pred = predict_fb_rts(ts, w, clf, X_val)\n",
    "\n",
    "from sklearn.metrics import accuracy_score, classification_report\n",
    "\n",
    "print(\"Val Acc:\", accuracy_score(y_val, y_pred))\n",
    "print(classification_report(y_val, y_pred))"
   ]
  },
  {
   "cell_type": "code",
   "execution_count": 39,
   "id": "bb3c73bf",
   "metadata": {},
   "outputs": [
    {
     "data": {
      "text/plain": [
       "['./checkpoints/mi/fb_rts_fsvm_model.joblib']"
      ]
     },
     "execution_count": 39,
     "metadata": {},
     "output_type": "execute_result"
    }
   ],
   "source": [
    "import joblib\n",
    "joblib.dump((ts, w, clf), \"./checkpoints/mi/fb_rts_fsvm_model.joblib\")"
   ]
  },
  {
   "cell_type": "code",
   "execution_count": 36,
   "id": "adff2805",
   "metadata": {},
   "outputs": [
    {
     "name": "stdout",
     "output_type": "stream",
     "text": [
      "=== Model Performance Report ===\n",
      "                 SVM: Train Acc = 0.624 | Val Acc = 0.510\n",
      " Logistic Regression: Train Acc = 0.542 | Val Acc = 0.510\n",
      "                 MDM: Train Acc = 0.528 | Val Acc = 0.531\n"
     ]
    }
   ],
   "source": [
    "pipeline_svm = Pipeline(\n",
    "    [\n",
    "        (\"cov\", Covariances(estimator=\"lwf\")),\n",
    "        (\"tangent\", TangentSpace(metric=\"riemann\")),\n",
    "        (\"clf\", SVC(random_state=42, tol=0.001, kernel='rbf', gamma=0.01, class_weight='balanced', C=10)),\n",
    "    ]\n",
    ")\n",
    "\n",
    "pipeline_lr = Pipeline(\n",
    "    [\n",
    "        (\"cov\", Covariances(estimator=\"lwf\")),\n",
    "        (\"tangent\", TangentSpace(metric=\"riemann\")),\n",
    "        (\"clf\", LogisticRegression(random_state=42, tol=0.0001, solver='sag', penalty='l2', max_iter=1000, class_weight='balanced', C=0.001)),\n",
    "    ]\n",
    ")\n",
    "\n",
    "\n",
    "pipeline_mdm = Pipeline([\n",
    "    ('cov', Covariances(estimator=\"lwf\")),\n",
    "    (\"clf\", MDM()),\n",
    "])\n",
    "\n",
    "pipelines = {\n",
    "    \"SVM\": pipeline_svm,\n",
    "    \"Logistic Regression\": pipeline_lr,\n",
    "    \"MDM\": pipeline_mdm,\n",
    "}\n",
    "\n",
    "results = {}\n",
    "\n",
    "for name, pipe in pipelines.items():\n",
    "    pipe.fit(X_train, y_train)\n",
    "    train_acc = accuracy_score(y_train, pipe.predict(X_train))\n",
    "    val_acc = accuracy_score(y_val, pipe.predict(X_val))\n",
    "    results[name] = (train_acc, val_acc)\n",
    "\n",
    "print(\"=== Model Performance Report ===\")\n",
    "for name, (train_acc, val_acc) in results.items():\n",
    "    print(f\"{name:>20}: Train Acc = {train_acc:.3f} | Val Acc = {val_acc:.3f}\")"
   ]
  },
  {
   "cell_type": "code",
   "execution_count": null,
   "id": "1034de8b",
   "metadata": {},
   "outputs": [
    {
     "name": "stdout",
     "output_type": "stream",
     "text": [
      "Fitting 3 folds for each of 50 candidates, totalling 150 fits\n",
      "[CV] END clf__C=0.01, clf__class_weight=balanced, clf__gamma=scale, clf__kernel=linear, clf__tol=0.001; total time=   7.0s\n",
      "[CV] END clf__C=0.01, clf__class_weight=balanced, clf__gamma=scale, clf__kernel=linear, clf__tol=0.001; total time=   7.5s\n",
      "[CV] END clf__C=0.01, clf__class_weight=balanced, clf__gamma=scale, clf__kernel=linear, clf__tol=0.001; total time=   7.9s\n",
      "[CV] END clf__C=0.01, clf__class_weight=balanced, clf__gamma=0.001, clf__kernel=linear, clf__tol=0.0001; total time=   7.9s\n",
      "[CV] END clf__C=0.01, clf__class_weight=balanced, clf__gamma=0.001, clf__kernel=linear, clf__tol=0.0001; total time=   8.4s\n",
      "[CV] END clf__C=0.01, clf__class_weight=balanced, clf__gamma=0.001, clf__kernel=rbf, clf__tol=0.001; total time=   8.6s\n",
      "[CV] END clf__C=0.01, clf__class_weight=balanced, clf__gamma=0.001, clf__kernel=rbf, clf__tol=0.001; total time=   8.8s\n",
      "[CV] END clf__C=0.01, clf__class_weight=balanced, clf__gamma=0.001, clf__kernel=rbf, clf__tol=0.001; total time=   9.6s\n",
      "[CV] END clf__C=0.01, clf__class_weight=balanced, clf__gamma=0.001, clf__kernel=linear, clf__tol=0.0001; total time=   7.3s\n",
      "[CV] END clf__C=50, clf__class_weight=balanced, clf__gamma=0.01, clf__kernel=rbf, clf__tol=0.001; total time=   8.1s\n",
      "[CV] END clf__C=0.1, clf__class_weight=balanced, clf__gamma=0.01, clf__kernel=linear, clf__tol=0.0001; total time=   8.4s\n",
      "[CV] END clf__C=50, clf__class_weight=balanced, clf__gamma=0.01, clf__kernel=rbf, clf__tol=0.001; total time=   8.9s\n",
      "[CV] END clf__C=0.1, clf__class_weight=balanced, clf__gamma=0.01, clf__kernel=linear, clf__tol=0.0001; total time=   8.2s\n",
      "[CV] END clf__C=50, clf__class_weight=balanced, clf__gamma=0.01, clf__kernel=rbf, clf__tol=0.001; total time=   9.2s\n",
      "[CV] END clf__C=0.1, clf__class_weight=balanced, clf__gamma=0.01, clf__kernel=linear, clf__tol=0.0001; total time=   8.8s\n",
      "[CV] END clf__C=0.01, clf__class_weight=balanced, clf__gamma=0.01, clf__kernel=rbf, clf__tol=0.001; total time=   9.5s\n",
      "[CV] END clf__C=0.01, clf__class_weight=balanced, clf__gamma=0.01, clf__kernel=rbf, clf__tol=0.001; total time=   8.4s\n",
      "[CV] END clf__C=0.01, clf__class_weight=balanced, clf__gamma=0.01, clf__kernel=linear, clf__tol=0.001; total time=   7.8s\n",
      "[CV] END clf__C=0.01, clf__class_weight=balanced, clf__gamma=0.01, clf__kernel=linear, clf__tol=0.001; total time=   8.5s\n",
      "[CV] END clf__C=0.01, clf__class_weight=balanced, clf__gamma=0.01, clf__kernel=rbf, clf__tol=0.001; total time=  10.2s\n",
      "[CV] END clf__C=0.01, clf__class_weight=balanced, clf__gamma=0.01, clf__kernel=linear, clf__tol=0.001; total time=   9.0s\n",
      "[CV] END clf__C=0.1, clf__class_weight=balanced, clf__gamma=0.001, clf__kernel=rbf, clf__tol=0.0001; total time=   9.0s\n",
      "[CV] END clf__C=0.1, clf__class_weight=balanced, clf__gamma=0.001, clf__kernel=rbf, clf__tol=0.0001; total time=   9.0s\n",
      "[CV] END clf__C=0.1, clf__class_weight=balanced, clf__gamma=0.001, clf__kernel=rbf, clf__tol=0.0001; total time=   8.9s\n",
      "[CV] END clf__C=0.01, clf__class_weight=balanced, clf__gamma=scale, clf__kernel=rbf, clf__tol=0.0001; total time=   9.3s\n",
      "[CV] END clf__C=0.1, clf__class_weight=balanced, clf__gamma=scale, clf__kernel=linear, clf__tol=0.0001; total time=   8.5s\n",
      "[CV] END clf__C=0.01, clf__class_weight=balanced, clf__gamma=scale, clf__kernel=rbf, clf__tol=0.0001; total time=   9.7s\n",
      "[CV] END clf__C=0.1, clf__class_weight=balanced, clf__gamma=scale, clf__kernel=linear, clf__tol=0.0001; total time=   8.7s\n",
      "[CV] END clf__C=0.1, clf__class_weight=balanced, clf__gamma=scale, clf__kernel=linear, clf__tol=0.0001; total time=   8.7s\n",
      "[CV] END clf__C=0.01, clf__class_weight=balanced, clf__gamma=scale, clf__kernel=rbf, clf__tol=0.0001; total time=   9.5s\n",
      "[CV] END clf__C=1, clf__class_weight=balanced, clf__gamma=0.001, clf__kernel=rbf, clf__tol=0.001; total time=   9.5s\n",
      "[CV] END clf__C=1, clf__class_weight=balanced, clf__gamma=0.001, clf__kernel=rbf, clf__tol=0.001; total time=   9.3s\n",
      "[CV] END clf__C=1, clf__class_weight=balanced, clf__gamma=0.001, clf__kernel=rbf, clf__tol=0.001; total time=  10.5s\n",
      "[CV] END clf__C=50, clf__class_weight=balanced, clf__gamma=scale, clf__kernel=rbf, clf__tol=0.001; total time=   8.9s\n",
      "[CV] END clf__C=50, clf__class_weight=balanced, clf__gamma=scale, clf__kernel=rbf, clf__tol=0.001; total time=   9.1s\n",
      "[CV] END clf__C=1, clf__class_weight=balanced, clf__gamma=0.01, clf__kernel=linear, clf__tol=0.001; total time=   8.7s\n",
      "[CV] END clf__C=50, clf__class_weight=balanced, clf__gamma=scale, clf__kernel=rbf, clf__tol=0.001; total time=   9.5s\n",
      "[CV] END clf__C=1, clf__class_weight=balanced, clf__gamma=0.01, clf__kernel=linear, clf__tol=0.001; total time=  10.0s\n",
      "[CV] END clf__C=0.01, clf__class_weight=balanced, clf__gamma=0.01, clf__kernel=linear, clf__tol=0.0001; total time=   8.4s\n",
      "[CV] END clf__C=1, clf__class_weight=balanced, clf__gamma=0.01, clf__kernel=linear, clf__tol=0.001; total time=   9.7s\n",
      "[CV] END clf__C=0.01, clf__class_weight=balanced, clf__gamma=0.01, clf__kernel=linear, clf__tol=0.0001; total time=  10.0s\n",
      "[CV] END clf__C=0.01, clf__class_weight=balanced, clf__gamma=0.01, clf__kernel=linear, clf__tol=0.0001; total time=   9.5s\n",
      "[CV] END clf__C=1, clf__class_weight=balanced, clf__gamma=0.01, clf__kernel=linear, clf__tol=0.0001; total time=  11.6s\n",
      "[CV] END clf__C=1, clf__class_weight=balanced, clf__gamma=0.01, clf__kernel=linear, clf__tol=0.0001; total time=  11.4s\n",
      "[CV] END clf__C=1, clf__class_weight=balanced, clf__gamma=0.01, clf__kernel=linear, clf__tol=0.0001; total time=  12.1s\n",
      "[CV] END clf__C=10, clf__class_weight=balanced, clf__gamma=0.001, clf__kernel=linear, clf__tol=0.001; total time=  17.1s\n",
      "[CV] END clf__C=10, clf__class_weight=balanced, clf__gamma=0.001, clf__kernel=linear, clf__tol=0.001; total time=  17.9s\n",
      "[CV] END clf__C=1, clf__class_weight=balanced, clf__gamma=0.1, clf__kernel=rbf, clf__tol=0.001; total time=   8.9s\n",
      "[CV] END clf__C=1, clf__class_weight=balanced, clf__gamma=0.1, clf__kernel=rbf, clf__tol=0.001; total time=   9.8s\n",
      "[CV] END clf__C=10, clf__class_weight=balanced, clf__gamma=0.001, clf__kernel=linear, clf__tol=0.001; total time=  20.1s\n",
      "[CV] END clf__C=1, clf__class_weight=balanced, clf__gamma=0.1, clf__kernel=rbf, clf__tol=0.001; total time=   9.5s\n",
      "[CV] END clf__C=0.1, clf__class_weight=balanced, clf__gamma=0.001, clf__kernel=rbf, clf__tol=0.001; total time=  10.2s\n",
      "[CV] END clf__C=0.1, clf__class_weight=balanced, clf__gamma=0.001, clf__kernel=rbf, clf__tol=0.001; total time=   9.3s\n",
      "[CV] END clf__C=10, clf__class_weight=balanced, clf__gamma=scale, clf__kernel=linear, clf__tol=0.001; total time=  16.5s\n",
      "[CV] END clf__C=10, clf__class_weight=balanced, clf__gamma=scale, clf__kernel=linear, clf__tol=0.001; total time=  16.9s\n",
      "[CV] END clf__C=10, clf__class_weight=balanced, clf__gamma=scale, clf__kernel=linear, clf__tol=0.001; total time=  18.3s\n",
      "[CV] END clf__C=1, clf__class_weight=balanced, clf__gamma=0.1, clf__kernel=linear, clf__tol=0.0001; total time=   9.0s\n",
      "[CV] END clf__C=0.1, clf__class_weight=balanced, clf__gamma=0.001, clf__kernel=rbf, clf__tol=0.001; total time=   9.8s\n",
      "[CV] END clf__C=1, clf__class_weight=balanced, clf__gamma=0.1, clf__kernel=linear, clf__tol=0.0001; total time=  10.0s\n",
      "[CV] END clf__C=0.01, clf__class_weight=balanced, clf__gamma=0.1, clf__kernel=linear, clf__tol=0.001; total time=   8.3s\n",
      "[CV] END clf__C=1, clf__class_weight=balanced, clf__gamma=0.1, clf__kernel=linear, clf__tol=0.0001; total time=  11.3s\n",
      "[CV] END clf__C=0.01, clf__class_weight=balanced, clf__gamma=0.1, clf__kernel=linear, clf__tol=0.001; total time=   8.5s\n",
      "[CV] END clf__C=0.01, clf__class_weight=balanced, clf__gamma=0.1, clf__kernel=linear, clf__tol=0.001; total time=   8.6s\n",
      "[CV] END clf__C=50, clf__class_weight=balanced, clf__gamma=scale, clf__kernel=linear, clf__tol=0.001; total time=  42.6s\n",
      "[CV] END clf__C=50, clf__class_weight=balanced, clf__gamma=scale, clf__kernel=rbf, clf__tol=0.0001; total time=  10.7s\n",
      "[CV] END clf__C=50, clf__class_weight=balanced, clf__gamma=scale, clf__kernel=rbf, clf__tol=0.0001; total time=  12.0s\n",
      "[CV] END clf__C=50, clf__class_weight=balanced, clf__gamma=scale, clf__kernel=linear, clf__tol=0.001; total time=  46.6s\n",
      "[CV] END clf__C=50, clf__class_weight=balanced, clf__gamma=scale, clf__kernel=rbf, clf__tol=0.0001; total time=  10.4s\n",
      "[CV] END clf__C=50, clf__class_weight=balanced, clf__gamma=scale, clf__kernel=linear, clf__tol=0.001; total time=  53.8s\n",
      "[CV] END clf__C=0.01, clf__class_weight=balanced, clf__gamma=0.1, clf__kernel=rbf, clf__tol=0.0001; total time=   9.7s\n",
      "[CV] END clf__C=0.01, clf__class_weight=balanced, clf__gamma=0.1, clf__kernel=rbf, clf__tol=0.0001; total time=   9.3s\n",
      "[CV] END clf__C=0.01, clf__class_weight=balanced, clf__gamma=0.1, clf__kernel=rbf, clf__tol=0.0001; total time=   9.6s\n",
      "[CV] END clf__C=50, clf__class_weight=balanced, clf__gamma=0.01, clf__kernel=linear, clf__tol=0.001; total time=  42.5s\n",
      "[CV] END clf__C=50, clf__class_weight=balanced, clf__gamma=0.01, clf__kernel=linear, clf__tol=0.001; total time=  44.0s\n",
      "[CV] END clf__C=50, clf__class_weight=balanced, clf__gamma=0.01, clf__kernel=linear, clf__tol=0.001; total time=  50.9s\n",
      "[CV] END clf__C=0.01, clf__class_weight=balanced, clf__gamma=0.1, clf__kernel=rbf, clf__tol=0.001; total time=  13.1s\n",
      "[CV] END clf__C=0.01, clf__class_weight=balanced, clf__gamma=0.1, clf__kernel=rbf, clf__tol=0.001; total time=  10.7s\n",
      "[CV] END clf__C=0.01, clf__class_weight=balanced, clf__gamma=0.1, clf__kernel=rbf, clf__tol=0.001; total time=   9.9s\n",
      "[CV] END clf__C=50, clf__class_weight=balanced, clf__gamma=0.01, clf__kernel=rbf, clf__tol=0.0001; total time=   9.7s\n",
      "[CV] END clf__C=50, clf__class_weight=balanced, clf__gamma=0.01, clf__kernel=linear, clf__tol=0.0001; total time=  57.7s\n",
      "[CV] END clf__C=50, clf__class_weight=balanced, clf__gamma=0.1, clf__kernel=linear, clf__tol=0.001; total time=  44.3s\n",
      "[CV] END clf__C=50, clf__class_weight=balanced, clf__gamma=0.01, clf__kernel=linear, clf__tol=0.0001; total time=  58.8s\n",
      "[CV] END clf__C=50, clf__class_weight=balanced, clf__gamma=0.01, clf__kernel=rbf, clf__tol=0.0001; total time=  10.3s\n",
      "[CV] END clf__C=50, clf__class_weight=balanced, clf__gamma=0.01, clf__kernel=linear, clf__tol=0.0001; total time= 1.0min\n",
      "[CV] END clf__C=50, clf__class_weight=balanced, clf__gamma=0.01, clf__kernel=rbf, clf__tol=0.0001; total time=   8.3s\n",
      "[CV] END clf__C=0.1, clf__class_weight=balanced, clf__gamma=scale, clf__kernel=rbf, clf__tol=0.001; total time=   9.1s\n",
      "[CV] END clf__C=50, clf__class_weight=balanced, clf__gamma=0.1, clf__kernel=rbf, clf__tol=0.0001; total time=   8.6s\n",
      "[CV] END clf__C=50, clf__class_weight=balanced, clf__gamma=0.1, clf__kernel=rbf, clf__tol=0.0001; total time=   8.9s\n",
      "[CV] END clf__C=0.1, clf__class_weight=balanced, clf__gamma=scale, clf__kernel=rbf, clf__tol=0.001; total time=  10.2s\n",
      "[CV] END clf__C=0.1, clf__class_weight=balanced, clf__gamma=scale, clf__kernel=rbf, clf__tol=0.001; total time=   9.6s\n",
      "[CV] END clf__C=50, clf__class_weight=balanced, clf__gamma=0.1, clf__kernel=linear, clf__tol=0.001; total time=  45.9s\n",
      "[CV] END clf__C=50, clf__class_weight=balanced, clf__gamma=0.1, clf__kernel=rbf, clf__tol=0.0001; total time=   9.7s\n",
      "[CV] END clf__C=50, clf__class_weight=balanced, clf__gamma=0.1, clf__kernel=linear, clf__tol=0.001; total time=  53.0s\n",
      "[CV] END clf__C=10, clf__class_weight=balanced, clf__gamma=0.001, clf__kernel=rbf, clf__tol=0.0001; total time=  13.9s\n",
      "[CV] END clf__C=10, clf__class_weight=balanced, clf__gamma=0.001, clf__kernel=rbf, clf__tol=0.0001; total time=  11.9s\n",
      "[CV] END clf__C=10, clf__class_weight=balanced, clf__gamma=0.001, clf__kernel=rbf, clf__tol=0.0001; total time=  14.2s\n",
      "[CV] END clf__C=10, clf__class_weight=balanced, clf__gamma=0.1, clf__kernel=linear, clf__tol=0.0001; total time=  22.3s\n",
      "[CV] END clf__C=10, clf__class_weight=balanced, clf__gamma=0.01, clf__kernel=linear, clf__tol=0.001; total time=  17.9s\n",
      "[CV] END clf__C=0.01, clf__class_weight=balanced, clf__gamma=scale, clf__kernel=rbf, clf__tol=0.001; total time=  10.8s\n",
      "[CV] END clf__C=0.01, clf__class_weight=balanced, clf__gamma=scale, clf__kernel=rbf, clf__tol=0.001; total time=  11.4s\n",
      "[CV] END clf__C=10, clf__class_weight=balanced, clf__gamma=0.1, clf__kernel=linear, clf__tol=0.0001; total time=  27.8s\n",
      "[CV] END clf__C=10, clf__class_weight=balanced, clf__gamma=0.01, clf__kernel=linear, clf__tol=0.001; total time=  20.0s\n",
      "[CV] END clf__C=0.01, clf__class_weight=balanced, clf__gamma=scale, clf__kernel=rbf, clf__tol=0.001; total time=  11.0s\n",
      "[CV] END clf__C=10, clf__class_weight=balanced, clf__gamma=0.1, clf__kernel=linear, clf__tol=0.0001; total time=  29.1s\n",
      "[CV] END clf__C=1, clf__class_weight=balanced, clf__gamma=scale, clf__kernel=rbf, clf__tol=0.001; total time=  10.2s\n",
      "[CV] END clf__C=10, clf__class_weight=balanced, clf__gamma=0.01, clf__kernel=linear, clf__tol=0.001; total time=  19.1s\n",
      "[CV] END clf__C=1, clf__class_weight=balanced, clf__gamma=scale, clf__kernel=rbf, clf__tol=0.001; total time=   9.4s\n",
      "[CV] END clf__C=1, clf__class_weight=balanced, clf__gamma=0.1, clf__kernel=rbf, clf__tol=0.0001; total time=   9.1s\n",
      "[CV] END clf__C=1, clf__class_weight=balanced, clf__gamma=scale, clf__kernel=rbf, clf__tol=0.001; total time=  10.5s\n",
      "[CV] END clf__C=0.1, clf__class_weight=balanced, clf__gamma=0.1, clf__kernel=linear, clf__tol=0.001; total time=   8.7s\n",
      "[CV] END clf__C=1, clf__class_weight=balanced, clf__gamma=0.1, clf__kernel=rbf, clf__tol=0.0001; total time=   9.3s\n",
      "[CV] END clf__C=1, clf__class_weight=balanced, clf__gamma=0.1, clf__kernel=rbf, clf__tol=0.0001; total time=  10.6s\n",
      "[CV] END clf__C=0.1, clf__class_weight=balanced, clf__gamma=0.1, clf__kernel=linear, clf__tol=0.001; total time=  10.3s\n",
      "[CV] END clf__C=0.1, clf__class_weight=balanced, clf__gamma=0.1, clf__kernel=linear, clf__tol=0.001; total time=  10.5s\n",
      "[CV] END clf__C=1, clf__class_weight=balanced, clf__gamma=0.01, clf__kernel=rbf, clf__tol=0.001; total time=  10.9s\n",
      "[CV] END clf__C=1, clf__class_weight=balanced, clf__gamma=0.01, clf__kernel=rbf, clf__tol=0.001; total time=  11.3s\n",
      "[CV] END clf__C=1, clf__class_weight=balanced, clf__gamma=0.01, clf__kernel=rbf, clf__tol=0.001; total time=  13.4s\n",
      "[CV] END clf__C=1, clf__class_weight=balanced, clf__gamma=scale, clf__kernel=rbf, clf__tol=0.0001; total time=  10.1s\n",
      "[CV] END clf__C=1, clf__class_weight=balanced, clf__gamma=scale, clf__kernel=rbf, clf__tol=0.0001; total time=  10.8s\n",
      "[CV] END clf__C=10, clf__class_weight=balanced, clf__gamma=0.001, clf__kernel=linear, clf__tol=0.0001; total time=  22.9s\n",
      "[CV] END clf__C=1, clf__class_weight=balanced, clf__gamma=scale, clf__kernel=rbf, clf__tol=0.0001; total time=  10.8s\n",
      "[CV] END clf__C=0.01, clf__class_weight=balanced, clf__gamma=0.001, clf__kernel=rbf, clf__tol=0.0001; total time=  10.7s\n",
      "[CV] END clf__C=0.01, clf__class_weight=balanced, clf__gamma=0.001, clf__kernel=rbf, clf__tol=0.0001; total time=   8.9s\n",
      "[CV] END clf__C=0.01, clf__class_weight=balanced, clf__gamma=0.001, clf__kernel=rbf, clf__tol=0.0001; total time=   9.8s\n",
      "[CV] END clf__C=0.01, clf__class_weight=balanced, clf__gamma=0.001, clf__kernel=linear, clf__tol=0.001; total time=   8.7s\n",
      "[CV] END clf__C=10, clf__class_weight=balanced, clf__gamma=0.001, clf__kernel=linear, clf__tol=0.0001; total time=  28.3s\n",
      "[CV] END clf__C=10, clf__class_weight=balanced, clf__gamma=0.001, clf__kernel=linear, clf__tol=0.0001; total time=  28.1s\n",
      "[CV] END clf__C=0.01, clf__class_weight=balanced, clf__gamma=0.001, clf__kernel=linear, clf__tol=0.001; total time=   8.9s\n",
      "[CV] END clf__C=0.01, clf__class_weight=balanced, clf__gamma=0.001, clf__kernel=linear, clf__tol=0.001; total time=   9.8s\n",
      "[CV] END clf__C=1, clf__class_weight=balanced, clf__gamma=0.001, clf__kernel=linear, clf__tol=0.0001; total time=  10.4s\n",
      "[CV] END clf__C=1, clf__class_weight=balanced, clf__gamma=0.001, clf__kernel=linear, clf__tol=0.0001; total time=  12.0s\n",
      "[CV] END clf__C=1, clf__class_weight=balanced, clf__gamma=0.001, clf__kernel=rbf, clf__tol=0.0001; total time=  10.3s[CV] END clf__C=1, clf__class_weight=balanced, clf__gamma=0.001, clf__kernel=linear, clf__tol=0.0001; total time=  13.9s\n",
      "\n",
      "[CV] END clf__C=1, clf__class_weight=balanced, clf__gamma=0.001, clf__kernel=rbf, clf__tol=0.0001; total time=  10.9s\n",
      "[CV] END clf__C=1, clf__class_weight=balanced, clf__gamma=0.001, clf__kernel=rbf, clf__tol=0.0001; total time=  13.3s\n",
      "[CV] END clf__C=1, clf__class_weight=balanced, clf__gamma=0.01, clf__kernel=rbf, clf__tol=0.0001; total time=  14.5s\n",
      "[CV] END clf__C=1, clf__class_weight=balanced, clf__gamma=0.01, clf__kernel=rbf, clf__tol=0.0001; total time=  11.4s\n",
      "[CV] END clf__C=1, clf__class_weight=balanced, clf__gamma=0.01, clf__kernel=rbf, clf__tol=0.0001; total time=  13.5s\n",
      "[CV] END clf__C=10, clf__class_weight=balanced, clf__gamma=0.01, clf__kernel=rbf, clf__tol=0.001; total time=  11.2s\n",
      "[CV] END clf__C=10, clf__class_weight=balanced, clf__gamma=0.01, clf__kernel=rbf, clf__tol=0.001; total time=  11.0s\n",
      "[CV] END clf__C=10, clf__class_weight=balanced, clf__gamma=0.01, clf__kernel=rbf, clf__tol=0.001; total time=  12.6s\n",
      "[CV] END clf__C=1, clf__class_weight=balanced, clf__gamma=0.001, clf__kernel=linear, clf__tol=0.001; total time=  12.4s\n",
      "[CV] END clf__C=1, clf__class_weight=balanced, clf__gamma=0.001, clf__kernel=linear, clf__tol=0.001; total time=  13.4s\n",
      "[CV] END clf__C=1, clf__class_weight=balanced, clf__gamma=0.001, clf__kernel=linear, clf__tol=0.001; total time=  10.5s\n",
      "[CV] END clf__C=0.1, clf__class_weight=balanced, clf__gamma=0.1, clf__kernel=linear, clf__tol=0.0001; total time=   9.3s\n",
      "[CV] END clf__C=0.1, clf__class_weight=balanced, clf__gamma=0.1, clf__kernel=linear, clf__tol=0.0001; total time=   9.9s\n",
      "[CV] END clf__C=0.1, clf__class_weight=balanced, clf__gamma=0.1, clf__kernel=linear, clf__tol=0.0001; total time=   9.9s\n",
      "[CV] END clf__C=50, clf__class_weight=balanced, clf__gamma=0.001, clf__kernel=linear, clf__tol=0.001; total time=  23.8s\n",
      "[CV] END clf__C=50, clf__class_weight=balanced, clf__gamma=0.001, clf__kernel=linear, clf__tol=0.001; total time=  23.5s\n",
      "[CV] END clf__C=50, clf__class_weight=balanced, clf__gamma=0.001, clf__kernel=linear, clf__tol=0.001; total time=  26.2s\n",
      "Best CV score:    0.5679161628375655\n",
      "Best parameters:  {'clf__tol': 0.001, 'clf__kernel': 'rbf', 'clf__gamma': 0.01, 'clf__class_weight': 'balanced', 'clf__C': 10}\n",
      "Validation accuracy: 0.5145502645502645\n"
     ]
    }
   ],
   "source": [
    "# SVM\n",
    "# Best CV score:    0.5679161628375655\n",
    "# Best parameters:  {'clf__tol': 0.001, 'clf__kernel': 'rbf', 'clf__gamma': 0.01, 'clf__class_weight': 'balanced', 'clf__C': 10}\n",
    "# Validation accuracy: 0.5145502645502645\n",
    "\n",
    "param_grid_svm = {\n",
    "    \"clf__kernel\": [\"rbf\", \"linear\"],  # Drop poly - research shows overfitting\n",
    "    \"clf__C\": [0.01, 0.1, 1, 10, 50],  # Add lower values\n",
    "    \"clf__gamma\": [0.001, 0.01, 0.1, \"scale\"],  # Finer granularity\n",
    "    \"clf__class_weight\": [\"balanced\"],\n",
    "    \"clf__tol\": [1e-3, 1e-4],\n",
    "    # Remove degree/coef0 (irrelevant for non-poly kernels)\n",
    "}\n",
    "\n",
    "pipeline = Pipeline(\n",
    "    [\n",
    "        (\"cov\", Covariances(estimator=\"lwf\")),\n",
    "        (\"tangent\", TangentSpace(metric=\"riemann\")),\n",
    "        (\"clf\", SVC(random_state=42)),\n",
    "    ]\n",
    ")\n",
    "\n",
    "grid = RandomizedSearchCV(\n",
    "    estimator=pipeline,\n",
    "    n_iter=50,\n",
    "    param_distributions=param_grid_svm,\n",
    "    # param_grid=param_grid,\n",
    "    cv=3,\n",
    "    scoring=\"accuracy\",\n",
    "    n_jobs=-1,\n",
    "    verbose=2,\n",
    ")\n",
    "\n",
    "grid.fit(X_train, y_train)\n",
    "\n",
    "# 3) Inspect best params & CV score\n",
    "print(\"Best CV score:   \", grid.best_score_)\n",
    "print(\"Best parameters: \", grid.best_params_)\n",
    "\n",
    "# # 4) Evaluate on validation set\n",
    "best_model = grid.best_estimator_\n",
    "y_val_pred = best_model.predict(X_val)\n",
    "val_acc = accuracy_score(y_val, y_val_pred)\n",
    "print(\"Validation accuracy:\", val_acc)"
   ]
  },
  {
   "cell_type": "code",
   "execution_count": 41,
   "id": "6a2c6551",
   "metadata": {},
   "outputs": [
    {
     "name": "stderr",
     "output_type": "stream",
     "text": [
      "/home/zeyadcode/.pyenv/versions/icmtc_venv/lib/python3.12/site-packages/sklearn/model_selection/_search.py:320: UserWarning: The total space of parameters 20 is smaller than n_iter=70. Running 20 iterations. For exhaustive searches, use GridSearchCV.\n",
      "  warnings.warn(\n"
     ]
    },
    {
     "name": "stdout",
     "output_type": "stream",
     "text": [
      "Fitting 3 folds for each of 20 candidates, totalling 60 fits\n"
     ]
    },
    {
     "name": "stderr",
     "output_type": "stream",
     "text": [
      "/home/zeyadcode/.pyenv/versions/icmtc_venv/lib/python3.12/site-packages/sklearn/linear_model/_logistic.py:1208: UserWarning: Setting penalty=None will ignore the C and l1_ratio parameters\n",
      "  warnings.warn(\n",
      "/home/zeyadcode/.pyenv/versions/icmtc_venv/lib/python3.12/site-packages/sklearn/linear_model/_logistic.py:1208: UserWarning: Setting penalty=None will ignore the C and l1_ratio parameters\n",
      "  warnings.warn(\n"
     ]
    },
    {
     "name": "stdout",
     "output_type": "stream",
     "text": [
      "[CV] END clf__C=0.001, clf__class_weight=balanced, clf__max_iter=1000, clf__penalty=l2, clf__solver=lbfgs, clf__tol=0.0001; total time=   6.0s\n",
      "[CV] END clf__C=0.001, clf__class_weight=balanced, clf__max_iter=1000, clf__penalty=l2, clf__solver=lbfgs, clf__tol=0.0001; total time=   6.0s\n",
      "[CV] END clf__C=0.001, clf__class_weight=balanced, clf__max_iter=1000, clf__penalty=l2, clf__solver=lbfgs, clf__tol=0.0001; total time=   6.2s\n",
      "[CV] END clf__C=0.001, clf__class_weight=balanced, clf__max_iter=1000, clf__penalty=l2, clf__solver=sag, clf__tol=0.0001; total time=   6.3s\n",
      "[CV] END clf__C=0.001, clf__class_weight=balanced, clf__max_iter=1000, clf__penalty=None, clf__solver=lbfgs, clf__tol=0.0001; total time=   6.7s\n",
      "[CV] END clf__C=0.001, clf__class_weight=balanced, clf__max_iter=1000, clf__penalty=l2, clf__solver=sag, clf__tol=0.0001; total time=   6.9s\n",
      "[CV] END clf__C=0.001, clf__class_weight=balanced, clf__max_iter=1000, clf__penalty=l2, clf__solver=sag, clf__tol=0.0001; total time=   7.3s\n",
      "[CV] END clf__C=0.001, clf__class_weight=balanced, clf__max_iter=1000, clf__penalty=None, clf__solver=lbfgs, clf__tol=0.0001; total time=   7.7s\n"
     ]
    },
    {
     "name": "stderr",
     "output_type": "stream",
     "text": [
      "/home/zeyadcode/.pyenv/versions/icmtc_venv/lib/python3.12/site-packages/sklearn/linear_model/_logistic.py:1208: UserWarning: Setting penalty=None will ignore the C and l1_ratio parameters\n",
      "  warnings.warn(\n",
      "/home/zeyadcode/.pyenv/versions/icmtc_venv/lib/python3.12/site-packages/sklearn/linear_model/_logistic.py:1208: UserWarning: Setting penalty=None will ignore the C and l1_ratio parameters\n",
      "  warnings.warn(\n",
      "/home/zeyadcode/.pyenv/versions/icmtc_venv/lib/python3.12/site-packages/sklearn/linear_model/_logistic.py:1208: UserWarning: Setting penalty=None will ignore the C and l1_ratio parameters\n",
      "  warnings.warn(\n",
      "/home/zeyadcode/.pyenv/versions/icmtc_venv/lib/python3.12/site-packages/sklearn/linear_model/_logistic.py:1208: UserWarning: Setting penalty=None will ignore the C and l1_ratio parameters\n",
      "  warnings.warn(\n"
     ]
    },
    {
     "name": "stdout",
     "output_type": "stream",
     "text": [
      "[CV] END clf__C=0.001, clf__class_weight=balanced, clf__max_iter=1000, clf__penalty=None, clf__solver=sag, clf__tol=0.0001; total time=   5.9s\n",
      "[CV] END clf__C=0.01, clf__class_weight=balanced, clf__max_iter=1000, clf__penalty=l2, clf__solver=lbfgs, clf__tol=0.0001; total time=   6.2s\n",
      "[CV] END clf__C=0.001, clf__class_weight=balanced, clf__max_iter=1000, clf__penalty=None, clf__solver=lbfgs, clf__tol=0.0001; total time=   7.1s\n",
      "[CV] END clf__C=0.001, clf__class_weight=balanced, clf__max_iter=1000, clf__penalty=None, clf__solver=sag, clf__tol=0.0001; total time=   7.2s\n",
      "[CV] END clf__C=0.001, clf__class_weight=balanced, clf__max_iter=1000, clf__penalty=None, clf__solver=sag, clf__tol=0.0001; total time=   7.2s\n",
      "[CV] END clf__C=0.01, clf__class_weight=balanced, clf__max_iter=1000, clf__penalty=l2, clf__solver=lbfgs, clf__tol=0.0001; total time=   7.6s\n",
      "[CV] END clf__C=0.01, clf__class_weight=balanced, clf__max_iter=1000, clf__penalty=l2, clf__solver=lbfgs, clf__tol=0.0001; total time=   7.5s\n",
      "[CV] END clf__C=0.01, clf__class_weight=balanced, clf__max_iter=1000, clf__penalty=l2, clf__solver=sag, clf__tol=0.0001; total time=   7.5s\n"
     ]
    },
    {
     "name": "stderr",
     "output_type": "stream",
     "text": [
      "/home/zeyadcode/.pyenv/versions/icmtc_venv/lib/python3.12/site-packages/sklearn/linear_model/_logistic.py:1208: UserWarning: Setting penalty=None will ignore the C and l1_ratio parameters\n",
      "  warnings.warn(\n",
      "/home/zeyadcode/.pyenv/versions/icmtc_venv/lib/python3.12/site-packages/sklearn/linear_model/_logistic.py:1208: UserWarning: Setting penalty=None will ignore the C and l1_ratio parameters\n",
      "  warnings.warn(\n",
      "/home/zeyadcode/.pyenv/versions/icmtc_venv/lib/python3.12/site-packages/sklearn/linear_model/_logistic.py:1208: UserWarning: Setting penalty=None will ignore the C and l1_ratio parameters\n",
      "  warnings.warn(\n"
     ]
    },
    {
     "name": "stdout",
     "output_type": "stream",
     "text": [
      "[CV] END clf__C=0.01, clf__class_weight=balanced, clf__max_iter=1000, clf__penalty=l2, clf__solver=sag, clf__tol=0.0001; total time=   6.8s\n"
     ]
    },
    {
     "name": "stderr",
     "output_type": "stream",
     "text": [
      "/home/zeyadcode/.pyenv/versions/icmtc_venv/lib/python3.12/site-packages/sklearn/linear_model/_logistic.py:1208: UserWarning: Setting penalty=None will ignore the C and l1_ratio parameters\n",
      "  warnings.warn(\n"
     ]
    },
    {
     "name": "stdout",
     "output_type": "stream",
     "text": [
      "[CV] END clf__C=0.01, clf__class_weight=balanced, clf__max_iter=1000, clf__penalty=None, clf__solver=lbfgs, clf__tol=0.0001; total time=   6.1s\n",
      "[CV] END clf__C=0.01, clf__class_weight=balanced, clf__max_iter=1000, clf__penalty=l2, clf__solver=sag, clf__tol=0.0001; total time=   6.4s\n"
     ]
    },
    {
     "name": "stderr",
     "output_type": "stream",
     "text": [
      "/home/zeyadcode/.pyenv/versions/icmtc_venv/lib/python3.12/site-packages/sklearn/linear_model/_logistic.py:1208: UserWarning: Setting penalty=None will ignore the C and l1_ratio parameters\n",
      "  warnings.warn(\n"
     ]
    },
    {
     "name": "stdout",
     "output_type": "stream",
     "text": [
      "[CV] END clf__C=0.01, clf__class_weight=balanced, clf__max_iter=1000, clf__penalty=None, clf__solver=lbfgs, clf__tol=0.0001; total time=   7.0s\n"
     ]
    },
    {
     "name": "stderr",
     "output_type": "stream",
     "text": [
      "/home/zeyadcode/.pyenv/versions/icmtc_venv/lib/python3.12/site-packages/sklearn/linear_model/_logistic.py:1208: UserWarning: Setting penalty=None will ignore the C and l1_ratio parameters\n",
      "  warnings.warn(\n"
     ]
    },
    {
     "name": "stdout",
     "output_type": "stream",
     "text": [
      "[CV] END clf__C=0.01, clf__class_weight=balanced, clf__max_iter=1000, clf__penalty=None, clf__solver=lbfgs, clf__tol=0.0001; total time=   7.4s\n",
      "[CV] END clf__C=0.01, clf__class_weight=balanced, clf__max_iter=1000, clf__penalty=None, clf__solver=sag, clf__tol=0.0001; total time=   6.5s\n",
      "[CV] END clf__C=0.01, clf__class_weight=balanced, clf__max_iter=1000, clf__penalty=None, clf__solver=sag, clf__tol=0.0001; total time=   7.2s\n",
      "[CV] END clf__C=0.01, clf__class_weight=balanced, clf__max_iter=1000, clf__penalty=None, clf__solver=sag, clf__tol=0.0001; total time=   8.0s\n",
      "[CV] END clf__C=0.1, clf__class_weight=balanced, clf__max_iter=1000, clf__penalty=l2, clf__solver=lbfgs, clf__tol=0.0001; total time=   6.3s\n",
      "[CV] END clf__C=0.1, clf__class_weight=balanced, clf__max_iter=1000, clf__penalty=l2, clf__solver=lbfgs, clf__tol=0.0001; total time=   6.2s\n",
      "[CV] END clf__C=0.1, clf__class_weight=balanced, clf__max_iter=1000, clf__penalty=l2, clf__solver=lbfgs, clf__tol=0.0001; total time=   6.8s\n"
     ]
    },
    {
     "name": "stderr",
     "output_type": "stream",
     "text": [
      "/home/zeyadcode/.pyenv/versions/icmtc_venv/lib/python3.12/site-packages/sklearn/linear_model/_logistic.py:1208: UserWarning: Setting penalty=None will ignore the C and l1_ratio parameters\n",
      "  warnings.warn(\n",
      "/home/zeyadcode/.pyenv/versions/icmtc_venv/lib/python3.12/site-packages/sklearn/linear_model/_logistic.py:1208: UserWarning: Setting penalty=None will ignore the C and l1_ratio parameters\n",
      "  warnings.warn(\n"
     ]
    },
    {
     "name": "stdout",
     "output_type": "stream",
     "text": [
      "[CV] END clf__C=0.1, clf__class_weight=balanced, clf__max_iter=1000, clf__penalty=l2, clf__solver=sag, clf__tol=0.0001; total time=   7.4s\n",
      "[CV] END clf__C=0.1, clf__class_weight=balanced, clf__max_iter=1000, clf__penalty=l2, clf__solver=sag, clf__tol=0.0001; total time=   6.8s\n",
      "[CV] END clf__C=0.1, clf__class_weight=balanced, clf__max_iter=1000, clf__penalty=l2, clf__solver=sag, clf__tol=0.0001; total time=   7.0s\n",
      "[CV] END clf__C=0.1, clf__class_weight=balanced, clf__max_iter=1000, clf__penalty=None, clf__solver=lbfgs, clf__tol=0.0001; total time=   6.6s\n",
      "[CV] END clf__C=0.1, clf__class_weight=balanced, clf__max_iter=1000, clf__penalty=None, clf__solver=lbfgs, clf__tol=0.0001; total time=   6.9s\n"
     ]
    },
    {
     "name": "stderr",
     "output_type": "stream",
     "text": [
      "/home/zeyadcode/.pyenv/versions/icmtc_venv/lib/python3.12/site-packages/sklearn/linear_model/_logistic.py:1208: UserWarning: Setting penalty=None will ignore the C and l1_ratio parameters\n",
      "  warnings.warn(\n",
      "/home/zeyadcode/.pyenv/versions/icmtc_venv/lib/python3.12/site-packages/sklearn/linear_model/_logistic.py:1208: UserWarning: Setting penalty=None will ignore the C and l1_ratio parameters\n",
      "  warnings.warn(\n",
      "/home/zeyadcode/.pyenv/versions/icmtc_venv/lib/python3.12/site-packages/sklearn/linear_model/_logistic.py:1208: UserWarning: Setting penalty=None will ignore the C and l1_ratio parameters\n",
      "  warnings.warn(\n"
     ]
    },
    {
     "name": "stdout",
     "output_type": "stream",
     "text": [
      "[CV] END clf__C=0.1, clf__class_weight=balanced, clf__max_iter=1000, clf__penalty=None, clf__solver=sag, clf__tol=0.0001; total time=   6.5s\n",
      "[CV] END clf__C=0.1, clf__class_weight=balanced, clf__max_iter=1000, clf__penalty=None, clf__solver=lbfgs, clf__tol=0.0001; total time=   7.0s\n"
     ]
    },
    {
     "name": "stderr",
     "output_type": "stream",
     "text": [
      "/home/zeyadcode/.pyenv/versions/icmtc_venv/lib/python3.12/site-packages/sklearn/linear_model/_logistic.py:1208: UserWarning: Setting penalty=None will ignore the C and l1_ratio parameters\n",
      "  warnings.warn(\n"
     ]
    },
    {
     "name": "stdout",
     "output_type": "stream",
     "text": [
      "[CV] END clf__C=0.1, clf__class_weight=balanced, clf__max_iter=1000, clf__penalty=None, clf__solver=sag, clf__tol=0.0001; total time=   6.8s\n",
      "[CV] END clf__C=1, clf__class_weight=balanced, clf__max_iter=1000, clf__penalty=l2, clf__solver=lbfgs, clf__tol=0.0001; total time=   6.9s\n",
      "[CV] END clf__C=1, clf__class_weight=balanced, clf__max_iter=1000, clf__penalty=l2, clf__solver=lbfgs, clf__tol=0.0001; total time=   6.8s\n",
      "[CV] END clf__C=1, clf__class_weight=balanced, clf__max_iter=1000, clf__penalty=l2, clf__solver=lbfgs, clf__tol=0.0001; total time=   6.3s\n",
      "[CV] END clf__C=0.1, clf__class_weight=balanced, clf__max_iter=1000, clf__penalty=None, clf__solver=sag, clf__tol=0.0001; total time=   7.8s\n",
      "[CV] END clf__C=1, clf__class_weight=balanced, clf__max_iter=1000, clf__penalty=l2, clf__solver=sag, clf__tol=0.0001; total time=   7.1s\n",
      "[CV] END clf__C=1, clf__class_weight=balanced, clf__max_iter=1000, clf__penalty=l2, clf__solver=sag, clf__tol=0.0001; total time=   6.5s\n",
      "[CV] END clf__C=1, clf__class_weight=balanced, clf__max_iter=1000, clf__penalty=None, clf__solver=lbfgs, clf__tol=0.0001; total time=   6.5s\n",
      "[CV] END clf__C=1, clf__class_weight=balanced, clf__max_iter=1000, clf__penalty=l2, clf__solver=sag, clf__tol=0.0001; total time=   7.3s\n",
      "[CV] END clf__C=1, clf__class_weight=balanced, clf__max_iter=1000, clf__penalty=None, clf__solver=lbfgs, clf__tol=0.0001; total time=   7.1s\n",
      "[CV] END clf__C=1, clf__class_weight=balanced, clf__max_iter=1000, clf__penalty=None, clf__solver=sag, clf__tol=0.0001; total time=   6.5s\n",
      "[CV] END clf__C=1, clf__class_weight=balanced, clf__max_iter=1000, clf__penalty=None, clf__solver=lbfgs, clf__tol=0.0001; total time=   7.3s\n",
      "[CV] END clf__C=1, clf__class_weight=balanced, clf__max_iter=1000, clf__penalty=None, clf__solver=sag, clf__tol=0.0001; total time=   7.0s\n",
      "[CV] END clf__C=1, clf__class_weight=balanced, clf__max_iter=1000, clf__penalty=None, clf__solver=sag, clf__tol=0.0001; total time=   6.9s\n",
      "[CV] END clf__C=10, clf__class_weight=balanced, clf__max_iter=1000, clf__penalty=l2, clf__solver=lbfgs, clf__tol=0.0001; total time=   7.5s\n",
      "[CV] END clf__C=10, clf__class_weight=balanced, clf__max_iter=1000, clf__penalty=l2, clf__solver=lbfgs, clf__tol=0.0001; total time=   6.5s\n",
      "[CV] END clf__C=10, clf__class_weight=balanced, clf__max_iter=1000, clf__penalty=l2, clf__solver=lbfgs, clf__tol=0.0001; total time=   7.1s\n"
     ]
    },
    {
     "name": "stderr",
     "output_type": "stream",
     "text": [
      "/home/zeyadcode/.pyenv/versions/icmtc_venv/lib/python3.12/site-packages/sklearn/linear_model/_logistic.py:1208: UserWarning: Setting penalty=None will ignore the C and l1_ratio parameters\n",
      "  warnings.warn(\n"
     ]
    },
    {
     "name": "stdout",
     "output_type": "stream",
     "text": [
      "[CV] END clf__C=10, clf__class_weight=balanced, clf__max_iter=1000, clf__penalty=l2, clf__solver=sag, clf__tol=0.0001; total time=   6.7s\n",
      "[CV] END clf__C=10, clf__class_weight=balanced, clf__max_iter=1000, clf__penalty=l2, clf__solver=sag, clf__tol=0.0001; total time=   7.0s\n"
     ]
    },
    {
     "name": "stderr",
     "output_type": "stream",
     "text": [
      "/home/zeyadcode/.pyenv/versions/icmtc_venv/lib/python3.12/site-packages/sklearn/linear_model/_logistic.py:1208: UserWarning: Setting penalty=None will ignore the C and l1_ratio parameters\n",
      "  warnings.warn(\n"
     ]
    },
    {
     "name": "stdout",
     "output_type": "stream",
     "text": [
      "[CV] END clf__C=10, clf__class_weight=balanced, clf__max_iter=1000, clf__penalty=None, clf__solver=lbfgs, clf__tol=0.0001; total time=   7.2s\n",
      "[CV] END clf__C=10, clf__class_weight=balanced, clf__max_iter=1000, clf__penalty=l2, clf__solver=sag, clf__tol=0.0001; total time=   7.5s\n",
      "[CV] END clf__C=10, clf__class_weight=balanced, clf__max_iter=1000, clf__penalty=None, clf__solver=lbfgs, clf__tol=0.0001; total time=   6.4s\n"
     ]
    },
    {
     "name": "stderr",
     "output_type": "stream",
     "text": [
      "/home/zeyadcode/.pyenv/versions/icmtc_venv/lib/python3.12/site-packages/sklearn/linear_model/_logistic.py:1208: UserWarning: Setting penalty=None will ignore the C and l1_ratio parameters\n",
      "  warnings.warn(\n",
      "/home/zeyadcode/.pyenv/versions/icmtc_venv/lib/python3.12/site-packages/sklearn/linear_model/_logistic.py:1208: UserWarning: Setting penalty=None will ignore the C and l1_ratio parameters\n",
      "  warnings.warn(\n",
      "/home/zeyadcode/.pyenv/versions/icmtc_venv/lib/python3.12/site-packages/sklearn/linear_model/_logistic.py:1208: UserWarning: Setting penalty=None will ignore the C and l1_ratio parameters\n",
      "  warnings.warn(\n"
     ]
    },
    {
     "name": "stdout",
     "output_type": "stream",
     "text": [
      "[CV] END clf__C=10, clf__class_weight=balanced, clf__max_iter=1000, clf__penalty=None, clf__solver=lbfgs, clf__tol=0.0001; total time=   5.5s\n",
      "[CV] END clf__C=10, clf__class_weight=balanced, clf__max_iter=1000, clf__penalty=None, clf__solver=sag, clf__tol=0.0001; total time=   5.4s\n"
     ]
    },
    {
     "name": "stderr",
     "output_type": "stream",
     "text": [
      "/home/zeyadcode/.pyenv/versions/icmtc_venv/lib/python3.12/site-packages/sklearn/linear_model/_logistic.py:1208: UserWarning: Setting penalty=None will ignore the C and l1_ratio parameters\n",
      "  warnings.warn(\n"
     ]
    },
    {
     "name": "stdout",
     "output_type": "stream",
     "text": [
      "[CV] END clf__C=10, clf__class_weight=balanced, clf__max_iter=1000, clf__penalty=None, clf__solver=sag, clf__tol=0.0001; total time=   5.3s\n",
      "[CV] END clf__C=10, clf__class_weight=balanced, clf__max_iter=1000, clf__penalty=None, clf__solver=sag, clf__tol=0.0001; total time=   4.1s\n",
      "Best CV score:    0.5507187961843343\n",
      "Best parameters:  {'clf__tol': 0.0001, 'clf__solver': 'sag', 'clf__penalty': 'l2', 'clf__max_iter': 1000, 'clf__class_weight': 'balanced', 'clf__C': 0.001}\n",
      "Validation accuracy: 0.5066137566137566\n"
     ]
    }
   ],
   "source": [
    "# Logistic Regression \n",
    "# Best CV score:    0.5507187961843343\n",
    "# Best parameters:  {'clf__tol': 0.0001, 'clf__solver': 'sag', 'clf__penalty': 'l2', 'clf__max_iter': 1000, 'clf__class_weight': 'balanced', 'clf__C': 0.001}\n",
    "# Validation accuracy: 0.5066137566137566\n",
    "\n",
    "param_grid_lr = {\n",
    "    \"clf__penalty\": [\"l2\", None],\n",
    "    \"clf__C\": [0.001, 0.01, 0.1, 1, 10],\n",
    "    \"clf__solver\": [\"lbfgs\", \"sag\"],\n",
    "    \"clf__max_iter\": [1000],\n",
    "    \"clf__class_weight\": [\"balanced\"],\n",
    "    \"clf__tol\": [1e-4]\n",
    "}\n",
    "\n",
    "pipeline = Pipeline(\n",
    "    [\n",
    "        (\"cov\", Covariances(estimator=\"lwf\")),\n",
    "        (\"tangent\", TangentSpace(metric=\"riemann\")),\n",
    "        (\"clf\", LogisticRegression(random_state=42)),\n",
    "    ]\n",
    ")\n",
    "\n",
    "grid_lr = RandomizedSearchCV(\n",
    "    estimator=pipeline,\n",
    "    n_iter=70,\n",
    "    param_distributions=param_grid_lr,\n",
    "    # param_grid=param_grid,\n",
    "    cv=3,\n",
    "    scoring=\"accuracy\",\n",
    "    n_jobs=-1,\n",
    "    verbose=2,\n",
    ")\n",
    "\n",
    "grid_lr.fit(X_train, y_train)\n",
    "\n",
    "# 3) Inspect best params & CV score\n",
    "print(\"Best CV score:   \", grid_lr.best_score_)\n",
    "print(\"Best parameters: \", grid_lr.best_params_)\n",
    "\n",
    "# # 4) Evaluate on validation set\n",
    "best_model = grid_lr.best_estimator_\n",
    "y_val_pred = best_model.predict(X_val)\n",
    "val_acc = accuracy_score(y_val, y_val_pred)\n",
    "print(\"Validation accuracy:\", val_acc)"
   ]
  },
  {
   "cell_type": "code",
   "execution_count": 45,
   "id": "7d4f9c2a",
   "metadata": {},
   "outputs": [
    {
     "name": "stdout",
     "output_type": "stream",
     "text": [
      "Validation accuracy: 0.5185185185185185\n"
     ]
    }
   ],
   "source": [
    "# # MDM\n",
    "\n",
    "# param_grid_mdm = {\n",
    "#     \"clf__metric\": [\"riemann\"],\n",
    "#     \"clf__n_means\": [3, 5, 7],  # Number of power means\n",
    "#     \"clf__h_values\": [\n",
    "#         [-1, 0, 1], \n",
    "#         [-0.5, 0, 0.5],\n",
    "#         [-1, -0.2, 0.2, 1]\n",
    "#     ],  # Power parameters\n",
    "#     \"clf__mean_type\": [\"power\"]\n",
    "# }\n",
    "\n",
    "pipeline = Pipeline(\n",
    "    [\n",
    "        (\"cov\", Covariances(estimator=\"lwf\")),\n",
    "        (\"clf\", MDM(metric=\"riemann\")),\n",
    "    ]\n",
    ")\n",
    "\n",
    "# grid_mdm = RandomizedSearchCV(\n",
    "#     estimator=pipeline,\n",
    "#     n_iter=70,\n",
    "#     param_distributions=param_grid_mdm,\n",
    "#     # param_grid=param_grid,\n",
    "#     cv=3,\n",
    "#     scoring=\"accuracy\",\n",
    "#     n_jobs=-1,\n",
    "#     verbose=2,\n",
    "# )\n",
    "\n",
    "pipeline.fit(X_train, y_train)\n",
    "\n",
    "# 3) Inspect best params & CV score\n",
    "# print(\"Best CV score:   \", pipeline.best_score_)\n",
    "# print(\"Best parameters: \", pipeline.best_params_)\n",
    "\n",
    "# # 4) Evaluate on validation set\n",
    "# best_model = pipeline.best_estimator_\n",
    "y_val_pred = pipeline.predict(X_val)\n",
    "val_acc = accuracy_score(y_val, y_val_pred)\n",
    "print(\"Validation accuracy:\", val_acc)"
   ]
  }
 ],
 "metadata": {
  "kernelspec": {
   "display_name": "icmtc_venv",
   "language": "python",
   "name": "python3"
  },
  "language_info": {
   "codemirror_mode": {
    "name": "ipython",
    "version": 3
   },
   "file_extension": ".py",
   "mimetype": "text/x-python",
   "name": "python",
   "nbconvert_exporter": "python",
   "pygments_lexer": "ipython3",
   "version": "3.12.11"
  }
 },
 "nbformat": 4,
 "nbformat_minor": 5
}
